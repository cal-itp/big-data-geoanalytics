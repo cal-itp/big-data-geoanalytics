{
 "cells": [
  {
   "cell_type": "markdown",
   "id": "f2c6def6-0bfe-495a-a5c9-ed446ed049c3",
   "metadata": {
    "tags": []
   },
   "source": [
    "## Origin Destination Big Data Analysis"
   ]
  },
  {
   "cell_type": "code",
   "execution_count": null,
   "id": "87465036-2f80-41e3-ad1e-19ba0bad1335",
   "metadata": {},
   "outputs": [],
   "source": []
  },
  {
   "cell_type": "code",
   "execution_count": 1,
   "id": "8ad60270-6c3d-4a63-85f1-1a6ad4197cd5",
   "metadata": {
    "tags": []
   },
   "outputs": [],
   "source": [
    "import gcsfs as fs\n",
    "import geopandas as gpd\n",
    "import numpy as np\n",
    "import pandas as pd\n",
    "from calitp_data_analysis import get_fs, utils\n",
    "from calitp_data_analysis.sql import to_snakecase\n",
    "from siuba import *\n",
    "\n",
    "fs = get_fs()"
   ]
  },
  {
   "cell_type": "code",
   "execution_count": 2,
   "id": "45ca1f1b-2953-4380-a958-a2398d2f7710",
   "metadata": {
    "tags": []
   },
   "outputs": [],
   "source": [
    "import altair as alt\n"
   ]
  },
  {
   "cell_type": "code",
   "execution_count": 3,
   "id": "1023c245-c823-4869-980c-fae067853ea7",
   "metadata": {
    "tags": []
   },
   "outputs": [],
   "source": [
    "pd.set_option(\"display.max_columns\", None)\n"
   ]
  },
  {
   "cell_type": "code",
   "execution_count": null,
   "id": "fee8214f-bb41-435b-8cf5-b0a65fca6f10",
   "metadata": {},
   "outputs": [],
   "source": []
  },
  {
   "cell_type": "code",
   "execution_count": 4,
   "id": "23d4f2b4-1034-48af-b997-5efc50fdb70f",
   "metadata": {
    "tags": []
   },
   "outputs": [],
   "source": [
    "gcs_path = \"gs://calitp-analytics-data/data-analyses/big_data/hta/\""
   ]
  },
  {
   "cell_type": "code",
   "execution_count": 5,
   "id": "49111c22-7bc5-4bd9-b5ae-b6d0bd7770a9",
   "metadata": {
    "tags": []
   },
   "outputs": [
    {
     "name": "stderr",
     "output_type": "stream",
     "text": [
      "/tmp/ipykernel_263/596395707.py:1: DtypeWarning: Columns (25) have mixed types. Specify dtype option on import or set low_memory=False.\n",
      "  from_cp = to_snakecase( pd.read_csv(f\"{gcs_path}replica-hta_transit_calpolyhumboldt_trips_from_cph_dataset.csv\"))\n"
     ]
    }
   ],
   "source": [
    "from_cp = to_snakecase( pd.read_csv(f\"{gcs_path}replica-hta_transit_calpolyhumboldt_trips_from_cph_dataset.csv\"))    "
   ]
  },
  {
   "cell_type": "code",
   "execution_count": 6,
   "id": "edf1b193-4991-4c1a-a692-76599ee6e43b",
   "metadata": {
    "tags": []
   },
   "outputs": [
    {
     "data": {
      "text/html": [
       "<div>\n",
       "<style scoped>\n",
       "    .dataframe tbody tr th:only-of-type {\n",
       "        vertical-align: middle;\n",
       "    }\n",
       "\n",
       "    .dataframe tbody tr th {\n",
       "        vertical-align: top;\n",
       "    }\n",
       "\n",
       "    .dataframe thead th {\n",
       "        text-align: right;\n",
       "    }\n",
       "</style>\n",
       "<table border=\"1\" class=\"dataframe\">\n",
       "  <thead>\n",
       "    <tr style=\"text-align: right;\">\n",
       "      <th></th>\n",
       "      <th>activity_id</th>\n",
       "      <th>origin_bgrp_2020</th>\n",
       "      <th>origin_trct_2020</th>\n",
       "      <th>origin_cty_2020</th>\n",
       "      <th>origin_st_2020</th>\n",
       "      <th>destination_bgrp_2020</th>\n",
       "      <th>destination_trct_2020</th>\n",
       "      <th>destination_cty_2020</th>\n",
       "      <th>destination_st_2020</th>\n",
       "      <th>primary_mode</th>\n",
       "      <th>trip_purpose</th>\n",
       "      <th>previous_trip_purpose</th>\n",
       "      <th>trip_start_time</th>\n",
       "      <th>trip_end_time</th>\n",
       "      <th>trip_duration_minutes</th>\n",
       "      <th>trip_distance_miles</th>\n",
       "      <th>vehicle_type</th>\n",
       "      <th>vehicle_fuel_type</th>\n",
       "      <th>transit_submode</th>\n",
       "      <th>transit_agency</th>\n",
       "      <th>transit_route</th>\n",
       "      <th>origin_land_use</th>\n",
       "      <th>origin_building_use</th>\n",
       "      <th>destination_land_use</th>\n",
       "      <th>destination_building_use</th>\n",
       "      <th>trip_taker_person_id</th>\n",
       "      <th>trip_taker_household_id</th>\n",
       "      <th>trip_taker_age</th>\n",
       "      <th>trip_taker_sex</th>\n",
       "      <th>trip_taker_race_ethnicity</th>\n",
       "      <th>trip_taker_employment_status</th>\n",
       "      <th>trip_taker_wfh</th>\n",
       "      <th>trip_taker_individual_income</th>\n",
       "      <th>trip_taker_commute_mode</th>\n",
       "      <th>trip_taker_household_size</th>\n",
       "      <th>trip_taker_household_income</th>\n",
       "      <th>trip_taker_available_vehicles</th>\n",
       "      <th>trip_taker_resident_type</th>\n",
       "      <th>trip_taker_industry</th>\n",
       "      <th>trip_taker_building_type</th>\n",
       "      <th>trip_taker_school_grade_attending</th>\n",
       "      <th>trip_taker_education</th>\n",
       "      <th>trip_taker_tenure</th>\n",
       "      <th>trip_taker_language</th>\n",
       "      <th>trip_taker_home_bgrp_2020</th>\n",
       "      <th>trip_taker_home_trct_2020</th>\n",
       "      <th>trip_taker_home_cty_2020</th>\n",
       "      <th>trip_taker_home_st_2020</th>\n",
       "      <th>trip_taker_work_bgrp_2020</th>\n",
       "      <th>trip_taker_work_trct_2020</th>\n",
       "      <th>trip_taker_work_cty_2020</th>\n",
       "      <th>trip_taker_work_st_2020</th>\n",
       "    </tr>\n",
       "  </thead>\n",
       "  <tbody>\n",
       "    <tr>\n",
       "      <th>27207</th>\n",
       "      <td>18375613985045592720</td>\n",
       "      <td>2 (Tract 10.02, Humboldt, CA)</td>\n",
       "      <td>10.02 (Humboldt, CA)</td>\n",
       "      <td>Humboldt County, CA</td>\n",
       "      <td>California</td>\n",
       "      <td>Out of Region</td>\n",
       "      <td>Out of Region</td>\n",
       "      <td>Out of Region</td>\n",
       "      <td>Oregon</td>\n",
       "      <td>private_auto</td>\n",
       "      <td>region_departure</td>\n",
       "      <td>maintenance</td>\n",
       "      <td>20:05:00</td>\n",
       "      <td>23:33:53</td>\n",
       "      <td>208</td>\n",
       "      <td>184.8</td>\n",
       "      <td>unknown_vehicle_type</td>\n",
       "      <td>unknown_fuel_type</td>\n",
       "      <td>NaN</td>\n",
       "      <td>NaN</td>\n",
       "      <td>NaN</td>\n",
       "      <td>education</td>\n",
       "      <td>education</td>\n",
       "      <td>unknown</td>\n",
       "      <td>unknown</td>\n",
       "      <td>532772750237398896</td>\n",
       "      <td></td>\n",
       "      <td>NaN</td>\n",
       "      <td>NaN</td>\n",
       "      <td>NaN</td>\n",
       "      <td>NaN</td>\n",
       "      <td>NaN</td>\n",
       "      <td>NaN</td>\n",
       "      <td>NaN</td>\n",
       "      <td>0</td>\n",
       "      <td>NaN</td>\n",
       "      <td>NaN</td>\n",
       "      <td>visitor</td>\n",
       "      <td>NaN</td>\n",
       "      <td>NaN</td>\n",
       "      <td>NaN</td>\n",
       "      <td>NaN</td>\n",
       "      <td>NaN</td>\n",
       "      <td>NaN</td>\n",
       "      <td>Visitor (no home location)</td>\n",
       "      <td>Visitor (no home location)</td>\n",
       "      <td>Visitor (no home location)</td>\n",
       "      <td>Visitor (no home location)</td>\n",
       "      <td>Visitor (no work/school location)</td>\n",
       "      <td>Visitor (no work/school location)</td>\n",
       "      <td>Visitor (no work/school location)</td>\n",
       "      <td>Visitor (no work/school location)</td>\n",
       "    </tr>\n",
       "  </tbody>\n",
       "</table>\n",
       "</div>"
      ],
      "text/plain": [
       "                activity_id               origin_bgrp_2020  \\\n",
       "27207  18375613985045592720  2 (Tract 10.02, Humboldt, CA)   \n",
       "\n",
       "           origin_trct_2020      origin_cty_2020 origin_st_2020  \\\n",
       "27207  10.02 (Humboldt, CA)  Humboldt County, CA     California   \n",
       "\n",
       "      destination_bgrp_2020 destination_trct_2020 destination_cty_2020  \\\n",
       "27207         Out of Region         Out of Region        Out of Region   \n",
       "\n",
       "      destination_st_2020  primary_mode      trip_purpose  \\\n",
       "27207              Oregon  private_auto  region_departure   \n",
       "\n",
       "      previous_trip_purpose trip_start_time trip_end_time  \\\n",
       "27207           maintenance        20:05:00      23:33:53   \n",
       "\n",
       "       trip_duration_minutes  trip_distance_miles          vehicle_type  \\\n",
       "27207                    208                184.8  unknown_vehicle_type   \n",
       "\n",
       "       vehicle_fuel_type transit_submode transit_agency transit_route  \\\n",
       "27207  unknown_fuel_type             NaN            NaN           NaN   \n",
       "\n",
       "      origin_land_use origin_building_use destination_land_use  \\\n",
       "27207       education           education              unknown   \n",
       "\n",
       "      destination_building_use trip_taker_person_id trip_taker_household_id  \\\n",
       "27207                  unknown   532772750237398896                           \n",
       "\n",
       "       trip_taker_age trip_taker_sex trip_taker_race_ethnicity  \\\n",
       "27207             NaN            NaN                       NaN   \n",
       "\n",
       "      trip_taker_employment_status trip_taker_wfh  \\\n",
       "27207                          NaN            NaN   \n",
       "\n",
       "       trip_taker_individual_income trip_taker_commute_mode  \\\n",
       "27207                           NaN                     NaN   \n",
       "\n",
       "       trip_taker_household_size  trip_taker_household_income  \\\n",
       "27207                          0                          NaN   \n",
       "\n",
       "      trip_taker_available_vehicles trip_taker_resident_type  \\\n",
       "27207                           NaN                  visitor   \n",
       "\n",
       "      trip_taker_industry trip_taker_building_type  \\\n",
       "27207                 NaN                      NaN   \n",
       "\n",
       "      trip_taker_school_grade_attending trip_taker_education  \\\n",
       "27207                               NaN                  NaN   \n",
       "\n",
       "      trip_taker_tenure trip_taker_language   trip_taker_home_bgrp_2020  \\\n",
       "27207               NaN                 NaN  Visitor (no home location)   \n",
       "\n",
       "        trip_taker_home_trct_2020    trip_taker_home_cty_2020  \\\n",
       "27207  Visitor (no home location)  Visitor (no home location)   \n",
       "\n",
       "          trip_taker_home_st_2020          trip_taker_work_bgrp_2020  \\\n",
       "27207  Visitor (no home location)  Visitor (no work/school location)   \n",
       "\n",
       "               trip_taker_work_trct_2020           trip_taker_work_cty_2020  \\\n",
       "27207  Visitor (no work/school location)  Visitor (no work/school location)   \n",
       "\n",
       "                 trip_taker_work_st_2020  \n",
       "27207  Visitor (no work/school location)  "
      ]
     },
     "execution_count": 6,
     "metadata": {},
     "output_type": "execute_result"
    }
   ],
   "source": [
    "from_cp.sample()"
   ]
  },
  {
   "cell_type": "code",
   "execution_count": null,
   "id": "d3d84a83-1f89-4451-a875-3fd3cf069835",
   "metadata": {},
   "outputs": [],
   "source": []
  },
  {
   "cell_type": "code",
   "execution_count": 7,
   "id": "56f01297-33c9-41e8-97ed-df7373e2cd79",
   "metadata": {
    "tags": []
   },
   "outputs": [
    {
     "name": "stderr",
     "output_type": "stream",
     "text": [
      "/tmp/ipykernel_263/2289706095.py:1: DtypeWarning: Columns (25) have mixed types. Specify dtype option on import or set low_memory=False.\n",
      "  to_cp = to_snakecase( pd.read_csv(f\"{gcs_path}replica-hta_transit_calpolyhumboldt_trips_going_to_cph_dataset.csv\"))\n"
     ]
    }
   ],
   "source": [
    "to_cp = to_snakecase( pd.read_csv(f\"{gcs_path}replica-hta_transit_calpolyhumboldt_trips_going_to_cph_dataset.csv\"))    "
   ]
  },
  {
   "cell_type": "code",
   "execution_count": 8,
   "id": "a6113824-6f48-4fbb-9827-1b0209150100",
   "metadata": {
    "tags": []
   },
   "outputs": [
    {
     "data": {
      "text/html": [
       "<div>\n",
       "<style scoped>\n",
       "    .dataframe tbody tr th:only-of-type {\n",
       "        vertical-align: middle;\n",
       "    }\n",
       "\n",
       "    .dataframe tbody tr th {\n",
       "        vertical-align: top;\n",
       "    }\n",
       "\n",
       "    .dataframe thead th {\n",
       "        text-align: right;\n",
       "    }\n",
       "</style>\n",
       "<table border=\"1\" class=\"dataframe\">\n",
       "  <thead>\n",
       "    <tr style=\"text-align: right;\">\n",
       "      <th></th>\n",
       "      <th>activity_id</th>\n",
       "      <th>origin_bgrp_2020</th>\n",
       "      <th>origin_trct_2020</th>\n",
       "      <th>origin_cty_2020</th>\n",
       "      <th>origin_st_2020</th>\n",
       "      <th>destination_bgrp_2020</th>\n",
       "      <th>destination_trct_2020</th>\n",
       "      <th>destination_cty_2020</th>\n",
       "      <th>destination_st_2020</th>\n",
       "      <th>primary_mode</th>\n",
       "      <th>trip_purpose</th>\n",
       "      <th>previous_trip_purpose</th>\n",
       "      <th>trip_start_time</th>\n",
       "      <th>trip_end_time</th>\n",
       "      <th>trip_duration_minutes</th>\n",
       "      <th>trip_distance_miles</th>\n",
       "      <th>vehicle_type</th>\n",
       "      <th>vehicle_fuel_type</th>\n",
       "      <th>transit_submode</th>\n",
       "      <th>transit_agency</th>\n",
       "      <th>transit_route</th>\n",
       "      <th>origin_land_use</th>\n",
       "      <th>origin_building_use</th>\n",
       "      <th>destination_land_use</th>\n",
       "      <th>destination_building_use</th>\n",
       "      <th>trip_taker_person_id</th>\n",
       "      <th>trip_taker_household_id</th>\n",
       "      <th>trip_taker_age</th>\n",
       "      <th>trip_taker_sex</th>\n",
       "      <th>trip_taker_race_ethnicity</th>\n",
       "      <th>trip_taker_employment_status</th>\n",
       "      <th>trip_taker_wfh</th>\n",
       "      <th>trip_taker_individual_income</th>\n",
       "      <th>trip_taker_commute_mode</th>\n",
       "      <th>trip_taker_household_size</th>\n",
       "      <th>trip_taker_household_income</th>\n",
       "      <th>trip_taker_available_vehicles</th>\n",
       "      <th>trip_taker_resident_type</th>\n",
       "      <th>trip_taker_industry</th>\n",
       "      <th>trip_taker_building_type</th>\n",
       "      <th>trip_taker_school_grade_attending</th>\n",
       "      <th>trip_taker_education</th>\n",
       "      <th>trip_taker_tenure</th>\n",
       "      <th>trip_taker_language</th>\n",
       "      <th>trip_taker_home_bgrp_2020</th>\n",
       "      <th>trip_taker_home_trct_2020</th>\n",
       "      <th>trip_taker_home_cty_2020</th>\n",
       "      <th>trip_taker_home_st_2020</th>\n",
       "      <th>trip_taker_work_bgrp_2020</th>\n",
       "      <th>trip_taker_work_trct_2020</th>\n",
       "      <th>trip_taker_work_cty_2020</th>\n",
       "      <th>trip_taker_work_st_2020</th>\n",
       "    </tr>\n",
       "  </thead>\n",
       "  <tbody>\n",
       "    <tr>\n",
       "      <th>20734</th>\n",
       "      <td>2016226917103850101</td>\n",
       "      <td>1 (Tract 12, Humboldt, CA)</td>\n",
       "      <td>12 (Humboldt, CA)</td>\n",
       "      <td>Humboldt County, CA</td>\n",
       "      <td>California</td>\n",
       "      <td>2 (Tract 10.02, Humboldt, CA)</td>\n",
       "      <td>10.02 (Humboldt, CA)</td>\n",
       "      <td>Humboldt County, CA</td>\n",
       "      <td>California</td>\n",
       "      <td>private_auto</td>\n",
       "      <td>recreation</td>\n",
       "      <td>school</td>\n",
       "      <td>12:32:00</td>\n",
       "      <td>12:34:55</td>\n",
       "      <td>2</td>\n",
       "      <td>0.7</td>\n",
       "      <td>unknown_vehicle_type</td>\n",
       "      <td>other_non_bev</td>\n",
       "      <td>NaN</td>\n",
       "      <td>NaN</td>\n",
       "      <td>NaN</td>\n",
       "      <td>education</td>\n",
       "      <td>education</td>\n",
       "      <td>office</td>\n",
       "      <td>office</td>\n",
       "      <td>12051976440712331289</td>\n",
       "      <td>10501544004491981304</td>\n",
       "      <td>26.0</td>\n",
       "      <td>male</td>\n",
       "      <td>white_not_hispanic_or_latino</td>\n",
       "      <td>employed</td>\n",
       "      <td>employed_not_working</td>\n",
       "      <td>112778.0</td>\n",
       "      <td>private_auto</td>\n",
       "      <td>4</td>\n",
       "      <td>158483.0</td>\n",
       "      <td>two</td>\n",
       "      <td>core</td>\n",
       "      <td>naics31_33</td>\n",
       "      <td>single_family</td>\n",
       "      <td>not_attending_school</td>\n",
       "      <td>bachelors_degree</td>\n",
       "      <td>renter</td>\n",
       "      <td>english</td>\n",
       "      <td>2 (Tract 108, Humboldt, CA)</td>\n",
       "      <td>108 (Humboldt, CA)</td>\n",
       "      <td>Humboldt County, CA</td>\n",
       "      <td>California</td>\n",
       "      <td>5 (Tract 103, Humboldt, CA)</td>\n",
       "      <td>103 (Humboldt, CA)</td>\n",
       "      <td>Humboldt County, CA</td>\n",
       "      <td>California</td>\n",
       "    </tr>\n",
       "  </tbody>\n",
       "</table>\n",
       "</div>"
      ],
      "text/plain": [
       "               activity_id            origin_bgrp_2020   origin_trct_2020  \\\n",
       "20734  2016226917103850101  1 (Tract 12, Humboldt, CA)  12 (Humboldt, CA)   \n",
       "\n",
       "           origin_cty_2020 origin_st_2020          destination_bgrp_2020  \\\n",
       "20734  Humboldt County, CA     California  2 (Tract 10.02, Humboldt, CA)   \n",
       "\n",
       "      destination_trct_2020 destination_cty_2020 destination_st_2020  \\\n",
       "20734  10.02 (Humboldt, CA)  Humboldt County, CA          California   \n",
       "\n",
       "       primary_mode trip_purpose previous_trip_purpose trip_start_time  \\\n",
       "20734  private_auto   recreation                school        12:32:00   \n",
       "\n",
       "      trip_end_time  trip_duration_minutes  trip_distance_miles  \\\n",
       "20734      12:34:55                      2                  0.7   \n",
       "\n",
       "               vehicle_type vehicle_fuel_type transit_submode transit_agency  \\\n",
       "20734  unknown_vehicle_type     other_non_bev             NaN            NaN   \n",
       "\n",
       "      transit_route origin_land_use origin_building_use destination_land_use  \\\n",
       "20734           NaN       education           education               office   \n",
       "\n",
       "      destination_building_use  trip_taker_person_id trip_taker_household_id  \\\n",
       "20734                   office  12051976440712331289    10501544004491981304   \n",
       "\n",
       "       trip_taker_age trip_taker_sex     trip_taker_race_ethnicity  \\\n",
       "20734            26.0           male  white_not_hispanic_or_latino   \n",
       "\n",
       "      trip_taker_employment_status        trip_taker_wfh  \\\n",
       "20734                     employed  employed_not_working   \n",
       "\n",
       "       trip_taker_individual_income trip_taker_commute_mode  \\\n",
       "20734                      112778.0            private_auto   \n",
       "\n",
       "       trip_taker_household_size  trip_taker_household_income  \\\n",
       "20734                          4                     158483.0   \n",
       "\n",
       "      trip_taker_available_vehicles trip_taker_resident_type  \\\n",
       "20734                           two                     core   \n",
       "\n",
       "      trip_taker_industry trip_taker_building_type  \\\n",
       "20734          naics31_33            single_family   \n",
       "\n",
       "      trip_taker_school_grade_attending trip_taker_education  \\\n",
       "20734              not_attending_school     bachelors_degree   \n",
       "\n",
       "      trip_taker_tenure trip_taker_language    trip_taker_home_bgrp_2020  \\\n",
       "20734            renter             english  2 (Tract 108, Humboldt, CA)   \n",
       "\n",
       "      trip_taker_home_trct_2020 trip_taker_home_cty_2020  \\\n",
       "20734        108 (Humboldt, CA)      Humboldt County, CA   \n",
       "\n",
       "      trip_taker_home_st_2020    trip_taker_work_bgrp_2020  \\\n",
       "20734              California  5 (Tract 103, Humboldt, CA)   \n",
       "\n",
       "      trip_taker_work_trct_2020 trip_taker_work_cty_2020  \\\n",
       "20734        103 (Humboldt, CA)      Humboldt County, CA   \n",
       "\n",
       "      trip_taker_work_st_2020  \n",
       "20734              California  "
      ]
     },
     "execution_count": 8,
     "metadata": {},
     "output_type": "execute_result"
    }
   ],
   "source": [
    "to_cp.sample()"
   ]
  },
  {
   "cell_type": "code",
   "execution_count": null,
   "id": "959d5ea3-c5e8-4838-be9f-80bfb0a2ab3e",
   "metadata": {},
   "outputs": [],
   "source": []
  },
  {
   "cell_type": "code",
   "execution_count": 9,
   "id": "beafb087-b65a-4f90-b3cb-5d4e1ffe5b57",
   "metadata": {
    "tags": []
   },
   "outputs": [
    {
     "data": {
      "text/plain": [
       "private_auto         14872\n",
       "walking               5955\n",
       "auto_passenger        5211\n",
       "biking                 452\n",
       "other_travel_mode      420\n",
       "commercial             231\n",
       "on_demand_auto         114\n",
       "public_transit          40\n",
       "Name: primary_mode, dtype: int64"
      ]
     },
     "execution_count": 9,
     "metadata": {},
     "output_type": "execute_result"
    }
   ],
   "source": [
    "from_cp.primary_mode.value_counts()"
   ]
  },
  {
   "cell_type": "code",
   "execution_count": 10,
   "id": "7bacff8d-d350-45f9-8ded-efe9975904ac",
   "metadata": {
    "tags": []
   },
   "outputs": [
    {
     "data": {
      "text/plain": [
       "private_auto         15763\n",
       "walking               6025\n",
       "auto_passenger        4272\n",
       "biking                 465\n",
       "other_travel_mode      374\n",
       "commercial             170\n",
       "on_demand_auto         128\n",
       "public_transit          54\n",
       "Name: primary_mode, dtype: int64"
      ]
     },
     "execution_count": 10,
     "metadata": {},
     "output_type": "execute_result"
    }
   ],
   "source": [
    "to_cp.primary_mode.value_counts()"
   ]
  },
  {
   "cell_type": "code",
   "execution_count": null,
   "id": "287beb7d-6b69-4cbc-b7ce-382b1326e0b3",
   "metadata": {},
   "outputs": [],
   "source": []
  },
  {
   "cell_type": "code",
   "execution_count": 11,
   "id": "41c6ef21-2947-4cee-89bc-9ef400bfbf85",
   "metadata": {},
   "outputs": [
    {
     "data": {
      "text/plain": [
       "<bound method IndexOpsMixin.value_counts of 0           2 (Tract 12, Humboldt, CA)\n",
       "1          3 (Tract 103, Humboldt, CA)\n",
       "2        1 (Tract 10.01, Humboldt, CA)\n",
       "3            1 (Tract 8, Humboldt, CA)\n",
       "4        2 (Tract 10.01, Humboldt, CA)\n",
       "                     ...              \n",
       "27246        4 (Tract 2, Humboldt, CA)\n",
       "27247    1 (Tract 10.02, Humboldt, CA)\n",
       "27248    2 (Tract 10.02, Humboldt, CA)\n",
       "27249        1 (Tract 1, Humboldt, CA)\n",
       "27250        4 (Tract 2, Humboldt, CA)\n",
       "Name: origin_bgrp_2020, Length: 27251, dtype: object>"
      ]
     },
     "execution_count": 11,
     "metadata": {},
     "output_type": "execute_result"
    }
   ],
   "source": [
    "to_cp.origin_bgrp_2020.value_counts"
   ]
  },
  {
   "cell_type": "code",
   "execution_count": null,
   "id": "4b3d6aa3-1eef-4d17-aa07-5b0b34489c41",
   "metadata": {},
   "outputs": [],
   "source": []
  },
  {
   "cell_type": "markdown",
   "id": "2a0f0cb1-705b-425d-854b-6bc76563c0bb",
   "metadata": {},
   "source": [
    "### Reading in block groups\n",
    "* downloaded from Replica (also have some other options like taz)"
   ]
  },
  {
   "cell_type": "code",
   "execution_count": null,
   "id": "610be114-f52a-408d-91db-aa660d75aeb9",
   "metadata": {},
   "outputs": [],
   "source": []
  },
  {
   "cell_type": "code",
   "execution_count": 37,
   "id": "2423ef58-c044-429f-9b06-80f7addfb3b2",
   "metadata": {},
   "outputs": [],
   "source": [
    "with get_fs().open(f\"{gcs_path}replica-hta_transit_calpolyhumboldt-10_22_25-origin_layer_Humb.zip\") as f:\n",
    "    blkgr = to_snakecase(gpd.read_file(f))"
   ]
  },
  {
   "cell_type": "code",
   "execution_count": 38,
   "id": "2f4bf590-f39b-4616-b2c0-71078f290eec",
   "metadata": {},
   "outputs": [
    {
     "data": {
      "text/html": [
       "<div>\n",
       "<style scoped>\n",
       "    .dataframe tbody tr th:only-of-type {\n",
       "        vertical-align: middle;\n",
       "    }\n",
       "\n",
       "    .dataframe tbody tr th {\n",
       "        vertical-align: top;\n",
       "    }\n",
       "\n",
       "    .dataframe thead th {\n",
       "        text-align: right;\n",
       "    }\n",
       "</style>\n",
       "<table border=\"1\" class=\"dataframe\">\n",
       "  <thead>\n",
       "    <tr style=\"text-align: right;\">\n",
       "      <th></th>\n",
       "      <th>geoname</th>\n",
       "      <th>customgeoid</th>\n",
       "      <th>centroidlat</th>\n",
       "      <th>centroidlon</th>\n",
       "      <th>squaremiles</th>\n",
       "      <th>tripsbyorigin</th>\n",
       "      <th>tripsbyorigin_sqmi</th>\n",
       "      <th>geometry</th>\n",
       "    </tr>\n",
       "  </thead>\n",
       "  <tbody>\n",
       "    <tr>\n",
       "      <th>5006</th>\n",
       "      <td>1 (Tract 93, San Bernardino, CA)</td>\n",
       "      <td>60710093001</td>\n",
       "      <td>34.9077</td>\n",
       "      <td>-117.0328</td>\n",
       "      <td>4.4263</td>\n",
       "      <td>7</td>\n",
       "      <td>1.5815</td>\n",
       "      <td>POLYGON ((-117.09957 34.91295, -117.09901 34.9...</td>\n",
       "    </tr>\n",
       "  </tbody>\n",
       "</table>\n",
       "</div>"
      ],
      "text/plain": [
       "                               geoname  customgeoid  centroidlat  centroidlon  \\\n",
       "5006  1 (Tract 93, San Bernardino, CA)  60710093001      34.9077    -117.0328   \n",
       "\n",
       "      squaremiles  tripsbyorigin  tripsbyorigin_sqmi  \\\n",
       "5006       4.4263              7              1.5815   \n",
       "\n",
       "                                               geometry  \n",
       "5006  POLYGON ((-117.09957 34.91295, -117.09901 34.9...  "
      ]
     },
     "execution_count": 38,
     "metadata": {},
     "output_type": "execute_result"
    }
   ],
   "source": [
    "blkgr.sample()"
   ]
  },
  {
   "cell_type": "code",
   "execution_count": 39,
   "id": "e2dc46e2-31d0-423c-923f-d43d0e3af07a",
   "metadata": {
    "tags": []
   },
   "outputs": [],
   "source": [
    "blkgr[\"name_county\"]  = blkgr['geoname'].str.rstrip(', ').str.split(', ').str[1] "
   ]
  },
  {
   "cell_type": "code",
   "execution_count": 40,
   "id": "9eb0044a-e922-4a58-830e-4c03097e66d3",
   "metadata": {
    "tags": []
   },
   "outputs": [],
   "source": [
    "blkgr[\"name_state\"]  = blkgr['geoname'].str.strip().str[-3:-1]"
   ]
  },
  {
   "cell_type": "code",
   "execution_count": 41,
   "id": "1a773a34-8a9f-43cc-b06d-46028f58a6d7",
   "metadata": {
    "tags": []
   },
   "outputs": [],
   "source": [
    "# blkgr = blkgr>>filter(_.name_state==\"CA\" | _.state_ns)"
   ]
  },
  {
   "cell_type": "code",
   "execution_count": 42,
   "id": "cd5a370e-cc78-4782-891d-e8fe4f16482c",
   "metadata": {
    "tags": []
   },
   "outputs": [],
   "source": [
    "# blkgr[\"id_xwalk\"] = \"\""
   ]
  },
  {
   "cell_type": "code",
   "execution_count": 43,
   "id": "c90be8a5-3299-4232-a2c7-dfde77804844",
   "metadata": {
    "tags": []
   },
   "outputs": [],
   "source": [
    "# blkgr[\"id_xwalk\"] = blkgr['id'].str.lstrip('0')"
   ]
  },
  {
   "cell_type": "code",
   "execution_count": 44,
   "id": "c971c596-ba30-4400-a7c3-f426aac6ae27",
   "metadata": {
    "tags": []
   },
   "outputs": [],
   "source": [
    "# blkgr['id_xwalk'] = blkgr['id_xwalk'].astype('int64')"
   ]
  },
  {
   "cell_type": "code",
   "execution_count": 45,
   "id": "8bb927bf-49b6-4213-ad12-6eac310231c0",
   "metadata": {
    "tags": []
   },
   "outputs": [
    {
     "data": {
      "text/html": [
       "<div>\n",
       "<style scoped>\n",
       "    .dataframe tbody tr th:only-of-type {\n",
       "        vertical-align: middle;\n",
       "    }\n",
       "\n",
       "    .dataframe tbody tr th {\n",
       "        vertical-align: top;\n",
       "    }\n",
       "\n",
       "    .dataframe thead th {\n",
       "        text-align: right;\n",
       "    }\n",
       "</style>\n",
       "<table border=\"1\" class=\"dataframe\">\n",
       "  <thead>\n",
       "    <tr style=\"text-align: right;\">\n",
       "      <th></th>\n",
       "      <th>geoname</th>\n",
       "      <th>customgeoid</th>\n",
       "      <th>centroidlat</th>\n",
       "      <th>centroidlon</th>\n",
       "      <th>squaremiles</th>\n",
       "      <th>tripsbyorigin</th>\n",
       "      <th>tripsbyorigin_sqmi</th>\n",
       "      <th>geometry</th>\n",
       "      <th>name_county</th>\n",
       "      <th>name_state</th>\n",
       "    </tr>\n",
       "  </thead>\n",
       "  <tbody>\n",
       "    <tr>\n",
       "      <th>1910</th>\n",
       "      <td>4 (Tract 12.07, Nevada, CA)</td>\n",
       "      <td>60570012074</td>\n",
       "      <td>39.3295</td>\n",
       "      <td>-120.1703</td>\n",
       "      <td>1.0403</td>\n",
       "      <td>48</td>\n",
       "      <td>46.1406</td>\n",
       "      <td>POLYGON ((-120.18674 39.33070, -120.18667 39.3...</td>\n",
       "      <td>Nevada</td>\n",
       "      <td>CA</td>\n",
       "    </tr>\n",
       "  </tbody>\n",
       "</table>\n",
       "</div>"
      ],
      "text/plain": [
       "                          geoname  customgeoid  centroidlat  centroidlon  \\\n",
       "1910  4 (Tract 12.07, Nevada, CA)  60570012074      39.3295    -120.1703   \n",
       "\n",
       "      squaremiles  tripsbyorigin  tripsbyorigin_sqmi  \\\n",
       "1910       1.0403             48             46.1406   \n",
       "\n",
       "                                               geometry name_county name_state  \n",
       "1910  POLYGON ((-120.18674 39.33070, -120.18667 39.3...      Nevada         CA  "
      ]
     },
     "execution_count": 45,
     "metadata": {},
     "output_type": "execute_result"
    }
   ],
   "source": [
    "blkgr.sample()"
   ]
  },
  {
   "cell_type": "code",
   "execution_count": null,
   "id": "7d041831-9ab4-41b5-b0a3-479777403e9b",
   "metadata": {
    "tags": []
   },
   "outputs": [],
   "source": []
  },
  {
   "cell_type": "markdown",
   "id": "413f31a6-e476-4641-a5aa-1ec31e7b3cff",
   "metadata": {},
   "source": [
    "##### read in crosswalk from Replica"
   ]
  },
  {
   "cell_type": "code",
   "execution_count": 46,
   "id": "ec8ebe23-9fae-4db5-8258-54b4addb3efb",
   "metadata": {
    "tags": []
   },
   "outputs": [],
   "source": [
    "# xwalk = pd.read_csv(f\"{gcs_path}census_xwalk.csv\")\n",
    "# xwalk = xwalk>>filter(_.stusps==\"CA\")"
   ]
  },
  {
   "cell_type": "code",
   "execution_count": 47,
   "id": "11c5f32a-2ed1-4ac5-a356-87d34bb2e0a2",
   "metadata": {
    "tags": []
   },
   "outputs": [],
   "source": [
    "# xwalk.sample()"
   ]
  },
  {
   "cell_type": "code",
   "execution_count": null,
   "id": "0b02a7d8-af91-43a4-a9af-0c0aab18f6cc",
   "metadata": {},
   "outputs": [],
   "source": []
  },
  {
   "cell_type": "code",
   "execution_count": 48,
   "id": "ee89a6f1-6bd5-40a8-97e9-01a453b96c9e",
   "metadata": {
    "tags": []
   },
   "outputs": [],
   "source": [
    "# xwalk_map = dict(zip(xwalk['bgrp'], \n",
    "#                           xwalk['bgrpname']))"
   ]
  },
  {
   "cell_type": "code",
   "execution_count": 49,
   "id": "ff4c24e9-d84b-4c15-8494-abfad4fe413c",
   "metadata": {
    "tags": []
   },
   "outputs": [],
   "source": [
    "# blkgr[\"name_xwalk\"] = np.NaN"
   ]
  },
  {
   "cell_type": "code",
   "execution_count": 50,
   "id": "cccdc24e-40e2-4417-b6de-bd51549e0213",
   "metadata": {
    "tags": []
   },
   "outputs": [],
   "source": [
    "# blkgr['name_xwalk'] = blkgr['name_xwalk'].fillna(blkgr['id_xwalk'].map(xwalk_map))"
   ]
  },
  {
   "cell_type": "code",
   "execution_count": 68,
   "id": "e6fbe455-a653-4675-92d5-2eeaef908773",
   "metadata": {
    "tags": []
   },
   "outputs": [
    {
     "data": {
      "text/html": [
       "<div>\n",
       "<style scoped>\n",
       "    .dataframe tbody tr th:only-of-type {\n",
       "        vertical-align: middle;\n",
       "    }\n",
       "\n",
       "    .dataframe tbody tr th {\n",
       "        vertical-align: top;\n",
       "    }\n",
       "\n",
       "    .dataframe thead th {\n",
       "        text-align: right;\n",
       "    }\n",
       "</style>\n",
       "<table border=\"1\" class=\"dataframe\">\n",
       "  <thead>\n",
       "    <tr style=\"text-align: right;\">\n",
       "      <th></th>\n",
       "      <th>activity_id</th>\n",
       "      <th>origin_bgrp_2020</th>\n",
       "      <th>origin_trct_2020</th>\n",
       "      <th>origin_cty_2020</th>\n",
       "      <th>origin_st_2020</th>\n",
       "      <th>destination_bgrp_2020</th>\n",
       "      <th>destination_trct_2020</th>\n",
       "      <th>destination_cty_2020</th>\n",
       "      <th>destination_st_2020</th>\n",
       "      <th>primary_mode</th>\n",
       "      <th>trip_purpose</th>\n",
       "      <th>previous_trip_purpose</th>\n",
       "      <th>trip_start_time</th>\n",
       "      <th>trip_end_time</th>\n",
       "      <th>trip_duration_minutes</th>\n",
       "      <th>trip_distance_miles</th>\n",
       "      <th>vehicle_type</th>\n",
       "      <th>vehicle_fuel_type</th>\n",
       "      <th>transit_submode</th>\n",
       "      <th>transit_agency</th>\n",
       "      <th>transit_route</th>\n",
       "      <th>origin_land_use</th>\n",
       "      <th>origin_building_use</th>\n",
       "      <th>destination_land_use</th>\n",
       "      <th>destination_building_use</th>\n",
       "      <th>trip_taker_person_id</th>\n",
       "      <th>trip_taker_household_id</th>\n",
       "      <th>trip_taker_age</th>\n",
       "      <th>trip_taker_sex</th>\n",
       "      <th>trip_taker_race_ethnicity</th>\n",
       "      <th>trip_taker_employment_status</th>\n",
       "      <th>trip_taker_wfh</th>\n",
       "      <th>trip_taker_individual_income</th>\n",
       "      <th>trip_taker_commute_mode</th>\n",
       "      <th>trip_taker_household_size</th>\n",
       "      <th>trip_taker_household_income</th>\n",
       "      <th>trip_taker_available_vehicles</th>\n",
       "      <th>trip_taker_resident_type</th>\n",
       "      <th>trip_taker_industry</th>\n",
       "      <th>trip_taker_building_type</th>\n",
       "      <th>trip_taker_school_grade_attending</th>\n",
       "      <th>trip_taker_education</th>\n",
       "      <th>trip_taker_tenure</th>\n",
       "      <th>trip_taker_language</th>\n",
       "      <th>trip_taker_home_bgrp_2020</th>\n",
       "      <th>trip_taker_home_trct_2020</th>\n",
       "      <th>trip_taker_home_cty_2020</th>\n",
       "      <th>trip_taker_home_st_2020</th>\n",
       "      <th>trip_taker_work_bgrp_2020</th>\n",
       "      <th>trip_taker_work_trct_2020</th>\n",
       "      <th>trip_taker_work_cty_2020</th>\n",
       "      <th>trip_taker_work_st_2020</th>\n",
       "      <th>origin_geometry</th>\n",
       "    </tr>\n",
       "  </thead>\n",
       "  <tbody>\n",
       "    <tr>\n",
       "      <th>5328</th>\n",
       "      <td>6984992588665163645</td>\n",
       "      <td>2 (Tract 10.02, Humboldt, CA)</td>\n",
       "      <td>10.02 (Humboldt, CA)</td>\n",
       "      <td>Humboldt County, CA</td>\n",
       "      <td>California</td>\n",
       "      <td>1 (Tract 12, Humboldt, CA)</td>\n",
       "      <td>12 (Humboldt, CA)</td>\n",
       "      <td>Humboldt County, CA</td>\n",
       "      <td>California</td>\n",
       "      <td>walking</td>\n",
       "      <td>home</td>\n",
       "      <td>work</td>\n",
       "      <td>21:08:00</td>\n",
       "      <td>21:22:20</td>\n",
       "      <td>14</td>\n",
       "      <td>0.7</td>\n",
       "      <td>unknown_vehicle_type</td>\n",
       "      <td>unknown_fuel_type</td>\n",
       "      <td>NaN</td>\n",
       "      <td>NaN</td>\n",
       "      <td>NaN</td>\n",
       "      <td>education</td>\n",
       "      <td>education</td>\n",
       "      <td>education</td>\n",
       "      <td>education</td>\n",
       "      <td>12933838693415758289</td>\n",
       "      <td>10911680888433213533</td>\n",
       "      <td>19.0</td>\n",
       "      <td>male</td>\n",
       "      <td>hispanic_or_latino_origin</td>\n",
       "      <td>employed</td>\n",
       "      <td>in_person</td>\n",
       "      <td>1854.0</td>\n",
       "      <td>other_travel_mode</td>\n",
       "      <td>1</td>\n",
       "      <td>0.0</td>\n",
       "      <td>unknown_num_vehicles</td>\n",
       "      <td>core</td>\n",
       "      <td>naics56</td>\n",
       "      <td>GQ_structure</td>\n",
       "      <td>undergraduate</td>\n",
       "      <td>some_college</td>\n",
       "      <td>GQ</td>\n",
       "      <td>GQ_language</td>\n",
       "      <td>1 (Tract 12, Humboldt, CA)</td>\n",
       "      <td>12 (Humboldt, CA)</td>\n",
       "      <td>Humboldt County, CA</td>\n",
       "      <td>California</td>\n",
       "      <td>1 (Tract 12, Humboldt, CA)</td>\n",
       "      <td>12 (Humboldt, CA)</td>\n",
       "      <td>Humboldt County, CA</td>\n",
       "      <td>California</td>\n",
       "      <td>POLYGON ((-124.082519 40.875967, -124.082489 4...</td>\n",
       "    </tr>\n",
       "  </tbody>\n",
       "</table>\n",
       "</div>"
      ],
      "text/plain": [
       "              activity_id               origin_bgrp_2020  \\\n",
       "5328  6984992588665163645  2 (Tract 10.02, Humboldt, CA)   \n",
       "\n",
       "          origin_trct_2020      origin_cty_2020 origin_st_2020  \\\n",
       "5328  10.02 (Humboldt, CA)  Humboldt County, CA     California   \n",
       "\n",
       "           destination_bgrp_2020 destination_trct_2020 destination_cty_2020  \\\n",
       "5328  1 (Tract 12, Humboldt, CA)     12 (Humboldt, CA)  Humboldt County, CA   \n",
       "\n",
       "     destination_st_2020 primary_mode trip_purpose previous_trip_purpose  \\\n",
       "5328          California      walking         home                  work   \n",
       "\n",
       "     trip_start_time trip_end_time  trip_duration_minutes  \\\n",
       "5328        21:08:00      21:22:20                     14   \n",
       "\n",
       "      trip_distance_miles          vehicle_type  vehicle_fuel_type  \\\n",
       "5328                  0.7  unknown_vehicle_type  unknown_fuel_type   \n",
       "\n",
       "     transit_submode transit_agency transit_route origin_land_use  \\\n",
       "5328             NaN            NaN           NaN       education   \n",
       "\n",
       "     origin_building_use destination_land_use destination_building_use  \\\n",
       "5328           education            education                education   \n",
       "\n",
       "      trip_taker_person_id trip_taker_household_id  trip_taker_age  \\\n",
       "5328  12933838693415758289    10911680888433213533            19.0   \n",
       "\n",
       "     trip_taker_sex  trip_taker_race_ethnicity trip_taker_employment_status  \\\n",
       "5328           male  hispanic_or_latino_origin                     employed   \n",
       "\n",
       "     trip_taker_wfh  trip_taker_individual_income trip_taker_commute_mode  \\\n",
       "5328      in_person                        1854.0       other_travel_mode   \n",
       "\n",
       "      trip_taker_household_size  trip_taker_household_income  \\\n",
       "5328                          1                          0.0   \n",
       "\n",
       "     trip_taker_available_vehicles trip_taker_resident_type  \\\n",
       "5328          unknown_num_vehicles                     core   \n",
       "\n",
       "     trip_taker_industry trip_taker_building_type  \\\n",
       "5328             naics56             GQ_structure   \n",
       "\n",
       "     trip_taker_school_grade_attending trip_taker_education trip_taker_tenure  \\\n",
       "5328                     undergraduate         some_college                GQ   \n",
       "\n",
       "     trip_taker_language   trip_taker_home_bgrp_2020  \\\n",
       "5328         GQ_language  1 (Tract 12, Humboldt, CA)   \n",
       "\n",
       "     trip_taker_home_trct_2020 trip_taker_home_cty_2020  \\\n",
       "5328         12 (Humboldt, CA)      Humboldt County, CA   \n",
       "\n",
       "     trip_taker_home_st_2020   trip_taker_work_bgrp_2020  \\\n",
       "5328              California  1 (Tract 12, Humboldt, CA)   \n",
       "\n",
       "     trip_taker_work_trct_2020 trip_taker_work_cty_2020  \\\n",
       "5328         12 (Humboldt, CA)      Humboldt County, CA   \n",
       "\n",
       "     trip_taker_work_st_2020  \\\n",
       "5328              California   \n",
       "\n",
       "                                        origin_geometry  \n",
       "5328  POLYGON ((-124.082519 40.875967, -124.082489 4...  "
      ]
     },
     "execution_count": 68,
     "metadata": {},
     "output_type": "execute_result"
    }
   ],
   "source": [
    "to_cp.sample()"
   ]
  },
  {
   "cell_type": "code",
   "execution_count": null,
   "id": "55dba0fa-8918-4903-b252-580039951756",
   "metadata": {},
   "outputs": [],
   "source": []
  },
  {
   "cell_type": "code",
   "execution_count": 52,
   "id": "1ccd3962-6049-449e-86e1-5a2190707cd0",
   "metadata": {
    "tags": []
   },
   "outputs": [],
   "source": [
    "# (blkgr[blkgr[\"name_county\"]==\"Humboldt\"])"
   ]
  },
  {
   "cell_type": "code",
   "execution_count": 53,
   "id": "b057c41c-d66f-4063-9f04-6049ed6fe0a6",
   "metadata": {
    "tags": []
   },
   "outputs": [],
   "source": [
    "# blkgr>>filter(_.name==\"1 (Tract 9, Humboldt, CA)\")"
   ]
  },
  {
   "cell_type": "code",
   "execution_count": 54,
   "id": "0ea57653-f780-4c92-b0ee-b4b664681d98",
   "metadata": {
    "tags": []
   },
   "outputs": [],
   "source": [
    "# (to_cp>>filter(_.origin_bgrp_2020 == \"1 (Tract 9, Humboldt, CA)\")).sample()"
   ]
  },
  {
   "cell_type": "code",
   "execution_count": 55,
   "id": "5891d28c-63f6-4e95-8c10-0e4f95be95e7",
   "metadata": {
    "tags": []
   },
   "outputs": [],
   "source": [
    "# to_cp.sample()"
   ]
  },
  {
   "cell_type": "code",
   "execution_count": null,
   "id": "d2198565-8bd4-430d-afa7-d7ae0f5112cd",
   "metadata": {},
   "outputs": [],
   "source": []
  },
  {
   "cell_type": "code",
   "execution_count": 56,
   "id": "7253dde0-ad65-4de0-abbc-93b16a97793d",
   "metadata": {},
   "outputs": [],
   "source": [
    "blkgr_map = dict(zip(blkgr['geoname'], \n",
    "                          blkgr['geometry']))"
   ]
  },
  {
   "cell_type": "code",
   "execution_count": 57,
   "id": "e1c5c185-ff38-4cea-ad22-91f4c3c85501",
   "metadata": {},
   "outputs": [],
   "source": [
    "to_cp[\"origin_geometry\"] = np.nan\n",
    "to_cp['origin_geometry'] = to_cp['origin_geometry'].fillna(to_cp['origin_bgrp_2020'].map(blkgr_map))"
   ]
  },
  {
   "cell_type": "code",
   "execution_count": 69,
   "id": "36cdb9a4-49ed-4b48-85bc-d770ec3ca315",
   "metadata": {
    "tags": []
   },
   "outputs": [],
   "source": [
    "to_cp[\"dest_geometry\"] = np.nan\n",
    "to_cp['dest_geometry'] = to_cp['dest_geometry'].fillna(to_cp['destination_bgrp_2020'].map(blkgr_map))"
   ]
  },
  {
   "cell_type": "code",
   "execution_count": null,
   "id": "eb32f3bc-1f03-4e24-ac43-5cba2a826bac",
   "metadata": {},
   "outputs": [],
   "source": []
  },
  {
   "cell_type": "code",
   "execution_count": 70,
   "id": "15345e4e-c85e-4d48-96bb-ebd3dd7bc672",
   "metadata": {
    "tags": []
   },
   "outputs": [],
   "source": [
    "from_cp[\"origin_geometry\"] = np.nan\n",
    "from_cp['origin_geometry'] = from_cp['origin_geometry'].fillna(from_cp['origin_bgrp_2020'].map(blkgr_map))"
   ]
  },
  {
   "cell_type": "code",
   "execution_count": 71,
   "id": "1e92d465-35dd-4f6d-8fdb-450a88f5137b",
   "metadata": {
    "tags": []
   },
   "outputs": [],
   "source": [
    "from_cp[\"dest_geometry\"] = np.nan\n",
    "from_cp['dest_geometry'] = from_cp['dest_geometry'].fillna(from_cp['destination_bgrp_2020'].map(blkgr_map))"
   ]
  },
  {
   "cell_type": "code",
   "execution_count": null,
   "id": "e0dc0863-a3a3-4123-9e34-124012930868",
   "metadata": {},
   "outputs": [],
   "source": []
  },
  {
   "cell_type": "code",
   "execution_count": null,
   "id": "899a47a1-7219-4cfe-a706-f26140f0aece",
   "metadata": {},
   "outputs": [],
   "source": []
  },
  {
   "cell_type": "code",
   "execution_count": null,
   "id": "badd83cc-bb85-4d1e-89c2-52524e52ff53",
   "metadata": {},
   "outputs": [],
   "source": []
  },
  {
   "cell_type": "code",
   "execution_count": null,
   "id": "c184f63a-de7d-4412-9ad4-2e61a5a670c2",
   "metadata": {},
   "outputs": [],
   "source": []
  },
  {
   "cell_type": "code",
   "execution_count": null,
   "id": "8d5b8e71-fd03-4a83-8358-9f4fbe6c8713",
   "metadata": {},
   "outputs": [],
   "source": []
  },
  {
   "cell_type": "code",
   "execution_count": null,
   "id": "3d2b09b9-6e31-4a4a-a186-dbe9130aeb8a",
   "metadata": {},
   "outputs": [],
   "source": []
  },
  {
   "cell_type": "code",
   "execution_count": null,
   "id": "4e105b41-c93d-4fc0-b4c5-958049f88b3e",
   "metadata": {},
   "outputs": [],
   "source": []
  },
  {
   "cell_type": "code",
   "execution_count": null,
   "id": "8137cee8-6202-4ae8-bf4a-cf4a8f534a6d",
   "metadata": {},
   "outputs": [],
   "source": []
  },
  {
   "cell_type": "code",
   "execution_count": null,
   "id": "e6561b91-e9f8-4c30-962c-7084b65172c3",
   "metadata": {},
   "outputs": [],
   "source": []
  },
  {
   "cell_type": "code",
   "execution_count": null,
   "id": "abbad57b-8e2e-4960-b06d-9a3706d58014",
   "metadata": {},
   "outputs": [],
   "source": []
  },
  {
   "cell_type": "code",
   "execution_count": null,
   "id": "d0f73936-799c-4e96-9bca-8697d62317b7",
   "metadata": {},
   "outputs": [],
   "source": []
  },
  {
   "cell_type": "code",
   "execution_count": null,
   "id": "bcc7efbb-19b3-4919-8a0c-45dbc3c6cc0d",
   "metadata": {},
   "outputs": [],
   "source": []
  },
  {
   "cell_type": "code",
   "execution_count": null,
   "id": "41acc0ea-7c58-4bbf-9afc-bf5b0e63b8d7",
   "metadata": {},
   "outputs": [],
   "source": []
  },
  {
   "cell_type": "code",
   "execution_count": null,
   "id": "7d4b42b1-a87e-4ac7-ac15-8607e483c8d2",
   "metadata": {},
   "outputs": [],
   "source": []
  }
 ],
 "metadata": {
  "kernelspec": {
   "display_name": "Python 3 (ipykernel)",
   "language": "python",
   "name": "python3"
  },
  "language_info": {
   "codemirror_mode": {
    "name": "ipython",
    "version": 3
   },
   "file_extension": ".py",
   "mimetype": "text/x-python",
   "name": "python",
   "nbconvert_exporter": "python",
   "pygments_lexer": "ipython3",
   "version": "3.11.10"
  },
  "widgets": {
   "application/vnd.jupyter.widget-state+json": {
    "state": {},
    "version_major": 2,
    "version_minor": 0
   }
  }
 },
 "nbformat": 4,
 "nbformat_minor": 5
}
