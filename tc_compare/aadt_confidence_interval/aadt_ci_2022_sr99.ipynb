{
 "cells": [
  {
   "cell_type": "markdown",
   "id": "d35c3b37-f7e4-41e8-abf2-083155ea8641",
   "metadata": {},
   "source": [
    "# AADT Confidence Interval - Interstate 99\n",
    "\n",
    "## FHWA Links\n",
    "* Guidelines for Obtaining AADT Estimates from Non-Traditional Sources:\n",
    "    * https://www.fhwa.dot.gov/policyinformation/travel_monitoring/pubs/aadtnt/Guidelines_for_AADT_Estimates_Final.pdf\n",
    "  \n",
    "  \n",
    "## AADT Analysis Locations\n",
    "* 10 locations were used in the analysis\n",
    "* Locations were determined based on the location on installed & recording Traffic Operations cameras\n",
    "    * for additional information contact Zhenyu Zhu with Traffic Operations\n",
    "\n",
    "## Traffic Census Data\n",
    "* https://dot.ca.gov/programs/traffic-operations/census/traffic-volumes\n",
    "* Back AADT, Peak Month, and Peak Hour usually represents traffic South or West of the count location.  \n",
    "* Ahead AADT, Peak Month, and Peak Hour usually represents traffic North or East of the count location. Listing of routes with their designated  \n",
    "\n",
    "* Because the Back & Ahead counts are included at each location in the Traffic Census Data, (e.g., \"IRWINDALE, ARROW HIGHWAY\") only one [OBJECTID*] per location was pulled; for this analysis the North Bound Nodes were used for the analysis. \n",
    "    * for more information see the diagram: https://traffic.onramp.dot.ca.gov/downloads/traffic/files/performance/census/Back_and_Ahead_Leg_Traffic_Count_Diagram.pdf\n",
    "\n",
    "## StreetLight Analysis Data\n",
    "* StreetLight Locations on Interstate 99 are one-direction, each location will contain two points: northbound and southbound\n",
    "    * Analysis Type == Network Performance\n",
    "    * Segment Metrics\n",
    "    * 2022 was used to match currently available Traffic Census Data (as of 8/27/2025)\n",
    "    * pulled a variety of Day Types, but plan to just look at \"\"\"All Day Types\"\"\"\n",
    "    * pulled a variety of Day Parts, but plan to just look at \"\"\"All Day Parts\"\"\"\n",
    "\n",
    "\n"
   ]
  },
  {
   "cell_type": "code",
   "execution_count": 1,
   "id": "171fa2b0-9b02-4947-a4d1-dd18ef86de42",
   "metadata": {
    "tags": []
   },
   "outputs": [],
   "source": [
    "import numpy as np\n",
    "import pandas as pd\n",
    "import scipy.stats as stats"
   ]
  },
  {
   "cell_type": "markdown",
   "id": "c5394f0e-d012-42ad-9286-c95948da43aa",
   "metadata": {},
   "source": [
    "### Pull in the Location Dictionaries"
   ]
  },
  {
   "cell_type": "code",
   "execution_count": 2,
   "id": "fa6bce3a-11a1-4f2a-a7d9-eb7904946817",
   "metadata": {
    "tags": []
   },
   "outputs": [],
   "source": [
    "# pull in the coordinates from the utils docs\n",
    "#from osow_frp_o_d_utils_v3 import origin_intersections, destination_intersections\n",
    "from sr99_tc_locations_utils import sr_99_d3_tc_aadt_locations"
   ]
  },
  {
   "cell_type": "markdown",
   "id": "07a0a612-d979-43d3-87f3-e8d69df16d42",
   "metadata": {},
   "source": [
    "### Identify the Google Cloud Storage path"
   ]
  },
  {
   "cell_type": "code",
   "execution_count": 3,
   "id": "ce4826a9-4c1c-46e4-95c5-20c820351b55",
   "metadata": {},
   "outputs": [],
   "source": [
    "# Identify the GCS path to the data\n",
    "gcs_path = \"gs://calitp-analytics-data/data-analyses/big_data/compare_traffic_counts/sr99_d3/\""
   ]
  },
  {
   "cell_type": "markdown",
   "id": "2628fa29-7fdc-46d2-bc5a-84c271f150d9",
   "metadata": {},
   "source": [
    "### Pull in the Data"
   ]
  },
  {
   "cell_type": "code",
   "execution_count": 4,
   "id": "40c01657-5051-44da-b79f-594359c06427",
   "metadata": {},
   "outputs": [],
   "source": [
    "# This function will pull in the data and clean the column headers in a way that will make them easier to work with\n",
    "def getdata_and_cleanheaders(path):\n",
    "    # Read the CSV file\n",
    "    df = pd.read_csv(path)\n",
    "\n",
    "    # Clean column headers: remove spaces, convert to lowercase, and strip trailing asterisks\n",
    "    cleaned_columns = []\n",
    "    for column in df.columns:\n",
    "        cleaned_column = column.replace(\" \", \"\").lower().rstrip(\"*\")\n",
    "        cleaned_columns.append(cleaned_column)\n",
    "\n",
    "    df.columns = cleaned_columns\n",
    "    return df"
   ]
  },
  {
   "cell_type": "code",
   "execution_count": 5,
   "id": "686ea444-0d68-415c-beda-7ecdfe887062",
   "metadata": {
    "tags": []
   },
   "outputs": [],
   "source": [
    "# pull in the data & create dataframes\n",
    "df_tc = getdata_and_cleanheaders(f\"{gcs_path}caltrans_traffic_census_2022.csv\")  # Traffic Census\n",
    "df_stl = getdata_and_cleanheaders(f\"{gcs_path}streetlight_sr99_d3_all_vehicles_2022_np.csv\")  # StreetLight"
   ]
  },
  {
   "cell_type": "code",
   "execution_count": 6,
   "id": "b73b9a53-0066-4643-b8b7-ec90ceec2f6e",
   "metadata": {
    "tags": []
   },
   "outputs": [],
   "source": [
    "# comparing\n",
    "df_tc.to_csv(\"df_tc.csv\", index=False)"
   ]
  },
  {
   "cell_type": "code",
   "execution_count": 7,
   "id": "59259345-ec3c-47e8-bd2d-cf5059babf9c",
   "metadata": {
    "tags": []
   },
   "outputs": [],
   "source": [
    "# comparing\n",
    "df_stl.to_csv(\"df_stl.csv\", index=False)"
   ]
  },
  {
   "cell_type": "code",
   "execution_count": null,
   "id": "8d877c99-b5fa-4b51-ac98-08b535e4d7e3",
   "metadata": {},
   "outputs": [],
   "source": []
  },
  {
   "cell_type": "code",
   "execution_count": null,
   "id": "6cb279d3-f89a-43a1-9f9f-5a0d2ffb237c",
   "metadata": {},
   "outputs": [],
   "source": []
  },
  {
   "cell_type": "code",
   "execution_count": null,
   "id": "d1eda593-1284-4445-8b5b-29c62f5ef789",
   "metadata": {},
   "outputs": [],
   "source": []
  },
  {
   "cell_type": "code",
   "execution_count": null,
   "id": "cb1a0ab6-0c34-4195-8a53-a7fa226793ee",
   "metadata": {},
   "outputs": [],
   "source": []
  },
  {
   "cell_type": "code",
   "execution_count": null,
   "id": "f8671e59-3d56-43aa-bada-8abb357e6af2",
   "metadata": {},
   "outputs": [],
   "source": []
  },
  {
   "cell_type": "code",
   "execution_count": null,
   "id": "5b263629-b116-4601-be1f-7afc14afe711",
   "metadata": {},
   "outputs": [],
   "source": []
  },
  {
   "cell_type": "code",
   "execution_count": null,
   "id": "23cad911-7b47-42bc-ad6d-1c20e49bc3d4",
   "metadata": {},
   "outputs": [],
   "source": []
  },
  {
   "cell_type": "code",
   "execution_count": null,
   "id": "63eff893-f371-4148-82bb-ef109ddff859",
   "metadata": {},
   "outputs": [],
   "source": []
  },
  {
   "cell_type": "code",
   "execution_count": null,
   "id": "fdf5b362-db66-4bd8-ad23-a430e2647278",
   "metadata": {},
   "outputs": [],
   "source": []
  },
  {
   "cell_type": "code",
   "execution_count": null,
   "id": "7b070076-a1af-44a4-92b1-0997264ffd06",
   "metadata": {},
   "outputs": [],
   "source": []
  },
  {
   "cell_type": "code",
   "execution_count": null,
   "id": "9b01f194-b58f-4357-a273-1ad172235a77",
   "metadata": {},
   "outputs": [],
   "source": []
  },
  {
   "cell_type": "code",
   "execution_count": null,
   "id": "4e3e7b2a-491d-4976-b210-f59b6afb4e33",
   "metadata": {},
   "outputs": [],
   "source": []
  },
  {
   "cell_type": "code",
   "execution_count": null,
   "id": "031971ab-b417-4183-99c1-690d3dcffdd6",
   "metadata": {},
   "outputs": [],
   "source": []
  },
  {
   "cell_type": "code",
   "execution_count": null,
   "id": "5d7b4aa5-11f2-44b9-8ab0-fa270260c5aa",
   "metadata": {},
   "outputs": [],
   "source": []
  },
  {
   "cell_type": "code",
   "execution_count": 8,
   "id": "75adbdd2-21ff-4e2c-85f1-70ddbb752b8a",
   "metadata": {},
   "outputs": [],
   "source": [
    "def extract_aadt_comparison_data(df_stl, df_tc, mapping_dicts):\n",
    "    \"\"\"\n",
    "    Extracts AADT counts from StreetLight and Traffic Census datasets \n",
    "    based on a mapping of zonename keys and objectid.\n",
    "\n",
    "    Parameters:\n",
    "    - df_stl (pd.DataFrame): StreetLight data with 'zonename' and 'averagedailysegmenttraffic(stlvolume)' columns.\n",
    "    - df_tc (pd.DataFrame): Traffic Census data with 'objectid', 'ahead_aadt', and 'back_aadt' columns.\n",
    "    - mapping_dicts (list of dict): Each item includes 'objectid' and potentially zonename_0 to zonename_3.\n",
    "\n",
    "    Returns:\n",
    "    - Tuple[np.array, np.array]: Two numpy arrays (StreetLight AADT values, Traffic Census AADT values).\n",
    "    \"\"\"\n",
    "    aadt_non_traditional = []\n",
    "    aadt_true = []\n",
    "\n",
    "    for item in mapping_dicts:\n",
    "        objectid = item[\"objectid\"]\n",
    "        \n",
    "        # Determine the correct AADT direction from Traffic Census\n",
    "        tc_row = df_tc[df_tc[\"objectid\"].astype(str) == objectid]\n",
    "        if tc_row.empty:\n",
    "            continue\n",
    "        \n",
    "        if int(objectid) % 2 == 0:\n",
    "            aadt_value = tc_row.iloc[0][\"back_aadt\"]\n",
    "        else:\n",
    "            aadt_value = tc_row.iloc[0][\"ahead_aadt\"]\n",
    "\n",
    "        # Try to find a matching STL zonename\n",
    "        matched = False\n",
    "        for key in item:\n",
    "            if key.startswith(\"zonename_\"):\n",
    "                zonename = item[key]\n",
    "                stl_row = df_stl[df_stl[\"zonename\"] == zonename]\n",
    "                if not stl_row.empty:\n",
    "                    stl_volume = stl_row.iloc[0][\"averagedailysegmenttraffic(stlvolume)\"]\n",
    "                    aadt_non_traditional.append(stl_volume)\n",
    "                    aadt_true.append(aadt_value)\n",
    "                    matched = True\n",
    "                    break  # Use the first matching zonename found\n",
    "\n",
    "        if not matched:\n",
    "            # Optionally print which objectid failed to match for STL\n",
    "            print(f\"No StreetLight match for objectid {objectid}\")\n",
    "\n",
    "    return np.array(aadt_non_traditional), np.array(aadt_true)"
   ]
  },
  {
   "cell_type": "code",
   "execution_count": null,
   "id": "0fbe5a9a-b7d5-4cb3-ab46-ee26babcc5b4",
   "metadata": {},
   "outputs": [],
   "source": []
  },
  {
   "cell_type": "code",
   "execution_count": null,
   "id": "2675aeb7-826e-447b-97c4-ec35e0fd5bda",
   "metadata": {},
   "outputs": [],
   "source": []
  },
  {
   "cell_type": "code",
   "execution_count": null,
   "id": "09648d6a-3291-447c-b15b-fe4dd6853ec3",
   "metadata": {},
   "outputs": [],
   "source": []
  },
  {
   "cell_type": "code",
   "execution_count": null,
   "id": "15382893-fcdf-410a-be75-d1730ab2f231",
   "metadata": {},
   "outputs": [],
   "source": []
  },
  {
   "cell_type": "code",
   "execution_count": null,
   "id": "20045718-4c0b-42de-a14e-b383edf2cf32",
   "metadata": {},
   "outputs": [],
   "source": []
  },
  {
   "cell_type": "code",
   "execution_count": null,
   "id": "5a07fb63-c8b3-4f60-8ca7-247cb71f39b0",
   "metadata": {},
   "outputs": [],
   "source": []
  },
  {
   "cell_type": "code",
   "execution_count": null,
   "id": "a92ba698-3d5f-4625-b5b3-ebf32b37d69e",
   "metadata": {},
   "outputs": [],
   "source": []
  },
  {
   "cell_type": "code",
   "execution_count": null,
   "id": "fd49d46e-ac3b-403b-a5ab-975b58e0297c",
   "metadata": {},
   "outputs": [],
   "source": []
  },
  {
   "cell_type": "code",
   "execution_count": 9,
   "id": "a1643603-3d28-477d-a8c4-723818bc2d51",
   "metadata": {},
   "outputs": [
    {
     "ename": "KeyError",
     "evalue": "'objectid'",
     "output_type": "error",
     "traceback": [
      "\u001b[0;31m---------------------------------------------------------------------------\u001b[0m",
      "\u001b[0;31mKeyError\u001b[0m                                  Traceback (most recent call last)",
      "Cell \u001b[0;32mIn[9], line 2\u001b[0m\n\u001b[1;32m      1\u001b[0m \u001b[38;5;66;03m# run the \"extract_aadt_comparison_data\" function\u001b[39;00m\n\u001b[0;32m----> 2\u001b[0m aadt_non_traditional, aadt_true \u001b[38;5;241m=\u001b[39m \u001b[43mextract_aadt_comparison_data\u001b[49m\u001b[43m(\u001b[49m\u001b[43mdf_stl\u001b[49m\u001b[43m,\u001b[49m\u001b[43m \u001b[49m\u001b[43mdf_tc\u001b[49m\u001b[43m,\u001b[49m\u001b[43m \u001b[49m\u001b[43msr_99_d3_tc_aadt_locations\u001b[49m\u001b[43m)\u001b[49m\n",
      "Cell \u001b[0;32mIn[8], line 18\u001b[0m, in \u001b[0;36mextract_aadt_comparison_data\u001b[0;34m(df_stl, df_tc, mapping_dicts)\u001b[0m\n\u001b[1;32m     15\u001b[0m aadt_true \u001b[38;5;241m=\u001b[39m []\n\u001b[1;32m     17\u001b[0m \u001b[38;5;28;01mfor\u001b[39;00m item \u001b[38;5;129;01min\u001b[39;00m mapping_dicts:\n\u001b[0;32m---> 18\u001b[0m     objectid \u001b[38;5;241m=\u001b[39m \u001b[43mitem\u001b[49m\u001b[43m[\u001b[49m\u001b[38;5;124;43m\"\u001b[39;49m\u001b[38;5;124;43mobjectid\u001b[39;49m\u001b[38;5;124;43m\"\u001b[39;49m\u001b[43m]\u001b[49m\n\u001b[1;32m     20\u001b[0m     \u001b[38;5;66;03m# Determine the correct AADT direction from Traffic Census\u001b[39;00m\n\u001b[1;32m     21\u001b[0m     tc_row \u001b[38;5;241m=\u001b[39m df_tc[df_tc[\u001b[38;5;124m\"\u001b[39m\u001b[38;5;124mobjectid\u001b[39m\u001b[38;5;124m\"\u001b[39m]\u001b[38;5;241m.\u001b[39mastype(\u001b[38;5;28mstr\u001b[39m) \u001b[38;5;241m==\u001b[39m objectid]\n",
      "\u001b[0;31mKeyError\u001b[0m: 'objectid'"
     ]
    }
   ],
   "source": [
    "# run the \"extract_aadt_comparison_data\" function\n",
    "aadt_non_traditional, aadt_true = extract_aadt_comparison_data(df_stl, df_tc, sr_99_d3_tc_aadt_locations)"
   ]
  },
  {
   "cell_type": "code",
   "execution_count": null,
   "id": "323cecc8-419f-42a6-8f19-15dcc077d1df",
   "metadata": {},
   "outputs": [],
   "source": []
  },
  {
   "cell_type": "code",
   "execution_count": null,
   "id": "a497834c-829d-48fc-af97-0ba6e6682803",
   "metadata": {},
   "outputs": [],
   "source": []
  },
  {
   "cell_type": "code",
   "execution_count": null,
   "id": "23c80524-0b9d-4827-934e-9bae19446c1c",
   "metadata": {},
   "outputs": [],
   "source": [
    "def create_non_trad_df_and_aadt_dict(df_tc, df_stl, interstate_605_aadt_locations):\n",
    "    # Creating the true_aadt_dict\n",
    "    true_aadt_dict = {\n",
    "        str(row[\"objectid\"]): row[\"back_aadt\"] if int(row[\"objectid\"]) % 2 == 0 else row[\"ahead_aadt\"]\n",
    "        for _, row in df_tc.iterrows()\n",
    "    }\n",
    "    \n",
    "    # Creating non_trad_df\n",
    "    non_trad_records = []\n",
    "\n",
    "    for loc in interstate_605_aadt_locations:\n",
    "        daytype = loc.get(\"daytype\", \"0: All Days (M-Su)\")\n",
    "        for key in loc:\n",
    "            if key.startswith(\"zonename_\"):\n",
    "                zonename = loc[key]\n",
    "                stl_match = df_stl[df_stl[\"zonename\"] == zonename]\n",
    "                if not stl_match.empty:\n",
    "                    aadt_value = stl_match.iloc[0][\"averagedailysegmenttraffic(stlvolume)\"]\n",
    "                    non_trad_records.append({\n",
    "                        \"zonename\": zonename,\n",
    "                        \"aadt_value\": aadt_value,\n",
    "                        \"daytype\": daytype\n",
    "                    })\n",
    "\n",
    "    non_trad_df = pd.DataFrame(non_trad_records)\n",
    "\n",
    "    return true_aadt_dict, non_trad_df"
   ]
  },
  {
   "cell_type": "code",
   "execution_count": null,
   "id": "9cff97ab-af9d-437b-94d0-22f0d5ddf36c",
   "metadata": {},
   "outputs": [],
   "source": []
  },
  {
   "cell_type": "code",
   "execution_count": null,
   "id": "57815864-0c10-457e-ab51-d853ca3b7425",
   "metadata": {},
   "outputs": [],
   "source": []
  },
  {
   "cell_type": "code",
   "execution_count": null,
   "id": "305e1a4e-8aaf-455d-a98c-c3dd278068ea",
   "metadata": {},
   "outputs": [],
   "source": []
  },
  {
   "cell_type": "code",
   "execution_count": null,
   "id": "61a59ac0-f09d-4cc0-bdfe-25dcca964d69",
   "metadata": {},
   "outputs": [],
   "source": [
    "def compute_tce_confidence_interval_from_df(\n",
    "    aadt_locations,\n",
    "    true_aadt_dict,\n",
    "    non_trad_df,\n",
    "    confidence=0.95,\n",
    "    daytype_filter=\"0: All Days (M-Su)\"\n",
    "):\n",
    "    \"\"\"\n",
    "    Computes the Traffic Count Error (TCE), Confidence Interval, t-critical value, and t-test statistic.\n",
    "    Only uses non-traditional AADT values with the specified 'daytype'.\n",
    "\n",
    "    Parameters:\n",
    "    - aadt_locations (list[dict]): List of location dictionaries.\n",
    "    - true_aadt_dict (dict): Traditional AADT values keyed by objectid.\n",
    "    - non_trad_df (DataFrame): DataFrame with non-traditional AADT data.\n",
    "    - confidence (float): Confidence level for CI calculation.\n",
    "    - daytype_filter (str): Daytype to filter on (default: \"0: All Days (M-Su)\")\n",
    "\n",
    "    Returns:\n",
    "    - tuple: (mean_tce, ci_lower, ci_upper, t_critical_value, t_test_statistic)\n",
    "    \"\"\"\n",
    "    if true_aadt_dict is None:\n",
    "        raise ValueError(\"true_aadt_dict is required but was None.\")\n",
    "\n",
    "    # Filter DataFrame to include only the specified daytype\n",
    "    filtered_df = non_trad_df[non_trad_df[\"daytype\"] == daytype_filter]\n",
    "\n",
    "    # Build dict: zonename -> aadt_value\n",
    "    non_traditional_aadt_dict = dict(zip(\n",
    "        filtered_df[\"zonename\"],\n",
    "        filtered_df[\"aadt_value\"]\n",
    "    ))\n",
    "\n",
    "    tce_list = []\n",
    "\n",
    "    for loc in aadt_locations:\n",
    "        objectid = loc.get(\"objectid\")\n",
    "        true_aadt = true_aadt_dict.get(objectid)\n",
    "\n",
    "        if not true_aadt:  # Skip if missing or zero\n",
    "            continue\n",
    "\n",
    "        # Sum non-traditional AADT from all zonenames at this location\n",
    "        non_trad_aadt = sum(\n",
    "            non_traditional_aadt_dict.get(loc[key], 0)\n",
    "            for key in loc if key.startswith(\"zonename_\")\n",
    "        )\n",
    "\n",
    "        # Compute TCE\n",
    "        tce = 100 * (non_trad_aadt - true_aadt) / true_aadt\n",
    "        tce_list.append(tce)\n",
    "\n",
    "    # If no valid TCEs were computed\n",
    "    if not tce_list:\n",
    "        return None, None, None, None, None\n",
    "\n",
    "    # Convert to NumPy array and calculate statistics\n",
    "    tce_array = np.array(tce_list)\n",
    "    mean_tce = np.mean(tce_array)\n",
    "    std_tce = np.std(tce_array, ddof=1)\n",
    "    n = len(tce_array)\n",
    "    se = std_tce / np.sqrt(n)\n",
    "    \n",
    "    # Compute the t-critical value\n",
    "    df = n - 1\n",
    "    t_critical = stats.t.ppf((1 + confidence) / 2, df)\n",
    "    \n",
    "    # Calculate the Confidence Interval\n",
    "    ci_lower = mean_tce - t_critical * se\n",
    "    ci_upper = mean_tce + t_critical * se\n",
    "    \n",
    "    # Compute the t-test statistic\n",
    "    t_test_statistic = mean_tce / se if se != 0 else None\n",
    "\n",
    "    return mean_tce, ci_lower, ci_upper, t_critical, t_test_statistic"
   ]
  },
  {
   "cell_type": "code",
   "execution_count": null,
   "id": "a97326f9-3320-4348-bd1d-d6a74eb20bfb",
   "metadata": {},
   "outputs": [],
   "source": []
  },
  {
   "cell_type": "code",
   "execution_count": null,
   "id": "71af6071-1045-4140-a812-919c77cc9413",
   "metadata": {},
   "outputs": [],
   "source": []
  },
  {
   "cell_type": "code",
   "execution_count": null,
   "id": "d120cf99-4efa-41b9-b589-350c8f5b0866",
   "metadata": {},
   "outputs": [],
   "source": []
  },
  {
   "cell_type": "code",
   "execution_count": null,
   "id": "00b88c70-9976-4d2f-840d-b3bd7a4592bd",
   "metadata": {},
   "outputs": [],
   "source": []
  },
  {
   "cell_type": "code",
   "execution_count": null,
   "id": "1479ff0a-c0ce-4af8-8c21-72e08bc5021b",
   "metadata": {},
   "outputs": [],
   "source": []
  },
  {
   "cell_type": "code",
   "execution_count": null,
   "id": "8479a5e8-0c78-4ede-8a0a-9e0f641c5e86",
   "metadata": {},
   "outputs": [],
   "source": []
  },
  {
   "cell_type": "code",
   "execution_count": null,
   "id": "0a865a11-ca5e-4b9d-9198-cde9a9d3e381",
   "metadata": {},
   "outputs": [],
   "source": [
    "true_aadt_dict, non_trad_df = create_non_trad_df_and_aadt_dict(df_tc, df_stl, interstate_99_aadt_locations)"
   ]
  },
  {
   "cell_type": "code",
   "execution_count": null,
   "id": "b4c68ee9-c997-4ecb-968d-457c383b6251",
   "metadata": {},
   "outputs": [],
   "source": []
  },
  {
   "cell_type": "code",
   "execution_count": null,
   "id": "98e7e731-33ad-46c6-9946-9d5ca94b96c7",
   "metadata": {
    "tags": []
   },
   "outputs": [],
   "source": [
    "# LOC = interstate_99_aadt_locations"
   ]
  },
  {
   "cell_type": "code",
   "execution_count": null,
   "id": "42936a07-2ddf-4492-8a26-a9ac62b54716",
   "metadata": {},
   "outputs": [],
   "source": [
    "mean_tce, ci_lower, ci_upper, t_critical, t_test_statistic = compute_tce_confidence_interval_from_df(\n",
    "    aadt_locations=LOC,            # kept for signature compatibility\n",
    "    true_aadt_dict=true_aadt_dict, # keys: \"<location_description>|ahead/back\"\n",
    "    non_trad_df=non_trad_df,\n",
    "    confidence=0.95,\n",
    "    daytype_filter=\"0: All Days (M-Su)\"\n",
    ")"
   ]
  },
  {
   "cell_type": "code",
   "execution_count": null,
   "id": "8211d4ea-de4b-4ab6-b3e6-ef49a18a9a08",
   "metadata": {},
   "outputs": [],
   "source": []
  },
  {
   "cell_type": "code",
   "execution_count": null,
   "id": "34cb0839-eb97-4a58-8025-27c67b7dd4a2",
   "metadata": {},
   "outputs": [],
   "source": [
    "# Print the results\n",
    "print(\"Mean TCE:\", mean_tce)\n",
    "print(\"95% Confidence Interval:\", (ci_lower, ci_upper))\n",
    "print(\"t-critical:\", t_critical)\n",
    "print(\"t-test statistic:\", t_test_statistic)"
   ]
  },
  {
   "cell_type": "code",
   "execution_count": null,
   "id": "04c085da-99c2-4620-be00-d50274c7f610",
   "metadata": {},
   "outputs": [],
   "source": []
  },
  {
   "cell_type": "code",
   "execution_count": null,
   "id": "e47f8fac-8009-461f-88af-d65aed2a8e93",
   "metadata": {},
   "outputs": [],
   "source": []
  },
  {
   "cell_type": "code",
   "execution_count": null,
   "id": "0fd707ff-c6d1-425f-b258-e5cac0738abf",
   "metadata": {},
   "outputs": [],
   "source": []
  },
  {
   "cell_type": "code",
   "execution_count": null,
   "id": "7c22b73a-6681-4d67-87b0-bad3321ca9f4",
   "metadata": {},
   "outputs": [],
   "source": []
  },
  {
   "cell_type": "markdown",
   "id": "ece7a389-e31e-43a2-9cf4-ccb7e7eec747",
   "metadata": {},
   "source": [
    "### Mean TCE: -3.62\n",
    "Traffic Census Error (TCE)\n",
    "* \n",
    "\n",
    "### 95% Confidence Interval (-10.78%, 3.54%)\n",
    "* \n",
    "\n",
    "### T-Test Statistic  \n",
    "* \n",
    "### Summary\n",
    "* \n"
   ]
  },
  {
   "cell_type": "code",
   "execution_count": null,
   "id": "d71be92d-e371-47d8-9cf8-5c3da056db6c",
   "metadata": {},
   "outputs": [],
   "source": []
  },
  {
   "cell_type": "code",
   "execution_count": null,
   "id": "87ee5909-ec3c-4c6b-ab29-e93293f9f224",
   "metadata": {},
   "outputs": [],
   "source": []
  }
 ],
 "metadata": {
  "kernelspec": {
   "display_name": "Python 3 (ipykernel)",
   "language": "python",
   "name": "python3"
  },
  "language_info": {
   "codemirror_mode": {
    "name": "ipython",
    "version": 3
   },
   "file_extension": ".py",
   "mimetype": "text/x-python",
   "name": "python",
   "nbconvert_exporter": "python",
   "pygments_lexer": "ipython3",
   "version": "3.11.10"
  }
 },
 "nbformat": 4,
 "nbformat_minor": 5
}
