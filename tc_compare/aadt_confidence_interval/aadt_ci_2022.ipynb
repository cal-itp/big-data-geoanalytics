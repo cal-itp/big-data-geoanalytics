{
 "cells": [
  {
   "cell_type": "markdown",
   "id": "d35c3b37-f7e4-41e8-abf2-083155ea8641",
   "metadata": {},
   "source": [
    "# AADT Confidence Interval\n",
    "\n",
    "## FHWA Links\n",
    "* Guidelines for Obtaining AADT Estimates from Non-Traditional Sources:\n",
    "    * https://www.fhwa.dot.gov/policyinformation/travel_monitoring/pubs/aadtnt/Guidelines_for_AADT_Estimates_Final.pdf\n",
    "  \n",
    "  \n",
    "## AADT Analysis Locations\n",
    "* 10 locations were used in the analysis\n",
    "* Locations were determined based on the location on installed & recording Traffic Operations cameras\n",
    "    * for additional information contact Zhenyu Zhu with Traffic Operations\n",
    "\n",
    "## Traffic Census Data\n",
    "* Back AADT, Peak Month, and Peak Hour usually represents traffic South or West of the count location.  \n",
    "* Ahead AADT, Peak Month, and Peak Hour usually represents traffic North or East of the count location. Listing of routes with their designated  \n",
    "\n",
    "* Because the Back & Ahead counts are included at each location in the Traffic Census Data, (e.g., \"IRWINDALE, ARROW HIGHWAY\") only one [OBJECTID*] per location was pulled; for this analysis the North Bound Nodes were used for the analysis. \n",
    "\n",
    "## StreetLight Analysis Data\n",
    "* StreetLight Locations on Interstate 605 are one-direction, each location will contain two points: northbound and southbound\n",
    "\n",
    "\n"
   ]
  },
  {
   "cell_type": "code",
   "execution_count": 1,
   "id": "171fa2b0-9b02-4947-a4d1-dd18ef86de42",
   "metadata": {
    "tags": []
   },
   "outputs": [],
   "source": [
    "import numpy as np\n",
    "import pandas as pd\n",
    "import scipy.stats as stats"
   ]
  },
  {
   "cell_type": "code",
   "execution_count": 2,
   "id": "7fba30c3-0212-4a87-9af0-b25945e2d718",
   "metadata": {
    "tags": []
   },
   "outputs": [
    {
     "name": "stdout",
     "output_type": "stream",
     "text": [
      "Mean TCE: -0.20%\n",
      "95% Confidence Interval for TCE: (-4.96%, 4.56%)\n"
     ]
    }
   ],
   "source": [
    "# Example AADT data from non-traditional sources and permanent counters\n",
    "aadt_non_traditional = np.array([10500, 9800, 10200, 9500, 9900])\n",
    "aadt_true = np.array([10000, 10000, 10000, 10000, 10000])\n",
    "\n",
    "# Step 1: Compute TCEs\n",
    "tce = 100 * (aadt_non_traditional - aadt_true) / aadt_true\n",
    "\n",
    "# Step 2: Compute sample mean and standard error\n",
    "mean_tce = np.mean(tce)\n",
    "std_tce = np.std(tce, ddof=1)  # sample standard deviation\n",
    "n = len(tce)\n",
    "se = std_tce / np.sqrt(n)\n",
    "\n",
    "# Step 3: Compute 95% confidence interval\n",
    "confidence = 0.95\n",
    "t_score = stats.t.ppf((1 + confidence) / 2, df=n-1)\n",
    "ci_lower = mean_tce - t_score * se\n",
    "ci_upper = mean_tce + t_score * se\n",
    "\n",
    "# Print results\n",
    "print(f\"Mean TCE: {mean_tce:.2f}%\")\n",
    "print(f\"95% Confidence Interval for TCE: ({ci_lower:.2f}%, {ci_upper:.2f}%)\")"
   ]
  },
  {
   "cell_type": "markdown",
   "id": "ff66eb00-c9b1-47ed-8468-b89a5fe77b39",
   "metadata": {},
   "source": [
    "Mean TCE: -0.20%\n",
    "\n",
    "95% Confidence Interval for TCE: (-4.96%, 4.56%)\n",
    "\n",
    "What does this mean?\n",
    "Traffic Count Error (TCE) quantifies the percentage difference between AADT estimates from non-traditional sources and true AADT values from permanent counters:\n",
    " \n",
    "In this case:\n",
    "\n",
    "Mean TCE of -0.20% indicates that, on average, the non-traditional AADT estimates are 0.20% lower than the true AADT values. This suggests a slight underestimation.\n",
    "\n",
    "95% Confidence Interval of (-4.96%, 4.56%) means that we can be 95% confident that the true mean TCE lies within this range. In other words, if we were to repeat this sampling process multiple times, 95% of the calculated confidence intervals would contain the true mean TCE .\n",
    "\n",
    "Interpretation\n",
    "The confidence interval includes zero, which implies that the average difference between the non-traditional and true AADT estimates is not statistically significant. This means that, on average, the non-traditional estimates neither consistently overestimate nor underestimate the true values.\n",
    "\n",
    "The relatively narrow confidence interval (approximately ±5%) indicates that the non-traditional AADT estimates are reasonably precise and closely align with the true AADT values.\n",
    "\n",
    "Practical Implications\n",
    "Accuracy: The non-traditional AADT estimates are, on average, very close to the true values, with only a slight underestimation.\n",
    "\n",
    "Precision: The narrow confidence interval suggests that the estimates are consistently close to the true values across different samples.\n",
    "\n",
    "Reliability: Given the small mean error and narrow confidence interval, non-traditional AADT estimation methods can be considered reliable for practical applications."
   ]
  },
  {
   "cell_type": "code",
   "execution_count": 3,
   "id": "48455bf9-e595-4041-b831-cb645b4220cb",
   "metadata": {},
   "outputs": [],
   "source": [
    "def extract_aadt_comparison_data(df_stl, df_tc, mapping_dicts):\n",
    "    \"\"\"\n",
    "    Extracts AADT counts from StreetLight and Traffic Census datasets based on a mapping of zonename and objectid.\n",
    "    Odd objectid strings use 'ahead_aadt', even ones use 'back_aadt'.\n",
    "    \n",
    "    Parameters:\n",
    "    - df_stl (pd.DataFrame): StreetLight data with a 'zonename' and 'averagedailysegmenttraffic(stlvolume)' column.\n",
    "    - df_tc (pd.DataFrame): Traffic Census data with 'objectid', 'ahead_aadt', and 'back_aadt' columns.\n",
    "    - mapping_dicts (list of dict): Contains mappings with keys 'objectid', 'zonename', and 'order_number'.\n",
    "    \n",
    "    Returns:\n",
    "    - Tuple[np.array, np.array]: A tuple with two numpy arrays (StreetLight AADT values, Traffic Census AADT values).\n",
    "    \"\"\"\n",
    "    aadt_non_traditional = []\n",
    "    aadt_true = []\n",
    "\n",
    "    for item in mapping_dicts:\n",
    "        objectid = item['objectid']\n",
    "        zonename = item['zonename']\n",
    "        \n",
    "        # Get the corresponding STL volume from df_stl\n",
    "        stl_row = df_stl[df_stl['zonename'] == zonename]\n",
    "        if not stl_row.empty:\n",
    "            stl_volume = stl_row.iloc[0]['averagedailysegmenttraffic(stlvolume)']\n",
    "        else:\n",
    "            continue  # Skip if no match found in StreetLight\n",
    "        \n",
    "        # Get the corresponding Traffic Census AADT based on even/odd objectid string\n",
    "        tc_row = df_tc[df_tc['objectid'].astype(str) == objectid]\n",
    "        if not tc_row.empty:\n",
    "            if int(objectid) % 2 == 0:\n",
    "                aadt_value = tc_row.iloc[0]['back_aadt']\n",
    "            else:\n",
    "                aadt_value = tc_row.iloc[0]['ahead_aadt']\n",
    "        else:\n",
    "            continue  # Skip if no match found in Traffic Census\n",
    "        \n",
    "        aadt_non_traditional.append(stl_volume)\n",
    "        aadt_true.append(aadt_value)\n",
    "\n",
    "    return np.array(aadt_non_traditional), np.array(aadt_true)"
   ]
  },
  {
   "cell_type": "code",
   "execution_count": 4,
   "id": "ce4826a9-4c1c-46e4-95c5-20c820351b55",
   "metadata": {},
   "outputs": [],
   "source": [
    "# Identify the GCS path to the data\n",
    "gcs_path = \"gs://calitp-analytics-data/data-analyses/big_data/compare_traffic_counts/5_confidence_interval_i605_2022/\""
   ]
  },
  {
   "cell_type": "code",
   "execution_count": 5,
   "id": "40c01657-5051-44da-b79f-594359c06427",
   "metadata": {},
   "outputs": [],
   "source": [
    "def getdata_and_cleanheaders(path):   \n",
    "    # Read the CSV file\n",
    "    df = pd.read_csv(path)\n",
    "    \n",
    "    # Clean column headers: remove spaces, convert to lowercase, and strip trailing asterisks\n",
    "    cleaned_columns = []\n",
    "    for column in df.columns:\n",
    "        cleaned_column = column.replace(\" \", \"\").lower().rstrip(\"*\")\n",
    "        cleaned_columns.append(cleaned_column)\n",
    "    \n",
    "    df.columns = cleaned_columns\n",
    "    return df"
   ]
  },
  {
   "cell_type": "code",
   "execution_count": 6,
   "id": "686ea444-0d68-415c-beda-7ecdfe887062",
   "metadata": {
    "tags": []
   },
   "outputs": [
    {
     "name": "stderr",
     "output_type": "stream",
     "text": [
      "/opt/conda/lib/python3.11/site-packages/google/auth/_default.py:76: UserWarning: Your application has authenticated using end user credentials from Google Cloud SDK without a quota project. You might receive a \"quota exceeded\" or \"API not enabled\" error. See the following page for troubleshooting: https://cloud.google.com/docs/authentication/adc-troubleshooting/user-creds. \n",
      "  warnings.warn(_CLOUD_SDK_CREDENTIALS_WARNING)\n"
     ]
    }
   ],
   "source": [
    "# pull in the data & create dataframes\n",
    "df_tc = getdata_and_cleanheaders(f\"{gcs_path}caltrans_traffic_census_605_2022.csv\") # Traffic Census\n",
    "df_stl = getdata_and_cleanheaders(f\"{gcs_path}streetlight_605_all_vehicles_2022_v2_np.csv\") # StreetLight"
   ]
  },
  {
   "cell_type": "code",
   "execution_count": 7,
   "id": "8ac0989e-9545-4d5d-be35-5d43acf49adc",
   "metadata": {
    "tags": []
   },
   "outputs": [
    {
     "data": {
      "text/plain": [
       "(411, 36)"
      ]
     },
     "execution_count": 7,
     "metadata": {},
     "output_type": "execute_result"
    }
   ],
   "source": [
    "df_stl.shape"
   ]
  },
  {
   "cell_type": "code",
   "execution_count": 8,
   "id": "2ecef21f-7590-4005-90f8-9b00e33f021d",
   "metadata": {
    "tags": []
   },
   "outputs": [
    {
     "data": {
      "text/plain": [
       "(56, 16)"
      ]
     },
     "execution_count": 8,
     "metadata": {},
     "output_type": "execute_result"
    }
   ],
   "source": [
    "df_tc.shape"
   ]
  },
  {
   "cell_type": "code",
   "execution_count": 9,
   "id": "5633c6d8-181f-4612-8a6a-720d128f7416",
   "metadata": {
    "tags": []
   },
   "outputs": [],
   "source": [
    "interstate_605_aadt_locations = [\n",
    "    {\n",
    "        \"objectid\": \"13117\", # this comes from Traffic Census [objectid]\n",
    "        \"order_number\": 0,\n",
    "        \"zonename\": \"San Gabriel River Freeway/22736179\" # this comes from StreetLight [zonename]\n",
    "    },\n",
    "    {\n",
    "        \"objectid\": \"13118\", # this comes from Traffic Census [objectid]\n",
    "        \"order_number\": 1,\n",
    "        \"zonename\": \"San Gabriel River Freeway / 21923758\" # this comes from StreetLight [zonename]\n",
    "    },\n",
    "    {\n",
    "        \"objectid\": \"13113\", # This comes from Traffic Census [objectid]\n",
    "        \"order_number\": 2,\n",
    "        \"zonename\": \"San Gabriel River Freeway / 13815791\" # this comes from StreetLight [zonename]\n",
    "    },\n",
    "    {\n",
    "        \"objectid\": \"13114\", # This comes from Traffic Census [objectid]\n",
    "        \"order_number\": 3,\n",
    "        \"zonename\": \"San Gabriel River Freeway / 690054\" # this comes from StreetLight [zonename]\n",
    "    },\n",
    "    {\n",
    "        \"objectid\": \"13111\", # This comes from Traffic Census [objectid]\n",
    "        \"order_number\": 4,\n",
    "        \"zonename\": \"San Gabriel River Freeway / 671965\" # this comes from StreetLight [zonename]\n",
    "    },\n",
    "    {\n",
    "        \"objectid\": \"13112\", # This comes from Traffic Census [objectid]\n",
    "        \"order_number\": 5,\n",
    "        \"zonename\": \"San Gabriel River Freeway / 1283924\" # this comes from StreetLight [zonename]\n",
    "    },\n",
    "    {\n",
    "        \"objectid\": \"13109\", # This comes from Traffic Census [objectid]\n",
    "        \"order_number\": 6,\n",
    "        \"zonename\": \"San Gabriel River Freeway / 1292558\" # this comes from StreetLight [zonename]\n",
    "    },\n",
    "    {\n",
    "        \"objectid\": \"13110\", # This comes from Traffic Census [objectid]\n",
    "        \"order_number\": 7,\n",
    "        \"zonename\": \"San Gabriel River Freeway / 43294\" # this comes from StreetLight [zonename]\n",
    "    },\n",
    "    {\n",
    "        \"objectid\": \"13105\", # This comes from Traffic Census [objectid]\n",
    "        \"order_number\": 8,\n",
    "        \"zonename\": \"San Gabriel River Freeway / 689515\" # this comes from StreetLight [zonename]\n",
    "    },\n",
    "    {\n",
    "        \"objectid\": \"13106\", # This comes from Traffic Census [objectid]\n",
    "        \"order_number\": 9,\n",
    "        \"zonename\": \"San Gabriel River Freeway / 41598\" # this comes from StreetLight [zonename]\n",
    "    },\n",
    "    {\n",
    "        \"objectid\": \"13103\", # This comes from Traffic Census [objectid]\n",
    "        \"order_number\": 10,\n",
    "        \"zonename\": \"San Gabriel River Freeway / 16496201\" # this comes from StreetLight [zonename]\n",
    "    },\n",
    "    {\n",
    "        \"objectid\": \"13104\", # This comes from Traffic Census [objectid]\n",
    "        \"order_number\": 11,\n",
    "        \"zonename\": \"San Gabriel River Freeway / 19811124\" # this comes from StreetLight [zonename]\n",
    "    },\n",
    "    {\n",
    "        \"objectid\": \"12089\", # This comes from Traffic Census [objectid]\n",
    "        \"order_number\": 12,\n",
    "        \"zonename\": \"San Gabriel River Freeway / 703991\" # this comes from StreetLight [zonename]\n",
    "    },\n",
    "    {\n",
    "        \"objectid\": \"12090\", # This comes from Traffic Census [objectid]\n",
    "        \"order_number\": 13,\n",
    "        \"zonename\": \"San Gabriel River Freeway / 705638\" # this comes from StreetLight [zonename]\n",
    "    },\n",
    "    {\n",
    "        \"objectid\": \"13085\", # This comes from Traffic Census [objectid]\n",
    "        \"order_number\": 14,\n",
    "        \"zonename\": \"San Gabriel River Freeway / 62521\" # this comes from StreetLight [zonename]\n",
    "    },\n",
    "    {\n",
    "        \"objectid\": \"13086\", # This comes from Traffic Census [objectid]\n",
    "        \"order_number\": 15,\n",
    "        \"zonename\": \"San Gabriel River Freeway / 682535\" # this comes from StreetLight [zonename]\n",
    "    },\n",
    "    {\n",
    "        \"objectid\": \"13084\", # This comes from Traffic Census [objectid]\n",
    "        \"order_number\": 16,\n",
    "        \"zonename\": \"San Gabriel River Freeway / 19171162\" # this comes from StreetLight [zonename]\n",
    "    },\n",
    "    {\n",
    "        \"objectid\": \"13083\", # This comes from Traffic Census [objectid]\n",
    "        \"order_number\": 17,\n",
    "        \"zonename\": \"San Gabriel River Freeway / 18695412\" # this comes from StreetLight [zonename]\n",
    "    },\n",
    "    {\n",
    "        \"objectid\": \"13081\", # This comes from Traffic Census [objectid]\n",
    "        \"order_number\": 18,\n",
    "        \"zonename\": \"San Gabriel River Freeway / 17134947\" # this comes from StreetLight [zonename]\n",
    "    },\n",
    "    {\n",
    "        \"objectid\": \"13082\", # This comes from Traffic Census [objectid]\n",
    "        \"order_number\": 19,\n",
    "        \"zonename\": \"San Gabriel River Freeway / 19247826\" # this comes from StreetLight [zonename]\n",
    "    }\n",
    "]\n"
   ]
  },
  {
   "cell_type": "code",
   "execution_count": 10,
   "id": "1d0e10f9-48ad-41da-82dd-d071c94f76f4",
   "metadata": {},
   "outputs": [],
   "source": [
    "# run the \"extract_aadt_comparison_data\" function\n",
    "aadt_non_traditional, aadt_true = extract_aadt_comparison_data(df_stl, df_tc, interstate_605_aadt_locations)"
   ]
  },
  {
   "cell_type": "code",
   "execution_count": 11,
   "id": "92516e1d-c1e9-459a-8044-09b02b36f371",
   "metadata": {},
   "outputs": [],
   "source": [
    "\n",
    "def compute_tce_confidence_interval(aadt_non_traditional, aadt_true, confidence=0.95):\n",
    "    \"\"\"\n",
    "    Computes the Traffic Count Error (TCE) and returns the confidence interval.\n",
    "\n",
    "    Parameters:\n",
    "    - aadt_non_traditional (np.array): AADT estimates from a non-traditional source.\n",
    "    - aadt_true (np.array): True AADT values from permanent counters.\n",
    "    - confidence (float): Confidence level (default is 0.95).\n",
    "\n",
    "    Returns:\n",
    "    - tuple: (mean_tce, ci_lower, ci_upper)\n",
    "    \"\"\"\n",
    "    tce = 100 * (aadt_non_traditional - aadt_true) / aadt_true\n",
    "    mean_tce = np.mean(tce)\n",
    "    std_tce = np.std(tce, ddof=1)\n",
    "    n = len(tce)\n",
    "    se = std_tce / np.sqrt(n)\n",
    "    t_score = stats.t.ppf((1 + confidence) / 2, df=n - 1)\n",
    "    ci_lower = mean_tce - t_score * se\n",
    "    ci_upper = mean_tce + t_score * se\n",
    "\n",
    "    return mean_tce, ci_lower, ci_upper"
   ]
  },
  {
   "cell_type": "code",
   "execution_count": 12,
   "id": "ffb6c770-7b96-494c-a728-7eedf86185dd",
   "metadata": {
    "tags": []
   },
   "outputs": [
    {
     "name": "stdout",
     "output_type": "stream",
     "text": [
      "Mean TCE: -54.48%\n",
      "95% Confidence Interval: (-59.26%, -49.71%)\n"
     ]
    }
   ],
   "source": [
    "mean, lower, upper = compute_tce_confidence_interval(aadt_non_traditional, aadt_true)\n",
    "print(f\"Mean TCE: {mean:.2f}%\")\n",
    "print(f\"95% Confidence Interval: ({lower:.2f}%, {upper:.2f}%)\")"
   ]
  },
  {
   "cell_type": "markdown",
   "id": "0d104cf3-33ae-4be7-b7ad-58ff4739a336",
   "metadata": {},
   "source": [
    "### Understanding the Metrics\n",
    "* Traffic Count Error (TCE) quantifies the percentage difference between AADT estimates from non-traditional sources and true AADT values from permanent counters.\n",
    "* Mean TCE of -54.48% indicates that, on average, the non-traditional AADT estimates are 54.48% lower than the true AADT values. This suggests a substantial underestimation.\n",
    "* 95% Confidence Interval of (-59.26%, -49.71%) means that we can be 95% confident that the true mean TCE lies within this range. In other words, if we were to repeat this sampling process multiple times, 95% of the calculated confidence intervals would contain the true mean TCE.\n",
    "\n",
    "### Interpretation\n",
    "* The confidence interval does not include zero, which implies that the average difference between the non-traditional and true AADT estimates is statistically significant. This means that the non-traditional estimates consistently underestimate the true values.\n",
    "* The relatively narrow confidence interval (approximately ±5%) indicates that the non-traditional AADT estimates are consistently underestimating the true values across different samples.\n",
    "### Practical Implications\n",
    "* Accuracy: The non-traditional AADT estimates are significantly lower than the true values, with an average underestimation of over 50%.\n",
    "* Precision: The narrow confidence interval suggests that this underestimation is consistent across different observations.\n",
    "* Reliability: Given the significant and consistent underestimation, non-traditional AADT estimation methods may not be reliable without adjustments or calibrations.\n",
    "### Recommendations\n",
    "* Investigate Potential Causes: Examine the methodology of the non-traditional data sources to identify factors contributing to the underestimation.\n",
    "* Calibration: Consider applying correction factors or calibration techniques to adjust the non-traditional estimates closer to the true values.\n",
    "* Supplement with Additional Data: Use supplementary data sources or methods to validate and enhance the accuracy of the non-traditional AADT estimates."
   ]
  },
  {
   "cell_type": "code",
   "execution_count": null,
   "id": "f0c96189-0216-4bfc-8721-0799cc131cbe",
   "metadata": {},
   "outputs": [],
   "source": []
  }
 ],
 "metadata": {
  "kernelspec": {
   "display_name": "Python 3 (ipykernel)",
   "language": "python",
   "name": "python3"
  },
  "language_info": {
   "codemirror_mode": {
    "name": "ipython",
    "version": 3
   },
   "file_extension": ".py",
   "mimetype": "text/x-python",
   "name": "python",
   "nbconvert_exporter": "python",
   "pygments_lexer": "ipython3",
   "version": "3.11.10"
  }
 },
 "nbformat": 4,
 "nbformat_minor": 5
}
