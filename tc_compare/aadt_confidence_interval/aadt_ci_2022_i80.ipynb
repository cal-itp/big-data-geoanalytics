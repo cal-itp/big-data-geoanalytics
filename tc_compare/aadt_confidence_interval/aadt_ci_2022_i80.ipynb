{
 "cells": [
  {
   "cell_type": "markdown",
   "id": "d35c3b37-f7e4-41e8-abf2-083155ea8641",
   "metadata": {},
   "source": [
    "# AADT Confidence Interval - Interstate 80\n",
    "\n",
    "## FHWA Links\n",
    "* Guidelines for Obtaining AADT Estimates from Non-Traditional Sources:\n",
    "    * https://www.fhwa.dot.gov/policyinformation/travel_monitoring/pubs/aadtnt/Guidelines_for_AADT_Estimates_Final.pdf\n",
    "  \n",
    "  \n",
    "## AADT Analysis Locations\n",
    "* 10 locations were used in the analysis\n",
    "* Locations were determined based on the location on installed & recording Traffic Operations cameras\n",
    "    * for additional information contact Zhenyu Zhu with Traffic Operations\n",
    "\n",
    "## Traffic Census Data\n",
    "* Back AADT, Peak Month, and Peak Hour usually represents traffic South or West of the count location.  \n",
    "* Ahead AADT, Peak Month, and Peak Hour usually represents traffic North or East of the count location. Listing of routes with their designated  \n",
    "\n",
    "* Because the Back & Ahead counts are included at each location in the Traffic Census Data, (e.g., \"IRWINDALE, ARROW HIGHWAY\") only one [OBJECTID*] per location was pulled; for this analysis the North Bound Nodes were used for the analysis. \n",
    "\n",
    "## StreetLight Analysis Data\n",
    "* StreetLight Locations on Interstate 80 are one-direction, each location will contain two points: northbound and southbound\n",
    "\n",
    "\n"
   ]
  },
  {
   "cell_type": "code",
   "execution_count": 1,
   "id": "171fa2b0-9b02-4947-a4d1-dd18ef86de42",
   "metadata": {
    "tags": []
   },
   "outputs": [],
   "source": [
    "import numpy as np\n",
    "import pandas as pd\n",
    "import scipy.stats as stats"
   ]
  },
  {
   "cell_type": "code",
   "execution_count": 2,
   "id": "7fba30c3-0212-4a87-9af0-b25945e2d718",
   "metadata": {
    "tags": []
   },
   "outputs": [
    {
     "name": "stdout",
     "output_type": "stream",
     "text": [
      "Mean TCE: -0.20%\n",
      "95% Confidence Interval for TCE: (-4.96%, 4.56%)\n"
     ]
    }
   ],
   "source": [
    "# Example AADT data from non-traditional sources and permanent counters\n",
    "aadt_non_traditional = np.array([10500, 9800, 10200, 9500, 9900])\n",
    "aadt_true = np.array([10000, 10000, 10000, 10000, 10000])\n",
    "\n",
    "# Step 1: Compute TCEs\n",
    "tce = 100 * (aadt_non_traditional - aadt_true) / aadt_true\n",
    "\n",
    "# Step 2: Compute sample mean and standard error\n",
    "mean_tce = np.mean(tce)\n",
    "std_tce = np.std(tce, ddof=1)  # sample standard deviation\n",
    "n = len(tce)\n",
    "se = std_tce / np.sqrt(n)\n",
    "\n",
    "# Step 3: Compute 95% confidence interval\n",
    "confidence = 0.95\n",
    "t_score = stats.t.ppf((1 + confidence) / 2, df=n - 1)\n",
    "ci_lower = mean_tce - t_score * se\n",
    "ci_upper = mean_tce + t_score * se\n",
    "\n",
    "# Print results\n",
    "print(f\"Mean TCE: {mean_tce:.2f}%\")\n",
    "print(f\"95% Confidence Interval for TCE: ({ci_lower:.2f}%, {ci_upper:.2f}%)\")"
   ]
  },
  {
   "cell_type": "markdown",
   "id": "ff66eb00-c9b1-47ed-8468-b89a5fe77b39",
   "metadata": {},
   "source": [
    "* Mean TCE: -0.20%\n",
    "* 95% Confidence Interval for TCE: (-4.96%, 4.56%)\n",
    "\n",
    "### What does this mean?\n",
    "* Traffic Count Error (TCE) quantifies the percentage difference between AADT estimates from non-traditional sources and true AADT values from permanent counters:\n",
    " \n",
    "In this case:\n",
    "* Mean TCE of -0.20% indicates that, on average, the non-traditional AADT estimates are 0.20% lower than the true AADT values. This suggests a slight underestimation.\n",
    "* 95% Confidence Interval of (-4.96%, 4.56%) means that we can be 95% confident that the true mean TCE lies within this range. In other words, if we were to repeat this sampling process multiple times, 95% of the calculated confidence intervals would contain the true mean TCE .\n",
    "\n",
    "### Interpretation\n",
    "* The confidence interval includes zero, which implies that the average difference between the non-traditional and true AADT estimates is not statistically significant. This means that, on average, the non-traditional estimates neither consistently overestimate nor underestimate the true values.\n",
    "* The relatively narrow confidence interval (approximately ±5%) indicates that the non-traditional AADT estimates are reasonably precise and closely align with the true AADT values.\n",
    "### Practical Implications\n",
    "* **Accuracy**: The non-traditional AADT estimates are, on average, very close to the true values, with only a slight underestimation.\n",
    "* **Precision**: The narrow confidence interval suggests that the estimates are consistently close to the true values across different samples.\n",
    "* **Reliability**: Given the small mean error and narrow confidence interval, non-traditional AADT estimation methods can be considered reliable for practical applications."
   ]
  },
  {
   "cell_type": "code",
   "execution_count": 3,
   "id": "48455bf9-e595-4041-b831-cb645b4220cb",
   "metadata": {},
   "outputs": [],
   "source": [
    "def extract_aadt_comparison_data(df_stl, df_tc, mapping_dicts):\n",
    "    \"\"\"\n",
    "    Extracts AADT counts from StreetLight and Traffic Census datasets based on a mapping of zonename and objectid.\n",
    "    Odd objectid strings use 'ahead_aadt', even ones use 'back_aadt'.\n",
    "\n",
    "    Parameters:\n",
    "    - df_stl (pd.DataFrame): StreetLight data with a 'zonename' and 'averagedailysegmenttraffic(stlvolume)' column.\n",
    "    - df_tc (pd.DataFrame): Traffic Census data with 'objectid', 'ahead_aadt', and 'back_aadt' columns.\n",
    "    - mapping_dicts (list of dict): Contains mappings with keys 'objectid', 'zonename', and 'order_number'.\n",
    "\n",
    "    Returns:\n",
    "    - Tuple[np.array, np.array]: A tuple with two numpy arrays (StreetLight AADT values, Traffic Census AADT values).\n",
    "    \"\"\"\n",
    "    aadt_non_traditional = []\n",
    "    aadt_true = []\n",
    "\n",
    "    for item in mapping_dicts:\n",
    "        objectid = item[\"objectid\"]\n",
    "        zonename = item[\"zonename\"]\n",
    "\n",
    "        # Get the corresponding STL volume from df_stl\n",
    "        stl_row = df_stl[df_stl[\"zonename\"] == zonename]\n",
    "        if not stl_row.empty:\n",
    "            stl_volume = stl_row.iloc[0][\"averagedailysegmenttraffic(stlvolume)\"]\n",
    "        else:\n",
    "            continue  # Skip if no match found in StreetLight\n",
    "\n",
    "        # Get the corresponding Traffic Census AADT based on even/odd objectid string\n",
    "        tc_row = df_tc[df_tc[\"objectid\"].astype(str) == objectid]\n",
    "        if not tc_row.empty:\n",
    "            if int(objectid) % 2 == 0:\n",
    "                aadt_value = tc_row.iloc[0][\"back_aadt\"]\n",
    "            else:\n",
    "                aadt_value = tc_row.iloc[0][\"ahead_aadt\"]\n",
    "        else:\n",
    "            continue  # Skip if no match found in Traffic Census\n",
    "\n",
    "        aadt_non_traditional.append(stl_volume)\n",
    "        aadt_true.append(aadt_value)\n",
    "\n",
    "    return np.array(aadt_non_traditional), np.array(aadt_true)"
   ]
  },
  {
   "cell_type": "code",
   "execution_count": 4,
   "id": "ce4826a9-4c1c-46e4-95c5-20c820351b55",
   "metadata": {},
   "outputs": [],
   "source": [
    "# Identify the GCS path to the data\n",
    "gcs_path = \"gs://calitp-analytics-data/data-analyses/big_data/compare_traffic_counts/5_confidence_interval_i80_2022/\""
   ]
  },
  {
   "cell_type": "code",
   "execution_count": 5,
   "id": "40c01657-5051-44da-b79f-594359c06427",
   "metadata": {},
   "outputs": [],
   "source": [
    "def getdata_and_cleanheaders(path):\n",
    "    # Read the CSV file\n",
    "    df = pd.read_csv(path)\n",
    "\n",
    "    # Clean column headers: remove spaces, convert to lowercase, and strip trailing asterisks\n",
    "    cleaned_columns = []\n",
    "    for column in df.columns:\n",
    "        cleaned_column = column.replace(\" \", \"\").lower().rstrip(\"*\")\n",
    "        cleaned_columns.append(cleaned_column)\n",
    "\n",
    "    df.columns = cleaned_columns\n",
    "    return df"
   ]
  },
  {
   "cell_type": "code",
   "execution_count": 6,
   "id": "686ea444-0d68-415c-beda-7ecdfe887062",
   "metadata": {
    "tags": []
   },
   "outputs": [
    {
     "name": "stderr",
     "output_type": "stream",
     "text": [
      "/opt/conda/lib/python3.11/site-packages/google/auth/_default.py:76: UserWarning: Your application has authenticated using end user credentials from Google Cloud SDK without a quota project. You might receive a \"quota exceeded\" or \"API not enabled\" error. See the following page for troubleshooting: https://cloud.google.com/docs/authentication/adc-troubleshooting/user-creds. \n",
      "  warnings.warn(_CLOUD_SDK_CREDENTIALS_WARNING)\n"
     ]
    }
   ],
   "source": [
    "# pull in the data & create dataframes\n",
    "df_tc = getdata_and_cleanheaders(\n",
    "    f\"{gcs_path}caltrans_traffic_census_80_d3_2022.csv\"\n",
    ")  # Traffic Census\n",
    "df_stl = getdata_and_cleanheaders(\n",
    "    f\"{gcs_path}streetlight_i80_aadt_2022.csv\"\n",
    ")  # StreetLight"
   ]
  },
  {
   "cell_type": "code",
   "execution_count": 7,
   "id": "8ac0989e-9545-4d5d-be35-5d43acf49adc",
   "metadata": {
    "tags": []
   },
   "outputs": [
    {
     "data": {
      "text/plain": [
       "(1200, 17)"
      ]
     },
     "execution_count": 7,
     "metadata": {},
     "output_type": "execute_result"
    }
   ],
   "source": [
    "df_stl.shape"
   ]
  },
  {
   "cell_type": "code",
   "execution_count": 8,
   "id": "2ecef21f-7590-4005-90f8-9b00e33f021d",
   "metadata": {
    "tags": []
   },
   "outputs": [
    {
     "data": {
      "text/plain": [
       "(172, 16)"
      ]
     },
     "execution_count": 8,
     "metadata": {},
     "output_type": "execute_result"
    }
   ],
   "source": [
    "df_tc.shape"
   ]
  },
  {
   "cell_type": "code",
   "execution_count": 9,
   "id": "5633c6d8-181f-4612-8a6a-720d128f7416",
   "metadata": {
    "tags": []
   },
   "outputs": [],
   "source": [
    "interstate_605_aadt_locations = [\n",
    "    {\n",
    "        \"objectid\": \"6365\",  # this comes from Traffic Census [objectid]\n",
    "        \"order_number\": 0,\n",
    "        \"zonename\": \"Alan S. Hart Freeway / 683187\",  # this comes from StreetLight [zonename]\n",
    "    },\n",
    "    {\n",
    "        \"objectid\": \"6366\",  # this comes from Traffic Census [objectid]\n",
    "        \"order_number\": 1,\n",
    "        \"zonename\": \"Alan S. Hart Freeway / 70888\",  # this comes from StreetLight [zonename]\n",
    "    },\n",
    "    {\n",
    "        \"objectid\": \"6349\",  # This comes from Traffic Census [objectid]\n",
    "        \"order_number\": 2,\n",
    "        \"zonename\": \"Alan S. Hart Freeway / 17768734\",  # this comes from StreetLight [zonename]\n",
    "    },\n",
    "    {\n",
    "        \"objectid\": \"6350\",  # This comes from Traffic Census [objectid]\n",
    "        \"order_number\": 3,\n",
    "        \"zonename\": \"Alan S. Hart Freeway / 13663182\",  # this comes from StreetLight [zonename]\n",
    "    },\n",
    "    {\n",
    "        \"objectid\": \"13596\",  # This comes from Traffic Census [objectid]\n",
    "        \"order_number\": 4,\n",
    "        \"zonename\": \"Alan S. Hart Freeway / 70480\",  # this comes from StreetLight [zonename]\n",
    "    },\n",
    "    {\n",
    "        \"objectid\": \"13779\",  # This comes from Traffic Census [objectid]\n",
    "        \"order_number\": 5,\n",
    "        \"zonename\": \"Alan S. Hart Freeway / 19625302\",  # this comes from StreetLight [zonename]\n",
    "    },\n",
    "    {\n",
    "        \"objectid\": \"6339\",  # This comes from Traffic Census [objectid]\n",
    "        \"order_number\": 6,\n",
    "        \"zonename\": \"Alan S. Hart Freeway / 17897855\",  # this comes from StreetLight [zonename]\n",
    "    },\n",
    "    {\n",
    "        \"objectid\": \"6340\",  # This comes from Traffic Census [objectid]\n",
    "        \"order_number\": 7,\n",
    "        \"zonename\": \"Alan S. Hart Freeway / 13954444\",  # this comes from StreetLight [zonename]\n",
    "    },\n",
    "    {\n",
    "        \"objectid\": \"6331\",  # This comes from Traffic Census [objectid]\n",
    "        \"order_number\": 8,\n",
    "        \"zonename\": \"Alan S. Hart Freeway / 70016\",  # this comes from StreetLight [zonename]\n",
    "    },\n",
    "    {\n",
    "        \"objectid\": \"6332\",  # This comes from Traffic Census [objectid]\n",
    "        \"order_number\": 9,\n",
    "        \"zonename\": \"Alan S. Hart Freeway / 69088\",  # this comes from StreetLight [zonename]\n",
    "    },\n",
    "    {\n",
    "        \"objectid\": \"6305\",  # This comes from Traffic Census [objectid]\n",
    "        \"order_number\": 10,\n",
    "        \"zonename\": \"Alan S. Hart Freeway / 712613\",  # this comes from StreetLight [zonename]\n",
    "    },\n",
    "    {\n",
    "        \"objectid\": \"6306\",  # This comes from Traffic Census [objectid]\n",
    "        \"order_number\": 11,\n",
    "        \"zonename\": \"Alan S. Hart Freeway / 21926012\",  # this comes from StreetLight [zonename]\n",
    "    },\n",
    "    {\n",
    "        \"objectid\": \"6291\",  # This comes from Traffic Census [objectid]\n",
    "        \"order_number\": 12,\n",
    "        \"zonename\": \"Alan S. Hart Freeway / 15369559\",  # this comes from StreetLight [zonename]\n",
    "    },\n",
    "    {\n",
    "        \"objectid\": \"6292\",  # This comes from Traffic Census [objectid]\n",
    "        \"order_number\": 13,\n",
    "        \"zonename\": \"Alan S. Hart Freeway / 20541977\",  # this comes from StreetLight [zonename]\n",
    "    },\n",
    "    {\n",
    "        \"objectid\": \"6271\",  # This comes from Traffic Census [objectid]\n",
    "        \"order_number\": 14,\n",
    "        \"zonename\": \"Alan S. Hart Freeway / 21646790\",  # this comes from StreetLight [zonename]\n",
    "    },\n",
    "    {\n",
    "        \"objectid\": \"6272\",  # This comes from Traffic Census [objectid]\n",
    "        \"order_number\": 15,\n",
    "        \"zonename\": \"Alan S. Hart Freeway / 22175291\",  # this comes from StreetLight [zonename]\n",
    "    },\n",
    "    {\n",
    "        \"objectid\": \"6259\",  # This comes from Traffic Census [objectid]\n",
    "        \"order_number\": 16,\n",
    "        \"zonename\": \"Alan S. Hart Freeway / 15552281\",  # this comes from StreetLight [zonename]\n",
    "    },\n",
    "    {\n",
    "        \"objectid\": \"6260\",  # This comes from Traffic Census [objectid]\n",
    "        \"order_number\": 17,\n",
    "        \"zonename\": \"Alan S. Hart Freeway / 14374733\",  # this comes from StreetLight [zonename]\n",
    "    },\n",
    "    {\n",
    "        \"objectid\": \"6249\",  # This comes from Traffic Census [objectid]\n",
    "        \"order_number\": 18,\n",
    "        \"zonename\": \"I 80 / 23724550\",  # this comes from StreetLight [zonename]\n",
    "    },\n",
    "    {\n",
    "        \"objectid\": \"6250\",  # This comes from Traffic Census [objectid]\n",
    "        \"order_number\": 19,\n",
    "        \"zonename\": \"I 80 / 16281553\",  # this comes from StreetLight [zonename]\n",
    "    },\n",
    "]"
   ]
  },
  {
   "cell_type": "code",
   "execution_count": 10,
   "id": "1d0e10f9-48ad-41da-82dd-d071c94f76f4",
   "metadata": {},
   "outputs": [],
   "source": [
    "# run the \"extract_aadt_comparison_data\" function\n",
    "aadt_non_traditional, aadt_true = extract_aadt_comparison_data(\n",
    "    df_stl, df_tc, interstate_605_aadt_locations\n",
    ")"
   ]
  },
  {
   "cell_type": "code",
   "execution_count": 12,
   "id": "d4731a7b-9c79-472f-ac84-0b2cac7a8d6a",
   "metadata": {},
   "outputs": [],
   "source": [
    "def compute_tce_confidence_interval(aadt_non_traditional, aadt_true, confidence=0.95, locations=None):\n",
    "    \"\"\"\n",
    "    Computes the Traffic Count Error (TCE) and returns the confidence interval \n",
    "    along with the t-test number (critical value), excluding entries with nan in aadt_true.\n",
    "\n",
    "    Parameters:\n",
    "    - aadt_non_traditional (np.array): AADT estimates from a non-traditional source.\n",
    "    - aadt_true (np.array): True AADT values from permanent counters.\n",
    "    - confidence (float): Confidence level (default is 0.95).\n",
    "    - locations (list of dicts): Optional. Contains metadata including 'order_number'.\n",
    "\n",
    "    Returns:\n",
    "    - tuple: (mean_tce, ci_lower, ci_upper, t_test_number, excluded_order_numbers)\n",
    "    \"\"\"\n",
    "    aadt_non_traditional = np.array(aadt_non_traditional)\n",
    "    aadt_true = np.array(aadt_true)\n",
    "\n",
    "    # Identify valid (non-nan) indices\n",
    "    valid_idx = ~np.isnan(aadt_true)\n",
    "\n",
    "    # Get list of excluded order_numbers if locations provided\n",
    "    excluded_order_numbers = []\n",
    "    if locations is not None:\n",
    "        excluded_order_numbers = [\n",
    "            loc[\"order_number\"] for i, loc in enumerate(locations)\n",
    "            if not valid_idx[i]\n",
    "        ]\n",
    "\n",
    "    # Filter the arrays\n",
    "    aadt_non_traditional = aadt_non_traditional[valid_idx]\n",
    "    aadt_true = aadt_true[valid_idx]\n",
    "\n",
    "    tce = 100 * (aadt_non_traditional - aadt_true) / aadt_true\n",
    "    mean_tce = np.mean(tce)\n",
    "    std_tce = np.std(tce, ddof=1)\n",
    "    n = len(tce)\n",
    "    se = std_tce / np.sqrt(n)\n",
    "    df = n - 1  # degrees of freedom\n",
    "    t_test_number = stats.t.ppf((1 + confidence) / 2, df)\n",
    "    ci_lower = mean_tce - t_test_number * se\n",
    "    ci_upper = mean_tce + t_test_number * se\n",
    "\n",
    "    return mean_tce, ci_lower, ci_upper, t_test_number, excluded_order_numbers"
   ]
  },
  {
   "cell_type": "code",
   "execution_count": 14,
   "id": "c8315a20-2fc0-4824-8bde-5c02cbb936d9",
   "metadata": {},
   "outputs": [],
   "source": [
    "mean_tce, ci_lower, ci_upper, t_val, excluded = compute_tce_confidence_interval(\n",
    "    aadt_non_traditional, aadt_true, confidence=0.95, locations=interstate_605_aadt_locations)"
   ]
  },
  {
   "cell_type": "code",
   "execution_count": 16,
   "id": "67c26425-beca-40fa-a79f-94fd996cd01b",
   "metadata": {},
   "outputs": [
    {
     "name": "stdout",
     "output_type": "stream",
     "text": [
      "Mean TCE: -47.37%\n",
      "95% Confidence Interval: (-51.41%, -43.34%)\n",
      "t-test number (critical value): 2.1009\n",
      "Excluded order_numbers due to NaN: [0]\n"
     ]
    }
   ],
   "source": [
    "print(f\"Mean TCE: {mean_tce:.2f}%\")\n",
    "print(f\"95% Confidence Interval: ({ci_lower:.2f}%, {ci_upper:.2f}%)\")\n",
    "print(f\"t-test number (critical value): {t_val:.4f}\")\n",
    "print(f\"Excluded order_numbers due to NaN: {excluded}\")"
   ]
  },
  {
   "cell_type": "code",
   "execution_count": 17,
   "id": "24243a99-aa61-46a5-92a6-8fe5edf51067",
   "metadata": {
    "tags": []
   },
   "outputs": [
    {
     "data": {
      "text/plain": [
       "array([17189, 16055, 18419, 15860, 17199, 14906, 17344, 16274, 18823,\n",
       "       16869, 23456, 21212, 30010, 25949, 43378, 44862, 90490, 86054,\n",
       "       94506, 95652])"
      ]
     },
     "execution_count": 17,
     "metadata": {},
     "output_type": "execute_result"
    }
   ],
   "source": [
    "aadt_non_traditional"
   ]
  },
  {
   "cell_type": "code",
   "execution_count": 18,
   "id": "529fbc03-8496-4480-977f-d4f63f2ee55b",
   "metadata": {
    "tags": []
   },
   "outputs": [
    {
     "data": {
      "text/plain": [
       "array([    nan,  35500.,  29000.,  26000.,  31500.,  29500.,  28500.,\n",
       "        29000.,  27500.,  27500.,  38500.,  44000.,  57000.,  60000.,\n",
       "        81000.,  90000., 219000., 203000., 212000., 230000.])"
      ]
     },
     "execution_count": 18,
     "metadata": {},
     "output_type": "execute_result"
    }
   ],
   "source": [
    "aadt_true"
   ]
  },
  {
   "cell_type": "markdown",
   "id": "069f2c0e-70da-4560-ab93-a5662682df57",
   "metadata": {},
   "source": [
    "### What does this mean?\n",
    "#### 1. Mean TCE: -47.37%\n",
    "* TCE (Treatment Control Effect) here refers to the difference in AADT counts between the two datasets: traditional counts versus non-traditional counts.\n",
    "* A mean of -47.37% means that the non-traditional AADT source is showing 47.37% fewer cars on average than the traditional source. So, in general, the non-traditional data is reporting much lower traffic counts.\n",
    "#### 2. 95% Confidence Interval: (-51.41%, -43.34%)\n",
    "* The 95% Confidence Interval tells us the range within which we are 95% confident the true difference lies.\n",
    "* In this case, you’re 95% confident that the non-traditional AADT counts are between 43.34% and 51.41% lower than the traditional AADT counts.\n",
    "* This means that the non-traditional counts are consistently showing lower traffic volumes when compared to the traditional data.\n",
    "* Because the whole interval is negative (below 0%), it indicates the non-traditional source is consistently under-reporting traffic when compared to the traditional source.\n",
    "#### 3. t-test number (critical value): 2.1009\n",
    "* The critical value of 2.1009 is a threshold used in the t-test to see if the difference between your datasets is statistically significant.\n",
    "* If the t-statistic (which measures the size of the difference between the two datasets relative to the variability) is larger than 2.1009, it means the difference you’re seeing between the traditional and non-traditional counts is not due to random chance.\n",
    "* Since the confidence interval does not include 0, we know that the difference between the two data sources is statistically significant — the non-traditional counts are reliably different (lower) than the traditional counts.\n",
    "\n",
    "#### How This Relates to the AADT Data Comparison:\n",
    "* Comparing two different methods for counting AADT — traditional versus non-traditional sources.\n",
    "* The mean TCE of -47.37% tells us that, on average, the non-traditional AADT counts show about 47.37% fewer cars than the traditional counts.\n",
    "* The 95% Confidence Interval of (-51.41%, -43.34%) means that you are 95% confident the real difference in traffic counts between the two sources is between 43.34% and 51.41% lower in the non-traditional data.\n",
    "* The t-test shows that this difference is statistically significant, so the non-traditional counts are reliably reporting fewer vehicles than the traditional counts.\n",
    "\n",
    "This suggests that if you use non-traditional AADT data, you can expect it to consistently report lower traffic volumes compared to traditional methods, and this difference is unlikely to be due to random chance."
   ]
  },
  {
   "cell_type": "code",
   "execution_count": null,
   "id": "f15256b2-1cbd-4583-abcf-e53cf44d31ee",
   "metadata": {},
   "outputs": [],
   "source": []
  }
 ],
 "metadata": {
  "kernelspec": {
   "display_name": "Python 3 (ipykernel)",
   "language": "python",
   "name": "python3"
  },
  "language_info": {
   "codemirror_mode": {
    "name": "ipython",
    "version": 3
   },
   "file_extension": ".py",
   "mimetype": "text/x-python",
   "name": "python",
   "nbconvert_exporter": "python",
   "pygments_lexer": "ipython3",
   "version": "3.11.10"
  }
 },
 "nbformat": 4,
 "nbformat_minor": 5
}
