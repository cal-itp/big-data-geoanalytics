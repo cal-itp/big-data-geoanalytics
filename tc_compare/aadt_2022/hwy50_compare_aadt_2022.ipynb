{
 "cells": [
  {
   "cell_type": "markdown",
   "id": "d0cd2c80-f2dd-4572-ac12-899907a3aa19",
   "metadata": {},
   "source": [
    "# Big Data\n",
    "## Traffic Counts (2022)\n",
    "\n",
    "- Created June 2024 to compare 2022 traffic counts  \n",
    "- Caltrans' latest available AADT counts are from Federal FY 2022 (Ending September 30, 2022)"
   ]
  },
  {
   "cell_type": "markdown",
   "id": "179a9acf-c1ca-494c-8e00-f172f09eb2e8",
   "metadata": {},
   "source": [
    "## Focusing on Hwy 50"
   ]
  },
  {
   "cell_type": "code",
   "execution_count": 1,
   "id": "c4cb8eb8-9f7a-48de-88e9-daa590fd6074",
   "metadata": {},
   "outputs": [],
   "source": [
    "# import modules\n",
    "import pandas as pd\n",
    "import numpy as np\n",
    "import matplotlib.pyplot as plt\n",
    "import warnings\n",
    "import folium\n",
    "from folium import plugins\n",
    "from folium.plugins import MarkerCluster\n",
    "from io import BytesIO\n",
    "import base64\n",
    "import altair as alt\n",
    "from altair_saver import save # to save the PNG file(s)"
   ]
  },
  {
   "cell_type": "code",
   "execution_count": 2,
   "id": "19e74b0a-12ca-4145-8ec3-66ae31327b2e",
   "metadata": {},
   "outputs": [],
   "source": [
    "from siuba import *\n",
    "from calitp_data_analysis.sql import to_snakecase"
   ]
  },
  {
   "cell_type": "code",
   "execution_count": 3,
   "id": "01588206-9f23-488e-ad84-52591433fea4",
   "metadata": {},
   "outputs": [
    {
     "name": "stderr",
     "output_type": "stream",
     "text": [
      "/opt/conda/lib/python3.9/site-packages/google/auth/_default.py:78: UserWarning: Your application has authenticated using end user credentials from Google Cloud SDK without a quota project. You might receive a \"quota exceeded\" or \"API not enabled\" error. See the following page for troubleshooting: https://cloud.google.com/docs/authentication/adc-troubleshooting/user-creds. \n",
      "  warnings.warn(_CLOUD_SDK_CREDENTIALS_WARNING)\n"
     ]
    }
   ],
   "source": [
    "from calitp_data_analysis import get_fs\n",
    "import gcsfs as fs\n",
    "fs = get_fs()\n",
    "import geopandas as gpd"
   ]
  },
  {
   "cell_type": "code",
   "execution_count": 4,
   "id": "4ecb849c-c287-409b-bb6f-c49995cfb4f1",
   "metadata": {},
   "outputs": [],
   "source": [
    "# Identify path to Google Cloud\n",
    "path = \"gs://calitp-analytics-data/data-analyses/big_data/compare_traffic_counts/3_ct_hwy50/\"\n",
    "path1 = \"gs://calitp-analytics-data/data-analyses/big_data/compare_traffic_counts/3_rep_hwy50/\"\n",
    "#path2 = \"gs://calitp-analytics-data/data-analyses/big_data/compare_traffic_counts/3_stl_hwy50/\""
   ]
  },
  {
   "cell_type": "code",
   "execution_count": 5,
   "id": "f3ba6fd6-827e-4391-ac86-4f3b57564070",
   "metadata": {},
   "outputs": [],
   "source": [
    "# Name the dataset(s)\n",
    "ct_df01 = f'{path}ct-hwy50-traffic-counts-2022.csv' # Caltrans 2022 data\n",
    "rep_df01 = f'{path1}replica-hwy50corridorfall2022-06_26_24-network_link_layer.csv' # Replica 2022 data\n",
    "#stl_df01 = f'{path2}stl_hwy_50_corridor_2022_np.csv' # StreetLight 2022 data \n",
    "    # The StreetLight download did not make it easy to identify the individual locations. The locations were downloaded individually and concatenated - this takes place in the StreetLight section of the notebook"
   ]
  },
  {
   "cell_type": "code",
   "execution_count": 6,
   "id": "893b7415-4f83-4dda-9b73-00495566d489",
   "metadata": {},
   "outputs": [],
   "source": [
    "# create a function to import the data from a csv file\n",
    "def getData(path):\n",
    "    # Suppress warning\n",
    "    warnings.filterwarnings(\"ignore\")\n",
    "    \n",
    "    # reads in the data from a .csv file\n",
    "    df = pd.read_csv(path)\n",
    "    return df"
   ]
  },
  {
   "cell_type": "code",
   "execution_count": 7,
   "id": "f19c1320-1a38-4302-935a-b9e164d72680",
   "metadata": {},
   "outputs": [],
   "source": [
    "# Pull in the data\n",
    "ct_df01 = getData(ct_df01)\n",
    "rep_df01 = getData(rep_df01)\n",
    "#stl_df01 = getData(stl_df01) # This version of the data was not utilized"
   ]
  },
  {
   "cell_type": "code",
   "execution_count": 8,
   "id": "79405d59-c96d-4a57-ad00-58f339bb432d",
   "metadata": {},
   "outputs": [],
   "source": [
    "# Create a function to remove spaces and make header characters lowercase\n",
    "def clean_headers(df):\n",
    "    cleaned_columns = []\n",
    "    for column in df.columns:\n",
    "        cleaned_column = column.replace(\" \", \"\").lower()\n",
    "        cleaned_columns.append(cleaned_column)\n",
    "    df.columns = cleaned_columns\n",
    "    return df"
   ]
  },
  {
   "cell_type": "code",
   "execution_count": 9,
   "id": "5cec0b7f-e2ec-43d6-8558-0d9779201a82",
   "metadata": {},
   "outputs": [],
   "source": [
    "# Clean the headers using the clean_headers function\n",
    "ct_df01 = clean_headers(ct_df01)\n",
    "rep_df01 = clean_headers(rep_df01)\n",
    "#stl_df01 = clean_headers(stl_df01) # This version of the data was not utilized"
   ]
  },
  {
   "cell_type": "markdown",
   "id": "14bc5065-ee6e-4285-97f9-6e00e988a1af",
   "metadata": {},
   "source": [
    "## Caltrans Traffic Census Data\n",
    "- Caltrans Traffic Census counts follow the Federal Fiscal Year (October 1, 2021 - September 30, 2022)"
   ]
  },
  {
   "cell_type": "code",
   "execution_count": 10,
   "id": "56e43daa-e8e5-4d09-81aa-d45fcbb86eab",
   "metadata": {},
   "outputs": [],
   "source": [
    "# Caltrans Data Cleaning:\n",
    "    # The Caltrans GIS Attributes table was downloaded after the locations along highway 50 were selected\n",
    "    # The ['OBJECTID'] column contained unique Object IDs, but also duplicated the values listed in the various AADT columns\n",
    "    # The Post Miles listed in the ['PM'] field were duplicated. To clean this, the duplicate records (based on duplicate 'PM' values were manually removed\n",
    "        # from the Excel file prior to uploading the data to Google Cloud Storage"
   ]
  },
  {
   "cell_type": "code",
   "execution_count": 11,
   "id": "9db83c19-1b09-40a1-9620-c3306b20c954",
   "metadata": {},
   "outputs": [],
   "source": [
    "# Create a subset from the Caltrans Traffic Census DataFrame\n",
    "ct_df01 = ct_df01[['route', 'objectid*', 'district', 'county', 'pm', 'location_description', 'back_aadt', 'ahead_aadt']]"
   ]
  },
  {
   "cell_type": "code",
   "execution_count": 12,
   "id": "a8338f56-2661-4c46-97b9-6a48ac104711",
   "metadata": {},
   "outputs": [],
   "source": [
    "# Adding a column for the federal fiscal year\n",
    "ct_df01['year'] = '2022'\n",
    "\n",
    "# Adding a column to identify the data source\n",
    "ct_df01['source'] = 'Caltrans Traffic Census'"
   ]
  },
  {
   "cell_type": "code",
   "execution_count": 13,
   "id": "bb30825c-0542-44e0-895b-1ea99238dde4",
   "metadata": {},
   "outputs": [],
   "source": [
    "# A function to filter the Caltrans Traffic Census data to only include 10 locations along Highway 50 (Folsom to Echo Summit)\n",
    "def filter_ct_traffic_census(df, county_order=None):\n",
    "    \n",
    "    # Filter the DataFrame based on ['location_description'] values\n",
    "    filtered_locations = [\"NIMBUS ROAD\", \n",
    "                          \"PRAIRIE CITY ROAD\", \n",
    "                          \"LATROBE ROAD\", \n",
    "                          \"CAMERON PARK\", \n",
    "                          \"MISSOURI FLAT ROAD\", \n",
    "                          \"PLACERVILLE, MOSQUITO ROAD OVERHEAD (BROADWAY)\",\n",
    "                          \"JUNCTION OLD HIGHWAY, CAMINO, WEST\", \n",
    "                          \"SLY PARK ROAD\", \n",
    "                          \"ICEHOUSE ROAD\", \n",
    "                          \"ECHO LAKE ROAD\"]\n",
    "    df = df[df['location_description'].isin(filtered_locations)] \n",
    "    \n",
    "    return df"
   ]
  },
  {
   "cell_type": "code",
   "execution_count": 14,
   "id": "5ce1382d-2b2b-4336-b7ce-7bcfcf6d031c",
   "metadata": {},
   "outputs": [],
   "source": [
    "# Filter the Caltrans Traffic Census data to onlyu include the 'location_description' field\n",
    "ct_df01_filtered = filter_ct_traffic_census(ct_df01)"
   ]
  },
  {
   "cell_type": "code",
   "execution_count": 15,
   "id": "8f2b9f75-142d-4253-89bd-182ce67a826c",
   "metadata": {},
   "outputs": [],
   "source": [
    "def ct_tc_location_order(df):\n",
    "    # Define the location order for the bar charts\n",
    "    location_order_mapping = {\n",
    "        'NIMBUS ROAD': 0,\n",
    "        'PRAIRIE CITY ROAD': 1,\n",
    "        'LATROBE ROAD': 2,\n",
    "        'CAMERON PARK': 3,\n",
    "        'MISSOURI FLAT ROAD': 4,\n",
    "        'PLACERVILLE, MOSQUITO ROAD OVERHEAD (BROADWAY)': 5,\n",
    "        'JUNCTION OLD HIGHWAY, CAMINO, WEST': 6,\n",
    "        'SLY PARK ROAD': 7,\n",
    "        'ICEHOUSE ROAD': 8,\n",
    "        'ECHO LAKE ROAD': 9\n",
    "    }\n",
    "    \n",
    "    # Apply the mapping to the 'location' column to create the 'location_order' column\n",
    "    df['location_order'] = df['location_description'].map(location_order_mapping)\n",
    "    \n",
    "    return df"
   ]
  },
  {
   "cell_type": "code",
   "execution_count": 16,
   "id": "5bf802e6-61e5-4c13-b7fd-a5803f1eed82",
   "metadata": {},
   "outputs": [],
   "source": [
    "# create a field called 'location_order' and identify the order that the locations should appear (for the bar chart)\n",
    "ct_df01_filtered = ct_tc_location_order(ct_df01_filtered)"
   ]
  },
  {
   "cell_type": "code",
   "execution_count": 17,
   "id": "5e947982-be9b-4f69-badb-3b9192448d9f",
   "metadata": {},
   "outputs": [],
   "source": [
    "def ct_tc_location_rename(df):\n",
    "    # Rename the locations to match the other datasets\n",
    "    location_name_mapping = {\n",
    "        'NIMBUS ROAD': 'Nimbus Road',\n",
    "        'PRAIRIE CITY ROAD': 'Prairie City Road',\n",
    "        'LATROBE ROAD': 'Latrobe Road',\n",
    "        'CAMERON PARK': 'Cameron Park',\n",
    "        'MISSOURI FLAT ROAD': 'Missouri Flat Road',\n",
    "        'PLACERVILLE, MOSQUITO ROAD OVERHEAD (BROADWAY)': 'Mosquito Road',\n",
    "        'JUNCTION OLD HIGHWAY, CAMINO, WEST': 'Camino',\n",
    "        'SLY PARK ROAD': 'Sly Park Road',\n",
    "        'ICEHOUSE ROAD': 'Ice House Road',\n",
    "        'ECHO LAKE ROAD': 'Echo Lake Road'\n",
    "    }\n",
    "    \n",
    "    # Apply the mapping to the 'location_description' column to create the 'location' column\n",
    "    df['location'] = df['location_description'].map(location_name_mapping)\n",
    "    \n",
    "    return df"
   ]
  },
  {
   "cell_type": "code",
   "execution_count": 18,
   "id": "a3c7229b-352c-41fb-85a0-6ef236a40cf1",
   "metadata": {},
   "outputs": [],
   "source": [
    "# Create a field called 'location' that renames the default location names that were the values in the 'location_description' column\n",
    "ct_df01_filtered = ct_tc_location_rename(ct_df01_filtered)"
   ]
  },
  {
   "cell_type": "code",
   "execution_count": 19,
   "id": "694792f6-bd30-48ff-a93c-f8f5416e0083",
   "metadata": {},
   "outputs": [],
   "source": [
    "# Create the Altair chart\n",
    "def ct_ahead_back_bar_chart(df):\n",
    "    #nsure the DataFrame is sorted by the Post Mile field\n",
    "    #df_sorted = df.sort_values(by='location_order')\n",
    "    \n",
    "    df_grouped = df.groupby(['location_order', 'location_description']).mean().reset_index()\n",
    "    \n",
    "    # Divide the values by 2 (they get doubled during the melting)\n",
    "    #df_grouped['ahead_aadt'] = df_grouped['ahead_aadt']/2\n",
    "    #df_grouped['back_aadt'] = df_grouped['back_aadt']/2\n",
    "    \n",
    "    \n",
    "    # Melt the DataFrame to have a single column for values and another for value type\n",
    "    df_melted = df_grouped.melt(id_vars=['location_description'], value_vars=['back_aadt', 'ahead_aadt'],\n",
    "                        var_name='value_type', value_name='value')\n",
    "    \n",
    "    #Create the bar chart\n",
    "    chart = alt.Chart(df_melted).mark_bar().encode(\n",
    "        x=alt.X('location_description:N', title='Caltrans Traffic Census Location', sort=alt.EncodingSortField(field='location_order', order='ascending')),\n",
    "        y=alt.Y('value:Q', title='Value'),\n",
    "        color=alt.Color('value_type:N', title='Value Type'),\n",
    "        #column=alt.Column('value_type:N', title='Value Type'),\n",
    "        xOffset='value_type:N', # Offset bars by back_aadt and ahead_aadt to make them side-by-side\n",
    "        tooltip=[\n",
    "            alt.Tooltip('location_description:N', title='Caltrans Traffic Census Location'),\n",
    "            alt.Tooltip('value_type:N', title='Value Type'),\n",
    "            alt.Tooltip('value:Q', title='Value'),\n",
    "        ]\n",
    "    ).properties(\n",
    "        width=1000, # Controls the width of each bar\n",
    "        height=500 # Controls the height of the chart\n",
    "    ).configure_view(\n",
    "        strokeOpacity=0 # Removes gridlines for better visualization\n",
    "    ).configure_axis(\n",
    "        labelFontSize=12,\n",
    "        titleFontSize=14\n",
    "    ).configure_header(\n",
    "        titleFontSize=14,\n",
    "        labelFontSize=12\n",
    "    )\n",
    "        \n",
    "    return chart"
   ]
  },
  {
   "cell_type": "code",
   "execution_count": 20,
   "id": "2459cb0b-2b77-465f-85ee-61ec810749fb",
   "metadata": {},
   "outputs": [
    {
     "data": {
      "text/html": [
       "\n",
       "<style>\n",
       "  #altair-viz-d9b99f876ca7498ab61bd45668b8252f.vega-embed {\n",
       "    width: 100%;\n",
       "    display: flex;\n",
       "  }\n",
       "\n",
       "  #altair-viz-d9b99f876ca7498ab61bd45668b8252f.vega-embed details,\n",
       "  #altair-viz-d9b99f876ca7498ab61bd45668b8252f.vega-embed details summary {\n",
       "    position: relative;\n",
       "  }\n",
       "</style>\n",
       "<div id=\"altair-viz-d9b99f876ca7498ab61bd45668b8252f\"></div>\n",
       "<script type=\"text/javascript\">\n",
       "  var VEGA_DEBUG = (typeof VEGA_DEBUG == \"undefined\") ? {} : VEGA_DEBUG;\n",
       "  (function(spec, embedOpt){\n",
       "    let outputDiv = document.currentScript.previousElementSibling;\n",
       "    if (outputDiv.id !== \"altair-viz-d9b99f876ca7498ab61bd45668b8252f\") {\n",
       "      outputDiv = document.getElementById(\"altair-viz-d9b99f876ca7498ab61bd45668b8252f\");\n",
       "    }\n",
       "    const paths = {\n",
       "      \"vega\": \"https://cdn.jsdelivr.net/npm/vega@5?noext\",\n",
       "      \"vega-lib\": \"https://cdn.jsdelivr.net/npm/vega-lib?noext\",\n",
       "      \"vega-lite\": \"https://cdn.jsdelivr.net/npm/vega-lite@5.14.1?noext\",\n",
       "      \"vega-embed\": \"https://cdn.jsdelivr.net/npm/vega-embed@6?noext\",\n",
       "    };\n",
       "\n",
       "    function maybeLoadScript(lib, version) {\n",
       "      var key = `${lib.replace(\"-\", \"\")}_version`;\n",
       "      return (VEGA_DEBUG[key] == version) ?\n",
       "        Promise.resolve(paths[lib]) :\n",
       "        new Promise(function(resolve, reject) {\n",
       "          var s = document.createElement('script');\n",
       "          document.getElementsByTagName(\"head\")[0].appendChild(s);\n",
       "          s.async = true;\n",
       "          s.onload = () => {\n",
       "            VEGA_DEBUG[key] = version;\n",
       "            return resolve(paths[lib]);\n",
       "          };\n",
       "          s.onerror = () => reject(`Error loading script: ${paths[lib]}`);\n",
       "          s.src = paths[lib];\n",
       "        });\n",
       "    }\n",
       "\n",
       "    function showError(err) {\n",
       "      outputDiv.innerHTML = `<div class=\"error\" style=\"color:red;\">${err}</div>`;\n",
       "      throw err;\n",
       "    }\n",
       "\n",
       "    function displayChart(vegaEmbed) {\n",
       "      vegaEmbed(outputDiv, spec, embedOpt)\n",
       "        .catch(err => showError(`Javascript Error: ${err.message}<br>This usually means there's a typo in your chart specification. See the javascript console for the full traceback.`));\n",
       "    }\n",
       "\n",
       "    if(typeof define === \"function\" && define.amd) {\n",
       "      requirejs.config({paths});\n",
       "      require([\"vega-embed\"], displayChart, err => showError(`Error loading script: ${err.message}`));\n",
       "    } else {\n",
       "      maybeLoadScript(\"vega\", \"5\")\n",
       "        .then(() => maybeLoadScript(\"vega-lite\", \"5.14.1\"))\n",
       "        .then(() => maybeLoadScript(\"vega-embed\", \"6\"))\n",
       "        .catch(showError)\n",
       "        .then(() => displayChart(vegaEmbed));\n",
       "    }\n",
       "  })({\"config\": {\"view\": {\"continuousWidth\": 300, \"continuousHeight\": 300, \"strokeOpacity\": 0}, \"axis\": {\"labelFontSize\": 12, \"titleFontSize\": 14}, \"header\": {\"labelFontSize\": 12, \"titleFontSize\": 14}}, \"data\": {\"name\": \"data-c186b1a56d36a73b1102b9c6aeac7458\"}, \"mark\": {\"type\": \"bar\"}, \"encoding\": {\"color\": {\"field\": \"value_type\", \"title\": \"Value Type\", \"type\": \"nominal\"}, \"tooltip\": [{\"field\": \"location_description\", \"title\": \"Caltrans Traffic Census Location\", \"type\": \"nominal\"}, {\"field\": \"value_type\", \"title\": \"Value Type\", \"type\": \"nominal\"}, {\"field\": \"value\", \"title\": \"Value\", \"type\": \"quantitative\"}], \"x\": {\"field\": \"location_description\", \"sort\": {\"field\": \"location_order\", \"order\": \"ascending\"}, \"title\": \"Caltrans Traffic Census Location\", \"type\": \"nominal\"}, \"xOffset\": {\"field\": \"value_type\", \"type\": \"nominal\"}, \"y\": {\"field\": \"value\", \"title\": \"Value\", \"type\": \"quantitative\"}}, \"height\": 500, \"width\": 1000, \"$schema\": \"https://vega.github.io/schema/vega-lite/v5.14.1.json\", \"datasets\": {\"data-c186b1a56d36a73b1102b9c6aeac7458\": [{\"location_description\": \"NIMBUS ROAD\", \"value_type\": \"back_aadt\", \"value\": 99000.0}, {\"location_description\": \"PRAIRIE CITY ROAD\", \"value_type\": \"back_aadt\", \"value\": 94000.0}, {\"location_description\": \"LATROBE ROAD\", \"value_type\": \"back_aadt\", \"value\": 98000.0}, {\"location_description\": \"CAMERON PARK\", \"value_type\": \"back_aadt\", \"value\": 61000.0}, {\"location_description\": \"MISSOURI FLAT ROAD\", \"value_type\": \"back_aadt\", \"value\": 41500.0}, {\"location_description\": \"PLACERVILLE, MOSQUITO ROAD OVERHEAD (BROADWAY)\", \"value_type\": \"back_aadt\", \"value\": 34500.0}, {\"location_description\": \"JUNCTION OLD HIGHWAY, CAMINO, WEST\", \"value_type\": \"back_aadt\", \"value\": 25500.0}, {\"location_description\": \"SLY PARK ROAD\", \"value_type\": \"back_aadt\", \"value\": 14700.0}, {\"location_description\": \"ICEHOUSE ROAD\", \"value_type\": \"back_aadt\", \"value\": 14000.0}, {\"location_description\": \"ECHO LAKE ROAD\", \"value_type\": \"back_aadt\", \"value\": 14000.0}, {\"location_description\": \"NIMBUS ROAD\", \"value_type\": \"ahead_aadt\", \"value\": 105000.0}, {\"location_description\": \"PRAIRIE CITY ROAD\", \"value_type\": \"ahead_aadt\", \"value\": 92000.0}, {\"location_description\": \"LATROBE ROAD\", \"value_type\": \"ahead_aadt\", \"value\": 73000.0}, {\"location_description\": \"CAMERON PARK\", \"value_type\": \"ahead_aadt\", \"value\": 65000.0}, {\"location_description\": \"MISSOURI FLAT ROAD\", \"value_type\": \"ahead_aadt\", \"value\": 44500.0}, {\"location_description\": \"PLACERVILLE, MOSQUITO ROAD OVERHEAD (BROADWAY)\", \"value_type\": \"ahead_aadt\", \"value\": 26500.0}, {\"location_description\": \"JUNCTION OLD HIGHWAY, CAMINO, WEST\", \"value_type\": \"ahead_aadt\", \"value\": 24800.0}, {\"location_description\": \"SLY PARK ROAD\", \"value_type\": \"ahead_aadt\", \"value\": 10000.0}, {\"location_description\": \"ICEHOUSE ROAD\", \"value_type\": \"ahead_aadt\", \"value\": 8800.0}, {\"location_description\": \"ECHO LAKE ROAD\", \"value_type\": \"ahead_aadt\", \"value\": 8300.0}]}}, {\"mode\": \"vega-lite\"});\n",
       "</script>"
      ],
      "text/plain": [
       "alt.Chart(...)"
      ]
     },
     "execution_count": 20,
     "metadata": {},
     "output_type": "execute_result"
    }
   ],
   "source": [
    "# Use the ct_ahead_back_bar_chart to create a bar chart that compares the ahead and back values for each location along Highway 50\n",
    "ct_tc_chart = ct_ahead_back_bar_chart(ct_df01_filtered)\n",
    "ct_tc_chart"
   ]
  },
  {
   "cell_type": "code",
   "execution_count": 21,
   "id": "72f29bc8-9b32-4899-8bc8-673b021711aa",
   "metadata": {},
   "outputs": [],
   "source": [
    "#save(ct_tc_chart, 'chart_hwy50_ct_tc_chart.png', method='node')"
   ]
  },
  {
   "cell_type": "code",
   "execution_count": 22,
   "id": "d387486f-3a40-4ee2-82a3-976fb7ca0eb1",
   "metadata": {},
   "outputs": [],
   "source": [
    "# Create a new column that averages out the back and ahead AADT numbers\n",
    "def calculate_ct_tc_volume(df):\n",
    "    df['volume'] = (df['ahead_aadt'] + df['back_aadt'])/2\n",
    "    \n",
    "    return df"
   ]
  },
  {
   "cell_type": "code",
   "execution_count": 23,
   "id": "8b447bf7-43e1-4630-91ee-5bfa5706fd61",
   "metadata": {},
   "outputs": [],
   "source": [
    "# Create a new column called 'volume' that averages out the back_aadt and ahead_aadt\n",
    "ct_df01_filtered = calculate_ct_tc_volume(ct_df01_filtered)"
   ]
  },
  {
   "cell_type": "code",
   "execution_count": 24,
   "id": "ee2cc15d-9b21-4851-a8bf-a73e33a4c695",
   "metadata": {},
   "outputs": [],
   "source": [
    "# Create a subset from the ct_df_01_filtered dataframe\n",
    "ct_df01_filtered = ct_df01_filtered[['year', 'source', 'route', 'location', 'volume', 'location_order', 'back_aadt', 'ahead_aadt']]"
   ]
  },
  {
   "cell_type": "code",
   "execution_count": 25,
   "id": "ba8e58c6-037d-4c74-8190-b28523b4f501",
   "metadata": {},
   "outputs": [],
   "source": [
    "# Create the Altair chart\n",
    "def ct_ahead_back_bar_chart_v1(df):\n",
    "    #nsure the DataFrame is sorted by the Post Mile field\n",
    "    #df_sorted = df.sort_values(by='location_order')\n",
    "    \n",
    "    df_grouped = df.groupby(['location_order', 'location']).mean().reset_index()\n",
    "    \n",
    "    # Divide the values by 2 (they get doubled during the melting)\n",
    "    #df_grouped['ahead_aadt'] = df_grouped['ahead_aadt']/2\n",
    "    #df_grouped['back_aadt'] = df_grouped['back_aadt']/2\n",
    "    \n",
    "    \n",
    "    # Melt the DataFrame to have a single column for values and another for value type\n",
    "    df_melted = df_grouped.melt(id_vars=['location'], value_vars=['back_aadt', 'ahead_aadt', 'volume'],\n",
    "                        var_name='value_type', value_name='value')\n",
    "    \n",
    "    #Create the bar chart\n",
    "    chart = alt.Chart(df_melted).mark_bar().encode(\n",
    "        x=alt.X('location:N', title='Caltrans Traffic Census Location', sort=alt.EncodingSortField(field='location_order', order='ascending')),\n",
    "        y=alt.Y('value:Q', title='Value'),\n",
    "        color=alt.Color('value_type:N', title='Value Type'),\n",
    "        #column=alt.Column('value_type:N', title='Value Type'),\n",
    "        xOffset='value_type:N', # Offset bars by back_aadt and ahead_aadt to make them side-by-side\n",
    "        tooltip=[\n",
    "            alt.Tooltip('location:N', title='Caltrans Traffic Census Location'),\n",
    "            alt.Tooltip('value_type:N', title='Value Type'),\n",
    "            alt.Tooltip('value:Q', title='Value'),\n",
    "        ]\n",
    "    ).properties(\n",
    "        width=1000, # Controls the width of each bar\n",
    "        height=500 # Controls the height of the chart\n",
    "    ).configure_view(\n",
    "        strokeOpacity=0 # Removes gridlines for better visualization\n",
    "    ).configure_axis(\n",
    "        labelFontSize=12,\n",
    "        titleFontSize=14\n",
    "    ).configure_header(\n",
    "        titleFontSize=14,\n",
    "        labelFontSize=12\n",
    "    )\n",
    "        \n",
    "    return chart"
   ]
  },
  {
   "cell_type": "code",
   "execution_count": 26,
   "id": "2c6f082b-7d1e-4f8f-976d-dce19758a229",
   "metadata": {},
   "outputs": [
    {
     "data": {
      "text/html": [
       "\n",
       "<style>\n",
       "  #altair-viz-87b4cee3185a407eb29620b5382191e1.vega-embed {\n",
       "    width: 100%;\n",
       "    display: flex;\n",
       "  }\n",
       "\n",
       "  #altair-viz-87b4cee3185a407eb29620b5382191e1.vega-embed details,\n",
       "  #altair-viz-87b4cee3185a407eb29620b5382191e1.vega-embed details summary {\n",
       "    position: relative;\n",
       "  }\n",
       "</style>\n",
       "<div id=\"altair-viz-87b4cee3185a407eb29620b5382191e1\"></div>\n",
       "<script type=\"text/javascript\">\n",
       "  var VEGA_DEBUG = (typeof VEGA_DEBUG == \"undefined\") ? {} : VEGA_DEBUG;\n",
       "  (function(spec, embedOpt){\n",
       "    let outputDiv = document.currentScript.previousElementSibling;\n",
       "    if (outputDiv.id !== \"altair-viz-87b4cee3185a407eb29620b5382191e1\") {\n",
       "      outputDiv = document.getElementById(\"altair-viz-87b4cee3185a407eb29620b5382191e1\");\n",
       "    }\n",
       "    const paths = {\n",
       "      \"vega\": \"https://cdn.jsdelivr.net/npm/vega@5?noext\",\n",
       "      \"vega-lib\": \"https://cdn.jsdelivr.net/npm/vega-lib?noext\",\n",
       "      \"vega-lite\": \"https://cdn.jsdelivr.net/npm/vega-lite@5.14.1?noext\",\n",
       "      \"vega-embed\": \"https://cdn.jsdelivr.net/npm/vega-embed@6?noext\",\n",
       "    };\n",
       "\n",
       "    function maybeLoadScript(lib, version) {\n",
       "      var key = `${lib.replace(\"-\", \"\")}_version`;\n",
       "      return (VEGA_DEBUG[key] == version) ?\n",
       "        Promise.resolve(paths[lib]) :\n",
       "        new Promise(function(resolve, reject) {\n",
       "          var s = document.createElement('script');\n",
       "          document.getElementsByTagName(\"head\")[0].appendChild(s);\n",
       "          s.async = true;\n",
       "          s.onload = () => {\n",
       "            VEGA_DEBUG[key] = version;\n",
       "            return resolve(paths[lib]);\n",
       "          };\n",
       "          s.onerror = () => reject(`Error loading script: ${paths[lib]}`);\n",
       "          s.src = paths[lib];\n",
       "        });\n",
       "    }\n",
       "\n",
       "    function showError(err) {\n",
       "      outputDiv.innerHTML = `<div class=\"error\" style=\"color:red;\">${err}</div>`;\n",
       "      throw err;\n",
       "    }\n",
       "\n",
       "    function displayChart(vegaEmbed) {\n",
       "      vegaEmbed(outputDiv, spec, embedOpt)\n",
       "        .catch(err => showError(`Javascript Error: ${err.message}<br>This usually means there's a typo in your chart specification. See the javascript console for the full traceback.`));\n",
       "    }\n",
       "\n",
       "    if(typeof define === \"function\" && define.amd) {\n",
       "      requirejs.config({paths});\n",
       "      require([\"vega-embed\"], displayChart, err => showError(`Error loading script: ${err.message}`));\n",
       "    } else {\n",
       "      maybeLoadScript(\"vega\", \"5\")\n",
       "        .then(() => maybeLoadScript(\"vega-lite\", \"5.14.1\"))\n",
       "        .then(() => maybeLoadScript(\"vega-embed\", \"6\"))\n",
       "        .catch(showError)\n",
       "        .then(() => displayChart(vegaEmbed));\n",
       "    }\n",
       "  })({\"config\": {\"view\": {\"continuousWidth\": 300, \"continuousHeight\": 300, \"strokeOpacity\": 0}, \"axis\": {\"labelFontSize\": 12, \"titleFontSize\": 14}, \"header\": {\"labelFontSize\": 12, \"titleFontSize\": 14}}, \"data\": {\"name\": \"data-028f03d1d7b9d4a236cb7340f48ca3e9\"}, \"mark\": {\"type\": \"bar\"}, \"encoding\": {\"color\": {\"field\": \"value_type\", \"title\": \"Value Type\", \"type\": \"nominal\"}, \"tooltip\": [{\"field\": \"location\", \"title\": \"Caltrans Traffic Census Location\", \"type\": \"nominal\"}, {\"field\": \"value_type\", \"title\": \"Value Type\", \"type\": \"nominal\"}, {\"field\": \"value\", \"title\": \"Value\", \"type\": \"quantitative\"}], \"x\": {\"field\": \"location\", \"sort\": {\"field\": \"location_order\", \"order\": \"ascending\"}, \"title\": \"Caltrans Traffic Census Location\", \"type\": \"nominal\"}, \"xOffset\": {\"field\": \"value_type\", \"type\": \"nominal\"}, \"y\": {\"field\": \"value\", \"title\": \"Value\", \"type\": \"quantitative\"}}, \"height\": 500, \"width\": 1000, \"$schema\": \"https://vega.github.io/schema/vega-lite/v5.14.1.json\", \"datasets\": {\"data-028f03d1d7b9d4a236cb7340f48ca3e9\": [{\"location\": \"Nimbus Road\", \"value_type\": \"back_aadt\", \"value\": 99000.0}, {\"location\": \"Prairie City Road\", \"value_type\": \"back_aadt\", \"value\": 94000.0}, {\"location\": \"Latrobe Road\", \"value_type\": \"back_aadt\", \"value\": 98000.0}, {\"location\": \"Cameron Park\", \"value_type\": \"back_aadt\", \"value\": 61000.0}, {\"location\": \"Missouri Flat Road\", \"value_type\": \"back_aadt\", \"value\": 41500.0}, {\"location\": \"Mosquito Road\", \"value_type\": \"back_aadt\", \"value\": 34500.0}, {\"location\": \"Camino\", \"value_type\": \"back_aadt\", \"value\": 25500.0}, {\"location\": \"Sly Park Road\", \"value_type\": \"back_aadt\", \"value\": 14700.0}, {\"location\": \"Ice House Road\", \"value_type\": \"back_aadt\", \"value\": 14000.0}, {\"location\": \"Echo Lake Road\", \"value_type\": \"back_aadt\", \"value\": 14000.0}, {\"location\": \"Nimbus Road\", \"value_type\": \"ahead_aadt\", \"value\": 105000.0}, {\"location\": \"Prairie City Road\", \"value_type\": \"ahead_aadt\", \"value\": 92000.0}, {\"location\": \"Latrobe Road\", \"value_type\": \"ahead_aadt\", \"value\": 73000.0}, {\"location\": \"Cameron Park\", \"value_type\": \"ahead_aadt\", \"value\": 65000.0}, {\"location\": \"Missouri Flat Road\", \"value_type\": \"ahead_aadt\", \"value\": 44500.0}, {\"location\": \"Mosquito Road\", \"value_type\": \"ahead_aadt\", \"value\": 26500.0}, {\"location\": \"Camino\", \"value_type\": \"ahead_aadt\", \"value\": 24800.0}, {\"location\": \"Sly Park Road\", \"value_type\": \"ahead_aadt\", \"value\": 10000.0}, {\"location\": \"Ice House Road\", \"value_type\": \"ahead_aadt\", \"value\": 8800.0}, {\"location\": \"Echo Lake Road\", \"value_type\": \"ahead_aadt\", \"value\": 8300.0}, {\"location\": \"Nimbus Road\", \"value_type\": \"volume\", \"value\": 102000.0}, {\"location\": \"Prairie City Road\", \"value_type\": \"volume\", \"value\": 93000.0}, {\"location\": \"Latrobe Road\", \"value_type\": \"volume\", \"value\": 85500.0}, {\"location\": \"Cameron Park\", \"value_type\": \"volume\", \"value\": 63000.0}, {\"location\": \"Missouri Flat Road\", \"value_type\": \"volume\", \"value\": 43000.0}, {\"location\": \"Mosquito Road\", \"value_type\": \"volume\", \"value\": 30500.0}, {\"location\": \"Camino\", \"value_type\": \"volume\", \"value\": 25150.0}, {\"location\": \"Sly Park Road\", \"value_type\": \"volume\", \"value\": 12350.0}, {\"location\": \"Ice House Road\", \"value_type\": \"volume\", \"value\": 11400.0}, {\"location\": \"Echo Lake Road\", \"value_type\": \"volume\", \"value\": 11150.0}]}}, {\"mode\": \"vega-lite\"});\n",
       "</script>"
      ],
      "text/plain": [
       "alt.Chart(...)"
      ]
     },
     "execution_count": 26,
     "metadata": {},
     "output_type": "execute_result"
    }
   ],
   "source": [
    "# Use the ct_ahead_back_bar_chart to create a bar chart that compares the ahead and back values for each location along Highway 50\n",
    "ct_tc_chart_v1 = ct_ahead_back_bar_chart_v1(ct_df01_filtered)\n",
    "ct_tc_chart_v1"
   ]
  },
  {
   "cell_type": "code",
   "execution_count": 27,
   "id": "7e41ebb8-424a-43d6-a191-812caa324dc5",
   "metadata": {},
   "outputs": [],
   "source": [
    "#save(ct_tc_chart_v1, 'chart_hwy50_ct_tc_chart.png', method='node')"
   ]
  },
  {
   "cell_type": "code",
   "execution_count": 28,
   "id": "9b164132-707d-4c4c-920d-0f0bc666e29c",
   "metadata": {},
   "outputs": [],
   "source": [
    "# Export Caltrans Traffic Census Data to a CSV\n",
    "#ct_df01_filtered.to_csv('caltrans_tc_hwy50_2022.csv', index=False)"
   ]
  },
  {
   "cell_type": "code",
   "execution_count": 29,
   "id": "a58ce3ec-b607-45dc-b3c1-5dd777563138",
   "metadata": {},
   "outputs": [],
   "source": [
    "# package altair == a good package for data visualizations\n",
    "# DDS has a style guide, cal-itp/data-analysis == set color scheme (diverging, different gradients)\n",
    "\n",
    "# ipywidgets == another great option for data visualizations, although not as great for sharing (but good with sharing your screen)"
   ]
  },
  {
   "cell_type": "markdown",
   "id": "ee63ff4d-b73a-45a1-89e1-cf8e45305a76",
   "metadata": {},
   "source": [
    "## Replica Traffic Counts\n",
    "- Replica Study Name == 'hwy-50-corridor-fall-2022'  \n",
    "- Replica data Fall 2022  \n",
    "        - Selected to best match the latest available Caltrans aadt data == 2022\n",
    "- Filter  \n",
    "        - (Primary Mode Filter == 'Commercial vehicle (freight)', 'Private auto')  \n",
    "- Typical Day == Thursday\n"
   ]
  },
  {
   "cell_type": "code",
   "execution_count": 30,
   "id": "2466f86f-05bf-4f75-8c03-5f034807dc01",
   "metadata": {},
   "outputs": [],
   "source": [
    "# Group by 'osmid', 'startlat', 'startlon'\n",
    "rep_df01 = rep_df01.groupby(['osmid', 'networklinkid', 'direction', 'startlat', 'startlon'], as_index=False).agg(\n",
    "    total_trip_count=pd.NamedAgg(column='trip_count', aggfunc='sum'),\n",
    "    record_count=pd.NamedAgg(column='osmid', aggfunc='count')\n",
    ")\n",
    "\n",
    "# Calculate the average trip count per location\n",
    "rep_df01['average_trip_count'] = rep_df01['total_trip_count']/rep_df01['record_count']"
   ]
  },
  {
   "cell_type": "code",
   "execution_count": 31,
   "id": "afa91fa8-578c-4724-9c28-6c1dba5a5f27",
   "metadata": {},
   "outputs": [],
   "source": [
    "# Create a filter by Network Link ID ['networklinkid']\n",
    "def filter_by_networklinkid(df):\n",
    "    filtered_locations = [6318569418755860454, # Nimbus Road East\n",
    "                          4919446025123668139, # Nimbus Road West\n",
    "                          10164004687761220118, # Prairie City Road West\n",
    "                          473377144358464128, # Prairie City Road East\n",
    "                          4204181547633624892, # Latrobe West\n",
    "                          13282593593483289893, # Latrobe East\n",
    "                          5579769166083565573, # Cameron Park West\n",
    "                          13239198527686004252, # Cameron Park East\n",
    "                          16245877946723553755, # Missouri Flat Road West\n",
    "                          17839000377633739362, # Missouri Flat Road East\n",
    "                          16686269959836354342, # Mosquito Road West\n",
    "                          658632816435451376, # Mosquito Road East\n",
    "                          15035593707759148873, # Camino West\n",
    "                          17049649116298182417, # Camino East\n",
    "                          9905724479785401242, # Sly Park West\n",
    "                          11948843553019158844, # Sly Park East\n",
    "                          13112708779498904298, # Ice House West\n",
    "                          11949881834776692762, # Ice House East\n",
    "                          13151939145806387587, # Echo West\n",
    "                          8898698682539946478, # Echo East\n",
    "                         ]\n",
    "    df = df[df['networklinkid'].isin(filtered_locations)]  \n",
    "    \n",
    "    return df"
   ]
  },
  {
   "cell_type": "code",
   "execution_count": 32,
   "id": "8a5393f0-b016-4b9d-8854-5dac62a7af87",
   "metadata": {},
   "outputs": [],
   "source": [
    "# Filter the data using the filter_by_networklinkid function\n",
    "rep_df01_filtered = filter_by_networklinkid(rep_df01)"
   ]
  },
  {
   "cell_type": "code",
   "execution_count": 33,
   "id": "66278f09-fb27-4f43-8590-05f8ce8baf34",
   "metadata": {},
   "outputs": [],
   "source": [
    "# Createa  a function to identify the location by name using the Network Link ID\n",
    "def classify_location(df):\n",
    "    # Define a mapping for Network Link IDs to Locations\n",
    "    location_mapping = {\n",
    "        6318569418755860454: 'Nimbus Road', # West\n",
    "        4919446025123668139: 'Nimbus Road', # East\n",
    "        10164004687761220118: 'Prairie City Road', # West\n",
    "        473377144358464128: 'Prairie City Road', # East\n",
    "        4204181547633624892: 'Latrobe Road', # West\n",
    "        13282593593483289893: 'Latrobe Road', # East\n",
    "        5579769166083565573: 'Cameron Park', # West\n",
    "        13239198527686004252: 'Cameron Park', # East\n",
    "        16245877946723553755: 'Missouri Flat Road', # West\n",
    "        17839000377633739362: 'Missouri Flat Road', # East\n",
    "        16686269959836354342: 'Mosquito Road', # West\n",
    "        658632816435451376: 'Mosquito Road', # East\n",
    "        15035593707759148873: 'Camino', # West\n",
    "        17049649116298182417: 'Camino', # East\n",
    "        9905724479785401242: 'Sly Park Road', # West\n",
    "        11948843553019158844: 'Sly Park Road', # East\n",
    "        13112708779498904298: 'Ice House Road', # West\n",
    "        11949881834776692762: 'Ice House Road', # East\n",
    "        13151939145806387587: 'Echo Lake Road', # West\n",
    "        8898698682539946478: 'Echo Lake Road' # East\n",
    "    }\n",
    "    \n",
    "    # Apply the mapping to the 'networklinkid' column to create the 'ew_direction' column\n",
    "    df['location'] = df['networklinkid'].map(location_mapping)\n",
    "    \n",
    "    # Define a mapping for Network Link IDs to East-West Direction\n",
    "    ew_direction_mapping = {\n",
    "        6318569418755860454: 'West', # Nimbus Road\n",
    "        4919446025123668139: 'East', # Nimbus Road\n",
    "        10164004687761220118: 'West', # Prairie City Road\n",
    "        473377144358464128: 'East', # Prairie City Road\n",
    "        4204181547633624892: 'West', # Latrobe Road\n",
    "        13282593593483289893: 'East', # Latrobe Road\n",
    "        5579769166083565573: 'West', # Cameron Park\n",
    "        13239198527686004252: 'East', # Cameron Park\n",
    "        16245877946723553755: 'West', # Missouri Flat Road\n",
    "        17839000377633739362: 'East', # Missouri Flat Road\n",
    "        16686269959836354342: 'West', # Mosquito Road\n",
    "        658632816435451376: 'East', # Mosquito Road\n",
    "        15035593707759148873: 'West', # Camino\n",
    "        17049649116298182417: 'East', # Camino\n",
    "        9905724479785401242: 'West', # Sly Park Road\n",
    "        11948843553019158844: 'East', # Sly Park Road\n",
    "        13112708779498904298: 'West', # Ice House Road\n",
    "        11949881834776692762: 'East', # Ice House Road\n",
    "        13151939145806387587: 'West', # Echo Lake Road\n",
    "        8898698682539946478: 'East' # Echo Lake Road\n",
    "    }\n",
    "    \n",
    "    # Apply the mapping to the 'networklinkid' column to create the 'ew_direction' column\n",
    "    df['ew_direction'] = df['networklinkid'].map(ew_direction_mapping)\n",
    "    \n",
    "    # Define the location order for the bar charts\n",
    "    location_order_mapping = {\n",
    "        'Nimbus Road': 0,\n",
    "        'Prairie City Road': 1,\n",
    "        'Latrobe Road': 2,\n",
    "        'Cameron Park': 3,\n",
    "        'Missouri Flat Road': 4,\n",
    "        'Mosquito Road': 5,\n",
    "        'Camino': 6,\n",
    "        'Sly Park Road': 7,\n",
    "        'Ice House Road': 8,\n",
    "        'Echo Lake Road': 9\n",
    "    }\n",
    "    \n",
    "    # Apply the mapping to the 'location' column to create the 'location_order' column\n",
    "    df['location_order'] = df['location'].map(location_order_mapping)\n",
    "    \n",
    "    return df"
   ]
  },
  {
   "cell_type": "code",
   "execution_count": 34,
   "id": "064cab55-5bd5-43ae-bc22-837ce19a070d",
   "metadata": {},
   "outputs": [],
   "source": [
    "# Create a new column called ['location'] using the Network Link ID to identify the location of the segment\n",
    "rep_df01_filtered = classify_location(rep_df01_filtered)"
   ]
  },
  {
   "cell_type": "code",
   "execution_count": 35,
   "id": "8dc8ff60-5307-44e0-b948-079ea8bb3af5",
   "metadata": {},
   "outputs": [],
   "source": [
    "# Add year column\n",
    "rep_df01_filtered['year'] = '2022'\n",
    "\n",
    "# Add Route column\n",
    "rep_df01_filtered['route'] = '50'\n",
    "\n",
    "rep_df01_filtered['source'] = 'Replica'"
   ]
  },
  {
   "cell_type": "code",
   "execution_count": 36,
   "id": "7ba4aba2-ff10-44b5-9645-3160edfe00a6",
   "metadata": {},
   "outputs": [],
   "source": [
    "# A function to create a stacked bar chart showing the total Traffic Volume and identify the East/West Directions by color\n",
    "def stacked_bar_chart(df):\n",
    "    # Sort the DataFrame by 'location_order' to ensure the correct order\n",
    "    df = df.sort_values(by='location_order')\n",
    "    \n",
    "    # Calculate the total Traffic Volume for each location\n",
    "    df['total_volume'] = df.groupby('location')['average_trip_count'].transform('sum')\n",
    "    \n",
    "    # Create the bar chart\n",
    "    chart = alt.Chart(df).mark_bar().encode(\n",
    "        x=alt.X('location:O', sort=df['location'].unique().tolist(), title='Replica Traffic Volume Locations'),\n",
    "        y=alt.Y('average_trip_count:Q', title='Replica Traffic Volume'),\n",
    "        #color=alt.Color('ew_direction:N', title='Direction'), # Adding color is a little confusing when comparing to the Caltrans AADT chart\n",
    "        #column=alt.Column('location_order:N', header=alt.Header(title='Location Order', labelOrient='bottom'))\n",
    "        #xOffset='ew_direction:N' # Offset bars by building type to make them side-by-side\n",
    "        #tooltip=['location', 'average_trip_count', 'ew_direction', 'total_volume'] # Adding tooltip for better interactivity\n",
    "        tooltip=['location', 'total_volume', 'ew_direction', 'average_trip_count'] # Adding tooltip for better interactivity\n",
    "    ).properties(\n",
    "        width=1000, # Controls the width of the chart\n",
    "        height=500 # Controls the height of the chart\n",
    "    ).configure_view(\n",
    "        strokeOpacity=0 # Removes gridlines for better visualization\n",
    "    ).configure_axis(\n",
    "        labelFontSize=12,\n",
    "        titleFontSize=14\n",
    "    ).configure_header(\n",
    "        labelFontSize=12,\n",
    "        titleFontSize=14\n",
    "    )\n",
    "    \n",
    "    return chart    "
   ]
  },
  {
   "cell_type": "code",
   "execution_count": 37,
   "id": "876bf0f7-e34b-464f-90fb-eaa1b45fc6a5",
   "metadata": {},
   "outputs": [
    {
     "data": {
      "text/html": [
       "\n",
       "<style>\n",
       "  #altair-viz-50c25b6689c24647b579d3c0de66f4e5.vega-embed {\n",
       "    width: 100%;\n",
       "    display: flex;\n",
       "  }\n",
       "\n",
       "  #altair-viz-50c25b6689c24647b579d3c0de66f4e5.vega-embed details,\n",
       "  #altair-viz-50c25b6689c24647b579d3c0de66f4e5.vega-embed details summary {\n",
       "    position: relative;\n",
       "  }\n",
       "</style>\n",
       "<div id=\"altair-viz-50c25b6689c24647b579d3c0de66f4e5\"></div>\n",
       "<script type=\"text/javascript\">\n",
       "  var VEGA_DEBUG = (typeof VEGA_DEBUG == \"undefined\") ? {} : VEGA_DEBUG;\n",
       "  (function(spec, embedOpt){\n",
       "    let outputDiv = document.currentScript.previousElementSibling;\n",
       "    if (outputDiv.id !== \"altair-viz-50c25b6689c24647b579d3c0de66f4e5\") {\n",
       "      outputDiv = document.getElementById(\"altair-viz-50c25b6689c24647b579d3c0de66f4e5\");\n",
       "    }\n",
       "    const paths = {\n",
       "      \"vega\": \"https://cdn.jsdelivr.net/npm/vega@5?noext\",\n",
       "      \"vega-lib\": \"https://cdn.jsdelivr.net/npm/vega-lib?noext\",\n",
       "      \"vega-lite\": \"https://cdn.jsdelivr.net/npm/vega-lite@5.14.1?noext\",\n",
       "      \"vega-embed\": \"https://cdn.jsdelivr.net/npm/vega-embed@6?noext\",\n",
       "    };\n",
       "\n",
       "    function maybeLoadScript(lib, version) {\n",
       "      var key = `${lib.replace(\"-\", \"\")}_version`;\n",
       "      return (VEGA_DEBUG[key] == version) ?\n",
       "        Promise.resolve(paths[lib]) :\n",
       "        new Promise(function(resolve, reject) {\n",
       "          var s = document.createElement('script');\n",
       "          document.getElementsByTagName(\"head\")[0].appendChild(s);\n",
       "          s.async = true;\n",
       "          s.onload = () => {\n",
       "            VEGA_DEBUG[key] = version;\n",
       "            return resolve(paths[lib]);\n",
       "          };\n",
       "          s.onerror = () => reject(`Error loading script: ${paths[lib]}`);\n",
       "          s.src = paths[lib];\n",
       "        });\n",
       "    }\n",
       "\n",
       "    function showError(err) {\n",
       "      outputDiv.innerHTML = `<div class=\"error\" style=\"color:red;\">${err}</div>`;\n",
       "      throw err;\n",
       "    }\n",
       "\n",
       "    function displayChart(vegaEmbed) {\n",
       "      vegaEmbed(outputDiv, spec, embedOpt)\n",
       "        .catch(err => showError(`Javascript Error: ${err.message}<br>This usually means there's a typo in your chart specification. See the javascript console for the full traceback.`));\n",
       "    }\n",
       "\n",
       "    if(typeof define === \"function\" && define.amd) {\n",
       "      requirejs.config({paths});\n",
       "      require([\"vega-embed\"], displayChart, err => showError(`Error loading script: ${err.message}`));\n",
       "    } else {\n",
       "      maybeLoadScript(\"vega\", \"5\")\n",
       "        .then(() => maybeLoadScript(\"vega-lite\", \"5.14.1\"))\n",
       "        .then(() => maybeLoadScript(\"vega-embed\", \"6\"))\n",
       "        .catch(showError)\n",
       "        .then(() => displayChart(vegaEmbed));\n",
       "    }\n",
       "  })({\"config\": {\"view\": {\"continuousWidth\": 300, \"continuousHeight\": 300, \"strokeOpacity\": 0}, \"axis\": {\"labelFontSize\": 12, \"titleFontSize\": 14}, \"header\": {\"labelFontSize\": 12, \"titleFontSize\": 14}}, \"data\": {\"name\": \"data-346fdc038633c2b33721b40c2ce4f12e\"}, \"mark\": {\"type\": \"bar\"}, \"encoding\": {\"tooltip\": [{\"field\": \"location\", \"type\": \"nominal\"}, {\"field\": \"total_volume\", \"type\": \"quantitative\"}, {\"field\": \"ew_direction\", \"type\": \"nominal\"}, {\"field\": \"average_trip_count\", \"type\": \"quantitative\"}], \"x\": {\"field\": \"location\", \"sort\": [\"Nimbus Road\", \"Prairie City Road\", \"Latrobe Road\", \"Cameron Park\", \"Missouri Flat Road\", \"Mosquito Road\", \"Camino\", \"Sly Park Road\", \"Ice House Road\", \"Echo Lake Road\"], \"title\": \"Replica Traffic Volume Locations\", \"type\": \"ordinal\"}, \"y\": {\"field\": \"average_trip_count\", \"title\": \"Replica Traffic Volume\", \"type\": \"quantitative\"}}, \"height\": 500, \"width\": 1000, \"$schema\": \"https://vega.github.io/schema/vega-lite/v5.14.1.json\", \"datasets\": {\"data-346fdc038633c2b33721b40c2ce4f12e\": [{\"osmid\": 972301994, \"networklinkid\": 4919446025123668139, \"direction\": \"SouthWest\", \"startlat\": 38.6359037, \"startlon\": -121.2076617, \"total_trip_count\": 67558, \"record_count\": 1, \"average_trip_count\": 67558.0, \"location\": \"Nimbus Road\", \"ew_direction\": \"East\", \"location_order\": 0, \"year\": \"2022\", \"route\": \"50\", \"source\": \"Replica\", \"total_volume\": 136637.0}, {\"osmid\": 586346518, \"networklinkid\": 6318569418755860454, \"direction\": \"NorthEast\", \"startlat\": 38.634115, \"startlon\": -121.2107124, \"total_trip_count\": 69079, \"record_count\": 1, \"average_trip_count\": 69079.0, \"location\": \"Nimbus Road\", \"ew_direction\": \"West\", \"location_order\": 0, \"year\": \"2022\", \"route\": \"50\", \"source\": \"Replica\", \"total_volume\": 136637.0}, {\"osmid\": 974291696, \"networklinkid\": 10164004687761220118, \"direction\": \"West\", \"startlat\": 38.642457, \"startlon\": -121.163533, \"total_trip_count\": 47885, \"record_count\": 1, \"average_trip_count\": 47885.0, \"location\": \"Prairie City Road\", \"ew_direction\": \"West\", \"location_order\": 1, \"year\": \"2022\", \"route\": \"50\", \"source\": \"Replica\", \"total_volume\": 103405.0}, {\"osmid\": 972218036, \"networklinkid\": 473377144358464128, \"direction\": \"East\", \"startlat\": 38.641697, \"startlon\": -121.146103, \"total_trip_count\": 55520, \"record_count\": 1, \"average_trip_count\": 55520.0, \"location\": \"Prairie City Road\", \"ew_direction\": \"East\", \"location_order\": 1, \"year\": \"2022\", \"route\": \"50\", \"source\": \"Replica\", \"total_volume\": 103405.0}, {\"osmid\": 1063917121, \"networklinkid\": 4204181547633624892, \"direction\": \"West\", \"startlat\": 38.6509274, \"startlon\": -121.076878, \"total_trip_count\": 61280, \"record_count\": 1, \"average_trip_count\": 61280.0, \"location\": \"Latrobe Road\", \"ew_direction\": \"West\", \"location_order\": 2, \"year\": \"2022\", \"route\": \"50\", \"source\": \"Replica\", \"total_volume\": 104019.0}, {\"osmid\": 972456575, \"networklinkid\": 13282593593483289893, \"direction\": \"East\", \"startlat\": 38.6542147, \"startlon\": -121.0662982, \"total_trip_count\": 42739, \"record_count\": 1, \"average_trip_count\": 42739.0, \"location\": \"Latrobe Road\", \"ew_direction\": \"East\", \"location_order\": 2, \"year\": \"2022\", \"route\": \"50\", \"source\": \"Replica\", \"total_volume\": 104019.0}, {\"osmid\": 1007232898, \"networklinkid\": 5579769166083565573, \"direction\": \"West\", \"startlat\": 38.6595822, \"startlon\": -120.9728796, \"total_trip_count\": 41201, \"record_count\": 1, \"average_trip_count\": 41201.0, \"location\": \"Cameron Park\", \"ew_direction\": \"West\", \"location_order\": 3, \"year\": \"2022\", \"route\": \"50\", \"source\": \"Replica\", \"total_volume\": 73860.0}, {\"osmid\": 39563171, \"networklinkid\": 13239198527686004252, \"direction\": \"East\", \"startlat\": 38.6593877, \"startlon\": -120.9653659, \"total_trip_count\": 32659, \"record_count\": 1, \"average_trip_count\": 32659.0, \"location\": \"Cameron Park\", \"ew_direction\": \"East\", \"location_order\": 3, \"year\": \"2022\", \"route\": \"50\", \"source\": \"Replica\", \"total_volume\": 73860.0}, {\"osmid\": 950257855, \"networklinkid\": 17839000377633739362, \"direction\": \"North\", \"startlat\": 38.713321, \"startlon\": -120.8377923, \"total_trip_count\": 26010, \"record_count\": 1, \"average_trip_count\": 26010.0, \"location\": \"Missouri Flat Road\", \"ew_direction\": \"East\", \"location_order\": 4, \"year\": \"2022\", \"route\": \"50\", \"source\": \"Replica\", \"total_volume\": 50604.0}, {\"osmid\": 39575139, \"networklinkid\": 16245877946723553755, \"direction\": \"West\", \"startlat\": 38.7089184, \"startlon\": -120.8441793, \"total_trip_count\": 24594, \"record_count\": 1, \"average_trip_count\": 24594.0, \"location\": \"Missouri Flat Road\", \"ew_direction\": \"West\", \"location_order\": 4, \"year\": \"2022\", \"route\": \"50\", \"source\": \"Replica\", \"total_volume\": 50604.0}, {\"osmid\": 91958537, \"networklinkid\": 16686269959836354342, \"direction\": \"West\", \"startlat\": 38.7317645, \"startlon\": -120.790062, \"total_trip_count\": 18494, \"record_count\": 1, \"average_trip_count\": 18494.0, \"location\": \"Mosquito Road\", \"ew_direction\": \"West\", \"location_order\": 5, \"year\": \"2022\", \"route\": \"50\", \"source\": \"Replica\", \"total_volume\": 32340.0}, {\"osmid\": 91958374, \"networklinkid\": 658632816435451376, \"direction\": \"East\", \"startlat\": 38.7313269, \"startlon\": -120.787615, \"total_trip_count\": 13846, \"record_count\": 1, \"average_trip_count\": 13846.0, \"location\": \"Mosquito Road\", \"ew_direction\": \"East\", \"location_order\": 5, \"year\": \"2022\", \"route\": \"50\", \"source\": \"Replica\", \"total_volume\": 32340.0}, {\"osmid\": 180997578, \"networklinkid\": 17049649116298182417, \"direction\": \"NorthEast\", \"startlat\": 38.7342493, \"startlon\": -120.6701562, \"total_trip_count\": 11616, \"record_count\": 1, \"average_trip_count\": 11616.0, \"location\": \"Camino\", \"ew_direction\": \"East\", \"location_order\": 6, \"year\": \"2022\", \"route\": \"50\", \"source\": \"Replica\", \"total_volume\": 22450.0}, {\"osmid\": 717270766, \"networklinkid\": 15035593707759148873, \"direction\": \"West\", \"startlat\": 38.7398374, \"startlon\": -120.6981075, \"total_trip_count\": 10834, \"record_count\": 1, \"average_trip_count\": 10834.0, \"location\": \"Camino\", \"ew_direction\": \"West\", \"location_order\": 6, \"year\": \"2022\", \"route\": \"50\", \"source\": \"Replica\", \"total_volume\": 22450.0}, {\"osmid\": 138307384, \"networklinkid\": 9905724479785401242, \"direction\": \"West\", \"startlat\": 38.7613956, \"startlon\": -120.5786584, \"total_trip_count\": 7603, \"record_count\": 1, \"average_trip_count\": 7603.0, \"location\": \"Sly Park Road\", \"ew_direction\": \"West\", \"location_order\": 7, \"year\": \"2022\", \"route\": \"50\", \"source\": \"Replica\", \"total_volume\": 13933.0}, {\"osmid\": 1011938973, \"networklinkid\": 11948843553019158844, \"direction\": \"East\", \"startlat\": 38.7611628, \"startlon\": -120.5703669, \"total_trip_count\": 6330, \"record_count\": 1, \"average_trip_count\": 6330.0, \"location\": \"Sly Park Road\", \"ew_direction\": \"East\", \"location_order\": 7, \"year\": \"2022\", \"route\": \"50\", \"source\": \"Replica\", \"total_volume\": 13933.0}, {\"osmid\": 1011938936, \"networklinkid\": 13112708779498904298, \"direction\": \"NorthWest\", \"startlat\": 38.7695562, \"startlon\": -120.4477764, \"total_trip_count\": 4872, \"record_count\": 1, \"average_trip_count\": 4872.0, \"location\": \"Ice House Road\", \"ew_direction\": \"West\", \"location_order\": 8, \"year\": \"2022\", \"route\": \"50\", \"source\": \"Replica\", \"total_volume\": 10865.0}, {\"osmid\": 401651191, \"networklinkid\": 11949881834776692762, \"direction\": \"East\", \"startlat\": 38.7690875, \"startlon\": -120.4472063, \"total_trip_count\": 5993, \"record_count\": 1, \"average_trip_count\": 5993.0, \"location\": \"Ice House Road\", \"ew_direction\": \"East\", \"location_order\": 8, \"year\": \"2022\", \"route\": \"50\", \"source\": \"Replica\", \"total_volume\": 10865.0}, {\"osmid\": 401651190, \"networklinkid\": 8898698682539946478, \"direction\": \"East\", \"startlat\": 38.8242823, \"startlon\": -120.0441361, \"total_trip_count\": 5846, \"record_count\": 1, \"average_trip_count\": 5846.0, \"location\": \"Echo Lake Road\", \"ew_direction\": \"East\", \"location_order\": 9, \"year\": \"2022\", \"route\": \"50\", \"source\": \"Replica\", \"total_volume\": 10607.0}, {\"osmid\": 1013096010, \"networklinkid\": 13151939145806387587, \"direction\": \"West\", \"startlat\": 38.8242823, \"startlon\": -120.0441361, \"total_trip_count\": 4761, \"record_count\": 1, \"average_trip_count\": 4761.0, \"location\": \"Echo Lake Road\", \"ew_direction\": \"West\", \"location_order\": 9, \"year\": \"2022\", \"route\": \"50\", \"source\": \"Replica\", \"total_volume\": 10607.0}]}}, {\"mode\": \"vega-lite\"});\n",
       "</script>"
      ],
      "text/plain": [
       "alt.Chart(...)"
      ]
     },
     "execution_count": 37,
     "metadata": {},
     "output_type": "execute_result"
    }
   ],
   "source": [
    "# Visualize the stacked bar chart, but don't show the different colors for the different directions\n",
    "stacked_bar_chart(rep_df01_filtered)"
   ]
  },
  {
   "cell_type": "code",
   "execution_count": 38,
   "id": "a9255734-20c9-4387-83b4-36ed01ccec39",
   "metadata": {},
   "outputs": [],
   "source": [
    "# Calculate the total Traffic Volume for each location\n",
    "rep_df01_filtered['volume'] = rep_df01_filtered.groupby('location')['average_trip_count'].transform('sum')"
   ]
  },
  {
   "cell_type": "code",
   "execution_count": 39,
   "id": "47e070c4-65f1-4504-bf23-710467721130",
   "metadata": {},
   "outputs": [],
   "source": [
    "# Create a subset of the data to include only fields that are needed to create a visualization to compare volumes across platforms\n",
    "rep_df01_filtered = rep_df01_filtered[['year', 'source', 'route', 'location', 'volume', 'location_order']]"
   ]
  },
  {
   "cell_type": "code",
   "execution_count": 40,
   "id": "23452593-94f6-479e-9c76-1dbdb3a4b87d",
   "metadata": {},
   "outputs": [],
   "source": [
    "rep_df01_filtered = rep_df01_filtered.drop_duplicates(subset=['location'])"
   ]
  },
  {
   "cell_type": "code",
   "execution_count": 41,
   "id": "ee84b429-ed46-4df8-845b-c1addbba6741",
   "metadata": {},
   "outputs": [],
   "source": [
    "#rep_df01_filtered.to_csv('replica_hwy50_2022.csv', index=False)"
   ]
  },
  {
   "cell_type": "markdown",
   "id": "964c48f6-e9f6-4842-bf09-c7db2c1aad91",
   "metadata": {},
   "source": [
    "## StreetLight"
   ]
  },
  {
   "cell_type": "code",
   "execution_count": 42,
   "id": "b649245f-71c8-43bc-81c0-258c225cec85",
   "metadata": {},
   "outputs": [],
   "source": [
    "# Identify path to StreetLight's 2022 Network Performance Data\n",
    "# Each location was downloaded individually to make it easier to identify the locations of the records\n",
    "#stl_path = \"gs://calitp-analytics-data/data-analyses/big_data/compare_traffic_counts/3_stl_hwy50/2022_stl_hwy50/\"\n",
    "\n",
    "# This method was not working for me at this time"
   ]
  },
  {
   "cell_type": "code",
   "execution_count": 43,
   "id": "772ac145-0e54-43a7-861d-9e84a3aac361",
   "metadata": {},
   "outputs": [],
   "source": [
    "# Identify the StreetLight 2022 Highway 50 datasets\n",
    "stl_2022_df10 = \"gs://calitp-analytics-data/data-analyses/big_data/compare_traffic_counts/3_stl_hwy50/2022_stl_hwy50/1760584_hwy_50_corridor_2022_Echo_network_performance.csv\"\n",
    "stl_2022_df09 = \"gs://calitp-analytics-data/data-analyses/big_data/compare_traffic_counts/3_stl_hwy50/2022_stl_hwy50/1760586_hwy_50_corridor_2022_Ice_House_network_performance.csv\"\n",
    "stl_2022_df08 = \"gs://calitp-analytics-data/data-analyses/big_data/compare_traffic_counts/3_stl_hwy50/2022_stl_hwy50/1760589_hwy_50_corridor_2022_Sly_Park_network_performance.csv\"\n",
    "stl_2022_df07 = \"gs://calitp-analytics-data/data-analyses/big_data/compare_traffic_counts/3_stl_hwy50/2022_stl_hwy50/1760590_hwy_50_corridor_2022_Camino_network_performance.csv\"\n",
    "stl_2022_df06 = \"gs://calitp-analytics-data/data-analyses/big_data/compare_traffic_counts/3_stl_hwy50/2022_stl_hwy50/1760592_hwy_50_corridor_2022_Mosquito_Road_network_performance.csv\"\n",
    "stl_2022_df05 = \"gs://calitp-analytics-data/data-analyses/big_data/compare_traffic_counts/3_stl_hwy50/2022_stl_hwy50/1760593_hwy_50_corridor_2022_Missouri_Flat_network_performance.csv\"\n",
    "stl_2022_df04 = \"gs://calitp-analytics-data/data-analyses/big_data/compare_traffic_counts/3_stl_hwy50/2022_stl_hwy50/1760595_hwy_50_corridor_2022_Cameron_Park_network_performance.csv\"\n",
    "stl_2022_df03 = \"gs://calitp-analytics-data/data-analyses/big_data/compare_traffic_counts/3_stl_hwy50/2022_stl_hwy50/1760598_hwy_50_corridor_2022_Latrobe_Road_network_performance.csv\"\n",
    "stl_2022_df02 = \"gs://calitp-analytics-data/data-analyses/big_data/compare_traffic_counts/3_stl_hwy50/2022_stl_hwy50/1760599_hwy_50_corridor_2022_Prairie_City_network_performance.csv\"\n",
    "stl_2022_df01 = \"gs://calitp-analytics-data/data-analyses/big_data/compare_traffic_counts/3_stl_hwy50/2022_stl_hwy50/1760601_hwy_50_corridor_2022_Nimbus_Road_network_performance.csv\""
   ]
  },
  {
   "cell_type": "code",
   "execution_count": 44,
   "id": "45ba6594-f117-4c57-a2b9-569a7ee333a3",
   "metadata": {},
   "outputs": [],
   "source": [
    "# Bring in the datasets\n",
    "stl_2022_df10 = getData(stl_2022_df10) # Echo Lake Road\n",
    "stl_2022_df09 = getData(stl_2022_df09) # Ice House Road\n",
    "stl_2022_df08 = getData(stl_2022_df08) # Sly Park Road\n",
    "stl_2022_df07 = getData(stl_2022_df07) # Camino\n",
    "stl_2022_df06 = getData(stl_2022_df06) # Mosquito Road\n",
    "stl_2022_df05 = getData(stl_2022_df05) # Missouri Flat Road\n",
    "stl_2022_df04 = getData(stl_2022_df04) # Cameron Park\n",
    "stl_2022_df03 = getData(stl_2022_df03) # Latrobe Road\n",
    "stl_2022_df02 = getData(stl_2022_df02) # Prairie City Road\n",
    "stl_2022_df01 = getData(stl_2022_df01) # Nimbus Road"
   ]
  },
  {
   "cell_type": "code",
   "execution_count": 45,
   "id": "634f10f5-08a9-4b8d-9912-f9ab53b47949",
   "metadata": {},
   "outputs": [],
   "source": [
    "# Add a column called 'location' and enter the location name as the value for each dataset\n",
    "stl_2022_df10['location'] = 'Echo Lake Road'\n",
    "stl_2022_df09['location'] = 'Ice House Road'\n",
    "stl_2022_df08['location'] = 'Sly Park Road'\n",
    "stl_2022_df07['location'] = 'Camino'\n",
    "stl_2022_df06['location'] = 'Mosquito Road'\n",
    "stl_2022_df05['location'] = 'Missouri Flat Road'\n",
    "stl_2022_df04['location'] = 'Cameron Park'\n",
    "stl_2022_df03['location'] = 'Latrobe Road'\n",
    "stl_2022_df02['location'] = 'Prairie City Road'\n",
    "stl_2022_df01['location'] = 'Nimbus Road'\n",
    "\n",
    "# Add a column called 'location_order' and enter the order in which the location should appear in a bar chart\n",
    "stl_2022_df10['location_order'] = 0\n",
    "stl_2022_df09['location_order'] = 1\n",
    "stl_2022_df08['location_order'] = 2\n",
    "stl_2022_df07['location_order'] = 3\n",
    "stl_2022_df06['location_order'] = 4\n",
    "stl_2022_df05['location_order'] = 5\n",
    "stl_2022_df04['location_order'] = 6\n",
    "stl_2022_df03['location_order'] = 7\n",
    "stl_2022_df02['location_order'] = 8\n",
    "stl_2022_df01['location_order'] = 9"
   ]
  },
  {
   "cell_type": "code",
   "execution_count": 46,
   "id": "bbb80c7f-0902-4395-a5bf-1b59b6780d8e",
   "metadata": {},
   "outputs": [],
   "source": [
    "# Concatenate the StreetLight Datasets\n",
    "stl_df22 = pd.concat([stl_2022_df01, stl_2022_df02, stl_2022_df03, stl_2022_df04, stl_2022_df05, stl_2022_df06, stl_2022_df07, stl_2022_df08, stl_2022_df09, stl_2022_df10]) "
   ]
  },
  {
   "cell_type": "code",
   "execution_count": 47,
   "id": "bba6d4a8-613f-4b64-be76-a611812e41d5",
   "metadata": {},
   "outputs": [],
   "source": [
    "# Add the year to the StreetLight Dataset\n",
    "stl_df22['year'] = '2022'\n",
    "\n",
    "# Add Route column\n",
    "stl_df22['route'] = '50'\n",
    "\n",
    "# Add Source column\n",
    "stl_df22['source'] = 'StreetLight'"
   ]
  },
  {
   "cell_type": "code",
   "execution_count": 48,
   "id": "c6edb13a-d59d-45d8-be20-43b7aefe335f",
   "metadata": {},
   "outputs": [],
   "source": [
    "# Clean the headers (remove spaces and make everything lowercase)\n",
    "stl_df22 = clean_headers(stl_df22)"
   ]
  },
  {
   "cell_type": "code",
   "execution_count": 49,
   "id": "af8e9288-cfa3-4077-bd23-786ea81cfb42",
   "metadata": {},
   "outputs": [],
   "source": [
    "# Create a subset from the Caltrans Traffic Census DataFrame\n",
    "stl_df22 = stl_df22[['year', 'route', 'source', 'zonename', 'zoneisbi-direction', 'averagedailysegmenttraffic(stlvolume)', 'location', 'location_order']]"
   ]
  },
  {
   "cell_type": "code",
   "execution_count": 50,
   "id": "97818810-2b9a-4dab-8593-5a5c493e251c",
   "metadata": {},
   "outputs": [],
   "source": [
    "# A function to create a bar chart for the StreetLight Data to show Hwy 50 Traffic Volumes\n",
    "def stl_volume_bar_chart(df):\n",
    "    # Sort the DataFrame by 'location_order'\n",
    "    df = df.sort_values(by='location_order')\n",
    "    \n",
    "    # Group by 'location' and 'location_order' and sum the 'averagedailiy segmenttraffic(stlvolume)'\n",
    "    df_grouped = df.groupby(['location', 'location_order']).sum().reset_index()\n",
    "    \n",
    "    # Create the bar chart\n",
    "    chart = alt.Chart(df_grouped).mark_bar().encode(\n",
    "        x=alt.X('location:N', title='StreetLight Volume Hwy 50 2022', sort=alt.EncodingSortField(field='location_order', order='descending')),\n",
    "        y=alt.Y('averagedailysegmenttraffic(stlvolume):Q', title='Volume'),\n",
    "        tooltip=[\n",
    "            alt.Tooltip('location:N', title='StreetLight Volume 2022'),\n",
    "            alt.Tooltip('averagedailysegmenttraffic(stlvolume):Q', title='Volume')\n",
    "        ]\n",
    "    ).properties(\n",
    "        width=1000, # Controls the width of the chart\n",
    "        height=500, # Controls the height of the chart\n",
    "        \n",
    "    ).configure_view(\n",
    "        strokeOpacity=0 # Removes gridlines for better visualization\n",
    "    ).configure_axis(\n",
    "        labelFontSize=12,\n",
    "        titleFontSize=14\n",
    "    )\n",
    "    \n",
    "    return chart"
   ]
  },
  {
   "cell_type": "code",
   "execution_count": 51,
   "id": "79f0553c-005c-4560-bf50-cdaea8f64920",
   "metadata": {},
   "outputs": [
    {
     "data": {
      "text/html": [
       "\n",
       "<style>\n",
       "  #altair-viz-6741f654fc864553a9ccddd6d9f9f2d4.vega-embed {\n",
       "    width: 100%;\n",
       "    display: flex;\n",
       "  }\n",
       "\n",
       "  #altair-viz-6741f654fc864553a9ccddd6d9f9f2d4.vega-embed details,\n",
       "  #altair-viz-6741f654fc864553a9ccddd6d9f9f2d4.vega-embed details summary {\n",
       "    position: relative;\n",
       "  }\n",
       "</style>\n",
       "<div id=\"altair-viz-6741f654fc864553a9ccddd6d9f9f2d4\"></div>\n",
       "<script type=\"text/javascript\">\n",
       "  var VEGA_DEBUG = (typeof VEGA_DEBUG == \"undefined\") ? {} : VEGA_DEBUG;\n",
       "  (function(spec, embedOpt){\n",
       "    let outputDiv = document.currentScript.previousElementSibling;\n",
       "    if (outputDiv.id !== \"altair-viz-6741f654fc864553a9ccddd6d9f9f2d4\") {\n",
       "      outputDiv = document.getElementById(\"altair-viz-6741f654fc864553a9ccddd6d9f9f2d4\");\n",
       "    }\n",
       "    const paths = {\n",
       "      \"vega\": \"https://cdn.jsdelivr.net/npm/vega@5?noext\",\n",
       "      \"vega-lib\": \"https://cdn.jsdelivr.net/npm/vega-lib?noext\",\n",
       "      \"vega-lite\": \"https://cdn.jsdelivr.net/npm/vega-lite@5.14.1?noext\",\n",
       "      \"vega-embed\": \"https://cdn.jsdelivr.net/npm/vega-embed@6?noext\",\n",
       "    };\n",
       "\n",
       "    function maybeLoadScript(lib, version) {\n",
       "      var key = `${lib.replace(\"-\", \"\")}_version`;\n",
       "      return (VEGA_DEBUG[key] == version) ?\n",
       "        Promise.resolve(paths[lib]) :\n",
       "        new Promise(function(resolve, reject) {\n",
       "          var s = document.createElement('script');\n",
       "          document.getElementsByTagName(\"head\")[0].appendChild(s);\n",
       "          s.async = true;\n",
       "          s.onload = () => {\n",
       "            VEGA_DEBUG[key] = version;\n",
       "            return resolve(paths[lib]);\n",
       "          };\n",
       "          s.onerror = () => reject(`Error loading script: ${paths[lib]}`);\n",
       "          s.src = paths[lib];\n",
       "        });\n",
       "    }\n",
       "\n",
       "    function showError(err) {\n",
       "      outputDiv.innerHTML = `<div class=\"error\" style=\"color:red;\">${err}</div>`;\n",
       "      throw err;\n",
       "    }\n",
       "\n",
       "    function displayChart(vegaEmbed) {\n",
       "      vegaEmbed(outputDiv, spec, embedOpt)\n",
       "        .catch(err => showError(`Javascript Error: ${err.message}<br>This usually means there's a typo in your chart specification. See the javascript console for the full traceback.`));\n",
       "    }\n",
       "\n",
       "    if(typeof define === \"function\" && define.amd) {\n",
       "      requirejs.config({paths});\n",
       "      require([\"vega-embed\"], displayChart, err => showError(`Error loading script: ${err.message}`));\n",
       "    } else {\n",
       "      maybeLoadScript(\"vega\", \"5\")\n",
       "        .then(() => maybeLoadScript(\"vega-lite\", \"5.14.1\"))\n",
       "        .then(() => maybeLoadScript(\"vega-embed\", \"6\"))\n",
       "        .catch(showError)\n",
       "        .then(() => displayChart(vegaEmbed));\n",
       "    }\n",
       "  })({\"config\": {\"view\": {\"continuousWidth\": 300, \"continuousHeight\": 300, \"strokeOpacity\": 0}, \"axis\": {\"labelFontSize\": 12, \"titleFontSize\": 14}}, \"data\": {\"name\": \"data-70ca3edbbaed55b0430f32a4fedc6b20\"}, \"mark\": {\"type\": \"bar\"}, \"encoding\": {\"tooltip\": [{\"field\": \"location\", \"title\": \"StreetLight Volume 2022\", \"type\": \"nominal\"}, {\"field\": \"averagedailysegmenttraffic(stlvolume)\", \"title\": \"Volume\", \"type\": \"quantitative\"}], \"x\": {\"field\": \"location\", \"sort\": {\"field\": \"location_order\", \"order\": \"descending\"}, \"title\": \"StreetLight Volume Hwy 50 2022\", \"type\": \"nominal\"}, \"y\": {\"field\": \"averagedailysegmenttraffic(stlvolume)\", \"title\": \"Volume\", \"type\": \"quantitative\"}}, \"height\": 500, \"width\": 1000, \"$schema\": \"https://vega.github.io/schema/vega-lite/v5.14.1.json\", \"datasets\": {\"data-70ca3edbbaed55b0430f32a4fedc6b20\": [{\"location\": \"Cameron Park\", \"location_order\": 6, \"averagedailysegmenttraffic(stlvolume)\": 56011}, {\"location\": \"Camino\", \"location_order\": 3, \"averagedailysegmenttraffic(stlvolume)\": 20308}, {\"location\": \"Echo Lake Road\", \"location_order\": 0, \"averagedailysegmenttraffic(stlvolume)\": 10131}, {\"location\": \"Ice House Road\", \"location_order\": 1, \"averagedailysegmenttraffic(stlvolume)\": 11850}, {\"location\": \"Latrobe Road\", \"location_order\": 7, \"averagedailysegmenttraffic(stlvolume)\": 80565}, {\"location\": \"Missouri Flat Road\", \"location_order\": 5, \"averagedailysegmenttraffic(stlvolume)\": 39728}, {\"location\": \"Mosquito Road\", \"location_order\": 4, \"averagedailysegmenttraffic(stlvolume)\": 25833}, {\"location\": \"Nimbus Road\", \"location_order\": 9, \"averagedailysegmenttraffic(stlvolume)\": 112930}, {\"location\": \"Prairie City Road\", \"location_order\": 8, \"averagedailysegmenttraffic(stlvolume)\": 84248}, {\"location\": \"Sly Park Road\", \"location_order\": 2, \"averagedailysegmenttraffic(stlvolume)\": 12005}]}}, {\"mode\": \"vega-lite\"});\n",
       "</script>"
      ],
      "text/plain": [
       "alt.Chart(...)"
      ]
     },
     "execution_count": 51,
     "metadata": {},
     "output_type": "execute_result"
    }
   ],
   "source": [
    "stl_22_chart = stl_volume_bar_chart(stl_df22)\n",
    "stl_22_chart"
   ]
  },
  {
   "cell_type": "code",
   "execution_count": 52,
   "id": "a345cfeb-29ec-4bf7-80e3-d70b16c0613d",
   "metadata": {},
   "outputs": [],
   "source": [
    "# rename the 'averagedailysegmenttraffic(stlvolume)' field's name to 'volume'\n",
    "stl_df22 = stl_df22.rename(columns={'averagedailysegmenttraffic(stlvolume)': 'volume'})"
   ]
  },
  {
   "cell_type": "code",
   "execution_count": 53,
   "id": "044facf8-bab3-4384-802c-8947414e69d5",
   "metadata": {},
   "outputs": [],
   "source": [
    "# Create a subset from the Replica data\n",
    "stl_df22 = stl_df22[['year', 'source', 'route', 'location', 'volume']]"
   ]
  },
  {
   "cell_type": "code",
   "execution_count": 54,
   "id": "1f05f85f-3a08-4e5b-bc09-7ba6767f6bc6",
   "metadata": {},
   "outputs": [],
   "source": [
    "# Createa  a function to identify the location by name using the Network Link ID\n",
    "def classify_location(df):\n",
    "    # Define the location order for the bar charts\n",
    "    location_order_mapping = {\n",
    "        'Nimbus Road': 0,\n",
    "        'Prairie City Road': 1,\n",
    "        'Latrobe Road': 2,\n",
    "        'Cameron Park': 3,\n",
    "        'Missouri Flat Road': 4,\n",
    "        'Mosquito Road': 5,\n",
    "        'Camino': 6,\n",
    "        'Sly Park Road': 7,\n",
    "        'Ice House Road': 8,\n",
    "        'Echo Lake Road': 9\n",
    "    }\n",
    "    \n",
    "    # Apply the mapping to the 'location' column to create the 'location_order' column\n",
    "    df['location_order'] = df['location'].map(location_order_mapping)\n",
    "    \n",
    "    return df"
   ]
  },
  {
   "cell_type": "code",
   "execution_count": 55,
   "id": "92a9a22d-b5e1-4f2d-bc6d-955f54c2781e",
   "metadata": {},
   "outputs": [],
   "source": [
    "stl_df22 = classify_location(stl_df22)"
   ]
  },
  {
   "cell_type": "code",
   "execution_count": 56,
   "id": "4a2c6a8c-77e8-4687-b085-6fad58e22627",
   "metadata": {},
   "outputs": [],
   "source": [
    "#stl_df22.to_csv('streetlight_hwy50_volume.csv', index=False)"
   ]
  },
  {
   "cell_type": "markdown",
   "id": "362e7ec6-6f34-4609-859e-bdacdce5e958",
   "metadata": {},
   "source": [
    "## Cross-Platform Comparison"
   ]
  },
  {
   "cell_type": "code",
   "execution_count": 57,
   "id": "e04df7be-9bfb-4b25-95fa-43fc57d81630",
   "metadata": {},
   "outputs": [],
   "source": [
    "def combine_dataframes(df1, df2, df3):\n",
    "    # Select the matching columns from each dataframe\n",
    "    common_columns = list(set(df1.columns) & set(df2.columns) & set(df3.columns))\n",
    "    \n",
    "    # Concatenate the dataframes\n",
    "    combined_df = pd.concat([df1[common_columns], df2[common_columns], df3[common_columns]], ignore_index=True)\n",
    "    \n",
    "    return combined_df"
   ]
  },
  {
   "cell_type": "code",
   "execution_count": 58,
   "id": "174ab2af-dbb0-415f-9424-33467cbc3810",
   "metadata": {},
   "outputs": [],
   "source": [
    "# Use the combine_dataframes function to combine the subset dataframes created for Caltrans, Replica, and StreetLight into one dataframe\n",
    "combined_2022_aadt = combine_dataframes(ct_df01_filtered, rep_df01_filtered, stl_df22)"
   ]
  },
  {
   "cell_type": "code",
   "execution_count": 59,
   "id": "5d0ec8c6-8283-4167-aa1d-6ed166fd6b90",
   "metadata": {},
   "outputs": [],
   "source": [
    "# use the classify_location function to classify the locations\n",
    "combined_2022_aadt = classify_location(combined_2022_aadt)"
   ]
  },
  {
   "cell_type": "code",
   "execution_count": 60,
   "id": "3b189f91-210c-40c6-a31a-2f3324496f66",
   "metadata": {},
   "outputs": [],
   "source": [
    "def add_total_volume_column(df):\n",
    "    # Calculate the total volume for each location by source\n",
    "    total_volume = df.groupby(['location', 'source'])['volume'].transform('sum')\n",
    "    df['total_volume'] = total_volume\n",
    "    return df"
   ]
  },
  {
   "cell_type": "code",
   "execution_count": 61,
   "id": "61240dac-3f81-48cf-993a-d126d1bac5ce",
   "metadata": {},
   "outputs": [],
   "source": [
    "# A total column was created to total up the traffic volumes\n",
    "# This was needed because StreetLight provided East and West values (Highway 50 runs east-west)\n",
    "combined_2022_aadt = add_total_volume_column(combined_2022_aadt)"
   ]
  },
  {
   "cell_type": "code",
   "execution_count": 62,
   "id": "42d312e7-b888-4fd6-9d23-2506460db246",
   "metadata": {},
   "outputs": [],
   "source": [
    "# Create a subset of the combined data, this was needed to drop the 'volume' column\n",
    "# This step was needed primarily because streetlight had 2 rows per location and if only one of those rows were left it would be misleading\n",
    "combined_2022_aadt = combined_2022_aadt[['year', 'source', 'route', 'location', 'total_volume', 'location_order']]"
   ]
  },
  {
   "cell_type": "code",
   "execution_count": 63,
   "id": "315bb752-8ed4-43c4-bb5c-b770715bfd52",
   "metadata": {},
   "outputs": [],
   "source": [
    "def drop_duplicates_for_specific_source(df, source_value, column_name):\n",
    "    # Separate the dataframe into two parts: one with the specific source and one without\n",
    "    df_source = df[df['source'] == source_value]\n",
    "    df_other = df[df['source'] != source_value]\n",
    "    \n",
    "    # Drop duplicates in the specified column for the specific source\n",
    "    df_source = df_source.drop_duplicates(subset=[column_name])\n",
    "    \n",
    "    # Concatenate the two dataframes back together\n",
    "    df_combined = pd.concat([df_source, df_other], ignore_index=True)\n",
    "    \n",
    "    return df_combined"
   ]
  },
  {
   "cell_type": "code",
   "execution_count": 64,
   "id": "f6e84866-37ab-4e81-9817-95487fb89b15",
   "metadata": {},
   "outputs": [],
   "source": [
    "# use the drop_duplicates_for_specific_source function to remove duplicate locations for the StreetLight records\n",
    "combined_2022_aadt = drop_duplicates_for_specific_source(combined_2022_aadt, 'StreetLight', 'location')"
   ]
  },
  {
   "cell_type": "code",
   "execution_count": 65,
   "id": "9e34b78f-eaa8-40ac-8c60-9f6d74d6c9c9",
   "metadata": {},
   "outputs": [],
   "source": [
    "def create_grouped_bar_chart(df):\n",
    "    # Sort the DataFrame by 'location_order'\n",
    "    location_order = df[['location', 'location_order']].drop_duplicates().sort_values('location_order')['location'].tolist()\n",
    "        \n",
    "    # Create the bar chart using Altair\n",
    "    chart = alt.Chart(df).mark_bar().encode(\n",
    "        x=alt.X('source:N', title='Source'),\n",
    "        y=alt.Y('total_volume:Q', title='Volume'),\n",
    "        color='source:N',\n",
    "        column=alt.Column('location:N', sort=location_order, title='Location'),\n",
    "        tooltip=['location:N', 'source:N', 'total_volume:Q']\n",
    "    ).properties(\n",
    "        width=100,\n",
    "        height=500\n",
    "    ).resolve_scale(\n",
    "        y='shared'\n",
    "    )\n",
    "    \n",
    "    return chart"
   ]
  },
  {
   "cell_type": "code",
   "execution_count": 66,
   "id": "6a2abfac-abcd-420e-b834-020da346ae09",
   "metadata": {},
   "outputs": [
    {
     "data": {
      "text/html": [
       "\n",
       "<style>\n",
       "  #altair-viz-984eb27efd144fa1ad55603df86f2a80.vega-embed {\n",
       "    width: 100%;\n",
       "    display: flex;\n",
       "  }\n",
       "\n",
       "  #altair-viz-984eb27efd144fa1ad55603df86f2a80.vega-embed details,\n",
       "  #altair-viz-984eb27efd144fa1ad55603df86f2a80.vega-embed details summary {\n",
       "    position: relative;\n",
       "  }\n",
       "</style>\n",
       "<div id=\"altair-viz-984eb27efd144fa1ad55603df86f2a80\"></div>\n",
       "<script type=\"text/javascript\">\n",
       "  var VEGA_DEBUG = (typeof VEGA_DEBUG == \"undefined\") ? {} : VEGA_DEBUG;\n",
       "  (function(spec, embedOpt){\n",
       "    let outputDiv = document.currentScript.previousElementSibling;\n",
       "    if (outputDiv.id !== \"altair-viz-984eb27efd144fa1ad55603df86f2a80\") {\n",
       "      outputDiv = document.getElementById(\"altair-viz-984eb27efd144fa1ad55603df86f2a80\");\n",
       "    }\n",
       "    const paths = {\n",
       "      \"vega\": \"https://cdn.jsdelivr.net/npm/vega@5?noext\",\n",
       "      \"vega-lib\": \"https://cdn.jsdelivr.net/npm/vega-lib?noext\",\n",
       "      \"vega-lite\": \"https://cdn.jsdelivr.net/npm/vega-lite@5.14.1?noext\",\n",
       "      \"vega-embed\": \"https://cdn.jsdelivr.net/npm/vega-embed@6?noext\",\n",
       "    };\n",
       "\n",
       "    function maybeLoadScript(lib, version) {\n",
       "      var key = `${lib.replace(\"-\", \"\")}_version`;\n",
       "      return (VEGA_DEBUG[key] == version) ?\n",
       "        Promise.resolve(paths[lib]) :\n",
       "        new Promise(function(resolve, reject) {\n",
       "          var s = document.createElement('script');\n",
       "          document.getElementsByTagName(\"head\")[0].appendChild(s);\n",
       "          s.async = true;\n",
       "          s.onload = () => {\n",
       "            VEGA_DEBUG[key] = version;\n",
       "            return resolve(paths[lib]);\n",
       "          };\n",
       "          s.onerror = () => reject(`Error loading script: ${paths[lib]}`);\n",
       "          s.src = paths[lib];\n",
       "        });\n",
       "    }\n",
       "\n",
       "    function showError(err) {\n",
       "      outputDiv.innerHTML = `<div class=\"error\" style=\"color:red;\">${err}</div>`;\n",
       "      throw err;\n",
       "    }\n",
       "\n",
       "    function displayChart(vegaEmbed) {\n",
       "      vegaEmbed(outputDiv, spec, embedOpt)\n",
       "        .catch(err => showError(`Javascript Error: ${err.message}<br>This usually means there's a typo in your chart specification. See the javascript console for the full traceback.`));\n",
       "    }\n",
       "\n",
       "    if(typeof define === \"function\" && define.amd) {\n",
       "      requirejs.config({paths});\n",
       "      require([\"vega-embed\"], displayChart, err => showError(`Error loading script: ${err.message}`));\n",
       "    } else {\n",
       "      maybeLoadScript(\"vega\", \"5\")\n",
       "        .then(() => maybeLoadScript(\"vega-lite\", \"5.14.1\"))\n",
       "        .then(() => maybeLoadScript(\"vega-embed\", \"6\"))\n",
       "        .catch(showError)\n",
       "        .then(() => displayChart(vegaEmbed));\n",
       "    }\n",
       "  })({\"config\": {\"view\": {\"continuousWidth\": 300, \"continuousHeight\": 300}}, \"data\": {\"name\": \"data-96674a090430a20114cf9bbd63a3847c\"}, \"mark\": {\"type\": \"bar\"}, \"encoding\": {\"color\": {\"field\": \"source\", \"type\": \"nominal\"}, \"column\": {\"field\": \"location\", \"sort\": [\"Nimbus Road\", \"Prairie City Road\", \"Latrobe Road\", \"Cameron Park\", \"Missouri Flat Road\", \"Mosquito Road\", \"Camino\", \"Sly Park Road\", \"Ice House Road\", \"Echo Lake Road\"], \"title\": \"Location\", \"type\": \"nominal\"}, \"tooltip\": [{\"field\": \"location\", \"type\": \"nominal\"}, {\"field\": \"source\", \"type\": \"nominal\"}, {\"field\": \"total_volume\", \"type\": \"quantitative\"}], \"x\": {\"field\": \"source\", \"title\": \"Source\", \"type\": \"nominal\"}, \"y\": {\"field\": \"total_volume\", \"title\": \"Volume\", \"type\": \"quantitative\"}}, \"height\": 500, \"resolve\": {\"scale\": {\"y\": \"shared\"}}, \"width\": 100, \"$schema\": \"https://vega.github.io/schema/vega-lite/v5.14.1.json\", \"datasets\": {\"data-96674a090430a20114cf9bbd63a3847c\": [{\"year\": \"2022\", \"source\": \"StreetLight\", \"route\": \"50\", \"location\": \"Nimbus Road\", \"total_volume\": 112930.0, \"location_order\": 0}, {\"year\": \"2022\", \"source\": \"StreetLight\", \"route\": \"50\", \"location\": \"Prairie City Road\", \"total_volume\": 84248.0, \"location_order\": 1}, {\"year\": \"2022\", \"source\": \"StreetLight\", \"route\": \"50\", \"location\": \"Latrobe Road\", \"total_volume\": 80565.0, \"location_order\": 2}, {\"year\": \"2022\", \"source\": \"StreetLight\", \"route\": \"50\", \"location\": \"Cameron Park\", \"total_volume\": 56011.0, \"location_order\": 3}, {\"year\": \"2022\", \"source\": \"StreetLight\", \"route\": \"50\", \"location\": \"Missouri Flat Road\", \"total_volume\": 39728.0, \"location_order\": 4}, {\"year\": \"2022\", \"source\": \"StreetLight\", \"route\": \"50\", \"location\": \"Mosquito Road\", \"total_volume\": 25833.0, \"location_order\": 5}, {\"year\": \"2022\", \"source\": \"StreetLight\", \"route\": \"50\", \"location\": \"Camino\", \"total_volume\": 20308.0, \"location_order\": 6}, {\"year\": \"2022\", \"source\": \"StreetLight\", \"route\": \"50\", \"location\": \"Sly Park Road\", \"total_volume\": 12005.0, \"location_order\": 7}, {\"year\": \"2022\", \"source\": \"StreetLight\", \"route\": \"50\", \"location\": \"Ice House Road\", \"total_volume\": 11850.0, \"location_order\": 8}, {\"year\": \"2022\", \"source\": \"StreetLight\", \"route\": \"50\", \"location\": \"Echo Lake Road\", \"total_volume\": 10131.0, \"location_order\": 9}, {\"year\": \"2022\", \"source\": \"Caltrans Traffic Census\", \"route\": 50, \"location\": \"Nimbus Road\", \"total_volume\": 102000.0, \"location_order\": 0}, {\"year\": \"2022\", \"source\": \"Caltrans Traffic Census\", \"route\": 50, \"location\": \"Prairie City Road\", \"total_volume\": 93000.0, \"location_order\": 1}, {\"year\": \"2022\", \"source\": \"Caltrans Traffic Census\", \"route\": 50, \"location\": \"Latrobe Road\", \"total_volume\": 85500.0, \"location_order\": 2}, {\"year\": \"2022\", \"source\": \"Caltrans Traffic Census\", \"route\": 50, \"location\": \"Cameron Park\", \"total_volume\": 63000.0, \"location_order\": 3}, {\"year\": \"2022\", \"source\": \"Caltrans Traffic Census\", \"route\": 50, \"location\": \"Missouri Flat Road\", \"total_volume\": 43000.0, \"location_order\": 4}, {\"year\": \"2022\", \"source\": \"Caltrans Traffic Census\", \"route\": 50, \"location\": \"Mosquito Road\", \"total_volume\": 30500.0, \"location_order\": 5}, {\"year\": \"2022\", \"source\": \"Caltrans Traffic Census\", \"route\": 50, \"location\": \"Camino\", \"total_volume\": 25150.0, \"location_order\": 6}, {\"year\": \"2022\", \"source\": \"Caltrans Traffic Census\", \"route\": 50, \"location\": \"Sly Park Road\", \"total_volume\": 12350.0, \"location_order\": 7}, {\"year\": \"2022\", \"source\": \"Caltrans Traffic Census\", \"route\": 50, \"location\": \"Ice House Road\", \"total_volume\": 11400.0, \"location_order\": 8}, {\"year\": \"2022\", \"source\": \"Caltrans Traffic Census\", \"route\": 50, \"location\": \"Echo Lake Road\", \"total_volume\": 11150.0, \"location_order\": 9}, {\"year\": \"2022\", \"source\": \"Replica\", \"route\": \"50\", \"location\": \"Cameron Park\", \"total_volume\": 73860.0, \"location_order\": 3}, {\"year\": \"2022\", \"source\": \"Replica\", \"route\": \"50\", \"location\": \"Missouri Flat Road\", \"total_volume\": 50604.0, \"location_order\": 4}, {\"year\": \"2022\", \"source\": \"Replica\", \"route\": \"50\", \"location\": \"Mosquito Road\", \"total_volume\": 32340.0, \"location_order\": 5}, {\"year\": \"2022\", \"source\": \"Replica\", \"route\": \"50\", \"location\": \"Sly Park Road\", \"total_volume\": 13933.0, \"location_order\": 7}, {\"year\": \"2022\", \"source\": \"Replica\", \"route\": \"50\", \"location\": \"Camino\", \"total_volume\": 22450.0, \"location_order\": 6}, {\"year\": \"2022\", \"source\": \"Replica\", \"route\": \"50\", \"location\": \"Echo Lake Road\", \"total_volume\": 10607.0, \"location_order\": 9}, {\"year\": \"2022\", \"source\": \"Replica\", \"route\": \"50\", \"location\": \"Ice House Road\", \"total_volume\": 10865.0, \"location_order\": 8}, {\"year\": \"2022\", \"source\": \"Replica\", \"route\": \"50\", \"location\": \"Nimbus Road\", \"total_volume\": 136637.0, \"location_order\": 0}, {\"year\": \"2022\", \"source\": \"Replica\", \"route\": \"50\", \"location\": \"Prairie City Road\", \"total_volume\": 103405.0, \"location_order\": 1}, {\"year\": \"2022\", \"source\": \"Replica\", \"route\": \"50\", \"location\": \"Latrobe Road\", \"total_volume\": 104019.0, \"location_order\": 2}]}}, {\"mode\": \"vega-lite\"});\n",
       "</script>"
      ],
      "text/plain": [
       "alt.Chart(...)"
      ]
     },
     "execution_count": 66,
     "metadata": {},
     "output_type": "execute_result"
    }
   ],
   "source": [
    "combined_2022_aadt_chart = create_grouped_bar_chart(combined_2022_aadt)\n",
    "combined_2022_aadt_chart"
   ]
  },
  {
   "cell_type": "code",
   "execution_count": 67,
   "id": "99271c2e-de72-4451-bfd2-3fa9706f2b2a",
   "metadata": {},
   "outputs": [],
   "source": [
    "#combined_2022_aadt.to_csv('combined_hwy50_volume.csv', index=False)"
   ]
  },
  {
   "cell_type": "code",
   "execution_count": 68,
   "id": "e1c5137f-80a6-4da9-aeb6-9201eae357d9",
   "metadata": {},
   "outputs": [],
   "source": [
    "#save(combined_2022_aadt_chart, 'chart_hwy50.png', method='node')"
   ]
  },
  {
   "cell_type": "code",
   "execution_count": null,
   "id": "825164d8-e5f1-4220-83aa-782c5a935548",
   "metadata": {},
   "outputs": [],
   "source": []
  }
 ],
 "metadata": {
  "kernelspec": {
   "display_name": "Python 3 (ipykernel)",
   "language": "python",
   "name": "python3"
  },
  "language_info": {
   "codemirror_mode": {
    "name": "ipython",
    "version": 3
   },
   "file_extension": ".py",
   "mimetype": "text/x-python",
   "name": "python",
   "nbconvert_exporter": "python",
   "pygments_lexer": "ipython3",
   "version": "3.9.13"
  }
 },
 "nbformat": 4,
 "nbformat_minor": 5
}
