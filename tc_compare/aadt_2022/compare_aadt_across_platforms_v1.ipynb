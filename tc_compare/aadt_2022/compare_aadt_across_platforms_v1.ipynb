{
 "cells": [
  {
   "cell_type": "markdown",
   "id": "a745ff7e-b794-4877-9fe3-e3f6abca2994",
   "metadata": {},
   "source": [
    "# Big Data AADT Comparison Across Platforms\n",
    "- with Caltrans PEMS data\n"
   ]
  },
  {
   "cell_type": "code",
   "execution_count": 1,
   "id": "ee9b255e-7965-48ea-9c86-92e9b3125ae2",
   "metadata": {},
   "outputs": [],
   "source": [
    "# import modules\n",
    "import pandas as pd\n",
    "import numpy as np\n",
    "import warnings\n",
    "import altair as alt\n",
    "#!pip install altair vega selenium\n",
    "from altair_saver import save # To save the PNG file(s)"
   ]
  },
  {
   "cell_type": "code",
   "execution_count": 2,
   "id": "b3f8eeec-6619-4fba-a13e-8df3b25f4a82",
   "metadata": {},
   "outputs": [],
   "source": [
    "# Define the path to the data on Google Cloud Storage (GCS)\n",
    "path = \"gs://calitp-analytics-data/data-analyses/big_data/compare_traffic_counts/4_i80_all/\""
   ]
  },
  {
   "cell_type": "code",
   "execution_count": 3,
   "id": "c2c96c37-e42e-4e38-a522-326a1c1afea4",
   "metadata": {},
   "outputs": [],
   "source": [
    "# Assign the dataframe names\n",
    "df01_ct = f'{path}ct_tc_i80_2022.csv'\n",
    "df01_rep = f'{path}replica-i80_corridor_fall_2022-07_01_24-network_link_layer.csv'\n",
    "df01_stl = f'{path}1761875_i80_corridor_2022_network_performance.csv'\n",
    "df01_ct_pems_east = f'{path}pems_i80_east.csv'\n",
    "df01_ct_pems_west = f'{path}pems_i80_west.csv'"
   ]
  },
  {
   "cell_type": "code",
   "execution_count": 4,
   "id": "8d3313c8-40e5-4ba8-b74a-40503f0761c2",
   "metadata": {},
   "outputs": [],
   "source": [
    "# create a function to import the data from a csv file\n",
    "def get_and_clean_data(path):\n",
    "    \"\"\" \n",
    "    This function pulls a CSV of the data and then cleans the headers.\n",
    "    The headers have spaces removed and the letter cases are made to be all lowercase\n",
    "    \n",
    "    Returns:\n",
    "    pd.DataFrame: The DataFrame will be created from the CSV file and cleaned (remove spaces and all characters lowercase)\n",
    "    \"\"\" \n",
    "    \n",
    "    # Suppress warning\n",
    "    warnings.filterwarnings(\"ignore\")\n",
    "    \n",
    "    # reads in the data from a .csv file\n",
    "    df = pd.read_csv(path)\n",
    "    \n",
    "    # Create a function to remove spaces and make header characters lowercase\n",
    "    cleaned_columns = []\n",
    "    for column in df.columns:\n",
    "        cleaned_column = column.replace(\" \", \"\").lower()\n",
    "        cleaned_columns.append(cleaned_column)\n",
    "    df.columns = cleaned_columns\n",
    "    \n",
    "    return df"
   ]
  },
  {
   "cell_type": "code",
   "execution_count": 5,
   "id": "edd405a4-2d02-47e8-a79e-613c304d0980",
   "metadata": {},
   "outputs": [],
   "source": [
    "# Pull in the data and have it cleaned using the get_and_clean_data function\n",
    "# assign the dataframes to a variable\n",
    "df01 = get_and_clean_data(df01_ct_pems_east)\n",
    "df02 = get_and_clean_data(df01_ct_pems_west) "
   ]
  },
  {
   "cell_type": "markdown",
   "id": "4b53dbda-6bff-4e00-8ac1-8c0ac680dc07",
   "metadata": {},
   "source": [
    "## Caltrans PEMS\n",
    "- Caltrans PEMS Data from 2022\n",
    "- data downloaded from the PEMS website: https://pems.dot.ca.gov/"
   ]
  },
  {
   "cell_type": "code",
   "execution_count": 6,
   "id": "4a5d31be-0252-488f-982e-47fa00daff4f",
   "metadata": {},
   "outputs": [
    {
     "data": {
      "text/plain": [
       "(2021, 17)"
      ]
     },
     "execution_count": 6,
     "metadata": {},
     "output_type": "execute_result"
    }
   ],
   "source": [
    "df01.shape"
   ]
  },
  {
   "cell_type": "code",
   "execution_count": 7,
   "id": "ce9d748d-47a7-4c4a-9ce4-598bbd2f24ac",
   "metadata": {},
   "outputs": [
    {
     "data": {
      "text/plain": [
       "(2077, 17)"
      ]
     },
     "execution_count": 7,
     "metadata": {},
     "output_type": "execute_result"
    }
   ],
   "source": [
    "df02.shape"
   ]
  },
  {
   "cell_type": "code",
   "execution_count": 8,
   "id": "354f1435-4491-42ca-83ea-a979437684d5",
   "metadata": {},
   "outputs": [],
   "source": [
    "#df01.to_csv('df01_looksi.csv', index=False)"
   ]
  },
  {
   "cell_type": "code",
   "execution_count": null,
   "id": "956f83e7-da46-421e-a8f3-e29cbf704b79",
   "metadata": {},
   "outputs": [],
   "source": []
  }
 ],
 "metadata": {
  "kernelspec": {
   "display_name": "Python 3 (ipykernel)",
   "language": "python",
   "name": "python3"
  },
  "language_info": {
   "codemirror_mode": {
    "name": "ipython",
    "version": 3
   },
   "file_extension": ".py",
   "mimetype": "text/x-python",
   "name": "python",
   "nbconvert_exporter": "python",
   "pygments_lexer": "ipython3",
   "version": "3.9.13"
  }
 },
 "nbformat": 4,
 "nbformat_minor": 5
}
