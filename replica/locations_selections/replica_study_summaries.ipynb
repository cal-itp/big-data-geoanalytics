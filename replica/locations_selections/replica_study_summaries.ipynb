{
 "cells": [
  {
   "cell_type": "markdown",
   "id": "abe3a213-e5f4-4338-ab17-f7c5a69735b5",
   "metadata": {},
   "source": [
    "## Summary of Study Results\n",
    "\n",
    "With the data downloads from Replica, create a single table with a row for each origin station and columns for “car trips to areas around other destination stations on the other lines” and another column for “train trips”"
   ]
  },
  {
   "cell_type": "code",
   "execution_count": 1,
   "id": "dc77a2e3-60d4-44c6-89e3-7e4277db7e7b",
   "metadata": {
    "tags": []
   },
   "outputs": [],
   "source": [
    "import pandas as pd\n",
    "import geopandas as gpd\n",
    "from siuba import *\n",
    "import numpy as np\n",
    "\n",
    "from calitp_data_analysis.sql import to_snakecase\n",
    "from calitp_data_analysis import utils\n",
    "from calitp_data_analysis import get_fs\n",
    "import gcsfs as fs\n",
    "fs = get_fs()"
   ]
  },
  {
   "cell_type": "code",
   "execution_count": 2,
   "id": "a29c1516-544e-4444-920b-dbebb10fca43",
   "metadata": {
    "tags": []
   },
   "outputs": [],
   "source": [
    "import replica_utils"
   ]
  },
  {
   "cell_type": "code",
   "execution_count": 3,
   "id": "eec0ceb3-2f0e-4913-bfae-10f99c85fb51",
   "metadata": {},
   "outputs": [],
   "source": [
    "pd.set_option('display.max_columns', None)"
   ]
  },
  {
   "cell_type": "code",
   "execution_count": 4,
   "id": "bf80ebd1-3165-49d6-aac5-c81e41723a29",
   "metadata": {
    "tags": []
   },
   "outputs": [],
   "source": [
    "gcs_path = \"calitp-analytics-data/data-analyses/big_data/MetroLink_LinkUS/\""
   ]
  },
  {
   "cell_type": "code",
   "execution_count": null,
   "id": "3457ff6b-1f98-49bd-b207-5c60c0bbd8ff",
   "metadata": {},
   "outputs": [],
   "source": []
  },
  {
   "cell_type": "code",
   "execution_count": 12,
   "id": "56956751-46c5-4092-80f0-0c5953e91775",
   "metadata": {
    "tags": []
   },
   "outputs": [],
   "source": [
    "analysis_result_names = [ \"line_origin_union_station\",\n",
    "                         \"riversideline_origin_montebello\", \"riversideline_origin_industry\", \"riversideline_origin_pomona\",  \n",
    "                         \"riversideline_origin_ontario\", \"riversideline_origin_pedley\",  \"riversideline_origin_riverside\",\n",
    "                         \n",
    "                         \"sbline_origin_calstate_la\", \"sbline_origin_el_monte\",  \"sbline_origin_baldwin_park\",\n",
    "                         \"sbline_origin_covina\",  \"sbline_origin_pomona_north\", \"sbline_origin_fontana\",\n",
    "                         \"sbline_origin_claremont\", \"sbline_origin_montclair\", \"sbline_origin_upland\", \"sbline_origin_rancho_cucamonga\", \n",
    "                         \"sbline_origin_rialto\", \"sbline_origin_san_bernardino_depot\", \"sbline_origin_san_bernardino_dt\" \n",
    "                        ]"
   ]
  },
  {
   "cell_type": "code",
   "execution_count": 13,
   "id": "5581cb1a-1eb5-4c2c-8d91-99a2254d4057",
   "metadata": {
    "tags": []
   },
   "outputs": [],
   "source": [
    "# analysis_result_names_subset_test = [\"sbline_origin_covina\", \"sbline_origin_calstate_la\", \n",
    "#                                 \"riversideline_origin_industry\",  \"riversideline_origin_montebello\"]"
   ]
  },
  {
   "cell_type": "code",
   "execution_count": null,
   "id": "97f3b359-ff56-4835-a452-98904d5321d8",
   "metadata": {
    "tags": []
   },
   "outputs": [],
   "source": []
  },
  {
   "cell_type": "code",
   "execution_count": null,
   "id": "288e49bd-2130-44a1-b813-0b78f9a63f61",
   "metadata": {
    "tags": []
   },
   "outputs": [],
   "source": [
    "results = []\n",
    "for analysis in analysis_result_names:\n",
    "    with get_fs().open(f\"{gcs_path}replica_data_downloads/replica-socal_travel_analysis_{analysis}-trips_dataset.csv\") as f:\n",
    "        df = to_snakecase(pd.read_csv(f, dtype={25: str, 26:str}))\n",
    "        \n",
    "        station = analysis.split('_origin_')[1]  # Get the part after '_origin_'\n",
    "        station_name = station.replace('_', ' ').upper()\n",
    "        \n",
    "        line = analysis.split('_origin_')[0]\n",
    "        \n",
    "        metrolink_line = replica_utils.define_transit_line(line) \n",
    "        n_total_trips = len(df)\n",
    "        n_private_auto_trips = len(df[df.primary_mode==\"private_auto\"])\n",
    "        pct_private_auto_trips = ((len(df[df.primary_mode==\"private_auto\"])) / (len(df)))\n",
    "        n_public_transit_trips = (len(df[df.primary_mode==\"public_transit\"]))\n",
    "        pct_public_transit_trips = ((len(df[df.primary_mode==\"public_transit\"])) / (len(df)))\n",
    "\n",
    "        auto_mean_min, auto_median_min, auto_mean_miles, auto_median_miles = replica_utils.calc_auto_travel_info(df)\n",
    "        transit_mean_min, transit_median_min, transit_mean_miles, transit_median_miles = replica_utils.calc_transit_travel_info(df)\n",
    "\n",
    "        ## set up the table for all the results\n",
    "        results.append({\n",
    "                'station_name': station_name,\n",
    "                'metrolink_line': metrolink_line,\n",
    "                'total_trips': n_total_trips,\n",
    "                'n_auto_trips_to_other_station_areas': n_private_auto_trips,\n",
    "                'pct_auto_trips_to_other_station_areas': pct_private_auto_trips,\n",
    "                'n_tranist_trips_to_other_station_areas': n_public_transit_trips,\n",
    "                'pct_transit_trips_to_other_station_areas': pct_public_transit_trips,\n",
    "                'auto_mean_minutes': auto_mean_min,\n",
    "                'auto_median_minutes': auto_median_min,\n",
    "                'auto_mean_miles': auto_mean_miles,\n",
    "                'auto_median_miles': auto_median_miles,\n",
    "                'transit_mean_minutes': transit_mean_min,\n",
    "                'transit_median_minutes': transit_median_min,\n",
    "                'transit_mean_miles': transit_mean_miles,\n",
    "                'transit_median_miles': transit_median_miles,\n",
    "                })\n",
    "\n",
    "        \n",
    "result_summary = pd.DataFrame(results)        \n",
    "\n",
    "        "
   ]
  },
  {
   "cell_type": "code",
   "execution_count": null,
   "id": "d486f81d-47e2-4a66-8d43-7ab248036752",
   "metadata": {
    "tags": []
   },
   "outputs": [],
   "source": [
    "result_summary"
   ]
  },
  {
   "cell_type": "code",
   "execution_count": null,
   "id": "29c2282f-99c5-4a90-84d8-8841a725fc56",
   "metadata": {},
   "outputs": [],
   "source": []
  },
  {
   "cell_type": "code",
   "execution_count": 9,
   "id": "a979a723-2e45-4062-8e08-fb75b50cbed0",
   "metadata": {
    "tags": []
   },
   "outputs": [],
   "source": [
    "## export\n",
    "# result_summary.to_csv(\"MetroLink_Stations_Replica_Summaries.csv\")"
   ]
  },
  {
   "cell_type": "code",
   "execution_count": 10,
   "id": "3e272d94-1b88-4a3e-9156-cf65ce655070",
   "metadata": {
    "tags": []
   },
   "outputs": [],
   "source": [
    "# df_auto.columns"
   ]
  },
  {
   "cell_type": "code",
   "execution_count": 11,
   "id": "92b06a42-e216-41d1-8957-c101a975f891",
   "metadata": {
    "tags": []
   },
   "outputs": [],
   "source": [
    "# df.primary_mode.value_counts()"
   ]
  },
  {
   "cell_type": "code",
   "execution_count": null,
   "id": "28aec469-a69c-4c32-afec-674042515d97",
   "metadata": {
    "tags": []
   },
   "outputs": [],
   "source": []
  },
  {
   "cell_type": "code",
   "execution_count": null,
   "id": "3553e0c2-9b1f-4c9b-96ed-34cf81d48c75",
   "metadata": {
    "tags": []
   },
   "outputs": [],
   "source": []
  },
  {
   "cell_type": "code",
   "execution_count": null,
   "id": "4d6c8d65-465a-4d9f-b8f6-b6edf2028221",
   "metadata": {},
   "outputs": [],
   "source": []
  },
  {
   "cell_type": "code",
   "execution_count": null,
   "id": "fc52031f-8116-489d-8d72-cbea3966c0ef",
   "metadata": {},
   "outputs": [],
   "source": []
  },
  {
   "cell_type": "code",
   "execution_count": null,
   "id": "e0b0c5bb-4e94-4e2d-8437-7f69d4974c98",
   "metadata": {},
   "outputs": [],
   "source": []
  },
  {
   "cell_type": "code",
   "execution_count": null,
   "id": "6683b4e7-d064-4f9a-8099-8e9ae9066ddd",
   "metadata": {},
   "outputs": [],
   "source": []
  }
 ],
 "metadata": {
  "kernelspec": {
   "display_name": "Python 3 (ipykernel)",
   "language": "python",
   "name": "python3"
  },
  "language_info": {
   "codemirror_mode": {
    "name": "ipython",
    "version": 3
   },
   "file_extension": ".py",
   "mimetype": "text/x-python",
   "name": "python",
   "nbconvert_exporter": "python",
   "pygments_lexer": "ipython3",
   "version": "3.11.10"
  },
  "widgets": {
   "application/vnd.jupyter.widget-state+json": {
    "state": {},
    "version_major": 2,
    "version_minor": 0
   }
  }
 },
 "nbformat": 4,
 "nbformat_minor": 5
}
