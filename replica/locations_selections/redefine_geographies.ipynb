{
 "cells": [
  {
   "cell_type": "markdown",
   "id": "5ea80d12-5bf0-4f7f-9c30-2b9d5502a7a4",
   "metadata": {},
   "source": [
    "# Redefining Geographies for Custom Geographies in Replcia\n",
    "\n",
    "**What I have:** already defined searate census tracts in replica's saved selections, one for each station. \n",
    "</br>\n",
    "**What I need:** combined geographies for all tracts from the already defined stations except for the station listed as origin"
   ]
  },
  {
   "cell_type": "code",
   "execution_count": null,
   "id": "959ae44e-fe98-4405-a321-0dd168f7d47e",
   "metadata": {},
   "outputs": [],
   "source": []
  },
  {
   "cell_type": "code",
   "execution_count": 3,
   "id": "089737c0-384b-4f45-b2f9-f819be1febd0",
   "metadata": {
    "tags": []
   },
   "outputs": [],
   "source": [
    "import geopandas as gpd\n",
    "import pandas as pd\n",
    "from siuba import *\n",
    "import numpy as np\n",
    "\n",
    "from calitp_data_analysis.sql import to_snakecase\n",
    "\n",
    "from calitp_data_analysis import get_fs\n",
    "import gcsfs as fs\n",
    "fs = get_fs()"
   ]
  },
  {
   "cell_type": "code",
   "execution_count": null,
   "id": "197c4bc4-996f-41c2-93bd-c012fb8b0cbf",
   "metadata": {},
   "outputs": [],
   "source": []
  },
  {
   "cell_type": "code",
   "execution_count": 4,
   "id": "75ecd764-1733-4abc-bdc1-0b66aedd7c10",
   "metadata": {
    "tags": []
   },
   "outputs": [],
   "source": [
    "gcs_path = \"gs://calitp-analytics-data/data-analyses/big_data/lossan_stations/\""
   ]
  },
  {
   "cell_type": "code",
   "execution_count": null,
   "id": "d4a7e781-5d7a-42fd-bead-ca39ecbed661",
   "metadata": {},
   "outputs": [],
   "source": []
  },
  {
   "cell_type": "code",
   "execution_count": 10,
   "id": "4434b959-0c15-4c26-b232-c89a061eecdb",
   "metadata": {
    "tags": []
   },
   "outputs": [],
   "source": [
    "station_list = [\"simi-valley\", \"burbank-airport\", \"oxnard\",  \"camarillo\", \"moorpark\",  \"chatsworth\",\n",
    "                \"northridge\", \"van-nuys\", \"burbank\", \"glendale\", \"untion-station\", \"commerce\", \"norwalk\", \"buena-park\",\n",
    "                \"fullerton\", \"anaheim\",  \"orange\", \"santa-ana\", \"tustin\",\n",
    "                \"irvine\", \"laguna-niguel\", \"san-juan-capistrano\", \"san-clemente\", \"san-clemente-pier\",\n",
    "                \"oceanside\", \"solana-beach\", \"san-diego\", \"ot-san-diego\"]"
   ]
  },
  {
   "cell_type": "code",
   "execution_count": null,
   "id": "071c24c6-af2e-4551-bdfb-3c92eda35de3",
   "metadata": {},
   "outputs": [],
   "source": []
  },
  {
   "cell_type": "code",
   "execution_count": 6,
   "id": "51c214ef-4073-4b3e-a17d-f7399169f308",
   "metadata": {
    "tags": []
   },
   "outputs": [],
   "source": [
    "with get_fs().open(f\"{gcs_path}saved-selection-geo-lossan-anaheim_us-tract-2020.zip\") as f:\n",
    "        test = to_snakecase(gpd.read_file(f))"
   ]
  },
  {
   "cell_type": "code",
   "execution_count": 9,
   "id": "82ff447d-3e25-477a-8535-88e2805264e9",
   "metadata": {
    "tags": []
   },
   "outputs": [],
   "source": [
    "# test.explore()"
   ]
  },
  {
   "cell_type": "code",
   "execution_count": null,
   "id": "77208bdb-3f25-4ae0-bbef-75484aaad4b4",
   "metadata": {},
   "outputs": [],
   "source": []
  },
  {
   "cell_type": "code",
   "execution_count": null,
   "id": "41133c76-6eb2-41e7-91ad-59b469022413",
   "metadata": {},
   "outputs": [],
   "source": []
  },
  {
   "cell_type": "code",
   "execution_count": null,
   "id": "b33cf98d-5434-490e-9217-2e1c9bc0afdd",
   "metadata": {},
   "outputs": [],
   "source": []
  },
  {
   "cell_type": "code",
   "execution_count": null,
   "id": "3b4e067f-44b8-4e21-bf73-e4a5bcbea80e",
   "metadata": {},
   "outputs": [],
   "source": []
  },
  {
   "cell_type": "code",
   "execution_count": null,
   "id": "dc54d88b-19d9-421b-9d6b-158588000155",
   "metadata": {
    "tags": []
   },
   "outputs": [],
   "source": []
  }
 ],
 "metadata": {
  "kernelspec": {
   "display_name": "Python 3 (ipykernel)",
   "language": "python",
   "name": "python3"
  },
  "language_info": {
   "codemirror_mode": {
    "name": "ipython",
    "version": 3
   },
   "file_extension": ".py",
   "mimetype": "text/x-python",
   "name": "python",
   "nbconvert_exporter": "python",
   "pygments_lexer": "ipython3",
   "version": "3.11.10"
  },
  "widgets": {
   "application/vnd.jupyter.widget-state+json": {
    "state": {},
    "version_major": 2,
    "version_minor": 0
   }
  }
 },
 "nbformat": 4,
 "nbformat_minor": 5
}
