{
 "cells": [
  {
   "cell_type": "markdown",
   "id": "abe3a213-e5f4-4338-ab17-f7c5a69735b5",
   "metadata": {},
   "source": [
    "## Summary of Study Results - Demo\n",
    "\n",
    "With the data downloads from Replica, create a single table with a row for each origin station and columns for “car trips to areas around other destination stations on the other lines” and another column for “train trips”"
   ]
  },
  {
   "cell_type": "code",
   "execution_count": 1,
   "id": "dc77a2e3-60d4-44c6-89e3-7e4277db7e7b",
   "metadata": {
    "tags": []
   },
   "outputs": [],
   "source": [
    "import gcsfs as fs\n",
    "import geopandas as gpd\n",
    "import numpy as np\n",
    "import pandas as pd\n",
    "from calitp_data_analysis import get_fs, utils\n",
    "from calitp_data_analysis.sql import to_snakecase\n",
    "from siuba import *\n",
    "\n",
    "fs = get_fs()"
   ]
  },
  {
   "cell_type": "code",
   "execution_count": 2,
   "id": "5b40ff88-b11f-4122-a2c0-e4e3bf3357af",
   "metadata": {
    "tags": []
   },
   "outputs": [
    {
     "name": "stderr",
     "output_type": "stream",
     "text": [
      "Exception ignored in: <bound method IPythonKernel._clean_thread_parent_frames of <ipykernel.ipkernel.IPythonKernel object at 0x791b32157190>>\n",
      "Traceback (most recent call last):\n",
      "  File \"/opt/conda/lib/python3.11/site-packages/ipykernel/ipkernel.py\", line 781, in _clean_thread_parent_frames\n",
      "    def _clean_thread_parent_frames(\n",
      "\n",
      "KeyboardInterrupt: \n"
     ]
    }
   ],
   "source": [
    "import altair as alt"
   ]
  },
  {
   "cell_type": "code",
   "execution_count": 3,
   "id": "a29c1516-544e-4444-920b-dbebb10fca43",
   "metadata": {
    "tags": []
   },
   "outputs": [],
   "source": [
    "import replica_utils"
   ]
  },
  {
   "cell_type": "code",
   "execution_count": 4,
   "id": "eec0ceb3-2f0e-4913-bfae-10f99c85fb51",
   "metadata": {},
   "outputs": [],
   "source": [
    "pd.set_option(\"display.max_columns\", None)"
   ]
  },
  {
   "cell_type": "code",
   "execution_count": 5,
   "id": "bf80ebd1-3165-49d6-aac5-c81e41723a29",
   "metadata": {
    "tags": []
   },
   "outputs": [],
   "source": [
    "gcs_path = \"gs://calitp-analytics-data/data-analyses/big_data/hta/\""
   ]
  },
  {
   "cell_type": "code",
   "execution_count": null,
   "id": "97f3b359-ff56-4835-a452-98904d5321d8",
   "metadata": {
    "tags": []
   },
   "outputs": [],
   "source": []
  },
  {
   "cell_type": "code",
   "execution_count": 6,
   "id": "8a9dc2ba-52dd-40b3-9e48-858bf20aae79",
   "metadata": {
    "tags": []
   },
   "outputs": [
    {
     "name": "stderr",
     "output_type": "stream",
     "text": [
      "/tmp/ipykernel_1081/2358409840.py:1: DtypeWarning: Columns (18,19,20,25,26,28,29,30,31,33,36,38,39,40,41,42,43) have mixed types. Specify dtype option on import or set low_memory=False.\n",
      "  from_cp = to_snakecase( pd.read_csv(f\"{gcs_path}replica-hta_transit_calpolyhumboldt-10_22_25-trips_dataset_origin_as_CPH.csv\"))\n"
     ]
    }
   ],
   "source": [
    "from_cp = to_snakecase( pd.read_csv(f\"{gcs_path}replica-hta_transit_calpolyhumboldt-10_22_25-trips_dataset_origin_as_CPH.csv\"))    "
   ]
  },
  {
   "cell_type": "code",
   "execution_count": 7,
   "id": "7bf9e4e6-8041-4ea7-9d67-f5c869cbfd7b",
   "metadata": {},
   "outputs": [
    {
     "name": "stderr",
     "output_type": "stream",
     "text": [
      "/tmp/ipykernel_1081/2377608391.py:1: DtypeWarning: Columns (25,26,28,29,30,31,33,36,38,39,40,41,42,43) have mixed types. Specify dtype option on import or set low_memory=False.\n",
      "  to_cp = to_snakecase( pd.read_csv(f\"{gcs_path}replica-hta_transit_calpolyhumboldt-10_22_25-trips_dataset_dest_as_CPH.csv\"))\n"
     ]
    }
   ],
   "source": [
    "to_cp = to_snakecase( pd.read_csv(f\"{gcs_path}replica-hta_transit_calpolyhumboldt-10_22_25-trips_dataset_dest_as_CPH.csv\"))    "
   ]
  },
  {
   "cell_type": "code",
   "execution_count": null,
   "id": "8a31c1d1-2597-422b-ae5d-fe4e11e02031",
   "metadata": {},
   "outputs": [],
   "source": []
  },
  {
   "cell_type": "code",
   "execution_count": 8,
   "id": "6f63c491-8e96-4f07-aebb-7a4204105d8f",
   "metadata": {
    "tags": []
   },
   "outputs": [],
   "source": [
    "##### need to refactor utils\n",
    "# return_score_summary(analyses_study_data_list, station_geom_list)"
   ]
  },
  {
   "cell_type": "code",
   "execution_count": null,
   "id": "e8f3b9fc-3874-40d4-a947-595567dcd45d",
   "metadata": {},
   "outputs": [],
   "source": []
  },
  {
   "cell_type": "code",
   "execution_count": null,
   "id": "4b65ba04-d90e-4c34-82b0-603dd10d6a62",
   "metadata": {},
   "outputs": [],
   "source": []
  },
  {
   "cell_type": "markdown",
   "id": "0a7c6d3e-87b4-44ba-b905-31a32dc7112f",
   "metadata": {},
   "source": [
    "### Add Some Visualizations"
   ]
  },
  {
   "cell_type": "code",
   "execution_count": null,
   "id": "7dc7dd09-ce4f-4b09-a4f3-ef7ee0d905c7",
   "metadata": {},
   "outputs": [],
   "source": []
  },
  {
   "cell_type": "code",
   "execution_count": 9,
   "id": "9d7d5eb5-d7e5-4b47-a147-d9b0548477e6",
   "metadata": {
    "tags": []
   },
   "outputs": [],
   "source": [
    "# list_of_columns = [\n",
    "#     \"total_trips_from_origin_station\",\n",
    "#     \"n_auto_trips_to_other_station_areas\",\n",
    "#     \"pct_auto_trips_to_other_station_areas\",\n",
    "#     \"n_tranist_trips_to_other_station_areas\",\n",
    "#     \"pct_transit_trips_to_other_station_areas\",\n",
    "#     \"auto_mean_minutes\",\n",
    "#     \"auto_median_minutes\",\n",
    "#     \"auto_max_minutes\",\n",
    "#     \"auto_mean_miles\",\n",
    "#     \"auto_median_miles\",\n",
    "#     \"auto_max_miles\",\n",
    "#     \"transit_mean_minutes\",\n",
    "#     \"transit_median_minutes\",\n",
    "#     \"transit_max_minutes\",\n",
    "#     \"transit_mean_miles\",\n",
    "#     \"transit_median_miles\",\n",
    "#     \"transit_max_miles\",\n",
    "#     \"auto_top_tract_traveled_to\",\n",
    "#     \"auto_least_tract_traveled_to\",\n",
    "#     \"transit_top_tract_traveled_to\",\n",
    "#     \"transit_least_tract_traveled_to\",\n",
    "# ]"
   ]
  },
  {
   "cell_type": "code",
   "execution_count": 10,
   "id": "4acae49a-843d-4e15-a61a-82688fd8ffad",
   "metadata": {
    "tags": []
   },
   "outputs": [],
   "source": [
    "# summary.sample()"
   ]
  },
  {
   "cell_type": "code",
   "execution_count": null,
   "id": "2dcd876d-8cb7-4a8d-8dd6-eeb4ad4235cb",
   "metadata": {},
   "outputs": [],
   "source": []
  },
  {
   "cell_type": "code",
   "execution_count": 11,
   "id": "5a945dda-2f6b-41df-b1f6-a0cf88ee2119",
   "metadata": {
    "tags": []
   },
   "outputs": [],
   "source": [
    "# base = alt.Chart(summary).encode(\n",
    "#     y=alt.Y(\n",
    "#         \"total_trips_from_origin_station:Q\", title=\"Total Trips From Origin Station\"\n",
    "#     ).stack(\"zero\"),\n",
    "#     x=alt.X(\"station_name:O\", title=\"Station Name\").sort(\"-x\"),\n",
    "#     text=alt.Text(\"total_trips_from_origin_station:Q\", format=\".0f\"),\n",
    "# )\n",
    "\n",
    "# bars = base.mark_bar(\n",
    "#     tooltip=alt.expr(\"luminance(scale('color', datum.sum_yield))\")\n",
    "# ).encode(\n",
    "#     color=alt.Color(\n",
    "#         \"total_trips_from_origin_station:Q\",\n",
    "#         legend=alt.Legend(title=\"Total Trips From Origin Station\"),\n",
    "#     )\n",
    "# )\n",
    "\n",
    "\n",
    "# bars"
   ]
  },
  {
   "cell_type": "code",
   "execution_count": null,
   "id": "59f8ade7-daee-4735-aff4-6fa3677de9ce",
   "metadata": {},
   "outputs": [],
   "source": []
  },
  {
   "cell_type": "code",
   "execution_count": null,
   "id": "23d70335-503e-4a9b-9f69-6f59f1e017d8",
   "metadata": {
    "tags": []
   },
   "outputs": [],
   "source": []
  },
  {
   "cell_type": "code",
   "execution_count": 12,
   "id": "1bf68538-2b1f-4454-9352-82d49f7dc9e2",
   "metadata": {
    "tags": []
   },
   "outputs": [],
   "source": [
    "# summary_subset = summary[\n",
    "#     [\n",
    "#         \"station_name\",\n",
    "#         \"pct_auto_trips_to_other_station_areas\",\n",
    "#         \"pct_transit_trips_to_other_station_areas\",\n",
    "#     ]\n",
    "# ]"
   ]
  },
  {
   "cell_type": "code",
   "execution_count": 13,
   "id": "f31f3cdd-22e0-49e7-b84a-e48c5ded1d9f",
   "metadata": {
    "tags": []
   },
   "outputs": [],
   "source": [
    "# summary_subset = summary_subset.rename(\n",
    "#     columns={\n",
    "#         \"pct_auto_trips_to_other_station_areas\": \"Pct Auto Trips to Other Stations\",\n",
    "#         \"pct_transit_trips_to_other_station_areas\": \"Pct Transit Trips to Other Stations\",\n",
    "#     }\n",
    "# )"
   ]
  },
  {
   "cell_type": "code",
   "execution_count": 14,
   "id": "3c066500-4f5b-42e6-ac49-5084d8fab44f",
   "metadata": {
    "tags": []
   },
   "outputs": [],
   "source": [
    "# summary_long = pd.melt(\n",
    "#     summary_subset,\n",
    "#     id_vars=[\"station_name\"],\n",
    "#     value_vars=[\n",
    "#         \"Pct Auto Trips to Other Stations\",\n",
    "#         \"Pct Transit Trips to Other Stations\",\n",
    "#     ],\n",
    "#     var_name=\"trip_type\",  # New column for original measurement names\n",
    "#     value_name=\"percent\",\n",
    "# )"
   ]
  },
  {
   "cell_type": "code",
   "execution_count": 15,
   "id": "b7dcfe6c-13a0-4412-ad0f-17c60faaa696",
   "metadata": {
    "tags": []
   },
   "outputs": [],
   "source": [
    "# summary_long"
   ]
  },
  {
   "cell_type": "code",
   "execution_count": 16,
   "id": "06c8334b-be2b-4d05-8925-feb6c9d7d5a4",
   "metadata": {
    "tags": []
   },
   "outputs": [],
   "source": [
    "# alt.Chart(summary_long).mark_bar(cornerRadiusTopLeft=3, cornerRadiusTopRight=3).encode(\n",
    "#     x=alt.X(\"station_name:O\", title=\"Station Name\"),\n",
    "#     y=alt.Y(\"percent:Q\", title=\"Percent\"),\n",
    "#     color=alt.Color(\"trip_type:N\", legend=alt.Legend(title=\"Percent of Total Trips\")),\n",
    "# )"
   ]
  },
  {
   "cell_type": "code",
   "execution_count": null,
   "id": "f579365e-1703-4ba5-8aba-0317225dd33a",
   "metadata": {
    "tags": []
   },
   "outputs": [],
   "source": []
  },
  {
   "cell_type": "code",
   "execution_count": null,
   "id": "6528ea6d-21e4-4a3f-8a0f-f47d80a657a5",
   "metadata": {},
   "outputs": [],
   "source": []
  },
  {
   "cell_type": "code",
   "execution_count": 17,
   "id": "bc246899-d665-47b3-902f-981bba56f498",
   "metadata": {
    "tags": []
   },
   "outputs": [],
   "source": [
    "# summary_subset_n = summary[\n",
    "#     [\n",
    "#         \"station_name\",\n",
    "#         \"n_tranist_trips_to_other_station_areas\",\n",
    "#         \"n_auto_trips_to_other_station_areas\",\n",
    "#     ]\n",
    "# ]"
   ]
  },
  {
   "cell_type": "code",
   "execution_count": 18,
   "id": "b7ff5823-5464-4384-84f2-7aebfb12c349",
   "metadata": {
    "tags": []
   },
   "outputs": [],
   "source": [
    "# summary_subset_n = summary_subset_n.rename(\n",
    "#     columns={\n",
    "#         \"n_tranist_trips_to_other_station_areas\": \"Number Transit Trips to Other Stations\",\n",
    "#         \"n_auto_trips_to_other_station_areas\": \"Number Auto Trips to Other Stations\",\n",
    "#     }\n",
    "# )"
   ]
  },
  {
   "cell_type": "code",
   "execution_count": 19,
   "id": "8a70f41e-ebf8-4085-af6a-8da8678358e6",
   "metadata": {
    "tags": []
   },
   "outputs": [],
   "source": [
    "# summary_long = pd.melt(\n",
    "#     summary_subset_n,\n",
    "#     id_vars=[\"station_name\"],\n",
    "#     value_vars=[\n",
    "#         \"Number Transit Trips to Other Stations\",\n",
    "#         \"Number Auto Trips to Other Stations\",\n",
    "#     ],\n",
    "#     var_name=\"trip_type\",  # New column for original measurement names\n",
    "#     value_name=\"Count\",\n",
    "# )"
   ]
  },
  {
   "cell_type": "code",
   "execution_count": 20,
   "id": "d9d7f9c7-2316-404e-b84b-96807baf5191",
   "metadata": {
    "tags": []
   },
   "outputs": [],
   "source": [
    "# alt.Chart(summary_long).mark_bar(cornerRadiusTopLeft=3, cornerRadiusTopRight=3).encode(\n",
    "#     x=alt.X(\"station_name:O\", title=\"Station Name\"),\n",
    "#     y=alt.Y(\"Count:Q\", title=\"Count\"),\n",
    "#     color=alt.Color(\"trip_type:N\", legend=alt.Legend(title=\"Number of Total Trips\")),\n",
    "# )"
   ]
  },
  {
   "cell_type": "code",
   "execution_count": null,
   "id": "63c7bb1d-a63e-4700-bb28-24195bcb24ea",
   "metadata": {},
   "outputs": [],
   "source": []
  },
  {
   "cell_type": "code",
   "execution_count": null,
   "id": "db11b142-b9ed-4618-bfc4-ac5a1b40ff6f",
   "metadata": {},
   "outputs": [],
   "source": []
  },
  {
   "cell_type": "code",
   "execution_count": 21,
   "id": "b02cba5c-8e76-4c87-b80f-a92863174116",
   "metadata": {
    "tags": []
   },
   "outputs": [],
   "source": [
    "# summary_rename = summary[\n",
    "#     [\n",
    "#         \"station_name\",\n",
    "#         \"n_tranist_trips_to_other_station_areas\",\n",
    "#         \"n_auto_trips_to_other_station_areas\",\n",
    "#         \"pct_auto_trips_to_other_station_areas\",\n",
    "#         \"pct_transit_trips_to_other_station_areas\",\n",
    "#     ]\n",
    "# ]"
   ]
  },
  {
   "cell_type": "code",
   "execution_count": 22,
   "id": "2021aa1a-2f67-4a4e-974d-000deaac797f",
   "metadata": {
    "tags": []
   },
   "outputs": [],
   "source": [
    "# summary_rename = summary_rename.rename(\n",
    "#     columns={\n",
    "#         \"n_tranist_trips_to_other_station_areas\": \"Number Transit Trips to Other Stations\",\n",
    "#         \"n_auto_trips_to_other_station_areas\": \"Number Auto Trips to Other Stations\",\n",
    "#         \"pct_auto_trips_to_other_station_areas\": \"Pct Auto Trips to Other Stations\",\n",
    "#         \"pct_transit_trips_to_other_station_areas\": \"Pct Transit Trips to Other Stations\",\n",
    "#     }\n",
    "# )"
   ]
  },
  {
   "cell_type": "code",
   "execution_count": 23,
   "id": "77403074-3623-45e1-930c-9e00fb82abbd",
   "metadata": {
    "tags": []
   },
   "outputs": [],
   "source": [
    "# alt.Chart(summary_rename).mark_bar(\n",
    "#     cornerRadiusTopLeft=3, cornerRadiusTopRight=3\n",
    "# ).encode(\n",
    "#     x=alt.X(\"station_name:O\", title=\"Station Name\"),\n",
    "#     y=alt.Y(\n",
    "#         \"Number Transit Trips to Other Stations:Q\", title=\"Estimated Number of Trips\"\n",
    "#     ),\n",
    "# ).properties(\n",
    "#     title=\"Estimated Number Transit Trips to Other Stations\"\n",
    "# )"
   ]
  },
  {
   "cell_type": "code",
   "execution_count": 24,
   "id": "f8aed8b2-e1f3-44f1-91e7-44afc07ee2a4",
   "metadata": {
    "tags": []
   },
   "outputs": [],
   "source": [
    "# alt.Chart(summary_rename).mark_bar(\n",
    "#     cornerRadiusTopLeft=3, cornerRadiusTopRight=3\n",
    "# ).encode(\n",
    "#     x=alt.X(\"station_name:O\", title=\"Station Name\"),\n",
    "#     y=alt.Y(\"Number Auto Trips to Other Stations:Q\", title=\"Estimated Number of Trips\"),\n",
    "# ).properties(\n",
    "#     title=\"Estimated Number Auto Trips to Other Stations\"\n",
    "# )"
   ]
  },
  {
   "cell_type": "code",
   "execution_count": 25,
   "id": "cb1de744-fed5-4963-9a17-4c1f518fa762",
   "metadata": {
    "tags": []
   },
   "outputs": [],
   "source": [
    "# alt.Chart(summary_rename).mark_bar(\n",
    "#     cornerRadiusTopLeft=3, cornerRadiusTopRight=3\n",
    "# ).encode(\n",
    "#     x=alt.X(\"station_name:O\", title=\"Station Name\"),\n",
    "#     y=alt.Y(\"Pct Auto Trips to Other Stations:Q\", title=\"Percent\"),\n",
    "# ).properties(\n",
    "#     title=\"Pct Auto Trips to Other Stations\"\n",
    "# )"
   ]
  },
  {
   "cell_type": "code",
   "execution_count": 26,
   "id": "934bd102-57d7-4e5f-80ef-787a1201bd5f",
   "metadata": {
    "tags": []
   },
   "outputs": [],
   "source": [
    "# alt.Chart(summary_rename).mark_bar(\n",
    "#     cornerRadiusTopLeft=3, cornerRadiusTopRight=3\n",
    "# ).encode(\n",
    "#     x=alt.X(\"station_name:O\", title=\"Station Name\"),\n",
    "#     y=alt.Y(\"Pct Transit Trips to Other Stations:Q\", title=\"Percent\"),\n",
    "# ).properties(\n",
    "#     title=\"Pct Transit Trips to Other Stations\"\n",
    "# )"
   ]
  },
  {
   "cell_type": "code",
   "execution_count": null,
   "id": "a273dd02-68b4-45ac-9dca-67247e65a4dc",
   "metadata": {},
   "outputs": [],
   "source": []
  },
  {
   "cell_type": "code",
   "execution_count": null,
   "id": "845f1336-b6f3-455f-8122-d2765f463b2b",
   "metadata": {},
   "outputs": [],
   "source": []
  },
  {
   "cell_type": "code",
   "execution_count": 27,
   "id": "d4ee5a5f-8351-48a0-bc42-5eb7e42e062b",
   "metadata": {
    "tags": []
   },
   "outputs": [],
   "source": [
    "# summary_subset2 = summary[\n",
    "#     [\n",
    "#         \"station_name\",\n",
    "#         \"auto_mean_minutes\",\n",
    "#         \"auto_median_minutes\",\n",
    "#         \"auto_max_minutes\",\n",
    "#         \"auto_mean_miles\",\n",
    "#         \"auto_median_miles\",\n",
    "#         \"auto_max_miles\",\n",
    "#         \"transit_mean_minutes\",\n",
    "#         \"transit_median_minutes\",\n",
    "#         \"transit_max_minutes\",\n",
    "#         \"transit_mean_miles\",\n",
    "#         \"transit_median_miles\",\n",
    "#         \"transit_max_miles\",\n",
    "#     ]\n",
    "# ]"
   ]
  },
  {
   "cell_type": "code",
   "execution_count": 28,
   "id": "6322d984-8d84-4929-85ba-0cc7190471c6",
   "metadata": {
    "tags": []
   },
   "outputs": [],
   "source": [
    "# summary_subset2.columns = summary_subset2.columns.str.title()"
   ]
  },
  {
   "cell_type": "code",
   "execution_count": 29,
   "id": "c180cd3c-8a70-4cf0-aff3-6d511cf06ee2",
   "metadata": {
    "tags": []
   },
   "outputs": [],
   "source": [
    "# summary_subset2 = summary_subset2.rename(\n",
    "#     columns={\n",
    "#         \"Station_Name\": \"Station_Name\",\n",
    "#         \"Auto_Mean_Miles\": \"Auto Mean Miles\",\n",
    "#         \"Auto_Median_Miles\": \"Auto Median Miles\",\n",
    "#         \"Auto_Max_Miles\": \"Auto Max Miles\",\n",
    "#         \"Transit_Mean_Miles\": \"Transit Mean Miles\",\n",
    "#         \"Transit_Median_Miles\": \"Transit Median Miles\",\n",
    "#         \"Transit_Max_Miles\": \"Transit Max Miles\",\n",
    "#         \"Auto_Mean_Minutes\": \"Auto Mean Min\",\n",
    "#         \"Auto_Median_Minutes\": \"Auto Median Min\",\n",
    "#         \"Auto_Max_Minutes\": \"Auto Max Min\",\n",
    "#         \"Transit_Mean_Minutes\": \"Transit Mean Min\",\n",
    "#         \"Transit_Median_Minutes\": \"Transit Median Min\",\n",
    "#         \"Transit_Max_Minutes\": \"Transit Max Min\",\n",
    "#         \"trip_type\": \"TripType\",\n",
    "#     }\n",
    "# )"
   ]
  },
  {
   "cell_type": "code",
   "execution_count": 30,
   "id": "e72b56a7-59de-4ea5-8c7b-810ef7d1fdff",
   "metadata": {
    "tags": []
   },
   "outputs": [],
   "source": [
    "# summary_subset2.sample()"
   ]
  },
  {
   "cell_type": "code",
   "execution_count": null,
   "id": "d2e3f58d-57a1-4959-9fca-eb7d373c38b4",
   "metadata": {},
   "outputs": [],
   "source": []
  },
  {
   "cell_type": "code",
   "execution_count": 31,
   "id": "7f489064-ab51-466a-b5e6-0293dae74260",
   "metadata": {
    "tags": []
   },
   "outputs": [],
   "source": [
    "# summary_long_miles_all = pd.melt(\n",
    "#     summary_subset2,\n",
    "#     id_vars=[\"Station_Name\"],\n",
    "#     value_vars=[\n",
    "#         \"Auto Mean Miles\",\n",
    "#         \"Auto Median Miles\",\n",
    "#         \"Auto Max Miles\",\n",
    "#         \"Transit Mean Miles\",\n",
    "#         \"Transit Median Miles\",\n",
    "#         \"Transit Max Miles\",\n",
    "#     ],\n",
    "#     var_name=\"TripType\",  # New column for original measurement names\n",
    "#     value_name=\"Miles\",\n",
    "# )"
   ]
  },
  {
   "cell_type": "code",
   "execution_count": 32,
   "id": "237bb1a0-c94d-430a-8b40-dc0f80d85d48",
   "metadata": {
    "tags": []
   },
   "outputs": [],
   "source": [
    "# summary_long_min_all = pd.melt(\n",
    "#     summary_subset2,\n",
    "#     id_vars=[\"Station_Name\"],\n",
    "#     value_vars=[\n",
    "#         \"Auto Mean Min\",\n",
    "#         \"Auto Median Min\",\n",
    "#         \"Auto Max Min\",\n",
    "#         \"Transit Mean Min\",\n",
    "#         \"Transit Median Min\",\n",
    "#         \"Transit Max Min\",\n",
    "#     ],\n",
    "#     var_name=\"TripType\",  # New column for original measurement names\n",
    "#     value_name=\"Mintues\",\n",
    "# )"
   ]
  },
  {
   "cell_type": "code",
   "execution_count": null,
   "id": "0fb18b08-bd8c-47e2-9909-c6b50b78787a",
   "metadata": {},
   "outputs": [],
   "source": []
  },
  {
   "cell_type": "code",
   "execution_count": 33,
   "id": "cd6495db-9cb6-4ab4-b476-013ad85f532c",
   "metadata": {
    "tags": []
   },
   "outputs": [],
   "source": [
    "# summary_long_miles_auto = pd.melt(\n",
    "#     summary_subset2,\n",
    "#     id_vars=[\"Station_Name\"],\n",
    "#     value_vars=[\"Auto Mean Miles\", \"Auto Median Miles\", \"Auto Max Miles\"],\n",
    "#     var_name=\"TripType\",  # New column for original measurement names\n",
    "#     value_name=\"Miles\",\n",
    "# )"
   ]
  },
  {
   "cell_type": "code",
   "execution_count": 34,
   "id": "0f8d038b-ced2-49ec-b9e5-7c1b66c21360",
   "metadata": {
    "tags": []
   },
   "outputs": [],
   "source": [
    "# summary_long_miles_transit = pd.melt(\n",
    "#     summary_subset2,\n",
    "#     id_vars=[\"Station_Name\"],\n",
    "#     value_vars=[\"Transit Mean Miles\", \"Transit Median Miles\", \"Transit Max Miles\"],\n",
    "#     var_name=\"TripType\",  # New column for original measurement names\n",
    "#     value_name=\"Miles\",\n",
    "# )"
   ]
  },
  {
   "cell_type": "code",
   "execution_count": null,
   "id": "d375a38f-43b5-4a7d-b3cd-cff4ea85530a",
   "metadata": {},
   "outputs": [],
   "source": []
  },
  {
   "cell_type": "code",
   "execution_count": 35,
   "id": "c670e6ad-f01a-4be3-b087-209cd1f9e962",
   "metadata": {
    "tags": []
   },
   "outputs": [],
   "source": [
    "# summary_long_min_auto = pd.melt(\n",
    "#     summary_subset2,\n",
    "#     id_vars=[\"Station_Name\"],\n",
    "#     value_vars=[\"Auto Mean Min\", \"Auto Median Min\", \"Auto Max Min\"],\n",
    "#     var_name=\"TripType\",  # New column for original measurement names\n",
    "#     value_name=\"Mintues\",\n",
    "# )"
   ]
  },
  {
   "cell_type": "code",
   "execution_count": 36,
   "id": "baefafd2-565c-419f-ae64-51802c678c65",
   "metadata": {
    "tags": []
   },
   "outputs": [],
   "source": [
    "# summary_long_min_transit = pd.melt(\n",
    "#     summary_subset2,\n",
    "#     id_vars=[\"Station_Name\"],\n",
    "#     value_vars=[\"Transit Mean Min\", \"Transit Median Min\", \"Transit Max Min\"],\n",
    "#     var_name=\"TripType\",  # New column for original measurement names\n",
    "#     value_name=\"Mintues\",\n",
    "# )"
   ]
  },
  {
   "cell_type": "code",
   "execution_count": 37,
   "id": "e9b821a0-b809-4bc6-8851-f8b112b457e0",
   "metadata": {
    "tags": []
   },
   "outputs": [],
   "source": [
    "# summary_long_min.sample()"
   ]
  },
  {
   "cell_type": "code",
   "execution_count": null,
   "id": "7eba9c53-8fe4-4823-9321-686fa7ac485a",
   "metadata": {
    "tags": []
   },
   "outputs": [],
   "source": []
  },
  {
   "cell_type": "code",
   "execution_count": 38,
   "id": "3086800f-a426-41dc-8fcf-de7b1a6b1448",
   "metadata": {
    "scrolled": true,
    "tags": []
   },
   "outputs": [],
   "source": [
    "# alt.Chart(summary_long_miles_auto).mark_bar().encode(\n",
    "#     x=\"Miles:Q\", y=\"TripType:O\", color=\"TripType:N\", row=\"Station_Name:O\"\n",
    "# ).properties(title=\"Travel Distances by Station: Auto\")"
   ]
  },
  {
   "cell_type": "code",
   "execution_count": 39,
   "id": "a31c815b-e56c-4be3-8470-21d3abe95fe5",
   "metadata": {
    "scrolled": true,
    "tags": []
   },
   "outputs": [],
   "source": [
    "# alt.Chart(summary_long_miles_transit).mark_bar().encode(\n",
    "#     x=\"Miles:Q\", y=\"TripType:O\", color=\"TripType:N\", row=\"Station_Name:O\"\n",
    "# ).properties(title=\"Travel Distances by Station: Transit\")"
   ]
  },
  {
   "cell_type": "code",
   "execution_count": null,
   "id": "8e9f6799-d218-498e-83b8-787e62c82aa5",
   "metadata": {},
   "outputs": [],
   "source": []
  },
  {
   "cell_type": "code",
   "execution_count": 40,
   "id": "f2c01b0f-0a66-435c-bf3e-a7cc078bb50a",
   "metadata": {
    "scrolled": true,
    "tags": []
   },
   "outputs": [],
   "source": [
    "# alt.Chart(summary_long_min_auto).mark_bar().encode(\n",
    "#     x=\"Mintues:Q\", y=\"TripType:O\", color=\"TripType:N\", row=\"Station_Name:O\"\n",
    "# ).properties(title=\"Travel Time by Station: Auto\")"
   ]
  },
  {
   "cell_type": "code",
   "execution_count": 41,
   "id": "ca35ae82-d791-4797-a85a-0daa67195d4b",
   "metadata": {
    "scrolled": true,
    "tags": []
   },
   "outputs": [],
   "source": [
    "# alt.Chart(summary_long_min_transit).mark_bar().encode(\n",
    "#     x=\"Mintues:Q\", y=\"TripType:O\", color=\"TripType:N\", row=\"Station_Name:O\"\n",
    "# ).properties(title=\"Travel Time by Station: Transit\")"
   ]
  },
  {
   "cell_type": "code",
   "execution_count": null,
   "id": "375f970e-18fd-4cd7-b1d6-91bf46733609",
   "metadata": {},
   "outputs": [],
   "source": []
  },
  {
   "cell_type": "code",
   "execution_count": 42,
   "id": "afebdca8-1761-4f71-87cc-d8f7dc6907a4",
   "metadata": {
    "scrolled": true,
    "tags": []
   },
   "outputs": [],
   "source": [
    "# alt.Chart(summary_long_miles_all).mark_bar().encode(\n",
    "#     x=\"Miles:Q\", y=\"TripType:O\", color=\"TripType:N\", row=\"Station_Name:O\"\n",
    "# ).properties(title=\"Travel Distance by Station\")"
   ]
  },
  {
   "cell_type": "code",
   "execution_count": 43,
   "id": "2ab8fb40-d004-467f-aa0b-cf96764794cf",
   "metadata": {
    "scrolled": true,
    "tags": []
   },
   "outputs": [],
   "source": [
    "# alt.Chart(summary_long_min_all).mark_bar().encode(\n",
    "#     x=\"Mintues:Q\", y=\"TripType:O\", color=\"TripType:N\", row=\"Station_Name:O\"\n",
    "# ).properties(title=\"Travel Time by Station\")"
   ]
  },
  {
   "cell_type": "code",
   "execution_count": null,
   "id": "7d9c7834-5b90-41fa-9ec9-82c882d171c1",
   "metadata": {},
   "outputs": [],
   "source": []
  },
  {
   "cell_type": "code",
   "execution_count": null,
   "id": "2be576b2-f11a-4bc0-a125-0621a5f59fc2",
   "metadata": {},
   "outputs": [],
   "source": []
  },
  {
   "cell_type": "code",
   "execution_count": 44,
   "id": "10df6e27-617e-4a81-b632-03ca7e6a1b2d",
   "metadata": {
    "scrolled": true,
    "tags": []
   },
   "outputs": [],
   "source": [
    "# (\n",
    "#     summary[\n",
    "#         [\n",
    "#             \"station_name\",\n",
    "#             \"auto_top_tract_traveled_to\",\n",
    "#             \"auto_least_tract_traveled_to\",\n",
    "#             \"transit_top_tract_traveled_to\",\n",
    "#             \"transit_least_tract_traveled_to\",\n",
    "#         ]\n",
    "#     ]\n",
    "# ).head(34)"
   ]
  },
  {
   "cell_type": "code",
   "execution_count": 45,
   "id": "f982c37e-e968-45a8-8689-3e55fd13b4fb",
   "metadata": {
    "scrolled": true,
    "tags": []
   },
   "outputs": [],
   "source": [
    "# (\n",
    "#     summary[\n",
    "#         [\n",
    "#             \"station_name\",\n",
    "#             \"auto_top_tract_traveled_to\",\n",
    "#             \"auto_least_tract_traveled_to\",\n",
    "#             \"transit_top_tract_traveled_to\",\n",
    "#             \"transit_least_tract_traveled_to\",\n",
    "#         ]\n",
    "#     ]\n",
    "# ).tail(33)"
   ]
  },
  {
   "cell_type": "code",
   "execution_count": null,
   "id": "2227eaf4-b764-41f8-a313-246bea2e9c92",
   "metadata": {},
   "outputs": [],
   "source": []
  },
  {
   "cell_type": "code",
   "execution_count": null,
   "id": "c2f185dd-199b-4866-a968-b409fdff51f1",
   "metadata": {},
   "outputs": [],
   "source": []
  },
  {
   "cell_type": "code",
   "execution_count": null,
   "id": "d0c20bcf-9229-43c6-bc9d-ec8b2af52124",
   "metadata": {},
   "outputs": [],
   "source": []
  },
  {
   "cell_type": "code",
   "execution_count": null,
   "id": "28523e82-4652-48b7-9015-9aeadb5ed005",
   "metadata": {},
   "outputs": [],
   "source": []
  },
  {
   "cell_type": "code",
   "execution_count": null,
   "id": "1c0b813b-fa46-4b8a-9ee2-1f52bd8892d9",
   "metadata": {},
   "outputs": [],
   "source": []
  }
 ],
 "metadata": {
  "kernelspec": {
   "display_name": "Python 3 (ipykernel)",
   "language": "python",
   "name": "python3"
  },
  "language_info": {
   "codemirror_mode": {
    "name": "ipython",
    "version": 3
   },
   "file_extension": ".py",
   "mimetype": "text/x-python",
   "name": "python",
   "nbconvert_exporter": "python",
   "pygments_lexer": "ipython3",
   "version": "3.11.10"
  },
  "widgets": {
   "application/vnd.jupyter.widget-state+json": {
    "state": {},
    "version_major": 2,
    "version_minor": 0
   }
  }
 },
 "nbformat": 4,
 "nbformat_minor": 5
}
