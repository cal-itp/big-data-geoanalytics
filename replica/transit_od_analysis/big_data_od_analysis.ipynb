{
 "cells": [
  {
   "cell_type": "markdown",
   "id": "f2c6def6-0bfe-495a-a5c9-ed446ed049c3",
   "metadata": {
    "tags": []
   },
   "source": [
    "## Origin Destination Big Data Analysis"
   ]
  },
  {
   "cell_type": "code",
   "execution_count": null,
   "id": "87465036-2f80-41e3-ad1e-19ba0bad1335",
   "metadata": {},
   "outputs": [],
   "source": []
  },
  {
   "cell_type": "code",
   "execution_count": 1,
   "id": "8ad60270-6c3d-4a63-85f1-1a6ad4197cd5",
   "metadata": {
    "tags": []
   },
   "outputs": [],
   "source": [
    "import gcsfs as fs\n",
    "import geopandas as gpd\n",
    "import numpy as np\n",
    "import pandas as pd\n",
    "from calitp_data_analysis import get_fs, utils\n",
    "from calitp_data_analysis.sql import to_snakecase\n",
    "from siuba import *\n",
    "\n",
    "fs = get_fs()"
   ]
  },
  {
   "cell_type": "code",
   "execution_count": 2,
   "id": "45ca1f1b-2953-4380-a958-a2398d2f7710",
   "metadata": {
    "tags": []
   },
   "outputs": [],
   "source": [
    "import altair as alt\n"
   ]
  },
  {
   "cell_type": "code",
   "execution_count": 3,
   "id": "03b2d218-11e7-433c-b3f0-91e4bf786abc",
   "metadata": {
    "tags": []
   },
   "outputs": [],
   "source": [
    "import replica_utils"
   ]
  },
  {
   "cell_type": "code",
   "execution_count": 4,
   "id": "1023c245-c823-4869-980c-fae067853ea7",
   "metadata": {
    "tags": []
   },
   "outputs": [],
   "source": [
    "pd.set_option(\"display.max_columns\", None)"
   ]
  },
  {
   "cell_type": "code",
   "execution_count": null,
   "id": "d81167a6-d169-4488-9173-4b3fa73409c0",
   "metadata": {},
   "outputs": [],
   "source": []
  },
  {
   "cell_type": "code",
   "execution_count": 5,
   "id": "cd6de0b7-7983-4aed-b7d7-3286b2b187b9",
   "metadata": {
    "tags": []
   },
   "outputs": [],
   "source": [
    "shape_data_name = \"replica-hta_transit_calpolyhumboldt-10_22_25-origin_layer_Humb.zip\"\n",
    "\n",
    "to_cp_file_name = \"replica-hta_transit_calpolyhumboldt-10_22_25-trips_dataset_dest_as_CPH.csv\"\n",
    "from_cp_file_name = \"replica-hta_transit_calpolyhumboldt-10_22_25-trips_dataset_origin_as_CPH.csv\""
   ]
  },
  {
   "cell_type": "code",
   "execution_count": 6,
   "id": "56ad868a-b0c0-4516-9e7b-0abcc3d64f30",
   "metadata": {
    "tags": []
   },
   "outputs": [
    {
     "name": "stderr",
     "output_type": "stream",
     "text": [
      "/home/jovyan/big-data-geoanalytics/replica/transit_od_analysis/replica_utils.py:22: DtypeWarning: Columns (25,26,28,29,30,31,33,36,38,39,40,41,42,43) have mixed types. Specify dtype option on import or set low_memory=False.\n",
      "  df = to_snakecase( pd.read_csv(f\"{gcs_path}{file_name}\"))\n",
      "/home/jovyan/big-data-geoanalytics/replica/transit_od_analysis/replica_utils.py:22: DtypeWarning: Columns (18,19,20,25,26,28,29,30,31,33,36,38,39,40,41,42,43) have mixed types. Specify dtype option on import or set low_memory=False.\n",
      "  df = to_snakecase( pd.read_csv(f\"{gcs_path}{file_name}\"))\n"
     ]
    }
   ],
   "source": [
    "to_cp = replica_utils.read_in_and_prep_replica_data(to_cp_file_name, shape_data_name, file_type=\"to_cp\")\n",
    "\n",
    "from_cp = replica_utils.read_in_and_prep_replica_data(from_cp_file_name, shape_data_name, file_type=\"from_cp\")"
   ]
  },
  {
   "cell_type": "code",
   "execution_count": 7,
   "id": "5d225aa1-8d21-4c61-a016-ca25367f63a3",
   "metadata": {},
   "outputs": [
    {
     "data": {
      "text/plain": [
       "16657"
      ]
     },
     "execution_count": 7,
     "metadata": {},
     "output_type": "execute_result"
    }
   ],
   "source": [
    "len(to_cp)"
   ]
  },
  {
   "cell_type": "code",
   "execution_count": 8,
   "id": "f98443e2-9f9f-4360-a827-96e1091b3c07",
   "metadata": {
    "tags": []
   },
   "outputs": [
    {
     "data": {
      "text/plain": [
       "16623"
      ]
     },
     "execution_count": 8,
     "metadata": {},
     "output_type": "execute_result"
    }
   ],
   "source": [
    "len(from_cp)"
   ]
  },
  {
   "cell_type": "code",
   "execution_count": null,
   "id": "eb32f3bc-1f03-4e24-ac43-5cba2a826bac",
   "metadata": {},
   "outputs": [],
   "source": []
  },
  {
   "cell_type": "code",
   "execution_count": 9,
   "id": "95deaec0-8504-4983-b8ad-efe2eb71b126",
   "metadata": {},
   "outputs": [],
   "source": [
    "df_list = [to_cp, from_cp]"
   ]
  },
  {
   "cell_type": "code",
   "execution_count": 10,
   "id": "340fbce1-988f-47ad-8ea0-ebcdad6878cd",
   "metadata": {
    "tags": []
   },
   "outputs": [],
   "source": [
    "to_cp['trip_type'] = 'Traveling To Cal Poly'\n",
    "from_cp['trip_type'] = 'Traveling From Cal Poly'"
   ]
  },
  {
   "cell_type": "code",
   "execution_count": null,
   "id": "82db3f5f-3746-4770-9146-cb51849e3b8c",
   "metadata": {},
   "outputs": [],
   "source": []
  },
  {
   "cell_type": "code",
   "execution_count": 20,
   "id": "0e465712-3285-4448-a8eb-516adbd85054",
   "metadata": {},
   "outputs": [],
   "source": [
    "summary = replica_utils.return_score_summary(df_list)"
   ]
  },
  {
   "cell_type": "code",
   "execution_count": 26,
   "id": "96e974be-1fd5-4fe3-b74e-b24bf9dbeb8a",
   "metadata": {
    "tags": []
   },
   "outputs": [
    {
     "data": {
      "text/html": [
       "<div>\n",
       "<style scoped>\n",
       "    .dataframe tbody tr th:only-of-type {\n",
       "        vertical-align: middle;\n",
       "    }\n",
       "\n",
       "    .dataframe tbody tr th {\n",
       "        vertical-align: top;\n",
       "    }\n",
       "\n",
       "    .dataframe thead th {\n",
       "        text-align: right;\n",
       "    }\n",
       "</style>\n",
       "<table border=\"1\" class=\"dataframe\">\n",
       "  <thead>\n",
       "    <tr style=\"text-align: right;\">\n",
       "      <th></th>\n",
       "      <th>Trip Type</th>\n",
       "      <th>Total Trips</th>\n",
       "      <th>Number of Auto Trips</th>\n",
       "      <th>Pct Auto Trips</th>\n",
       "      <th>Number of Tranist Trips</th>\n",
       "      <th>Pct Transit Trips</th>\n",
       "      <th>Auto Mean Min</th>\n",
       "      <th>Auto Median Min</th>\n",
       "      <th>Auto Max Min</th>\n",
       "      <th>Auto Mean Miles</th>\n",
       "      <th>Auto Median Miles</th>\n",
       "      <th>Auto Max Miles</th>\n",
       "      <th>Transit Mean Min</th>\n",
       "      <th>Transit Median Min</th>\n",
       "      <th>Transit Max Min</th>\n",
       "      <th>Transit Mean Miles</th>\n",
       "      <th>Transit Median Miles</th>\n",
       "      <th>Transit Max Miles</th>\n",
       "    </tr>\n",
       "  </thead>\n",
       "  <tbody>\n",
       "    <tr>\n",
       "      <th>0</th>\n",
       "      <td>Traveling To Cal Poly</td>\n",
       "      <td>16657</td>\n",
       "      <td>9544</td>\n",
       "      <td>0.572972</td>\n",
       "      <td>37</td>\n",
       "      <td>0.002221</td>\n",
       "      <td>12.679380</td>\n",
       "      <td>5.0</td>\n",
       "      <td>413</td>\n",
       "      <td>9.585425</td>\n",
       "      <td>2.0</td>\n",
       "      <td>393.5</td>\n",
       "      <td>30.054054</td>\n",
       "      <td>22.0</td>\n",
       "      <td>75</td>\n",
       "      <td>5.051351</td>\n",
       "      <td>2.6</td>\n",
       "      <td>14.1</td>\n",
       "    </tr>\n",
       "    <tr>\n",
       "      <th>1</th>\n",
       "      <td>Traveling From Cal Poly</td>\n",
       "      <td>16623</td>\n",
       "      <td>9179</td>\n",
       "      <td>0.552187</td>\n",
       "      <td>22</td>\n",
       "      <td>0.001323</td>\n",
       "      <td>14.812834</td>\n",
       "      <td>5.0</td>\n",
       "      <td>530</td>\n",
       "      <td>11.495370</td>\n",
       "      <td>1.9</td>\n",
       "      <td>549.1</td>\n",
       "      <td>25.409091</td>\n",
       "      <td>21.0</td>\n",
       "      <td>68</td>\n",
       "      <td>5.750000</td>\n",
       "      <td>4.3</td>\n",
       "      <td>15.7</td>\n",
       "    </tr>\n",
       "  </tbody>\n",
       "</table>\n",
       "</div>"
      ],
      "text/plain": [
       "                 Trip Type  Total Trips  Number of Auto Trips  Pct Auto Trips  \\\n",
       "0    Traveling To Cal Poly        16657                  9544        0.572972   \n",
       "1  Traveling From Cal Poly        16623                  9179        0.552187   \n",
       "\n",
       "   Number of Tranist Trips  Pct Transit Trips  Auto Mean Min  Auto Median Min  \\\n",
       "0                       37           0.002221      12.679380              5.0   \n",
       "1                       22           0.001323      14.812834              5.0   \n",
       "\n",
       "   Auto Max Min  Auto Mean Miles  Auto Median Miles  Auto Max Miles  \\\n",
       "0           413         9.585425                2.0           393.5   \n",
       "1           530        11.495370                1.9           549.1   \n",
       "\n",
       "   Transit Mean Min  Transit Median Min  Transit Max Min  Transit Mean Miles  \\\n",
       "0         30.054054                22.0               75            5.051351   \n",
       "1         25.409091                21.0               68            5.750000   \n",
       "\n",
       "   Transit Median Miles  Transit Max Miles  \n",
       "0                   2.6               14.1  \n",
       "1                   4.3               15.7  "
      ]
     },
     "execution_count": 26,
     "metadata": {},
     "output_type": "execute_result"
    }
   ],
   "source": [
    "summary"
   ]
  },
  {
   "cell_type": "code",
   "execution_count": 22,
   "id": "41ae23a0-121f-4c71-ab18-7fe46d325f73",
   "metadata": {
    "tags": []
   },
   "outputs": [],
   "source": [
    "summary.columns = summary.columns.str.title()"
   ]
  },
  {
   "cell_type": "code",
   "execution_count": 27,
   "id": "320d9823-1813-43d3-8286-481b2097e17c",
   "metadata": {
    "tags": []
   },
   "outputs": [
    {
     "data": {
      "text/plain": [
       "Index(['Trip Type', 'Total Trips', 'Number of Auto Trips', 'Pct Auto Trips',\n",
       "       'Number of Tranist Trips', 'Pct Transit Trips', 'Auto Mean Min',\n",
       "       'Auto Median Min', 'Auto Max Min', 'Auto Mean Miles',\n",
       "       'Auto Median Miles', 'Auto Max Miles', 'Transit Mean Min',\n",
       "       'Transit Median Min', 'Transit Max Min', 'Transit Mean Miles',\n",
       "       'Transit Median Miles', 'Transit Max Miles'],\n",
       "      dtype='object')"
      ]
     },
     "execution_count": 27,
     "metadata": {},
     "output_type": "execute_result"
    }
   ],
   "source": [
    "summary.columns"
   ]
  },
  {
   "cell_type": "code",
   "execution_count": 24,
   "id": "5ba8cf27-0b62-460f-abd9-a893a7428e13",
   "metadata": {
    "tags": []
   },
   "outputs": [],
   "source": [
    "summary = summary.rename(\n",
    "    columns={\n",
    "        \"Trip_Type\": \"Trip Type\",\n",
    "        \"Total_Trips\": \"Total Trips\",\n",
    "        \"N_Auto_Trips\": \"Number of Auto Trips\",\n",
    "        \"Pct_Auto_Trips\": \"Pct Auto Trips\",\n",
    "        \"N_Tranist_Trips\": \"Number of Tranist Trips\",\n",
    "        \"Pct_Transit_Trips\": \"Pct Transit Trips\",\n",
    "        \"Auto_Mean_Miles\": \"Auto Mean Miles\",\n",
    "        \"Auto_Median_Miles\": \"Auto Median Miles\",\n",
    "        \"Auto_Max_Miles\": \"Auto Max Miles\",\n",
    "        \"Transit_Mean_Miles\": \"Transit Mean Miles\",\n",
    "        \"Transit_Median_Miles\": \"Transit Median Miles\",\n",
    "        \"Transit_Max_Miles\": \"Transit Max Miles\",\n",
    "        \"Auto_Mean_Minutes\": \"Auto Mean Min\",\n",
    "        \"Auto_Median_Minutes\": \"Auto Median Min\",\n",
    "        \"Auto_Max_Minutes\": \"Auto Max Min\",\n",
    "        \"Transit_Mean_Minutes\": \"Transit Mean Min\",\n",
    "        \"Transit_Median_Minutes\": \"Transit Median Min\",\n",
    "        \"Transit_Max_Minutes\": \"Transit Max Min\",\n",
    "    }\n",
    ")"
   ]
  },
  {
   "cell_type": "code",
   "execution_count": null,
   "id": "fcd89706-ae12-482b-a003-f08af4e7e98d",
   "metadata": {},
   "outputs": [],
   "source": []
  },
  {
   "cell_type": "code",
   "execution_count": 35,
   "id": "9638d22e-00bf-4670-94c7-db9d82717c1f",
   "metadata": {
    "tags": []
   },
   "outputs": [],
   "source": [
    "summary_melt =  pd.melt(\n",
    "        summary,\n",
    "        id_vars=[\"Trip Type\"],\n",
    "        value_vars=['Trip Type', 'Total Trips', 'Number of Auto Trips', 'Pct Auto Trips',\n",
    "                       'Number of Tranist Trips', 'Pct Transit Trips', 'Auto Mean Min',\n",
    "                       'Auto Median Min', 'Auto Max Min', 'Auto Mean Miles',\n",
    "                       'Auto Median Miles', 'Auto Max Miles', 'Transit Mean Min',\n",
    "                       'Transit Median Min', 'Transit Max Min', 'Transit Mean Miles',\n",
    "                       'Transit Median Miles', 'Transit Max Miles'],\n",
    "        var_name=\"Metric\",  # New column for original measurement names\n",
    "\n",
    "    )"
   ]
  },
  {
   "cell_type": "code",
   "execution_count": null,
   "id": "8aa1b8bc-4945-4b8b-91cb-ba56b5a01d0f",
   "metadata": {},
   "outputs": [],
   "source": []
  },
  {
   "cell_type": "code",
   "execution_count": null,
   "id": "83805f31-7933-4ae9-89ea-89801b9f55e0",
   "metadata": {},
   "outputs": [],
   "source": []
  },
  {
   "cell_type": "code",
   "execution_count": 63,
   "id": "3b45d7e3-bb47-49b3-99b7-7457b0e010ec",
   "metadata": {
    "tags": []
   },
   "outputs": [],
   "source": [
    "summary_long_all_miles = pd.melt(\n",
    "    summary,\n",
    "    id_vars=[\"Trip Type\"],\n",
    "    value_vars=[\n",
    "        'Auto Mean Miles', 'Auto Median Miles', 'Auto Max Miles', \n",
    "        'Transit Mean Miles', 'Transit Median Miles', 'Transit Max Miles'],\n",
    "        var_name=\"Metric\",  # New column for original measurement names\n",
    "        value_name=\"Miles\")"
   ]
  },
  {
   "cell_type": "code",
   "execution_count": 62,
   "id": "e52330f5-0ec6-4258-8bd8-a7cfe35f7547",
   "metadata": {
    "tags": []
   },
   "outputs": [],
   "source": [
    "summary_long_all_min = pd.melt(\n",
    "    summary,\n",
    "    id_vars=[\"Trip Type\"],\n",
    "    value_vars=[\n",
    "        'Auto Mean Min', 'Auto Median Min', 'Auto Max Min',\n",
    "        'Transit Mean Min', 'Transit Median Min', 'Transit Max Min'],\n",
    "        var_name=\"Metric\",  # New column for original measurement names\n",
    "        value_name=\"Mintues\")"
   ]
  },
  {
   "cell_type": "code",
   "execution_count": 59,
   "id": "97e9ca2f-e539-4fe3-949c-90a4508dad11",
   "metadata": {
    "tags": []
   },
   "outputs": [
    {
     "data": {
      "text/html": [
       "\n",
       "<style>\n",
       "  #altair-viz-d6a8c7ca49214bd79a5a34b1ede284b2.vega-embed {\n",
       "    width: 100%;\n",
       "    display: flex;\n",
       "  }\n",
       "\n",
       "  #altair-viz-d6a8c7ca49214bd79a5a34b1ede284b2.vega-embed details,\n",
       "  #altair-viz-d6a8c7ca49214bd79a5a34b1ede284b2.vega-embed details summary {\n",
       "    position: relative;\n",
       "  }\n",
       "</style>\n",
       "<div id=\"altair-viz-d6a8c7ca49214bd79a5a34b1ede284b2\"></div>\n",
       "<script type=\"text/javascript\">\n",
       "  var VEGA_DEBUG = (typeof VEGA_DEBUG == \"undefined\") ? {} : VEGA_DEBUG;\n",
       "  (function(spec, embedOpt){\n",
       "    let outputDiv = document.currentScript.previousElementSibling;\n",
       "    if (outputDiv.id !== \"altair-viz-d6a8c7ca49214bd79a5a34b1ede284b2\") {\n",
       "      outputDiv = document.getElementById(\"altair-viz-d6a8c7ca49214bd79a5a34b1ede284b2\");\n",
       "    }\n",
       "\n",
       "    const paths = {\n",
       "      \"vega\": \"https://cdn.jsdelivr.net/npm/vega@5?noext\",\n",
       "      \"vega-lib\": \"https://cdn.jsdelivr.net/npm/vega-lib?noext\",\n",
       "      \"vega-lite\": \"https://cdn.jsdelivr.net/npm/vega-lite@5.20.1?noext\",\n",
       "      \"vega-embed\": \"https://cdn.jsdelivr.net/npm/vega-embed@6?noext\",\n",
       "    };\n",
       "\n",
       "    function maybeLoadScript(lib, version) {\n",
       "      var key = `${lib.replace(\"-\", \"\")}_version`;\n",
       "      return (VEGA_DEBUG[key] == version) ?\n",
       "        Promise.resolve(paths[lib]) :\n",
       "        new Promise(function(resolve, reject) {\n",
       "          var s = document.createElement('script');\n",
       "          document.getElementsByTagName(\"head\")[0].appendChild(s);\n",
       "          s.async = true;\n",
       "          s.onload = () => {\n",
       "            VEGA_DEBUG[key] = version;\n",
       "            return resolve(paths[lib]);\n",
       "          };\n",
       "          s.onerror = () => reject(`Error loading script: ${paths[lib]}`);\n",
       "          s.src = paths[lib];\n",
       "        });\n",
       "    }\n",
       "\n",
       "    function showError(err) {\n",
       "      outputDiv.innerHTML = `<div class=\"error\" style=\"color:red;\">${err}</div>`;\n",
       "      throw err;\n",
       "    }\n",
       "\n",
       "    function displayChart(vegaEmbed) {\n",
       "      vegaEmbed(outputDiv, spec, embedOpt)\n",
       "        .catch(err => showError(`Javascript Error: ${err.message}<br>This usually means there's a typo in your chart specification. See the javascript console for the full traceback.`));\n",
       "    }\n",
       "\n",
       "    if(typeof define === \"function\" && define.amd) {\n",
       "      requirejs.config({paths});\n",
       "      let deps = [\"vega-embed\"];\n",
       "      require(deps, displayChart, err => showError(`Error loading script: ${err.message}`));\n",
       "    } else {\n",
       "      maybeLoadScript(\"vega\", \"5\")\n",
       "        .then(() => maybeLoadScript(\"vega-lite\", \"5.20.1\"))\n",
       "        .then(() => maybeLoadScript(\"vega-embed\", \"6\"))\n",
       "        .catch(showError)\n",
       "        .then(() => displayChart(vegaEmbed));\n",
       "    }\n",
       "  })({\"config\": {\"view\": {\"continuousWidth\": 300, \"continuousHeight\": 300}}, \"data\": {\"name\": \"data-751e678ef5f0716e45dda1ded405d884\"}, \"mark\": {\"type\": \"bar\"}, \"encoding\": {\"color\": {\"field\": \"Metric\", \"type\": \"nominal\"}, \"row\": {\"field\": \"Trip Type\", \"type\": \"ordinal\"}, \"x\": {\"field\": \"Mintues\", \"type\": \"quantitative\"}, \"y\": {\"field\": \"Metric\", \"type\": \"ordinal\"}}, \"title\": \"Travel Length by Trip[ Type & Mode]\", \"$schema\": \"https://vega.github.io/schema/vega-lite/v5.20.1.json\", \"datasets\": {\"data-751e678ef5f0716e45dda1ded405d884\": [{\"Trip Type\": \"Traveling To Cal Poly\", \"Metric\": \"Auto Mean Min\", \"Mintues\": 12.679379715004192}, {\"Trip Type\": \"Traveling From Cal Poly\", \"Metric\": \"Auto Mean Min\", \"Mintues\": 14.812833642008933}, {\"Trip Type\": \"Traveling To Cal Poly\", \"Metric\": \"Auto Median Min\", \"Mintues\": 5.0}, {\"Trip Type\": \"Traveling From Cal Poly\", \"Metric\": \"Auto Median Min\", \"Mintues\": 5.0}, {\"Trip Type\": \"Traveling To Cal Poly\", \"Metric\": \"Auto Max Min\", \"Mintues\": 413.0}, {\"Trip Type\": \"Traveling From Cal Poly\", \"Metric\": \"Auto Max Min\", \"Mintues\": 530.0}, {\"Trip Type\": \"Traveling To Cal Poly\", \"Metric\": \"Transit Mean Min\", \"Mintues\": 30.054054054054053}, {\"Trip Type\": \"Traveling From Cal Poly\", \"Metric\": \"Transit Mean Min\", \"Mintues\": 25.40909090909091}, {\"Trip Type\": \"Traveling To Cal Poly\", \"Metric\": \"Transit Median Min\", \"Mintues\": 22.0}, {\"Trip Type\": \"Traveling From Cal Poly\", \"Metric\": \"Transit Median Min\", \"Mintues\": 21.0}, {\"Trip Type\": \"Traveling To Cal Poly\", \"Metric\": \"Transit Max Min\", \"Mintues\": 75.0}, {\"Trip Type\": \"Traveling From Cal Poly\", \"Metric\": \"Transit Max Min\", \"Mintues\": 68.0}]}}, {\"mode\": \"vega-lite\"});\n",
       "</script>"
      ],
      "text/plain": [
       "alt.Chart(...)"
      ]
     },
     "execution_count": 59,
     "metadata": {},
     "output_type": "execute_result"
    }
   ],
   "source": [
    "alt.Chart(summary_long_all_min).mark_bar().encode(\n",
    "    x=\"Mintues:Q\", y=\"Metric:O\", color=\"Metric:N\", row=\"Trip Type:O\"\n",
    ").properties(title=\"Travel Length by Trip[ Type & Mode]\")"
   ]
  },
  {
   "cell_type": "code",
   "execution_count": 52,
   "id": "55fb8b3d-254e-4e2e-934e-692263a806f0",
   "metadata": {
    "tags": []
   },
   "outputs": [
    {
     "data": {
      "text/html": [
       "\n",
       "<style>\n",
       "  #altair-viz-d14a7298b2244b3198a9c54b278de833.vega-embed {\n",
       "    width: 100%;\n",
       "    display: flex;\n",
       "  }\n",
       "\n",
       "  #altair-viz-d14a7298b2244b3198a9c54b278de833.vega-embed details,\n",
       "  #altair-viz-d14a7298b2244b3198a9c54b278de833.vega-embed details summary {\n",
       "    position: relative;\n",
       "  }\n",
       "</style>\n",
       "<div id=\"altair-viz-d14a7298b2244b3198a9c54b278de833\"></div>\n",
       "<script type=\"text/javascript\">\n",
       "  var VEGA_DEBUG = (typeof VEGA_DEBUG == \"undefined\") ? {} : VEGA_DEBUG;\n",
       "  (function(spec, embedOpt){\n",
       "    let outputDiv = document.currentScript.previousElementSibling;\n",
       "    if (outputDiv.id !== \"altair-viz-d14a7298b2244b3198a9c54b278de833\") {\n",
       "      outputDiv = document.getElementById(\"altair-viz-d14a7298b2244b3198a9c54b278de833\");\n",
       "    }\n",
       "\n",
       "    const paths = {\n",
       "      \"vega\": \"https://cdn.jsdelivr.net/npm/vega@5?noext\",\n",
       "      \"vega-lib\": \"https://cdn.jsdelivr.net/npm/vega-lib?noext\",\n",
       "      \"vega-lite\": \"https://cdn.jsdelivr.net/npm/vega-lite@5.20.1?noext\",\n",
       "      \"vega-embed\": \"https://cdn.jsdelivr.net/npm/vega-embed@6?noext\",\n",
       "    };\n",
       "\n",
       "    function maybeLoadScript(lib, version) {\n",
       "      var key = `${lib.replace(\"-\", \"\")}_version`;\n",
       "      return (VEGA_DEBUG[key] == version) ?\n",
       "        Promise.resolve(paths[lib]) :\n",
       "        new Promise(function(resolve, reject) {\n",
       "          var s = document.createElement('script');\n",
       "          document.getElementsByTagName(\"head\")[0].appendChild(s);\n",
       "          s.async = true;\n",
       "          s.onload = () => {\n",
       "            VEGA_DEBUG[key] = version;\n",
       "            return resolve(paths[lib]);\n",
       "          };\n",
       "          s.onerror = () => reject(`Error loading script: ${paths[lib]}`);\n",
       "          s.src = paths[lib];\n",
       "        });\n",
       "    }\n",
       "\n",
       "    function showError(err) {\n",
       "      outputDiv.innerHTML = `<div class=\"error\" style=\"color:red;\">${err}</div>`;\n",
       "      throw err;\n",
       "    }\n",
       "\n",
       "    function displayChart(vegaEmbed) {\n",
       "      vegaEmbed(outputDiv, spec, embedOpt)\n",
       "        .catch(err => showError(`Javascript Error: ${err.message}<br>This usually means there's a typo in your chart specification. See the javascript console for the full traceback.`));\n",
       "    }\n",
       "\n",
       "    if(typeof define === \"function\" && define.amd) {\n",
       "      requirejs.config({paths});\n",
       "      let deps = [\"vega-embed\"];\n",
       "      require(deps, displayChart, err => showError(`Error loading script: ${err.message}`));\n",
       "    } else {\n",
       "      maybeLoadScript(\"vega\", \"5\")\n",
       "        .then(() => maybeLoadScript(\"vega-lite\", \"5.20.1\"))\n",
       "        .then(() => maybeLoadScript(\"vega-embed\", \"6\"))\n",
       "        .catch(showError)\n",
       "        .then(() => displayChart(vegaEmbed));\n",
       "    }\n",
       "  })({\"config\": {\"view\": {\"continuousWidth\": 300, \"continuousHeight\": 300}}, \"data\": {\"name\": \"data-24e225de6d266e8fd7113f45b89bd353\"}, \"mark\": {\"type\": \"bar\"}, \"encoding\": {\"color\": {\"field\": \"Metric\", \"type\": \"nominal\"}, \"row\": {\"field\": \"Trip Type\", \"type\": \"ordinal\"}, \"x\": {\"field\": \"Miles\", \"type\": \"quantitative\"}, \"y\": {\"field\": \"Metric\", \"type\": \"ordinal\"}}, \"title\": \"Travel Distance by Trip Type & Mode\", \"$schema\": \"https://vega.github.io/schema/vega-lite/v5.20.1.json\", \"datasets\": {\"data-24e225de6d266e8fd7113f45b89bd353\": [{\"Trip Type\": \"Traveling To Cal Poly\", \"Metric\": \"Auto Mean Miles\", \"Miles\": 9.585425398155909}, {\"Trip Type\": \"Traveling From Cal Poly\", \"Metric\": \"Auto Mean Miles\", \"Miles\": 11.495369865998475}, {\"Trip Type\": \"Traveling To Cal Poly\", \"Metric\": \"Auto Median Miles\", \"Miles\": 2.0}, {\"Trip Type\": \"Traveling From Cal Poly\", \"Metric\": \"Auto Median Miles\", \"Miles\": 1.9}, {\"Trip Type\": \"Traveling To Cal Poly\", \"Metric\": \"Auto Max Miles\", \"Miles\": 393.5}, {\"Trip Type\": \"Traveling From Cal Poly\", \"Metric\": \"Auto Max Miles\", \"Miles\": 549.1}, {\"Trip Type\": \"Traveling To Cal Poly\", \"Metric\": \"Transit Mean Miles\", \"Miles\": 5.051351351351352}, {\"Trip Type\": \"Traveling From Cal Poly\", \"Metric\": \"Transit Mean Miles\", \"Miles\": 5.75}, {\"Trip Type\": \"Traveling To Cal Poly\", \"Metric\": \"Transit Median Miles\", \"Miles\": 2.6}, {\"Trip Type\": \"Traveling From Cal Poly\", \"Metric\": \"Transit Median Miles\", \"Miles\": 4.3}, {\"Trip Type\": \"Traveling To Cal Poly\", \"Metric\": \"Transit Max Miles\", \"Miles\": 14.1}, {\"Trip Type\": \"Traveling From Cal Poly\", \"Metric\": \"Transit Max Miles\", \"Miles\": 15.7}]}}, {\"mode\": \"vega-lite\"});\n",
       "</script>"
      ],
      "text/plain": [
       "alt.Chart(...)"
      ]
     },
     "execution_count": 52,
     "metadata": {},
     "output_type": "execute_result"
    }
   ],
   "source": [
    "alt.Chart(summary_long_all_miles).mark_bar().encode(\n",
    "    x=\"Miles:Q\", y=\"Metric:O\", color=\"Metric:N\", row=\"Trip Type:O\"\n",
    ").properties(title=\"Travel Distance by Trip Type & Mode\")"
   ]
  },
  {
   "cell_type": "code",
   "execution_count": null,
   "id": "b004f6ea-a306-450f-a6d0-7eaf710a9b59",
   "metadata": {},
   "outputs": [],
   "source": []
  },
  {
   "cell_type": "code",
   "execution_count": 18,
   "id": "522963d5-1701-4fd1-b703-4df0a4e4d88a",
   "metadata": {
    "tags": []
   },
   "outputs": [],
   "source": [
    "from_cp_mode = replica_utils.get_mode_split(from_cp)\n",
    "to_cp_mode = replica_utils.get_mode_split(to_cp)\n",
    "\n",
    "modes_breakdown = pd.concat([to_cp_mode, from_cp_mode])"
   ]
  },
  {
   "cell_type": "code",
   "execution_count": null,
   "id": "fd2ac6eb-0c77-4cfa-98e3-579656ab8e78",
   "metadata": {
    "tags": []
   },
   "outputs": [],
   "source": []
  },
  {
   "cell_type": "code",
   "execution_count": 19,
   "id": "7da5b50e-975d-42d9-b551-aa216bf9b741",
   "metadata": {},
   "outputs": [
    {
     "data": {
      "text/html": [
       "\n",
       "<style>\n",
       "  #altair-viz-7129208f57824f638a9272998869db04.vega-embed {\n",
       "    width: 100%;\n",
       "    display: flex;\n",
       "  }\n",
       "\n",
       "  #altair-viz-7129208f57824f638a9272998869db04.vega-embed details,\n",
       "  #altair-viz-7129208f57824f638a9272998869db04.vega-embed details summary {\n",
       "    position: relative;\n",
       "  }\n",
       "</style>\n",
       "<div id=\"altair-viz-7129208f57824f638a9272998869db04\"></div>\n",
       "<script type=\"text/javascript\">\n",
       "  var VEGA_DEBUG = (typeof VEGA_DEBUG == \"undefined\") ? {} : VEGA_DEBUG;\n",
       "  (function(spec, embedOpt){\n",
       "    let outputDiv = document.currentScript.previousElementSibling;\n",
       "    if (outputDiv.id !== \"altair-viz-7129208f57824f638a9272998869db04\") {\n",
       "      outputDiv = document.getElementById(\"altair-viz-7129208f57824f638a9272998869db04\");\n",
       "    }\n",
       "\n",
       "    const paths = {\n",
       "      \"vega\": \"https://cdn.jsdelivr.net/npm/vega@5?noext\",\n",
       "      \"vega-lib\": \"https://cdn.jsdelivr.net/npm/vega-lib?noext\",\n",
       "      \"vega-lite\": \"https://cdn.jsdelivr.net/npm/vega-lite@5.20.1?noext\",\n",
       "      \"vega-embed\": \"https://cdn.jsdelivr.net/npm/vega-embed@6?noext\",\n",
       "    };\n",
       "\n",
       "    function maybeLoadScript(lib, version) {\n",
       "      var key = `${lib.replace(\"-\", \"\")}_version`;\n",
       "      return (VEGA_DEBUG[key] == version) ?\n",
       "        Promise.resolve(paths[lib]) :\n",
       "        new Promise(function(resolve, reject) {\n",
       "          var s = document.createElement('script');\n",
       "          document.getElementsByTagName(\"head\")[0].appendChild(s);\n",
       "          s.async = true;\n",
       "          s.onload = () => {\n",
       "            VEGA_DEBUG[key] = version;\n",
       "            return resolve(paths[lib]);\n",
       "          };\n",
       "          s.onerror = () => reject(`Error loading script: ${paths[lib]}`);\n",
       "          s.src = paths[lib];\n",
       "        });\n",
       "    }\n",
       "\n",
       "    function showError(err) {\n",
       "      outputDiv.innerHTML = `<div class=\"error\" style=\"color:red;\">${err}</div>`;\n",
       "      throw err;\n",
       "    }\n",
       "\n",
       "    function displayChart(vegaEmbed) {\n",
       "      vegaEmbed(outputDiv, spec, embedOpt)\n",
       "        .catch(err => showError(`Javascript Error: ${err.message}<br>This usually means there's a typo in your chart specification. See the javascript console for the full traceback.`));\n",
       "    }\n",
       "\n",
       "    if(typeof define === \"function\" && define.amd) {\n",
       "      requirejs.config({paths});\n",
       "      let deps = [\"vega-embed\"];\n",
       "      require(deps, displayChart, err => showError(`Error loading script: ${err.message}`));\n",
       "    } else {\n",
       "      maybeLoadScript(\"vega\", \"5\")\n",
       "        .then(() => maybeLoadScript(\"vega-lite\", \"5.20.1\"))\n",
       "        .then(() => maybeLoadScript(\"vega-embed\", \"6\"))\n",
       "        .catch(showError)\n",
       "        .then(() => displayChart(vegaEmbed));\n",
       "    }\n",
       "  })({\"config\": {\"view\": {\"continuousWidth\": 300, \"continuousHeight\": 300}}, \"data\": {\"name\": \"data-fe6d31c4ee54645b4e7a363dc1e5f8c7\"}, \"mark\": {\"type\": \"bar\", \"size\": 150}, \"encoding\": {\"color\": {\"field\": \"mode\", \"type\": \"nominal\"}, \"x\": {\"field\": \"df_name\", \"title\": \"Trip Type\", \"type\": \"ordinal\"}, \"y\": {\"field\": \"total_trips\", \"title\": \"Total Number of Trips\", \"type\": \"quantitative\"}}, \"height\": 300, \"width\": 600, \"$schema\": \"https://vega.github.io/schema/vega-lite/v5.20.1.json\", \"datasets\": {\"data-fe6d31c4ee54645b4e7a363dc1e5f8c7\": [{\"df_name\": \"Traveling To Cal Poly\", \"mode\": \"commercial\", \"pct_trips\": 0.00342198475115567, \"total_trips\": 57}, {\"df_name\": \"Traveling To Cal Poly\", \"mode\": \"auto_passenger\", \"pct_trips\": 0.1475055532208681, \"total_trips\": 2457}, {\"df_name\": \"Traveling To Cal Poly\", \"mode\": \"private_auto\", \"pct_trips\": 0.5729723239478898, \"total_trips\": 9544}, {\"df_name\": \"Traveling To Cal Poly\", \"mode\": \"walking\", \"pct_trips\": 0.23611694782974124, \"total_trips\": 3933}, {\"df_name\": \"Traveling To Cal Poly\", \"mode\": \"on_demand_auto\", \"pct_trips\": 0.0045026115146785135, \"total_trips\": 75}, {\"df_name\": \"Traveling To Cal Poly\", \"mode\": \"public_transit\", \"pct_trips\": 0.0022212883472414, \"total_trips\": 37}, {\"df_name\": \"Traveling To Cal Poly\", \"mode\": \"other_travel_mode\", \"pct_trips\": 0.015248844329711233, \"total_trips\": 254}, {\"df_name\": \"Traveling To Cal Poly\", \"mode\": \"biking\", \"pct_trips\": 0.018010446058714054, \"total_trips\": 300}, {\"df_name\": \"Traveling From Cal Poly\", \"mode\": \"commercial\", \"pct_trips\": 0.004872766648619383, \"total_trips\": 81}, {\"df_name\": \"Traveling From Cal Poly\", \"mode\": \"auto_passenger\", \"pct_trips\": 0.18131504541899776, \"total_trips\": 3014}, {\"df_name\": \"Traveling From Cal Poly\", \"mode\": \"private_auto\", \"pct_trips\": 0.5521867292305841, \"total_trips\": 9179}, {\"df_name\": \"Traveling From Cal Poly\", \"mode\": \"walking\", \"pct_trips\": 0.22174096131865487, \"total_trips\": 3686}, {\"df_name\": \"Traveling From Cal Poly\", \"mode\": \"public_transit\", \"pct_trips\": 0.0013234674848102027, \"total_trips\": 22}, {\"df_name\": \"Traveling From Cal Poly\", \"mode\": \"other_travel_mode\", \"pct_trips\": 0.017084762076640798, \"total_trips\": 284}, {\"df_name\": \"Traveling From Cal Poly\", \"mode\": \"on_demand_auto\", \"pct_trips\": 0.004090717680322445, \"total_trips\": 68}, {\"df_name\": \"Traveling From Cal Poly\", \"mode\": \"biking\", \"pct_trips\": 0.01738555014137039, \"total_trips\": 289}]}}, {\"mode\": \"vega-lite\"});\n",
       "</script>"
      ],
      "text/plain": [
       "alt.Chart(...)"
      ]
     },
     "execution_count": 19,
     "metadata": {},
     "output_type": "execute_result"
    }
   ],
   "source": [
    "alt.Chart(modes_breakdown).mark_bar(size=150).encode(\n",
    "    x=alt.X(\"df_name:O\", title = \"Trip Type\"),\n",
    "    y=alt.Y(\"total_trips:Q\", title=\"Total Number of Trips\"),\n",
    "    color=\"mode:N\"\n",
    ").properties(\n",
    "    width=600,  \n",
    "    height=300 )\n"
   ]
  },
  {
   "cell_type": "code",
   "execution_count": 20,
   "id": "8cc4afaf-2491-4a08-a3d0-e908259d4648",
   "metadata": {
    "tags": []
   },
   "outputs": [
    {
     "data": {
      "text/html": [
       "\n",
       "<style>\n",
       "  #altair-viz-ad3ed098da70434a928b400d6f0aa2fe.vega-embed {\n",
       "    width: 100%;\n",
       "    display: flex;\n",
       "  }\n",
       "\n",
       "  #altair-viz-ad3ed098da70434a928b400d6f0aa2fe.vega-embed details,\n",
       "  #altair-viz-ad3ed098da70434a928b400d6f0aa2fe.vega-embed details summary {\n",
       "    position: relative;\n",
       "  }\n",
       "</style>\n",
       "<div id=\"altair-viz-ad3ed098da70434a928b400d6f0aa2fe\"></div>\n",
       "<script type=\"text/javascript\">\n",
       "  var VEGA_DEBUG = (typeof VEGA_DEBUG == \"undefined\") ? {} : VEGA_DEBUG;\n",
       "  (function(spec, embedOpt){\n",
       "    let outputDiv = document.currentScript.previousElementSibling;\n",
       "    if (outputDiv.id !== \"altair-viz-ad3ed098da70434a928b400d6f0aa2fe\") {\n",
       "      outputDiv = document.getElementById(\"altair-viz-ad3ed098da70434a928b400d6f0aa2fe\");\n",
       "    }\n",
       "\n",
       "    const paths = {\n",
       "      \"vega\": \"https://cdn.jsdelivr.net/npm/vega@5?noext\",\n",
       "      \"vega-lib\": \"https://cdn.jsdelivr.net/npm/vega-lib?noext\",\n",
       "      \"vega-lite\": \"https://cdn.jsdelivr.net/npm/vega-lite@5.20.1?noext\",\n",
       "      \"vega-embed\": \"https://cdn.jsdelivr.net/npm/vega-embed@6?noext\",\n",
       "    };\n",
       "\n",
       "    function maybeLoadScript(lib, version) {\n",
       "      var key = `${lib.replace(\"-\", \"\")}_version`;\n",
       "      return (VEGA_DEBUG[key] == version) ?\n",
       "        Promise.resolve(paths[lib]) :\n",
       "        new Promise(function(resolve, reject) {\n",
       "          var s = document.createElement('script');\n",
       "          document.getElementsByTagName(\"head\")[0].appendChild(s);\n",
       "          s.async = true;\n",
       "          s.onload = () => {\n",
       "            VEGA_DEBUG[key] = version;\n",
       "            return resolve(paths[lib]);\n",
       "          };\n",
       "          s.onerror = () => reject(`Error loading script: ${paths[lib]}`);\n",
       "          s.src = paths[lib];\n",
       "        });\n",
       "    }\n",
       "\n",
       "    function showError(err) {\n",
       "      outputDiv.innerHTML = `<div class=\"error\" style=\"color:red;\">${err}</div>`;\n",
       "      throw err;\n",
       "    }\n",
       "\n",
       "    function displayChart(vegaEmbed) {\n",
       "      vegaEmbed(outputDiv, spec, embedOpt)\n",
       "        .catch(err => showError(`Javascript Error: ${err.message}<br>This usually means there's a typo in your chart specification. See the javascript console for the full traceback.`));\n",
       "    }\n",
       "\n",
       "    if(typeof define === \"function\" && define.amd) {\n",
       "      requirejs.config({paths});\n",
       "      let deps = [\"vega-embed\"];\n",
       "      require(deps, displayChart, err => showError(`Error loading script: ${err.message}`));\n",
       "    } else {\n",
       "      maybeLoadScript(\"vega\", \"5\")\n",
       "        .then(() => maybeLoadScript(\"vega-lite\", \"5.20.1\"))\n",
       "        .then(() => maybeLoadScript(\"vega-embed\", \"6\"))\n",
       "        .catch(showError)\n",
       "        .then(() => displayChart(vegaEmbed));\n",
       "    }\n",
       "  })({\"config\": {\"view\": {\"continuousWidth\": 300, \"continuousHeight\": 300}}, \"data\": {\"name\": \"data-fe6d31c4ee54645b4e7a363dc1e5f8c7\"}, \"mark\": {\"type\": \"bar\"}, \"encoding\": {\"color\": {\"field\": \"df_name\", \"legend\": {\"title\": \"Trip Type\"}, \"type\": \"nominal\"}, \"column\": {\"field\": \"mode\", \"title\": \"Mode\", \"type\": \"nominal\"}, \"x\": {\"field\": \"df_name\", \"title\": \"Trip Type\", \"type\": \"ordinal\"}, \"y\": {\"field\": \"pct_trips\", \"title\": \"Pct of Total Trips\", \"type\": \"quantitative\"}}, \"height\": 400, \"width\": 100, \"$schema\": \"https://vega.github.io/schema/vega-lite/v5.20.1.json\", \"datasets\": {\"data-fe6d31c4ee54645b4e7a363dc1e5f8c7\": [{\"df_name\": \"Traveling To Cal Poly\", \"mode\": \"commercial\", \"pct_trips\": 0.00342198475115567, \"total_trips\": 57}, {\"df_name\": \"Traveling To Cal Poly\", \"mode\": \"auto_passenger\", \"pct_trips\": 0.1475055532208681, \"total_trips\": 2457}, {\"df_name\": \"Traveling To Cal Poly\", \"mode\": \"private_auto\", \"pct_trips\": 0.5729723239478898, \"total_trips\": 9544}, {\"df_name\": \"Traveling To Cal Poly\", \"mode\": \"walking\", \"pct_trips\": 0.23611694782974124, \"total_trips\": 3933}, {\"df_name\": \"Traveling To Cal Poly\", \"mode\": \"on_demand_auto\", \"pct_trips\": 0.0045026115146785135, \"total_trips\": 75}, {\"df_name\": \"Traveling To Cal Poly\", \"mode\": \"public_transit\", \"pct_trips\": 0.0022212883472414, \"total_trips\": 37}, {\"df_name\": \"Traveling To Cal Poly\", \"mode\": \"other_travel_mode\", \"pct_trips\": 0.015248844329711233, \"total_trips\": 254}, {\"df_name\": \"Traveling To Cal Poly\", \"mode\": \"biking\", \"pct_trips\": 0.018010446058714054, \"total_trips\": 300}, {\"df_name\": \"Traveling From Cal Poly\", \"mode\": \"commercial\", \"pct_trips\": 0.004872766648619383, \"total_trips\": 81}, {\"df_name\": \"Traveling From Cal Poly\", \"mode\": \"auto_passenger\", \"pct_trips\": 0.18131504541899776, \"total_trips\": 3014}, {\"df_name\": \"Traveling From Cal Poly\", \"mode\": \"private_auto\", \"pct_trips\": 0.5521867292305841, \"total_trips\": 9179}, {\"df_name\": \"Traveling From Cal Poly\", \"mode\": \"walking\", \"pct_trips\": 0.22174096131865487, \"total_trips\": 3686}, {\"df_name\": \"Traveling From Cal Poly\", \"mode\": \"public_transit\", \"pct_trips\": 0.0013234674848102027, \"total_trips\": 22}, {\"df_name\": \"Traveling From Cal Poly\", \"mode\": \"other_travel_mode\", \"pct_trips\": 0.017084762076640798, \"total_trips\": 284}, {\"df_name\": \"Traveling From Cal Poly\", \"mode\": \"on_demand_auto\", \"pct_trips\": 0.004090717680322445, \"total_trips\": 68}, {\"df_name\": \"Traveling From Cal Poly\", \"mode\": \"biking\", \"pct_trips\": 0.01738555014137039, \"total_trips\": 289}]}}, {\"mode\": \"vega-lite\"});\n",
       "</script>"
      ],
      "text/plain": [
       "alt.Chart(...)"
      ]
     },
     "execution_count": 20,
     "metadata": {},
     "output_type": "execute_result"
    }
   ],
   "source": [
    "alt.Chart(modes_breakdown).mark_bar().encode(\n",
    "    x=alt.X('df_name:O', title =\"Trip Type\"),\n",
    "    y= alt.Y('pct_trips:Q', title=\"Pct of Total Trips\"),\n",
    "    color=alt.Color('df_name:N', legend=alt.Legend(title='Trip Type')),\n",
    "    column= alt.Column('mode:N', title=\"Mode\")\n",
    ").properties(width = 100, height = 400)"
   ]
  },
  {
   "cell_type": "code",
   "execution_count": null,
   "id": "78be0983-ff21-4b2b-92ba-0f34001a78be",
   "metadata": {},
   "outputs": [],
   "source": []
  },
  {
   "cell_type": "code",
   "execution_count": null,
   "id": "d398638b-4eed-40e3-ab44-1e6fac7a979e",
   "metadata": {},
   "outputs": [],
   "source": []
  },
  {
   "cell_type": "code",
   "execution_count": null,
   "id": "4a546f97-de7e-49a0-8439-d08a16058da2",
   "metadata": {},
   "outputs": [],
   "source": []
  },
  {
   "cell_type": "code",
   "execution_count": null,
   "id": "5c716ff5-2756-415c-bb51-604044236e7e",
   "metadata": {},
   "outputs": [],
   "source": []
  },
  {
   "cell_type": "code",
   "execution_count": null,
   "id": "91007d5e-49f6-42a2-a4c9-019876de6212",
   "metadata": {},
   "outputs": [],
   "source": []
  },
  {
   "cell_type": "code",
   "execution_count": null,
   "id": "aa9119c3-9d36-42e6-b421-8fc701b92b9d",
   "metadata": {},
   "outputs": [],
   "source": []
  },
  {
   "cell_type": "code",
   "execution_count": null,
   "id": "d0f73936-799c-4e96-9bca-8697d62317b7",
   "metadata": {},
   "outputs": [],
   "source": []
  },
  {
   "cell_type": "code",
   "execution_count": null,
   "id": "bcc7efbb-19b3-4919-8a0c-45dbc3c6cc0d",
   "metadata": {},
   "outputs": [],
   "source": []
  },
  {
   "cell_type": "code",
   "execution_count": null,
   "id": "41acc0ea-7c58-4bbf-9afc-bf5b0e63b8d7",
   "metadata": {},
   "outputs": [],
   "source": []
  },
  {
   "cell_type": "code",
   "execution_count": null,
   "id": "7d4b42b1-a87e-4ac7-ac15-8607e483c8d2",
   "metadata": {},
   "outputs": [],
   "source": []
  }
 ],
 "metadata": {
  "kernelspec": {
   "display_name": "Python 3 (ipykernel)",
   "language": "python",
   "name": "python3"
  },
  "language_info": {
   "codemirror_mode": {
    "name": "ipython",
    "version": 3
   },
   "file_extension": ".py",
   "mimetype": "text/x-python",
   "name": "python",
   "nbconvert_exporter": "python",
   "pygments_lexer": "ipython3",
   "version": "3.11.10"
  },
  "widgets": {
   "application/vnd.jupyter.widget-state+json": {
    "state": {},
    "version_major": 2,
    "version_minor": 0
   }
  }
 },
 "nbformat": 4,
 "nbformat_minor": 5
}
