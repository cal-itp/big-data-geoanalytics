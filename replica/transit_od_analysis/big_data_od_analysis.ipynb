{
 "cells": [
  {
   "cell_type": "markdown",
   "id": "f2c6def6-0bfe-495a-a5c9-ed446ed049c3",
   "metadata": {
    "tags": []
   },
   "source": [
    "## Origin Destination Big Data Analysis"
   ]
  },
  {
   "cell_type": "code",
   "execution_count": null,
   "id": "87465036-2f80-41e3-ad1e-19ba0bad1335",
   "metadata": {},
   "outputs": [],
   "source": []
  },
  {
   "cell_type": "code",
   "execution_count": 1,
   "id": "8ad60270-6c3d-4a63-85f1-1a6ad4197cd5",
   "metadata": {
    "tags": []
   },
   "outputs": [],
   "source": [
    "import gcsfs as fs\n",
    "import geopandas as gpd\n",
    "import numpy as np\n",
    "import pandas as pd\n",
    "from calitp_data_analysis import get_fs, utils\n",
    "from calitp_data_analysis.sql import to_snakecase\n",
    "from siuba import *\n",
    "\n",
    "fs = get_fs()"
   ]
  },
  {
   "cell_type": "code",
   "execution_count": 2,
   "id": "45ca1f1b-2953-4380-a958-a2398d2f7710",
   "metadata": {
    "tags": []
   },
   "outputs": [],
   "source": [
    "import altair as alt\n"
   ]
  },
  {
   "cell_type": "code",
   "execution_count": 3,
   "id": "1023c245-c823-4869-980c-fae067853ea7",
   "metadata": {
    "tags": []
   },
   "outputs": [],
   "source": [
    "pd.set_option(\"display.max_columns\", None)\n"
   ]
  },
  {
   "cell_type": "code",
   "execution_count": null,
   "id": "fee8214f-bb41-435b-8cf5-b0a65fca6f10",
   "metadata": {},
   "outputs": [],
   "source": []
  },
  {
   "cell_type": "code",
   "execution_count": 4,
   "id": "23d4f2b4-1034-48af-b997-5efc50fdb70f",
   "metadata": {
    "tags": []
   },
   "outputs": [],
   "source": [
    "gcs_path = \"gs://calitp-analytics-data/data-analyses/big_data/hta/\""
   ]
  },
  {
   "cell_type": "code",
   "execution_count": 5,
   "id": "49111c22-7bc5-4bd9-b5ae-b6d0bd7770a9",
   "metadata": {
    "tags": []
   },
   "outputs": [
    {
     "name": "stderr",
     "output_type": "stream",
     "text": [
      "/tmp/ipykernel_464/2358409840.py:1: DtypeWarning: Columns (18,19,20,25,26,28,29,30,31,33,36,38,39,40,41,42,43) have mixed types. Specify dtype option on import or set low_memory=False.\n",
      "  from_cp = to_snakecase( pd.read_csv(f\"{gcs_path}replica-hta_transit_calpolyhumboldt-10_22_25-trips_dataset_origin_as_CPH.csv\"))\n"
     ]
    }
   ],
   "source": [
    "from_cp = to_snakecase( pd.read_csv(f\"{gcs_path}replica-hta_transit_calpolyhumboldt-10_22_25-trips_dataset_origin_as_CPH.csv\"))    "
   ]
  },
  {
   "cell_type": "code",
   "execution_count": 6,
   "id": "edf1b193-4991-4c1a-a692-76599ee6e43b",
   "metadata": {
    "tags": []
   },
   "outputs": [
    {
     "data": {
      "text/html": [
       "<div>\n",
       "<style scoped>\n",
       "    .dataframe tbody tr th:only-of-type {\n",
       "        vertical-align: middle;\n",
       "    }\n",
       "\n",
       "    .dataframe tbody tr th {\n",
       "        vertical-align: top;\n",
       "    }\n",
       "\n",
       "    .dataframe thead th {\n",
       "        text-align: right;\n",
       "    }\n",
       "</style>\n",
       "<table border=\"1\" class=\"dataframe\">\n",
       "  <thead>\n",
       "    <tr style=\"text-align: right;\">\n",
       "      <th></th>\n",
       "      <th>activity_id</th>\n",
       "      <th>origin_bgrp_2020</th>\n",
       "      <th>origin_trct_2020</th>\n",
       "      <th>origin_cty_2020</th>\n",
       "      <th>origin_st_2020</th>\n",
       "      <th>destination_bgrp_2020</th>\n",
       "      <th>destination_trct_2020</th>\n",
       "      <th>destination_cty_2020</th>\n",
       "      <th>destination_st_2020</th>\n",
       "      <th>primary_mode</th>\n",
       "      <th>trip_purpose</th>\n",
       "      <th>previous_trip_purpose</th>\n",
       "      <th>trip_start_time</th>\n",
       "      <th>trip_end_time</th>\n",
       "      <th>trip_duration_minutes</th>\n",
       "      <th>trip_distance_miles</th>\n",
       "      <th>vehicle_type</th>\n",
       "      <th>vehicle_fuel_type</th>\n",
       "      <th>transit_submode</th>\n",
       "      <th>transit_agency</th>\n",
       "      <th>transit_route</th>\n",
       "      <th>origin_land_use</th>\n",
       "      <th>origin_building_use</th>\n",
       "      <th>destination_land_use</th>\n",
       "      <th>destination_building_use</th>\n",
       "      <th>trip_taker_person_id</th>\n",
       "      <th>trip_taker_household_id</th>\n",
       "      <th>trip_taker_age</th>\n",
       "      <th>trip_taker_sex</th>\n",
       "      <th>trip_taker_race_ethnicity</th>\n",
       "      <th>trip_taker_employment_status</th>\n",
       "      <th>trip_taker_wfh</th>\n",
       "      <th>trip_taker_individual_income</th>\n",
       "      <th>trip_taker_commute_mode</th>\n",
       "      <th>trip_taker_household_size</th>\n",
       "      <th>trip_taker_household_income</th>\n",
       "      <th>trip_taker_available_vehicles</th>\n",
       "      <th>trip_taker_resident_type</th>\n",
       "      <th>trip_taker_industry</th>\n",
       "      <th>trip_taker_building_type</th>\n",
       "      <th>trip_taker_school_grade_attending</th>\n",
       "      <th>trip_taker_education</th>\n",
       "      <th>trip_taker_tenure</th>\n",
       "      <th>trip_taker_language</th>\n",
       "      <th>trip_taker_home_bgrp_2020</th>\n",
       "      <th>trip_taker_home_trct_2020</th>\n",
       "      <th>trip_taker_home_cty_2020</th>\n",
       "      <th>trip_taker_home_st_2020</th>\n",
       "      <th>trip_taker_work_bgrp_2020</th>\n",
       "      <th>trip_taker_work_trct_2020</th>\n",
       "      <th>trip_taker_work_cty_2020</th>\n",
       "      <th>trip_taker_work_st_2020</th>\n",
       "    </tr>\n",
       "  </thead>\n",
       "  <tbody>\n",
       "    <tr>\n",
       "      <th>10066</th>\n",
       "      <td>18261275329581109755</td>\n",
       "      <td>2 (Tract 10.02, Humboldt, CA)</td>\n",
       "      <td>10.02 (Humboldt, CA)</td>\n",
       "      <td>Humboldt County, CA</td>\n",
       "      <td>California</td>\n",
       "      <td>3 (Tract 11.02, Humboldt, CA)</td>\n",
       "      <td>11.02 (Humboldt, CA)</td>\n",
       "      <td>Humboldt County, CA</td>\n",
       "      <td>California</td>\n",
       "      <td>walking</td>\n",
       "      <td>eat</td>\n",
       "      <td>school</td>\n",
       "      <td>11:19:55</td>\n",
       "      <td>11:49:56</td>\n",
       "      <td>30</td>\n",
       "      <td>1.5</td>\n",
       "      <td>unknown_vehicle_type</td>\n",
       "      <td>unknown_fuel_type</td>\n",
       "      <td>NaN</td>\n",
       "      <td>NaN</td>\n",
       "      <td>NaN</td>\n",
       "      <td>education</td>\n",
       "      <td>education</td>\n",
       "      <td>mixed_use</td>\n",
       "      <td>retail</td>\n",
       "      <td>10248649262252350861</td>\n",
       "      <td>7853234905192180482</td>\n",
       "      <td>22.0</td>\n",
       "      <td>male</td>\n",
       "      <td>white_not_hispanic_or_latino</td>\n",
       "      <td>employed</td>\n",
       "      <td>employed_not_working</td>\n",
       "      <td>11591.0</td>\n",
       "      <td>private_auto</td>\n",
       "      <td>2</td>\n",
       "      <td>35726.0</td>\n",
       "      <td>zero</td>\n",
       "      <td>core</td>\n",
       "      <td>naics31_33</td>\n",
       "      <td>single_family</td>\n",
       "      <td>undergraduate</td>\n",
       "      <td>some_college</td>\n",
       "      <td>renter</td>\n",
       "      <td>english</td>\n",
       "      <td>3 (Tract 11.02, Humboldt, CA)</td>\n",
       "      <td>11.02 (Humboldt, CA)</td>\n",
       "      <td>Humboldt County, CA</td>\n",
       "      <td>California</td>\n",
       "      <td>2 (Tract 12, Humboldt, CA)</td>\n",
       "      <td>12 (Humboldt, CA)</td>\n",
       "      <td>Humboldt County, CA</td>\n",
       "      <td>California</td>\n",
       "    </tr>\n",
       "  </tbody>\n",
       "</table>\n",
       "</div>"
      ],
      "text/plain": [
       "                activity_id               origin_bgrp_2020  \\\n",
       "10066  18261275329581109755  2 (Tract 10.02, Humboldt, CA)   \n",
       "\n",
       "           origin_trct_2020      origin_cty_2020 origin_st_2020  \\\n",
       "10066  10.02 (Humboldt, CA)  Humboldt County, CA     California   \n",
       "\n",
       "               destination_bgrp_2020 destination_trct_2020  \\\n",
       "10066  3 (Tract 11.02, Humboldt, CA)  11.02 (Humboldt, CA)   \n",
       "\n",
       "      destination_cty_2020 destination_st_2020 primary_mode trip_purpose  \\\n",
       "10066  Humboldt County, CA          California      walking          eat   \n",
       "\n",
       "      previous_trip_purpose trip_start_time trip_end_time  \\\n",
       "10066                school        11:19:55      11:49:56   \n",
       "\n",
       "       trip_duration_minutes  trip_distance_miles          vehicle_type  \\\n",
       "10066                     30                  1.5  unknown_vehicle_type   \n",
       "\n",
       "       vehicle_fuel_type transit_submode transit_agency transit_route  \\\n",
       "10066  unknown_fuel_type             NaN            NaN           NaN   \n",
       "\n",
       "      origin_land_use origin_building_use destination_land_use  \\\n",
       "10066       education           education            mixed_use   \n",
       "\n",
       "      destination_building_use  trip_taker_person_id trip_taker_household_id  \\\n",
       "10066                   retail  10248649262252350861     7853234905192180482   \n",
       "\n",
       "       trip_taker_age trip_taker_sex     trip_taker_race_ethnicity  \\\n",
       "10066            22.0           male  white_not_hispanic_or_latino   \n",
       "\n",
       "      trip_taker_employment_status        trip_taker_wfh  \\\n",
       "10066                     employed  employed_not_working   \n",
       "\n",
       "       trip_taker_individual_income trip_taker_commute_mode  \\\n",
       "10066                       11591.0            private_auto   \n",
       "\n",
       "       trip_taker_household_size  trip_taker_household_income  \\\n",
       "10066                          2                      35726.0   \n",
       "\n",
       "      trip_taker_available_vehicles trip_taker_resident_type  \\\n",
       "10066                          zero                     core   \n",
       "\n",
       "      trip_taker_industry trip_taker_building_type  \\\n",
       "10066          naics31_33            single_family   \n",
       "\n",
       "      trip_taker_school_grade_attending trip_taker_education  \\\n",
       "10066                     undergraduate         some_college   \n",
       "\n",
       "      trip_taker_tenure trip_taker_language      trip_taker_home_bgrp_2020  \\\n",
       "10066            renter             english  3 (Tract 11.02, Humboldt, CA)   \n",
       "\n",
       "      trip_taker_home_trct_2020 trip_taker_home_cty_2020  \\\n",
       "10066      11.02 (Humboldt, CA)      Humboldt County, CA   \n",
       "\n",
       "      trip_taker_home_st_2020   trip_taker_work_bgrp_2020  \\\n",
       "10066              California  2 (Tract 12, Humboldt, CA)   \n",
       "\n",
       "      trip_taker_work_trct_2020 trip_taker_work_cty_2020  \\\n",
       "10066         12 (Humboldt, CA)      Humboldt County, CA   \n",
       "\n",
       "      trip_taker_work_st_2020  \n",
       "10066              California  "
      ]
     },
     "execution_count": 6,
     "metadata": {},
     "output_type": "execute_result"
    }
   ],
   "source": [
    "from_cp.sample()"
   ]
  },
  {
   "cell_type": "code",
   "execution_count": 7,
   "id": "b0c85269-14f0-47c6-88ff-64c26cfe5fd7",
   "metadata": {
    "tags": []
   },
   "outputs": [
    {
     "data": {
      "text/plain": [
       "2 (Tract 10.02, Humboldt, CA)    16623\n",
       "Name: origin_bgrp_2020, dtype: int64"
      ]
     },
     "execution_count": 7,
     "metadata": {},
     "output_type": "execute_result"
    }
   ],
   "source": [
    "from_cp.origin_bgrp_2020.value_counts()"
   ]
  },
  {
   "cell_type": "code",
   "execution_count": null,
   "id": "d3d84a83-1f89-4451-a875-3fd3cf069835",
   "metadata": {},
   "outputs": [],
   "source": []
  },
  {
   "cell_type": "code",
   "execution_count": 8,
   "id": "56f01297-33c9-41e8-97ed-df7373e2cd79",
   "metadata": {
    "tags": []
   },
   "outputs": [
    {
     "name": "stderr",
     "output_type": "stream",
     "text": [
      "/tmp/ipykernel_464/2377608391.py:1: DtypeWarning: Columns (25,26,28,29,30,31,33,36,38,39,40,41,42,43) have mixed types. Specify dtype option on import or set low_memory=False.\n",
      "  to_cp = to_snakecase( pd.read_csv(f\"{gcs_path}replica-hta_transit_calpolyhumboldt-10_22_25-trips_dataset_dest_as_CPH.csv\"))\n"
     ]
    }
   ],
   "source": [
    "to_cp = to_snakecase( pd.read_csv(f\"{gcs_path}replica-hta_transit_calpolyhumboldt-10_22_25-trips_dataset_dest_as_CPH.csv\"))    "
   ]
  },
  {
   "cell_type": "code",
   "execution_count": 9,
   "id": "a6113824-6f48-4fbb-9827-1b0209150100",
   "metadata": {
    "tags": []
   },
   "outputs": [
    {
     "data": {
      "text/html": [
       "<div>\n",
       "<style scoped>\n",
       "    .dataframe tbody tr th:only-of-type {\n",
       "        vertical-align: middle;\n",
       "    }\n",
       "\n",
       "    .dataframe tbody tr th {\n",
       "        vertical-align: top;\n",
       "    }\n",
       "\n",
       "    .dataframe thead th {\n",
       "        text-align: right;\n",
       "    }\n",
       "</style>\n",
       "<table border=\"1\" class=\"dataframe\">\n",
       "  <thead>\n",
       "    <tr style=\"text-align: right;\">\n",
       "      <th></th>\n",
       "      <th>activity_id</th>\n",
       "      <th>origin_bgrp_2020</th>\n",
       "      <th>origin_trct_2020</th>\n",
       "      <th>origin_cty_2020</th>\n",
       "      <th>origin_st_2020</th>\n",
       "      <th>destination_bgrp_2020</th>\n",
       "      <th>destination_trct_2020</th>\n",
       "      <th>destination_cty_2020</th>\n",
       "      <th>destination_st_2020</th>\n",
       "      <th>primary_mode</th>\n",
       "      <th>trip_purpose</th>\n",
       "      <th>previous_trip_purpose</th>\n",
       "      <th>trip_start_time</th>\n",
       "      <th>trip_end_time</th>\n",
       "      <th>trip_duration_minutes</th>\n",
       "      <th>trip_distance_miles</th>\n",
       "      <th>vehicle_type</th>\n",
       "      <th>vehicle_fuel_type</th>\n",
       "      <th>transit_submode</th>\n",
       "      <th>transit_agency</th>\n",
       "      <th>transit_route</th>\n",
       "      <th>origin_land_use</th>\n",
       "      <th>origin_building_use</th>\n",
       "      <th>destination_land_use</th>\n",
       "      <th>destination_building_use</th>\n",
       "      <th>trip_taker_person_id</th>\n",
       "      <th>trip_taker_household_id</th>\n",
       "      <th>trip_taker_age</th>\n",
       "      <th>trip_taker_sex</th>\n",
       "      <th>trip_taker_race_ethnicity</th>\n",
       "      <th>trip_taker_employment_status</th>\n",
       "      <th>trip_taker_wfh</th>\n",
       "      <th>trip_taker_individual_income</th>\n",
       "      <th>trip_taker_commute_mode</th>\n",
       "      <th>trip_taker_household_size</th>\n",
       "      <th>trip_taker_household_income</th>\n",
       "      <th>trip_taker_available_vehicles</th>\n",
       "      <th>trip_taker_resident_type</th>\n",
       "      <th>trip_taker_industry</th>\n",
       "      <th>trip_taker_building_type</th>\n",
       "      <th>trip_taker_school_grade_attending</th>\n",
       "      <th>trip_taker_education</th>\n",
       "      <th>trip_taker_tenure</th>\n",
       "      <th>trip_taker_language</th>\n",
       "      <th>trip_taker_home_bgrp_2020</th>\n",
       "      <th>trip_taker_home_trct_2020</th>\n",
       "      <th>trip_taker_home_cty_2020</th>\n",
       "      <th>trip_taker_home_st_2020</th>\n",
       "      <th>trip_taker_work_bgrp_2020</th>\n",
       "      <th>trip_taker_work_trct_2020</th>\n",
       "      <th>trip_taker_work_cty_2020</th>\n",
       "      <th>trip_taker_work_st_2020</th>\n",
       "    </tr>\n",
       "  </thead>\n",
       "  <tbody>\n",
       "    <tr>\n",
       "      <th>3569</th>\n",
       "      <td>15054122865391088947</td>\n",
       "      <td>3 (Tract 11.02, Humboldt, CA)</td>\n",
       "      <td>11.02 (Humboldt, CA)</td>\n",
       "      <td>Humboldt County, CA</td>\n",
       "      <td>California</td>\n",
       "      <td>2 (Tract 10.02, Humboldt, CA)</td>\n",
       "      <td>10.02 (Humboldt, CA)</td>\n",
       "      <td>Humboldt County, CA</td>\n",
       "      <td>California</td>\n",
       "      <td>private_auto</td>\n",
       "      <td>school</td>\n",
       "      <td>home</td>\n",
       "      <td>08:07:00</td>\n",
       "      <td>08:10:01</td>\n",
       "      <td>3</td>\n",
       "      <td>1.1</td>\n",
       "      <td>unknown_vehicle_type</td>\n",
       "      <td>electric</td>\n",
       "      <td>NaN</td>\n",
       "      <td>NaN</td>\n",
       "      <td>NaN</td>\n",
       "      <td>multi_family</td>\n",
       "      <td>multi_family</td>\n",
       "      <td>education</td>\n",
       "      <td>education</td>\n",
       "      <td>9625708196328336841</td>\n",
       "      <td>7945576068312873406</td>\n",
       "      <td>32.0</td>\n",
       "      <td>female</td>\n",
       "      <td>white_not_hispanic_or_latino</td>\n",
       "      <td>employed</td>\n",
       "      <td>employed_not_working</td>\n",
       "      <td>20390.0</td>\n",
       "      <td>private_auto</td>\n",
       "      <td>2</td>\n",
       "      <td>65860.0</td>\n",
       "      <td>two</td>\n",
       "      <td>core</td>\n",
       "      <td>naics61</td>\n",
       "      <td>multiple_units</td>\n",
       "      <td>undergraduate</td>\n",
       "      <td>some_college</td>\n",
       "      <td>renter</td>\n",
       "      <td>english</td>\n",
       "      <td>3 (Tract 11.02, Humboldt, CA)</td>\n",
       "      <td>11.02 (Humboldt, CA)</td>\n",
       "      <td>Humboldt County, CA</td>\n",
       "      <td>California</td>\n",
       "      <td>1 (Tract 6, Humboldt, CA)</td>\n",
       "      <td>6 (Humboldt, CA)</td>\n",
       "      <td>Humboldt County, CA</td>\n",
       "      <td>California</td>\n",
       "    </tr>\n",
       "  </tbody>\n",
       "</table>\n",
       "</div>"
      ],
      "text/plain": [
       "               activity_id               origin_bgrp_2020  \\\n",
       "3569  15054122865391088947  3 (Tract 11.02, Humboldt, CA)   \n",
       "\n",
       "          origin_trct_2020      origin_cty_2020 origin_st_2020  \\\n",
       "3569  11.02 (Humboldt, CA)  Humboldt County, CA     California   \n",
       "\n",
       "              destination_bgrp_2020 destination_trct_2020  \\\n",
       "3569  2 (Tract 10.02, Humboldt, CA)  10.02 (Humboldt, CA)   \n",
       "\n",
       "     destination_cty_2020 destination_st_2020  primary_mode trip_purpose  \\\n",
       "3569  Humboldt County, CA          California  private_auto       school   \n",
       "\n",
       "     previous_trip_purpose trip_start_time trip_end_time  \\\n",
       "3569                  home        08:07:00      08:10:01   \n",
       "\n",
       "      trip_duration_minutes  trip_distance_miles          vehicle_type  \\\n",
       "3569                      3                  1.1  unknown_vehicle_type   \n",
       "\n",
       "     vehicle_fuel_type transit_submode transit_agency transit_route  \\\n",
       "3569          electric             NaN            NaN           NaN   \n",
       "\n",
       "     origin_land_use origin_building_use destination_land_use  \\\n",
       "3569    multi_family        multi_family            education   \n",
       "\n",
       "     destination_building_use trip_taker_person_id trip_taker_household_id  \\\n",
       "3569                education  9625708196328336841     7945576068312873406   \n",
       "\n",
       "      trip_taker_age trip_taker_sex     trip_taker_race_ethnicity  \\\n",
       "3569            32.0         female  white_not_hispanic_or_latino   \n",
       "\n",
       "     trip_taker_employment_status        trip_taker_wfh  \\\n",
       "3569                     employed  employed_not_working   \n",
       "\n",
       "      trip_taker_individual_income trip_taker_commute_mode  \\\n",
       "3569                       20390.0            private_auto   \n",
       "\n",
       "      trip_taker_household_size  trip_taker_household_income  \\\n",
       "3569                          2                      65860.0   \n",
       "\n",
       "     trip_taker_available_vehicles trip_taker_resident_type  \\\n",
       "3569                           two                     core   \n",
       "\n",
       "     trip_taker_industry trip_taker_building_type  \\\n",
       "3569             naics61           multiple_units   \n",
       "\n",
       "     trip_taker_school_grade_attending trip_taker_education trip_taker_tenure  \\\n",
       "3569                     undergraduate         some_college            renter   \n",
       "\n",
       "     trip_taker_language      trip_taker_home_bgrp_2020  \\\n",
       "3569             english  3 (Tract 11.02, Humboldt, CA)   \n",
       "\n",
       "     trip_taker_home_trct_2020 trip_taker_home_cty_2020  \\\n",
       "3569      11.02 (Humboldt, CA)      Humboldt County, CA   \n",
       "\n",
       "     trip_taker_home_st_2020  trip_taker_work_bgrp_2020  \\\n",
       "3569              California  1 (Tract 6, Humboldt, CA)   \n",
       "\n",
       "     trip_taker_work_trct_2020 trip_taker_work_cty_2020  \\\n",
       "3569          6 (Humboldt, CA)      Humboldt County, CA   \n",
       "\n",
       "     trip_taker_work_st_2020  \n",
       "3569              California  "
      ]
     },
     "execution_count": 9,
     "metadata": {},
     "output_type": "execute_result"
    }
   ],
   "source": [
    "to_cp.sample()"
   ]
  },
  {
   "cell_type": "code",
   "execution_count": 10,
   "id": "ec0bc7e7-dd9c-46b6-940e-459a827cde17",
   "metadata": {
    "tags": []
   },
   "outputs": [
    {
     "data": {
      "text/plain": [
       "2 (Tract 10.02, Humboldt, CA)    16657\n",
       "Name: destination_bgrp_2020, dtype: int64"
      ]
     },
     "execution_count": 10,
     "metadata": {},
     "output_type": "execute_result"
    }
   ],
   "source": [
    "to_cp.destination_bgrp_2020.value_counts()"
   ]
  },
  {
   "cell_type": "code",
   "execution_count": null,
   "id": "959d5ea3-c5e8-4838-be9f-80bfb0a2ab3e",
   "metadata": {},
   "outputs": [],
   "source": []
  },
  {
   "cell_type": "code",
   "execution_count": 11,
   "id": "beafb087-b65a-4f90-b3cb-5d4e1ffe5b57",
   "metadata": {
    "tags": []
   },
   "outputs": [
    {
     "data": {
      "text/plain": [
       "private_auto         9179\n",
       "walking              3686\n",
       "auto_passenger       3014\n",
       "biking                289\n",
       "other_travel_mode     284\n",
       "commercial             81\n",
       "on_demand_auto         68\n",
       "public_transit         22\n",
       "Name: primary_mode, dtype: int64"
      ]
     },
     "execution_count": 11,
     "metadata": {},
     "output_type": "execute_result"
    }
   ],
   "source": [
    "from_cp.primary_mode.value_counts()"
   ]
  },
  {
   "cell_type": "code",
   "execution_count": 12,
   "id": "7bacff8d-d350-45f9-8ded-efe9975904ac",
   "metadata": {
    "tags": []
   },
   "outputs": [
    {
     "data": {
      "text/plain": [
       "private_auto         9544\n",
       "walking              3933\n",
       "auto_passenger       2457\n",
       "biking                300\n",
       "other_travel_mode     254\n",
       "on_demand_auto         75\n",
       "commercial             57\n",
       "public_transit         37\n",
       "Name: primary_mode, dtype: int64"
      ]
     },
     "execution_count": 12,
     "metadata": {},
     "output_type": "execute_result"
    }
   ],
   "source": [
    "to_cp.primary_mode.value_counts()"
   ]
  },
  {
   "cell_type": "code",
   "execution_count": null,
   "id": "287beb7d-6b69-4cbc-b7ce-382b1326e0b3",
   "metadata": {},
   "outputs": [],
   "source": []
  },
  {
   "cell_type": "code",
   "execution_count": 13,
   "id": "41c6ef21-2947-4cee-89bc-9ef400bfbf85",
   "metadata": {},
   "outputs": [
    {
     "data": {
      "text/plain": [
       "<bound method IndexOpsMixin.value_counts of 0            1 (Tract 13, Humboldt, CA)\n",
       "1        2 (Tract 105.03, Humboldt, CA)\n",
       "2        1 (Tract 105.04, Humboldt, CA)\n",
       "3           1 (Tract 104, Humboldt, CA)\n",
       "4           1 (Tract 104, Humboldt, CA)\n",
       "                      ...              \n",
       "16652     1 (Tract 10.02, Humboldt, CA)\n",
       "16653         4 (Tract 2, Humboldt, CA)\n",
       "16654     1 (Tract 11.03, Humboldt, CA)\n",
       "16655     2 (Tract 10.02, Humboldt, CA)\n",
       "16656         3 (Tract 3, Humboldt, CA)\n",
       "Name: origin_bgrp_2020, Length: 16657, dtype: object>"
      ]
     },
     "execution_count": 13,
     "metadata": {},
     "output_type": "execute_result"
    }
   ],
   "source": [
    "to_cp.origin_bgrp_2020.value_counts"
   ]
  },
  {
   "cell_type": "code",
   "execution_count": null,
   "id": "4b3d6aa3-1eef-4d17-aa07-5b0b34489c41",
   "metadata": {},
   "outputs": [],
   "source": []
  },
  {
   "cell_type": "markdown",
   "id": "2a0f0cb1-705b-425d-854b-6bc76563c0bb",
   "metadata": {},
   "source": [
    "### Reading in block groups\n",
    "* downloaded from Replica (also have some other options like taz)"
   ]
  },
  {
   "cell_type": "code",
   "execution_count": null,
   "id": "610be114-f52a-408d-91db-aa660d75aeb9",
   "metadata": {},
   "outputs": [],
   "source": []
  },
  {
   "cell_type": "code",
   "execution_count": 14,
   "id": "2423ef58-c044-429f-9b06-80f7addfb3b2",
   "metadata": {},
   "outputs": [],
   "source": [
    "with get_fs().open(f\"{gcs_path}replica-hta_transit_calpolyhumboldt-10_22_25-origin_layer_Humb.zip\") as f:\n",
    "    blkgr = to_snakecase(gpd.read_file(f))"
   ]
  },
  {
   "cell_type": "code",
   "execution_count": 15,
   "id": "2f4bf590-f39b-4616-b2c0-71078f290eec",
   "metadata": {},
   "outputs": [
    {
     "data": {
      "text/html": [
       "<div>\n",
       "<style scoped>\n",
       "    .dataframe tbody tr th:only-of-type {\n",
       "        vertical-align: middle;\n",
       "    }\n",
       "\n",
       "    .dataframe tbody tr th {\n",
       "        vertical-align: top;\n",
       "    }\n",
       "\n",
       "    .dataframe thead th {\n",
       "        text-align: right;\n",
       "    }\n",
       "</style>\n",
       "<table border=\"1\" class=\"dataframe\">\n",
       "  <thead>\n",
       "    <tr style=\"text-align: right;\">\n",
       "      <th></th>\n",
       "      <th>geoname</th>\n",
       "      <th>customgeoid</th>\n",
       "      <th>centroidlat</th>\n",
       "      <th>centroidlon</th>\n",
       "      <th>squaremiles</th>\n",
       "      <th>tripsbyorigin</th>\n",
       "      <th>tripsbyorigin_sqmi</th>\n",
       "      <th>geometry</th>\n",
       "    </tr>\n",
       "  </thead>\n",
       "  <tbody>\n",
       "    <tr>\n",
       "      <th>6309</th>\n",
       "      <td>1 (Tract 55.08, Sacramento, CA)</td>\n",
       "      <td>60670055081</td>\n",
       "      <td>38.5798</td>\n",
       "      <td>-121.4125</td>\n",
       "      <td>0.076</td>\n",
       "      <td>4</td>\n",
       "      <td>52.6385</td>\n",
       "      <td>POLYGON ((-121.41533 38.57799, -121.41346 38.5...</td>\n",
       "    </tr>\n",
       "  </tbody>\n",
       "</table>\n",
       "</div>"
      ],
      "text/plain": [
       "                              geoname  customgeoid  centroidlat  centroidlon  \\\n",
       "6309  1 (Tract 55.08, Sacramento, CA)  60670055081      38.5798    -121.4125   \n",
       "\n",
       "      squaremiles  tripsbyorigin  tripsbyorigin_sqmi  \\\n",
       "6309        0.076              4             52.6385   \n",
       "\n",
       "                                               geometry  \n",
       "6309  POLYGON ((-121.41533 38.57799, -121.41346 38.5...  "
      ]
     },
     "execution_count": 15,
     "metadata": {},
     "output_type": "execute_result"
    }
   ],
   "source": [
    "blkgr.sample()"
   ]
  },
  {
   "cell_type": "code",
   "execution_count": 16,
   "id": "e2dc46e2-31d0-423c-923f-d43d0e3af07a",
   "metadata": {
    "tags": []
   },
   "outputs": [],
   "source": [
    "blkgr[\"name_county\"]  = blkgr['geoname'].str.rstrip(', ').str.split(', ').str[1] "
   ]
  },
  {
   "cell_type": "code",
   "execution_count": 17,
   "id": "9eb0044a-e922-4a58-830e-4c03097e66d3",
   "metadata": {
    "tags": []
   },
   "outputs": [],
   "source": [
    "blkgr[\"name_state\"]  = blkgr['geoname'].str.strip().str[-3:-1]"
   ]
  },
  {
   "cell_type": "code",
   "execution_count": 18,
   "id": "1a773a34-8a9f-43cc-b06d-46028f58a6d7",
   "metadata": {
    "tags": []
   },
   "outputs": [],
   "source": [
    "# blkgr = blkgr>>filter(_.name_state==\"CA\" | _.state_ns)"
   ]
  },
  {
   "cell_type": "code",
   "execution_count": 19,
   "id": "cd5a370e-cc78-4782-891d-e8fe4f16482c",
   "metadata": {
    "tags": []
   },
   "outputs": [],
   "source": [
    "# blkgr[\"id_xwalk\"] = \"\""
   ]
  },
  {
   "cell_type": "code",
   "execution_count": 20,
   "id": "c90be8a5-3299-4232-a2c7-dfde77804844",
   "metadata": {
    "tags": []
   },
   "outputs": [],
   "source": [
    "# blkgr[\"id_xwalk\"] = blkgr['id'].str.lstrip('0')"
   ]
  },
  {
   "cell_type": "code",
   "execution_count": 21,
   "id": "c971c596-ba30-4400-a7c3-f426aac6ae27",
   "metadata": {
    "tags": []
   },
   "outputs": [],
   "source": [
    "# blkgr['id_xwalk'] = blkgr['id_xwalk'].astype('int64')"
   ]
  },
  {
   "cell_type": "code",
   "execution_count": 22,
   "id": "8bb927bf-49b6-4213-ad12-6eac310231c0",
   "metadata": {
    "tags": []
   },
   "outputs": [
    {
     "data": {
      "text/html": [
       "<div>\n",
       "<style scoped>\n",
       "    .dataframe tbody tr th:only-of-type {\n",
       "        vertical-align: middle;\n",
       "    }\n",
       "\n",
       "    .dataframe tbody tr th {\n",
       "        vertical-align: top;\n",
       "    }\n",
       "\n",
       "    .dataframe thead th {\n",
       "        text-align: right;\n",
       "    }\n",
       "</style>\n",
       "<table border=\"1\" class=\"dataframe\">\n",
       "  <thead>\n",
       "    <tr style=\"text-align: right;\">\n",
       "      <th></th>\n",
       "      <th>geoname</th>\n",
       "      <th>customgeoid</th>\n",
       "      <th>centroidlat</th>\n",
       "      <th>centroidlon</th>\n",
       "      <th>squaremiles</th>\n",
       "      <th>tripsbyorigin</th>\n",
       "      <th>tripsbyorigin_sqmi</th>\n",
       "      <th>geometry</th>\n",
       "      <th>name_county</th>\n",
       "      <th>name_state</th>\n",
       "    </tr>\n",
       "  </thead>\n",
       "  <tbody>\n",
       "    <tr>\n",
       "      <th>5671</th>\n",
       "      <td>1 (Tract 3382.03, Contra Costa, CA)</td>\n",
       "      <td>60133382031</td>\n",
       "      <td>37.9282</td>\n",
       "      <td>-122.0526</td>\n",
       "      <td>0.0438</td>\n",
       "      <td>6</td>\n",
       "      <td>136.9952</td>\n",
       "      <td>POLYGON ((-122.05464 37.92654, -122.05459 37.9...</td>\n",
       "      <td>Contra Costa</td>\n",
       "      <td>CA</td>\n",
       "    </tr>\n",
       "  </tbody>\n",
       "</table>\n",
       "</div>"
      ],
      "text/plain": [
       "                                  geoname  customgeoid  centroidlat  \\\n",
       "5671  1 (Tract 3382.03, Contra Costa, CA)  60133382031      37.9282   \n",
       "\n",
       "      centroidlon  squaremiles  tripsbyorigin  tripsbyorigin_sqmi  \\\n",
       "5671    -122.0526       0.0438              6            136.9952   \n",
       "\n",
       "                                               geometry   name_county  \\\n",
       "5671  POLYGON ((-122.05464 37.92654, -122.05459 37.9...  Contra Costa   \n",
       "\n",
       "     name_state  \n",
       "5671         CA  "
      ]
     },
     "execution_count": 22,
     "metadata": {},
     "output_type": "execute_result"
    }
   ],
   "source": [
    "blkgr.sample()"
   ]
  },
  {
   "cell_type": "code",
   "execution_count": null,
   "id": "7d041831-9ab4-41b5-b0a3-479777403e9b",
   "metadata": {
    "tags": []
   },
   "outputs": [],
   "source": []
  },
  {
   "cell_type": "markdown",
   "id": "413f31a6-e476-4641-a5aa-1ec31e7b3cff",
   "metadata": {},
   "source": [
    "##### read in crosswalk from Replica"
   ]
  },
  {
   "cell_type": "code",
   "execution_count": 23,
   "id": "ec8ebe23-9fae-4db5-8258-54b4addb3efb",
   "metadata": {
    "tags": []
   },
   "outputs": [],
   "source": [
    "# xwalk = pd.read_csv(f\"{gcs_path}census_xwalk.csv\")\n",
    "# xwalk = xwalk>>filter(_.stusps==\"CA\")"
   ]
  },
  {
   "cell_type": "code",
   "execution_count": 24,
   "id": "11c5f32a-2ed1-4ac5-a356-87d34bb2e0a2",
   "metadata": {
    "tags": []
   },
   "outputs": [],
   "source": [
    "# xwalk.sample()"
   ]
  },
  {
   "cell_type": "code",
   "execution_count": null,
   "id": "0b02a7d8-af91-43a4-a9af-0c0aab18f6cc",
   "metadata": {},
   "outputs": [],
   "source": []
  },
  {
   "cell_type": "code",
   "execution_count": 25,
   "id": "ee89a6f1-6bd5-40a8-97e9-01a453b96c9e",
   "metadata": {
    "tags": []
   },
   "outputs": [],
   "source": [
    "# xwalk_map = dict(zip(xwalk['bgrp'], \n",
    "#                           xwalk['bgrpname']))"
   ]
  },
  {
   "cell_type": "code",
   "execution_count": 26,
   "id": "ff4c24e9-d84b-4c15-8494-abfad4fe413c",
   "metadata": {
    "tags": []
   },
   "outputs": [],
   "source": [
    "# blkgr[\"name_xwalk\"] = np.NaN"
   ]
  },
  {
   "cell_type": "code",
   "execution_count": 27,
   "id": "cccdc24e-40e2-4417-b6de-bd51549e0213",
   "metadata": {
    "tags": []
   },
   "outputs": [],
   "source": [
    "# blkgr['name_xwalk'] = blkgr['name_xwalk'].fillna(blkgr['id_xwalk'].map(xwalk_map))"
   ]
  },
  {
   "cell_type": "code",
   "execution_count": 28,
   "id": "e6fbe455-a653-4675-92d5-2eeaef908773",
   "metadata": {
    "tags": []
   },
   "outputs": [
    {
     "data": {
      "text/html": [
       "<div>\n",
       "<style scoped>\n",
       "    .dataframe tbody tr th:only-of-type {\n",
       "        vertical-align: middle;\n",
       "    }\n",
       "\n",
       "    .dataframe tbody tr th {\n",
       "        vertical-align: top;\n",
       "    }\n",
       "\n",
       "    .dataframe thead th {\n",
       "        text-align: right;\n",
       "    }\n",
       "</style>\n",
       "<table border=\"1\" class=\"dataframe\">\n",
       "  <thead>\n",
       "    <tr style=\"text-align: right;\">\n",
       "      <th></th>\n",
       "      <th>activity_id</th>\n",
       "      <th>origin_bgrp_2020</th>\n",
       "      <th>origin_trct_2020</th>\n",
       "      <th>origin_cty_2020</th>\n",
       "      <th>origin_st_2020</th>\n",
       "      <th>destination_bgrp_2020</th>\n",
       "      <th>destination_trct_2020</th>\n",
       "      <th>destination_cty_2020</th>\n",
       "      <th>destination_st_2020</th>\n",
       "      <th>primary_mode</th>\n",
       "      <th>trip_purpose</th>\n",
       "      <th>previous_trip_purpose</th>\n",
       "      <th>trip_start_time</th>\n",
       "      <th>trip_end_time</th>\n",
       "      <th>trip_duration_minutes</th>\n",
       "      <th>trip_distance_miles</th>\n",
       "      <th>vehicle_type</th>\n",
       "      <th>vehicle_fuel_type</th>\n",
       "      <th>transit_submode</th>\n",
       "      <th>transit_agency</th>\n",
       "      <th>transit_route</th>\n",
       "      <th>origin_land_use</th>\n",
       "      <th>origin_building_use</th>\n",
       "      <th>destination_land_use</th>\n",
       "      <th>destination_building_use</th>\n",
       "      <th>trip_taker_person_id</th>\n",
       "      <th>trip_taker_household_id</th>\n",
       "      <th>trip_taker_age</th>\n",
       "      <th>trip_taker_sex</th>\n",
       "      <th>trip_taker_race_ethnicity</th>\n",
       "      <th>trip_taker_employment_status</th>\n",
       "      <th>trip_taker_wfh</th>\n",
       "      <th>trip_taker_individual_income</th>\n",
       "      <th>trip_taker_commute_mode</th>\n",
       "      <th>trip_taker_household_size</th>\n",
       "      <th>trip_taker_household_income</th>\n",
       "      <th>trip_taker_available_vehicles</th>\n",
       "      <th>trip_taker_resident_type</th>\n",
       "      <th>trip_taker_industry</th>\n",
       "      <th>trip_taker_building_type</th>\n",
       "      <th>trip_taker_school_grade_attending</th>\n",
       "      <th>trip_taker_education</th>\n",
       "      <th>trip_taker_tenure</th>\n",
       "      <th>trip_taker_language</th>\n",
       "      <th>trip_taker_home_bgrp_2020</th>\n",
       "      <th>trip_taker_home_trct_2020</th>\n",
       "      <th>trip_taker_home_cty_2020</th>\n",
       "      <th>trip_taker_home_st_2020</th>\n",
       "      <th>trip_taker_work_bgrp_2020</th>\n",
       "      <th>trip_taker_work_trct_2020</th>\n",
       "      <th>trip_taker_work_cty_2020</th>\n",
       "      <th>trip_taker_work_st_2020</th>\n",
       "    </tr>\n",
       "  </thead>\n",
       "  <tbody>\n",
       "    <tr>\n",
       "      <th>3004</th>\n",
       "      <td>1504855892534747678</td>\n",
       "      <td>3 (Tract 105.02, Humboldt, CA)</td>\n",
       "      <td>105.02 (Humboldt, CA)</td>\n",
       "      <td>Humboldt County, CA</td>\n",
       "      <td>California</td>\n",
       "      <td>2 (Tract 10.02, Humboldt, CA)</td>\n",
       "      <td>10.02 (Humboldt, CA)</td>\n",
       "      <td>Humboldt County, CA</td>\n",
       "      <td>California</td>\n",
       "      <td>auto_passenger</td>\n",
       "      <td>school</td>\n",
       "      <td>home</td>\n",
       "      <td>07:50:00</td>\n",
       "      <td>07:57:49</td>\n",
       "      <td>7</td>\n",
       "      <td>5.3</td>\n",
       "      <td>unknown_vehicle_type</td>\n",
       "      <td>unknown_fuel_type</td>\n",
       "      <td>NaN</td>\n",
       "      <td>NaN</td>\n",
       "      <td>NaN</td>\n",
       "      <td>single_family</td>\n",
       "      <td>single_family</td>\n",
       "      <td>education</td>\n",
       "      <td>education</td>\n",
       "      <td>11704714723690785578</td>\n",
       "      <td>9306861264777888105</td>\n",
       "      <td>27.0</td>\n",
       "      <td>female</td>\n",
       "      <td>white_not_hispanic_or_latino</td>\n",
       "      <td>employed</td>\n",
       "      <td>employed_not_working</td>\n",
       "      <td>45704.0</td>\n",
       "      <td>auto_passenger</td>\n",
       "      <td>4</td>\n",
       "      <td>158483.0</td>\n",
       "      <td>two</td>\n",
       "      <td>core</td>\n",
       "      <td>not_working</td>\n",
       "      <td>single_family</td>\n",
       "      <td>not_attending_school</td>\n",
       "      <td>bachelors_degree</td>\n",
       "      <td>renter</td>\n",
       "      <td>english</td>\n",
       "      <td>3 (Tract 105.02, Humboldt, CA)</td>\n",
       "      <td>105.02 (Humboldt, CA)</td>\n",
       "      <td>Humboldt County, CA</td>\n",
       "      <td>California</td>\n",
       "      <td>1 (Tract 12, Humboldt, CA)</td>\n",
       "      <td>12 (Humboldt, CA)</td>\n",
       "      <td>Humboldt County, CA</td>\n",
       "      <td>California</td>\n",
       "    </tr>\n",
       "  </tbody>\n",
       "</table>\n",
       "</div>"
      ],
      "text/plain": [
       "              activity_id                origin_bgrp_2020  \\\n",
       "3004  1504855892534747678  3 (Tract 105.02, Humboldt, CA)   \n",
       "\n",
       "           origin_trct_2020      origin_cty_2020 origin_st_2020  \\\n",
       "3004  105.02 (Humboldt, CA)  Humboldt County, CA     California   \n",
       "\n",
       "              destination_bgrp_2020 destination_trct_2020  \\\n",
       "3004  2 (Tract 10.02, Humboldt, CA)  10.02 (Humboldt, CA)   \n",
       "\n",
       "     destination_cty_2020 destination_st_2020    primary_mode trip_purpose  \\\n",
       "3004  Humboldt County, CA          California  auto_passenger       school   \n",
       "\n",
       "     previous_trip_purpose trip_start_time trip_end_time  \\\n",
       "3004                  home        07:50:00      07:57:49   \n",
       "\n",
       "      trip_duration_minutes  trip_distance_miles          vehicle_type  \\\n",
       "3004                      7                  5.3  unknown_vehicle_type   \n",
       "\n",
       "      vehicle_fuel_type transit_submode transit_agency transit_route  \\\n",
       "3004  unknown_fuel_type             NaN            NaN           NaN   \n",
       "\n",
       "     origin_land_use origin_building_use destination_land_use  \\\n",
       "3004   single_family       single_family            education   \n",
       "\n",
       "     destination_building_use  trip_taker_person_id trip_taker_household_id  \\\n",
       "3004                education  11704714723690785578     9306861264777888105   \n",
       "\n",
       "      trip_taker_age trip_taker_sex     trip_taker_race_ethnicity  \\\n",
       "3004            27.0         female  white_not_hispanic_or_latino   \n",
       "\n",
       "     trip_taker_employment_status        trip_taker_wfh  \\\n",
       "3004                     employed  employed_not_working   \n",
       "\n",
       "      trip_taker_individual_income trip_taker_commute_mode  \\\n",
       "3004                       45704.0          auto_passenger   \n",
       "\n",
       "      trip_taker_household_size  trip_taker_household_income  \\\n",
       "3004                          4                     158483.0   \n",
       "\n",
       "     trip_taker_available_vehicles trip_taker_resident_type  \\\n",
       "3004                           two                     core   \n",
       "\n",
       "     trip_taker_industry trip_taker_building_type  \\\n",
       "3004         not_working            single_family   \n",
       "\n",
       "     trip_taker_school_grade_attending trip_taker_education trip_taker_tenure  \\\n",
       "3004              not_attending_school     bachelors_degree            renter   \n",
       "\n",
       "     trip_taker_language       trip_taker_home_bgrp_2020  \\\n",
       "3004             english  3 (Tract 105.02, Humboldt, CA)   \n",
       "\n",
       "     trip_taker_home_trct_2020 trip_taker_home_cty_2020  \\\n",
       "3004     105.02 (Humboldt, CA)      Humboldt County, CA   \n",
       "\n",
       "     trip_taker_home_st_2020   trip_taker_work_bgrp_2020  \\\n",
       "3004              California  1 (Tract 12, Humboldt, CA)   \n",
       "\n",
       "     trip_taker_work_trct_2020 trip_taker_work_cty_2020  \\\n",
       "3004         12 (Humboldt, CA)      Humboldt County, CA   \n",
       "\n",
       "     trip_taker_work_st_2020  \n",
       "3004              California  "
      ]
     },
     "execution_count": 28,
     "metadata": {},
     "output_type": "execute_result"
    }
   ],
   "source": [
    "to_cp.sample()"
   ]
  },
  {
   "cell_type": "code",
   "execution_count": null,
   "id": "55dba0fa-8918-4903-b252-580039951756",
   "metadata": {},
   "outputs": [],
   "source": []
  },
  {
   "cell_type": "code",
   "execution_count": 29,
   "id": "1ccd3962-6049-449e-86e1-5a2190707cd0",
   "metadata": {
    "tags": []
   },
   "outputs": [],
   "source": [
    "# (blkgr[blkgr[\"name_county\"]==\"Humboldt\"])"
   ]
  },
  {
   "cell_type": "code",
   "execution_count": 30,
   "id": "b057c41c-d66f-4063-9f04-6049ed6fe0a6",
   "metadata": {
    "tags": []
   },
   "outputs": [],
   "source": [
    "# blkgr>>filter(_.name==\"1 (Tract 9, Humboldt, CA)\")"
   ]
  },
  {
   "cell_type": "code",
   "execution_count": 31,
   "id": "0ea57653-f780-4c92-b0ee-b4b664681d98",
   "metadata": {
    "tags": []
   },
   "outputs": [],
   "source": [
    "# (to_cp>>filter(_.origin_bgrp_2020 == \"1 (Tract 9, Humboldt, CA)\")).sample()"
   ]
  },
  {
   "cell_type": "code",
   "execution_count": 32,
   "id": "5891d28c-63f6-4e95-8c10-0e4f95be95e7",
   "metadata": {
    "tags": []
   },
   "outputs": [],
   "source": [
    "# to_cp.sample()"
   ]
  },
  {
   "cell_type": "code",
   "execution_count": null,
   "id": "d2198565-8bd4-430d-afa7-d7ae0f5112cd",
   "metadata": {},
   "outputs": [],
   "source": []
  },
  {
   "cell_type": "code",
   "execution_count": 33,
   "id": "7253dde0-ad65-4de0-abbc-93b16a97793d",
   "metadata": {},
   "outputs": [],
   "source": [
    "blkgr_map = dict(zip(blkgr['geoname'], \n",
    "                          blkgr['geometry']))"
   ]
  },
  {
   "cell_type": "code",
   "execution_count": 34,
   "id": "e1c5c185-ff38-4cea-ad22-91f4c3c85501",
   "metadata": {},
   "outputs": [],
   "source": [
    "to_cp[\"origin_geometry\"] = np.nan\n",
    "to_cp['origin_geometry'] = to_cp['origin_geometry'].fillna(to_cp['origin_bgrp_2020'].map(blkgr_map))\n",
    "to_cp = to_cp.set_geometry(\"origin_geometry\")"
   ]
  },
  {
   "cell_type": "code",
   "execution_count": 35,
   "id": "36cdb9a4-49ed-4b48-85bc-d770ec3ca315",
   "metadata": {
    "tags": []
   },
   "outputs": [],
   "source": [
    "# to_cp[\"dest_geometry\"] = np.nan\n",
    "# to_cp['dest_geometry'] = to_cp['dest_geometry'].fillna(to_cp['destination_bgrp_2020'].map(blkgr_map))"
   ]
  },
  {
   "cell_type": "code",
   "execution_count": null,
   "id": "eb32f3bc-1f03-4e24-ac43-5cba2a826bac",
   "metadata": {},
   "outputs": [],
   "source": []
  },
  {
   "cell_type": "code",
   "execution_count": 36,
   "id": "15345e4e-c85e-4d48-96bb-ebd3dd7bc672",
   "metadata": {
    "tags": []
   },
   "outputs": [],
   "source": [
    "# from_cp[\"origin_geometry\"] = np.nan\n",
    "# from_cp['origin_geometry'] = from_cp['origin_geometry'].fillna(from_cp['origin_bgrp_2020'].map(blkgr_map))"
   ]
  },
  {
   "cell_type": "code",
   "execution_count": 37,
   "id": "1e92d465-35dd-4f6d-8fdb-450a88f5137b",
   "metadata": {
    "tags": []
   },
   "outputs": [],
   "source": [
    "from_cp[\"dest_geometry\"] = np.nan\n",
    "from_cp['dest_geometry'] = from_cp['dest_geometry'].fillna(from_cp['destination_bgrp_2020'].map(blkgr_map))\n",
    "\n",
    "from_cp = from_cp.set_geometry(\"dest_geometry\")"
   ]
  },
  {
   "cell_type": "code",
   "execution_count": null,
   "id": "e0dc0863-a3a3-4123-9e34-124012930868",
   "metadata": {},
   "outputs": [],
   "source": []
  },
  {
   "cell_type": "code",
   "execution_count": 38,
   "id": "899a47a1-7219-4cfe-a706-f26140f0aece",
   "metadata": {
    "tags": []
   },
   "outputs": [
    {
     "data": {
      "text/plain": [
       "array(['2 (Tract 10.02, Humboldt, CA)'], dtype=object)"
      ]
     },
     "execution_count": 38,
     "metadata": {},
     "output_type": "execute_result"
    }
   ],
   "source": [
    "from_cp['origin_bgrp_2020'].unique()\n",
    "\n",
    "# from_cp.destination_bgrp_2020.value_counts()"
   ]
  },
  {
   "cell_type": "code",
   "execution_count": 39,
   "id": "4f2e2015-3087-4920-bb04-217ec7ca12bf",
   "metadata": {
    "tags": []
   },
   "outputs": [],
   "source": [
    "from_cp_origins = from_cp['destination_bgrp_2020'].unique()"
   ]
  },
  {
   "cell_type": "code",
   "execution_count": null,
   "id": "badd83cc-bb85-4d1e-89c2-52524e52ff53",
   "metadata": {},
   "outputs": [],
   "source": []
  },
  {
   "cell_type": "code",
   "execution_count": 40,
   "id": "0444d9ff-e15d-474f-9eda-191a4acacb38",
   "metadata": {
    "tags": []
   },
   "outputs": [],
   "source": [
    "# (blkgr>>filter(_.geoname.isin(from_cp_origins))).explore()"
   ]
  },
  {
   "cell_type": "code",
   "execution_count": 41,
   "id": "c184f63a-de7d-4412-9ad4-2e61a5a670c2",
   "metadata": {
    "tags": []
   },
   "outputs": [],
   "source": [
    "# (blkgr>>filter(_.geoname.isin(from_cp_origins))).explore()"
   ]
  },
  {
   "cell_type": "code",
   "execution_count": null,
   "id": "8d5b8e71-fd03-4a83-8358-9f4fbe6c8713",
   "metadata": {},
   "outputs": [],
   "source": []
  },
  {
   "cell_type": "code",
   "execution_count": 42,
   "id": "3d2b09b9-6e31-4a4a-a186-dbe9130aeb8a",
   "metadata": {
    "tags": []
   },
   "outputs": [
    {
     "data": {
      "text/html": [
       "<div>\n",
       "<style scoped>\n",
       "    .dataframe tbody tr th:only-of-type {\n",
       "        vertical-align: middle;\n",
       "    }\n",
       "\n",
       "    .dataframe tbody tr th {\n",
       "        vertical-align: top;\n",
       "    }\n",
       "\n",
       "    .dataframe thead th {\n",
       "        text-align: right;\n",
       "    }\n",
       "</style>\n",
       "<table border=\"1\" class=\"dataframe\">\n",
       "  <thead>\n",
       "    <tr style=\"text-align: right;\">\n",
       "      <th></th>\n",
       "      <th>activity_id</th>\n",
       "      <th>origin_bgrp_2020</th>\n",
       "      <th>origin_trct_2020</th>\n",
       "      <th>origin_cty_2020</th>\n",
       "      <th>origin_st_2020</th>\n",
       "      <th>destination_bgrp_2020</th>\n",
       "      <th>destination_trct_2020</th>\n",
       "      <th>destination_cty_2020</th>\n",
       "      <th>destination_st_2020</th>\n",
       "      <th>primary_mode</th>\n",
       "      <th>trip_purpose</th>\n",
       "      <th>previous_trip_purpose</th>\n",
       "      <th>trip_start_time</th>\n",
       "      <th>trip_end_time</th>\n",
       "      <th>trip_duration_minutes</th>\n",
       "      <th>trip_distance_miles</th>\n",
       "      <th>vehicle_type</th>\n",
       "      <th>vehicle_fuel_type</th>\n",
       "      <th>transit_submode</th>\n",
       "      <th>transit_agency</th>\n",
       "      <th>transit_route</th>\n",
       "      <th>origin_land_use</th>\n",
       "      <th>origin_building_use</th>\n",
       "      <th>destination_land_use</th>\n",
       "      <th>destination_building_use</th>\n",
       "      <th>trip_taker_person_id</th>\n",
       "      <th>trip_taker_household_id</th>\n",
       "      <th>trip_taker_age</th>\n",
       "      <th>trip_taker_sex</th>\n",
       "      <th>trip_taker_race_ethnicity</th>\n",
       "      <th>trip_taker_employment_status</th>\n",
       "      <th>trip_taker_wfh</th>\n",
       "      <th>trip_taker_individual_income</th>\n",
       "      <th>trip_taker_commute_mode</th>\n",
       "      <th>trip_taker_household_size</th>\n",
       "      <th>trip_taker_household_income</th>\n",
       "      <th>trip_taker_available_vehicles</th>\n",
       "      <th>trip_taker_resident_type</th>\n",
       "      <th>trip_taker_industry</th>\n",
       "      <th>trip_taker_building_type</th>\n",
       "      <th>trip_taker_school_grade_attending</th>\n",
       "      <th>trip_taker_education</th>\n",
       "      <th>trip_taker_tenure</th>\n",
       "      <th>trip_taker_language</th>\n",
       "      <th>trip_taker_home_bgrp_2020</th>\n",
       "      <th>trip_taker_home_trct_2020</th>\n",
       "      <th>trip_taker_home_cty_2020</th>\n",
       "      <th>trip_taker_home_st_2020</th>\n",
       "      <th>trip_taker_work_bgrp_2020</th>\n",
       "      <th>trip_taker_work_trct_2020</th>\n",
       "      <th>trip_taker_work_cty_2020</th>\n",
       "      <th>trip_taker_work_st_2020</th>\n",
       "      <th>dest_geometry</th>\n",
       "    </tr>\n",
       "  </thead>\n",
       "  <tbody>\n",
       "    <tr>\n",
       "      <th>13672</th>\n",
       "      <td>7976799408603473666</td>\n",
       "      <td>2 (Tract 10.02, Humboldt, CA)</td>\n",
       "      <td>10.02 (Humboldt, CA)</td>\n",
       "      <td>Humboldt County, CA</td>\n",
       "      <td>California</td>\n",
       "      <td>1 (Tract 104, Humboldt, CA)</td>\n",
       "      <td>104 (Humboldt, CA)</td>\n",
       "      <td>Humboldt County, CA</td>\n",
       "      <td>California</td>\n",
       "      <td>private_auto</td>\n",
       "      <td>home</td>\n",
       "      <td>shop</td>\n",
       "      <td>20:11:00</td>\n",
       "      <td>20:20:12</td>\n",
       "      <td>9</td>\n",
       "      <td>7.9</td>\n",
       "      <td>unknown_vehicle_type</td>\n",
       "      <td>other_non_bev</td>\n",
       "      <td>NaN</td>\n",
       "      <td>NaN</td>\n",
       "      <td>NaN</td>\n",
       "      <td>retail</td>\n",
       "      <td>retail</td>\n",
       "      <td>single_family</td>\n",
       "      <td>single_family</td>\n",
       "      <td>1426590177623546588</td>\n",
       "      <td>7724118870784531153</td>\n",
       "      <td>68.0</td>\n",
       "      <td>female</td>\n",
       "      <td>white_not_hispanic_or_latino</td>\n",
       "      <td>not_in_labor_force</td>\n",
       "      <td>unemployed_under_16_not_in_labor_force</td>\n",
       "      <td>0.0</td>\n",
       "      <td>other_travel_mode</td>\n",
       "      <td>1</td>\n",
       "      <td>0.0</td>\n",
       "      <td>one</td>\n",
       "      <td>core</td>\n",
       "      <td>not_working</td>\n",
       "      <td>mobile</td>\n",
       "      <td>not_attending_school</td>\n",
       "      <td>high_school</td>\n",
       "      <td>owner</td>\n",
       "      <td>english</td>\n",
       "      <td>1 (Tract 104, Humboldt, CA)</td>\n",
       "      <td>104 (Humboldt, CA)</td>\n",
       "      <td>Humboldt County, CA</td>\n",
       "      <td>California</td>\n",
       "      <td>Does not have work/school location</td>\n",
       "      <td>Does not have work/school location</td>\n",
       "      <td>Does not have work/school location</td>\n",
       "      <td>Does not have work/school location</td>\n",
       "      <td>POLYGON ((-124.12756 40.96310, -124.12532 40.9...</td>\n",
       "    </tr>\n",
       "  </tbody>\n",
       "</table>\n",
       "</div>"
      ],
      "text/plain": [
       "               activity_id               origin_bgrp_2020  \\\n",
       "13672  7976799408603473666  2 (Tract 10.02, Humboldt, CA)   \n",
       "\n",
       "           origin_trct_2020      origin_cty_2020 origin_st_2020  \\\n",
       "13672  10.02 (Humboldt, CA)  Humboldt County, CA     California   \n",
       "\n",
       "             destination_bgrp_2020 destination_trct_2020 destination_cty_2020  \\\n",
       "13672  1 (Tract 104, Humboldt, CA)    104 (Humboldt, CA)  Humboldt County, CA   \n",
       "\n",
       "      destination_st_2020  primary_mode trip_purpose previous_trip_purpose  \\\n",
       "13672          California  private_auto         home                  shop   \n",
       "\n",
       "      trip_start_time trip_end_time  trip_duration_minutes  \\\n",
       "13672        20:11:00      20:20:12                      9   \n",
       "\n",
       "       trip_distance_miles          vehicle_type vehicle_fuel_type  \\\n",
       "13672                  7.9  unknown_vehicle_type     other_non_bev   \n",
       "\n",
       "      transit_submode transit_agency transit_route origin_land_use  \\\n",
       "13672             NaN            NaN           NaN          retail   \n",
       "\n",
       "      origin_building_use destination_land_use destination_building_use  \\\n",
       "13672              retail        single_family            single_family   \n",
       "\n",
       "      trip_taker_person_id trip_taker_household_id  trip_taker_age  \\\n",
       "13672  1426590177623546588     7724118870784531153            68.0   \n",
       "\n",
       "      trip_taker_sex     trip_taker_race_ethnicity  \\\n",
       "13672         female  white_not_hispanic_or_latino   \n",
       "\n",
       "      trip_taker_employment_status                          trip_taker_wfh  \\\n",
       "13672           not_in_labor_force  unemployed_under_16_not_in_labor_force   \n",
       "\n",
       "       trip_taker_individual_income trip_taker_commute_mode  \\\n",
       "13672                           0.0       other_travel_mode   \n",
       "\n",
       "       trip_taker_household_size  trip_taker_household_income  \\\n",
       "13672                          1                          0.0   \n",
       "\n",
       "      trip_taker_available_vehicles trip_taker_resident_type  \\\n",
       "13672                           one                     core   \n",
       "\n",
       "      trip_taker_industry trip_taker_building_type  \\\n",
       "13672         not_working                   mobile   \n",
       "\n",
       "      trip_taker_school_grade_attending trip_taker_education  \\\n",
       "13672              not_attending_school          high_school   \n",
       "\n",
       "      trip_taker_tenure trip_taker_language    trip_taker_home_bgrp_2020  \\\n",
       "13672             owner             english  1 (Tract 104, Humboldt, CA)   \n",
       "\n",
       "      trip_taker_home_trct_2020 trip_taker_home_cty_2020  \\\n",
       "13672        104 (Humboldt, CA)      Humboldt County, CA   \n",
       "\n",
       "      trip_taker_home_st_2020           trip_taker_work_bgrp_2020  \\\n",
       "13672              California  Does not have work/school location   \n",
       "\n",
       "                trip_taker_work_trct_2020            trip_taker_work_cty_2020  \\\n",
       "13672  Does not have work/school location  Does not have work/school location   \n",
       "\n",
       "                  trip_taker_work_st_2020  \\\n",
       "13672  Does not have work/school location   \n",
       "\n",
       "                                           dest_geometry  \n",
       "13672  POLYGON ((-124.12756 40.96310, -124.12532 40.9...  "
      ]
     },
     "execution_count": 42,
     "metadata": {},
     "output_type": "execute_result"
    }
   ],
   "source": [
    "from_cp.sample()"
   ]
  },
  {
   "cell_type": "code",
   "execution_count": 43,
   "id": "4e105b41-c93d-4fc0-b4c5-958049f88b3e",
   "metadata": {
    "tags": []
   },
   "outputs": [],
   "source": [
    "# from_cp.explore()"
   ]
  },
  {
   "cell_type": "code",
   "execution_count": null,
   "id": "8137cee8-6202-4ae8-bf4a-cf4a8f534a6d",
   "metadata": {},
   "outputs": [],
   "source": []
  },
  {
   "cell_type": "code",
   "execution_count": null,
   "id": "95deaec0-8504-4983-b8ad-efe2eb71b126",
   "metadata": {},
   "outputs": [],
   "source": []
  },
  {
   "cell_type": "code",
   "execution_count": null,
   "id": "82db3f5f-3746-4770-9146-cb51849e3b8c",
   "metadata": {},
   "outputs": [],
   "source": []
  },
  {
   "cell_type": "code",
   "execution_count": null,
   "id": "0e465712-3285-4448-a8eb-516adbd85054",
   "metadata": {},
   "outputs": [],
   "source": []
  },
  {
   "cell_type": "code",
   "execution_count": null,
   "id": "9638d22e-00bf-4670-94c7-db9d82717c1f",
   "metadata": {},
   "outputs": [],
   "source": []
  },
  {
   "cell_type": "code",
   "execution_count": null,
   "id": "8aa1b8bc-4945-4b8b-91cb-ba56b5a01d0f",
   "metadata": {},
   "outputs": [],
   "source": []
  },
  {
   "cell_type": "code",
   "execution_count": null,
   "id": "83805f31-7933-4ae9-89ea-89801b9f55e0",
   "metadata": {},
   "outputs": [],
   "source": []
  },
  {
   "cell_type": "code",
   "execution_count": null,
   "id": "e6561b91-e9f8-4c30-962c-7084b65172c3",
   "metadata": {},
   "outputs": [],
   "source": []
  },
  {
   "cell_type": "code",
   "execution_count": null,
   "id": "abbad57b-8e2e-4960-b06d-9a3706d58014",
   "metadata": {},
   "outputs": [],
   "source": []
  },
  {
   "cell_type": "code",
   "execution_count": null,
   "id": "d0f73936-799c-4e96-9bca-8697d62317b7",
   "metadata": {},
   "outputs": [],
   "source": []
  },
  {
   "cell_type": "code",
   "execution_count": null,
   "id": "bcc7efbb-19b3-4919-8a0c-45dbc3c6cc0d",
   "metadata": {},
   "outputs": [],
   "source": []
  },
  {
   "cell_type": "code",
   "execution_count": null,
   "id": "41acc0ea-7c58-4bbf-9afc-bf5b0e63b8d7",
   "metadata": {},
   "outputs": [],
   "source": []
  },
  {
   "cell_type": "code",
   "execution_count": null,
   "id": "7d4b42b1-a87e-4ac7-ac15-8607e483c8d2",
   "metadata": {},
   "outputs": [],
   "source": []
  }
 ],
 "metadata": {
  "kernelspec": {
   "display_name": "Python 3 (ipykernel)",
   "language": "python",
   "name": "python3"
  },
  "language_info": {
   "codemirror_mode": {
    "name": "ipython",
    "version": 3
   },
   "file_extension": ".py",
   "mimetype": "text/x-python",
   "name": "python",
   "nbconvert_exporter": "python",
   "pygments_lexer": "ipython3",
   "version": "3.11.10"
  },
  "widgets": {
   "application/vnd.jupyter.widget-state+json": {
    "state": {},
    "version_major": 2,
    "version_minor": 0
   }
  }
 },
 "nbformat": 4,
 "nbformat_minor": 5
}
