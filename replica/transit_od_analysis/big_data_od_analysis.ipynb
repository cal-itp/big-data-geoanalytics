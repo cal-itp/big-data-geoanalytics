{
 "cells": [
  {
   "cell_type": "markdown",
   "id": "f2c6def6-0bfe-495a-a5c9-ed446ed049c3",
   "metadata": {
    "tags": []
   },
   "source": [
    "## Origin Destination Big Data Analysis"
   ]
  },
  {
   "cell_type": "code",
   "execution_count": null,
   "id": "87465036-2f80-41e3-ad1e-19ba0bad1335",
   "metadata": {},
   "outputs": [],
   "source": []
  },
  {
   "cell_type": "code",
   "execution_count": 1,
   "id": "8ad60270-6c3d-4a63-85f1-1a6ad4197cd5",
   "metadata": {
    "tags": []
   },
   "outputs": [],
   "source": [
    "import gcsfs as fs\n",
    "import geopandas as gpd\n",
    "import numpy as np\n",
    "import pandas as pd\n",
    "from calitp_data_analysis import get_fs, utils\n",
    "from calitp_data_analysis.sql import to_snakecase\n",
    "from siuba import *\n",
    "\n",
    "fs = get_fs()"
   ]
  },
  {
   "cell_type": "code",
   "execution_count": 2,
   "id": "45ca1f1b-2953-4380-a958-a2398d2f7710",
   "metadata": {
    "tags": []
   },
   "outputs": [],
   "source": [
    "import altair as alt\n"
   ]
  },
  {
   "cell_type": "code",
   "execution_count": 3,
   "id": "03b2d218-11e7-433c-b3f0-91e4bf786abc",
   "metadata": {
    "tags": []
   },
   "outputs": [],
   "source": [
    "import replica_utils"
   ]
  },
  {
   "cell_type": "code",
   "execution_count": 4,
   "id": "1023c245-c823-4869-980c-fae067853ea7",
   "metadata": {
    "tags": []
   },
   "outputs": [],
   "source": [
    "pd.set_option(\"display.max_columns\", None)\n"
   ]
  },
  {
   "cell_type": "code",
   "execution_count": null,
   "id": "fee8214f-bb41-435b-8cf5-b0a65fca6f10",
   "metadata": {},
   "outputs": [],
   "source": []
  },
  {
   "cell_type": "code",
   "execution_count": 5,
   "id": "23d4f2b4-1034-48af-b997-5efc50fdb70f",
   "metadata": {
    "tags": []
   },
   "outputs": [],
   "source": [
    "gcs_path = \"gs://calitp-analytics-data/data-analyses/big_data/hta/\""
   ]
  },
  {
   "cell_type": "code",
   "execution_count": 6,
   "id": "49111c22-7bc5-4bd9-b5ae-b6d0bd7770a9",
   "metadata": {
    "tags": []
   },
   "outputs": [
    {
     "name": "stderr",
     "output_type": "stream",
     "text": [
      "/tmp/ipykernel_402/2358409840.py:1: DtypeWarning: Columns (18,19,20,25,26,28,29,30,31,33,36,38,39,40,41,42,43) have mixed types. Specify dtype option on import or set low_memory=False.\n",
      "  from_cp = to_snakecase( pd.read_csv(f\"{gcs_path}replica-hta_transit_calpolyhumboldt-10_22_25-trips_dataset_origin_as_CPH.csv\"))\n"
     ]
    }
   ],
   "source": [
    "from_cp = to_snakecase( pd.read_csv(f\"{gcs_path}replica-hta_transit_calpolyhumboldt-10_22_25-trips_dataset_origin_as_CPH.csv\"))    "
   ]
  },
  {
   "cell_type": "code",
   "execution_count": 7,
   "id": "edf1b193-4991-4c1a-a692-76599ee6e43b",
   "metadata": {
    "tags": []
   },
   "outputs": [
    {
     "data": {
      "text/html": [
       "<div>\n",
       "<style scoped>\n",
       "    .dataframe tbody tr th:only-of-type {\n",
       "        vertical-align: middle;\n",
       "    }\n",
       "\n",
       "    .dataframe tbody tr th {\n",
       "        vertical-align: top;\n",
       "    }\n",
       "\n",
       "    .dataframe thead th {\n",
       "        text-align: right;\n",
       "    }\n",
       "</style>\n",
       "<table border=\"1\" class=\"dataframe\">\n",
       "  <thead>\n",
       "    <tr style=\"text-align: right;\">\n",
       "      <th></th>\n",
       "      <th>activity_id</th>\n",
       "      <th>origin_bgrp_2020</th>\n",
       "      <th>origin_trct_2020</th>\n",
       "      <th>origin_cty_2020</th>\n",
       "      <th>origin_st_2020</th>\n",
       "      <th>destination_bgrp_2020</th>\n",
       "      <th>destination_trct_2020</th>\n",
       "      <th>destination_cty_2020</th>\n",
       "      <th>destination_st_2020</th>\n",
       "      <th>primary_mode</th>\n",
       "      <th>trip_purpose</th>\n",
       "      <th>previous_trip_purpose</th>\n",
       "      <th>trip_start_time</th>\n",
       "      <th>trip_end_time</th>\n",
       "      <th>trip_duration_minutes</th>\n",
       "      <th>trip_distance_miles</th>\n",
       "      <th>vehicle_type</th>\n",
       "      <th>vehicle_fuel_type</th>\n",
       "      <th>transit_submode</th>\n",
       "      <th>transit_agency</th>\n",
       "      <th>transit_route</th>\n",
       "      <th>origin_land_use</th>\n",
       "      <th>origin_building_use</th>\n",
       "      <th>destination_land_use</th>\n",
       "      <th>destination_building_use</th>\n",
       "      <th>trip_taker_person_id</th>\n",
       "      <th>trip_taker_household_id</th>\n",
       "      <th>trip_taker_age</th>\n",
       "      <th>trip_taker_sex</th>\n",
       "      <th>trip_taker_race_ethnicity</th>\n",
       "      <th>trip_taker_employment_status</th>\n",
       "      <th>trip_taker_wfh</th>\n",
       "      <th>trip_taker_individual_income</th>\n",
       "      <th>trip_taker_commute_mode</th>\n",
       "      <th>trip_taker_household_size</th>\n",
       "      <th>trip_taker_household_income</th>\n",
       "      <th>trip_taker_available_vehicles</th>\n",
       "      <th>trip_taker_resident_type</th>\n",
       "      <th>trip_taker_industry</th>\n",
       "      <th>trip_taker_building_type</th>\n",
       "      <th>trip_taker_school_grade_attending</th>\n",
       "      <th>trip_taker_education</th>\n",
       "      <th>trip_taker_tenure</th>\n",
       "      <th>trip_taker_language</th>\n",
       "      <th>trip_taker_home_bgrp_2020</th>\n",
       "      <th>trip_taker_home_trct_2020</th>\n",
       "      <th>trip_taker_home_cty_2020</th>\n",
       "      <th>trip_taker_home_st_2020</th>\n",
       "      <th>trip_taker_work_bgrp_2020</th>\n",
       "      <th>trip_taker_work_trct_2020</th>\n",
       "      <th>trip_taker_work_cty_2020</th>\n",
       "      <th>trip_taker_work_st_2020</th>\n",
       "    </tr>\n",
       "  </thead>\n",
       "  <tbody>\n",
       "    <tr>\n",
       "      <th>3213</th>\n",
       "      <td>10812394468580835951</td>\n",
       "      <td>2 (Tract 10.02, Humboldt, CA)</td>\n",
       "      <td>10.02 (Humboldt, CA)</td>\n",
       "      <td>Humboldt County, CA</td>\n",
       "      <td>California</td>\n",
       "      <td>1 (Tract 3, Humboldt, CA)</td>\n",
       "      <td>3 (Humboldt, CA)</td>\n",
       "      <td>Humboldt County, CA</td>\n",
       "      <td>California</td>\n",
       "      <td>private_auto</td>\n",
       "      <td>work</td>\n",
       "      <td>shop</td>\n",
       "      <td>20:35:22</td>\n",
       "      <td>20:51:41</td>\n",
       "      <td>16</td>\n",
       "      <td>12.0</td>\n",
       "      <td>unknown_vehicle_type</td>\n",
       "      <td>other_non_bev</td>\n",
       "      <td>NaN</td>\n",
       "      <td>NaN</td>\n",
       "      <td>NaN</td>\n",
       "      <td>retail</td>\n",
       "      <td>retail</td>\n",
       "      <td>retail</td>\n",
       "      <td>retail</td>\n",
       "      <td>13983161309702890892</td>\n",
       "      <td>16891577952967970093</td>\n",
       "      <td>34.0</td>\n",
       "      <td>male</td>\n",
       "      <td>white_not_hispanic_or_latino</td>\n",
       "      <td>employed</td>\n",
       "      <td>in_person</td>\n",
       "      <td>106842.0</td>\n",
       "      <td>private_auto</td>\n",
       "      <td>2</td>\n",
       "      <td>156702.0</td>\n",
       "      <td>one</td>\n",
       "      <td>core</td>\n",
       "      <td>not_working</td>\n",
       "      <td>single_family</td>\n",
       "      <td>not_attending_school</td>\n",
       "      <td>advanced_degree</td>\n",
       "      <td>renter</td>\n",
       "      <td>english</td>\n",
       "      <td>5 (Tract 103, Humboldt, CA)</td>\n",
       "      <td>103 (Humboldt, CA)</td>\n",
       "      <td>Humboldt County, CA</td>\n",
       "      <td>California</td>\n",
       "      <td>1 (Tract 3, Humboldt, CA)</td>\n",
       "      <td>3 (Humboldt, CA)</td>\n",
       "      <td>Humboldt County, CA</td>\n",
       "      <td>California</td>\n",
       "    </tr>\n",
       "  </tbody>\n",
       "</table>\n",
       "</div>"
      ],
      "text/plain": [
       "               activity_id               origin_bgrp_2020  \\\n",
       "3213  10812394468580835951  2 (Tract 10.02, Humboldt, CA)   \n",
       "\n",
       "          origin_trct_2020      origin_cty_2020 origin_st_2020  \\\n",
       "3213  10.02 (Humboldt, CA)  Humboldt County, CA     California   \n",
       "\n",
       "          destination_bgrp_2020 destination_trct_2020 destination_cty_2020  \\\n",
       "3213  1 (Tract 3, Humboldt, CA)      3 (Humboldt, CA)  Humboldt County, CA   \n",
       "\n",
       "     destination_st_2020  primary_mode trip_purpose previous_trip_purpose  \\\n",
       "3213          California  private_auto         work                  shop   \n",
       "\n",
       "     trip_start_time trip_end_time  trip_duration_minutes  \\\n",
       "3213        20:35:22      20:51:41                     16   \n",
       "\n",
       "      trip_distance_miles          vehicle_type vehicle_fuel_type  \\\n",
       "3213                 12.0  unknown_vehicle_type     other_non_bev   \n",
       "\n",
       "     transit_submode transit_agency transit_route origin_land_use  \\\n",
       "3213             NaN            NaN           NaN          retail   \n",
       "\n",
       "     origin_building_use destination_land_use destination_building_use  \\\n",
       "3213              retail               retail                   retail   \n",
       "\n",
       "      trip_taker_person_id trip_taker_household_id  trip_taker_age  \\\n",
       "3213  13983161309702890892    16891577952967970093            34.0   \n",
       "\n",
       "     trip_taker_sex     trip_taker_race_ethnicity  \\\n",
       "3213           male  white_not_hispanic_or_latino   \n",
       "\n",
       "     trip_taker_employment_status trip_taker_wfh  \\\n",
       "3213                     employed      in_person   \n",
       "\n",
       "      trip_taker_individual_income trip_taker_commute_mode  \\\n",
       "3213                      106842.0            private_auto   \n",
       "\n",
       "      trip_taker_household_size  trip_taker_household_income  \\\n",
       "3213                          2                     156702.0   \n",
       "\n",
       "     trip_taker_available_vehicles trip_taker_resident_type  \\\n",
       "3213                           one                     core   \n",
       "\n",
       "     trip_taker_industry trip_taker_building_type  \\\n",
       "3213         not_working            single_family   \n",
       "\n",
       "     trip_taker_school_grade_attending trip_taker_education trip_taker_tenure  \\\n",
       "3213              not_attending_school      advanced_degree            renter   \n",
       "\n",
       "     trip_taker_language    trip_taker_home_bgrp_2020  \\\n",
       "3213             english  5 (Tract 103, Humboldt, CA)   \n",
       "\n",
       "     trip_taker_home_trct_2020 trip_taker_home_cty_2020  \\\n",
       "3213        103 (Humboldt, CA)      Humboldt County, CA   \n",
       "\n",
       "     trip_taker_home_st_2020  trip_taker_work_bgrp_2020  \\\n",
       "3213              California  1 (Tract 3, Humboldt, CA)   \n",
       "\n",
       "     trip_taker_work_trct_2020 trip_taker_work_cty_2020  \\\n",
       "3213          3 (Humboldt, CA)      Humboldt County, CA   \n",
       "\n",
       "     trip_taker_work_st_2020  \n",
       "3213              California  "
      ]
     },
     "execution_count": 7,
     "metadata": {},
     "output_type": "execute_result"
    }
   ],
   "source": [
    "from_cp.sample()"
   ]
  },
  {
   "cell_type": "code",
   "execution_count": 8,
   "id": "b0c85269-14f0-47c6-88ff-64c26cfe5fd7",
   "metadata": {
    "tags": []
   },
   "outputs": [
    {
     "data": {
      "text/plain": [
       "2 (Tract 10.02, Humboldt, CA)    16623\n",
       "Name: origin_bgrp_2020, dtype: int64"
      ]
     },
     "execution_count": 8,
     "metadata": {},
     "output_type": "execute_result"
    }
   ],
   "source": [
    "from_cp.origin_bgrp_2020.value_counts()"
   ]
  },
  {
   "cell_type": "code",
   "execution_count": null,
   "id": "d3d84a83-1f89-4451-a875-3fd3cf069835",
   "metadata": {},
   "outputs": [],
   "source": []
  },
  {
   "cell_type": "code",
   "execution_count": 9,
   "id": "56f01297-33c9-41e8-97ed-df7373e2cd79",
   "metadata": {
    "tags": []
   },
   "outputs": [
    {
     "name": "stderr",
     "output_type": "stream",
     "text": [
      "/tmp/ipykernel_402/2377608391.py:1: DtypeWarning: Columns (25,26,28,29,30,31,33,36,38,39,40,41,42,43) have mixed types. Specify dtype option on import or set low_memory=False.\n",
      "  to_cp = to_snakecase( pd.read_csv(f\"{gcs_path}replica-hta_transit_calpolyhumboldt-10_22_25-trips_dataset_dest_as_CPH.csv\"))\n"
     ]
    }
   ],
   "source": [
    "to_cp = to_snakecase( pd.read_csv(f\"{gcs_path}replica-hta_transit_calpolyhumboldt-10_22_25-trips_dataset_dest_as_CPH.csv\"))    "
   ]
  },
  {
   "cell_type": "code",
   "execution_count": 10,
   "id": "a6113824-6f48-4fbb-9827-1b0209150100",
   "metadata": {
    "tags": []
   },
   "outputs": [
    {
     "data": {
      "text/html": [
       "<div>\n",
       "<style scoped>\n",
       "    .dataframe tbody tr th:only-of-type {\n",
       "        vertical-align: middle;\n",
       "    }\n",
       "\n",
       "    .dataframe tbody tr th {\n",
       "        vertical-align: top;\n",
       "    }\n",
       "\n",
       "    .dataframe thead th {\n",
       "        text-align: right;\n",
       "    }\n",
       "</style>\n",
       "<table border=\"1\" class=\"dataframe\">\n",
       "  <thead>\n",
       "    <tr style=\"text-align: right;\">\n",
       "      <th></th>\n",
       "      <th>activity_id</th>\n",
       "      <th>origin_bgrp_2020</th>\n",
       "      <th>origin_trct_2020</th>\n",
       "      <th>origin_cty_2020</th>\n",
       "      <th>origin_st_2020</th>\n",
       "      <th>destination_bgrp_2020</th>\n",
       "      <th>destination_trct_2020</th>\n",
       "      <th>destination_cty_2020</th>\n",
       "      <th>destination_st_2020</th>\n",
       "      <th>primary_mode</th>\n",
       "      <th>trip_purpose</th>\n",
       "      <th>previous_trip_purpose</th>\n",
       "      <th>trip_start_time</th>\n",
       "      <th>trip_end_time</th>\n",
       "      <th>trip_duration_minutes</th>\n",
       "      <th>trip_distance_miles</th>\n",
       "      <th>vehicle_type</th>\n",
       "      <th>vehicle_fuel_type</th>\n",
       "      <th>transit_submode</th>\n",
       "      <th>transit_agency</th>\n",
       "      <th>transit_route</th>\n",
       "      <th>origin_land_use</th>\n",
       "      <th>origin_building_use</th>\n",
       "      <th>destination_land_use</th>\n",
       "      <th>destination_building_use</th>\n",
       "      <th>trip_taker_person_id</th>\n",
       "      <th>trip_taker_household_id</th>\n",
       "      <th>trip_taker_age</th>\n",
       "      <th>trip_taker_sex</th>\n",
       "      <th>trip_taker_race_ethnicity</th>\n",
       "      <th>trip_taker_employment_status</th>\n",
       "      <th>trip_taker_wfh</th>\n",
       "      <th>trip_taker_individual_income</th>\n",
       "      <th>trip_taker_commute_mode</th>\n",
       "      <th>trip_taker_household_size</th>\n",
       "      <th>trip_taker_household_income</th>\n",
       "      <th>trip_taker_available_vehicles</th>\n",
       "      <th>trip_taker_resident_type</th>\n",
       "      <th>trip_taker_industry</th>\n",
       "      <th>trip_taker_building_type</th>\n",
       "      <th>trip_taker_school_grade_attending</th>\n",
       "      <th>trip_taker_education</th>\n",
       "      <th>trip_taker_tenure</th>\n",
       "      <th>trip_taker_language</th>\n",
       "      <th>trip_taker_home_bgrp_2020</th>\n",
       "      <th>trip_taker_home_trct_2020</th>\n",
       "      <th>trip_taker_home_cty_2020</th>\n",
       "      <th>trip_taker_home_st_2020</th>\n",
       "      <th>trip_taker_work_bgrp_2020</th>\n",
       "      <th>trip_taker_work_trct_2020</th>\n",
       "      <th>trip_taker_work_cty_2020</th>\n",
       "      <th>trip_taker_work_st_2020</th>\n",
       "    </tr>\n",
       "  </thead>\n",
       "  <tbody>\n",
       "    <tr>\n",
       "      <th>3546</th>\n",
       "      <td>140652285844327153</td>\n",
       "      <td>2 (Tract 10.01, Humboldt, CA)</td>\n",
       "      <td>10.01 (Humboldt, CA)</td>\n",
       "      <td>Humboldt County, CA</td>\n",
       "      <td>California</td>\n",
       "      <td>2 (Tract 10.02, Humboldt, CA)</td>\n",
       "      <td>10.02 (Humboldt, CA)</td>\n",
       "      <td>Humboldt County, CA</td>\n",
       "      <td>California</td>\n",
       "      <td>private_auto</td>\n",
       "      <td>school</td>\n",
       "      <td>home</td>\n",
       "      <td>07:03:00</td>\n",
       "      <td>07:06:39</td>\n",
       "      <td>3</td>\n",
       "      <td>1.4</td>\n",
       "      <td>unknown_vehicle_type</td>\n",
       "      <td>other_non_bev</td>\n",
       "      <td>NaN</td>\n",
       "      <td>NaN</td>\n",
       "      <td>NaN</td>\n",
       "      <td>multi_family</td>\n",
       "      <td>multi_family</td>\n",
       "      <td>education</td>\n",
       "      <td>education</td>\n",
       "      <td>2059803100075964641</td>\n",
       "      <td>18434610765484889887</td>\n",
       "      <td>23.0</td>\n",
       "      <td>female</td>\n",
       "      <td>white_not_hispanic_or_latino</td>\n",
       "      <td>employed</td>\n",
       "      <td>in_person</td>\n",
       "      <td>12077.0</td>\n",
       "      <td>private_auto</td>\n",
       "      <td>2</td>\n",
       "      <td>35627.0</td>\n",
       "      <td>one</td>\n",
       "      <td>core</td>\n",
       "      <td>naics621320</td>\n",
       "      <td>several_units</td>\n",
       "      <td>undergraduate</td>\n",
       "      <td>some_college</td>\n",
       "      <td>renter</td>\n",
       "      <td>english</td>\n",
       "      <td>2 (Tract 10.01, Humboldt, CA)</td>\n",
       "      <td>10.01 (Humboldt, CA)</td>\n",
       "      <td>Humboldt County, CA</td>\n",
       "      <td>California</td>\n",
       "      <td>1 (Tract 6, Humboldt, CA)</td>\n",
       "      <td>6 (Humboldt, CA)</td>\n",
       "      <td>Humboldt County, CA</td>\n",
       "      <td>California</td>\n",
       "    </tr>\n",
       "  </tbody>\n",
       "</table>\n",
       "</div>"
      ],
      "text/plain": [
       "             activity_id               origin_bgrp_2020      origin_trct_2020  \\\n",
       "3546  140652285844327153  2 (Tract 10.01, Humboldt, CA)  10.01 (Humboldt, CA)   \n",
       "\n",
       "          origin_cty_2020 origin_st_2020          destination_bgrp_2020  \\\n",
       "3546  Humboldt County, CA     California  2 (Tract 10.02, Humboldt, CA)   \n",
       "\n",
       "     destination_trct_2020 destination_cty_2020 destination_st_2020  \\\n",
       "3546  10.02 (Humboldt, CA)  Humboldt County, CA          California   \n",
       "\n",
       "      primary_mode trip_purpose previous_trip_purpose trip_start_time  \\\n",
       "3546  private_auto       school                  home        07:03:00   \n",
       "\n",
       "     trip_end_time  trip_duration_minutes  trip_distance_miles  \\\n",
       "3546      07:06:39                      3                  1.4   \n",
       "\n",
       "              vehicle_type vehicle_fuel_type transit_submode transit_agency  \\\n",
       "3546  unknown_vehicle_type     other_non_bev             NaN            NaN   \n",
       "\n",
       "     transit_route origin_land_use origin_building_use destination_land_use  \\\n",
       "3546           NaN    multi_family        multi_family            education   \n",
       "\n",
       "     destination_building_use trip_taker_person_id trip_taker_household_id  \\\n",
       "3546                education  2059803100075964641    18434610765484889887   \n",
       "\n",
       "      trip_taker_age trip_taker_sex     trip_taker_race_ethnicity  \\\n",
       "3546            23.0         female  white_not_hispanic_or_latino   \n",
       "\n",
       "     trip_taker_employment_status trip_taker_wfh  \\\n",
       "3546                     employed      in_person   \n",
       "\n",
       "      trip_taker_individual_income trip_taker_commute_mode  \\\n",
       "3546                       12077.0            private_auto   \n",
       "\n",
       "      trip_taker_household_size  trip_taker_household_income  \\\n",
       "3546                          2                      35627.0   \n",
       "\n",
       "     trip_taker_available_vehicles trip_taker_resident_type  \\\n",
       "3546                           one                     core   \n",
       "\n",
       "     trip_taker_industry trip_taker_building_type  \\\n",
       "3546         naics621320            several_units   \n",
       "\n",
       "     trip_taker_school_grade_attending trip_taker_education trip_taker_tenure  \\\n",
       "3546                     undergraduate         some_college            renter   \n",
       "\n",
       "     trip_taker_language      trip_taker_home_bgrp_2020  \\\n",
       "3546             english  2 (Tract 10.01, Humboldt, CA)   \n",
       "\n",
       "     trip_taker_home_trct_2020 trip_taker_home_cty_2020  \\\n",
       "3546      10.01 (Humboldt, CA)      Humboldt County, CA   \n",
       "\n",
       "     trip_taker_home_st_2020  trip_taker_work_bgrp_2020  \\\n",
       "3546              California  1 (Tract 6, Humboldt, CA)   \n",
       "\n",
       "     trip_taker_work_trct_2020 trip_taker_work_cty_2020  \\\n",
       "3546          6 (Humboldt, CA)      Humboldt County, CA   \n",
       "\n",
       "     trip_taker_work_st_2020  \n",
       "3546              California  "
      ]
     },
     "execution_count": 10,
     "metadata": {},
     "output_type": "execute_result"
    }
   ],
   "source": [
    "to_cp.sample()"
   ]
  },
  {
   "cell_type": "code",
   "execution_count": 11,
   "id": "ec0bc7e7-dd9c-46b6-940e-459a827cde17",
   "metadata": {
    "tags": []
   },
   "outputs": [
    {
     "data": {
      "text/plain": [
       "2 (Tract 10.02, Humboldt, CA)    16657\n",
       "Name: destination_bgrp_2020, dtype: int64"
      ]
     },
     "execution_count": 11,
     "metadata": {},
     "output_type": "execute_result"
    }
   ],
   "source": [
    "to_cp.destination_bgrp_2020.value_counts()"
   ]
  },
  {
   "cell_type": "code",
   "execution_count": null,
   "id": "959d5ea3-c5e8-4838-be9f-80bfb0a2ab3e",
   "metadata": {},
   "outputs": [],
   "source": []
  },
  {
   "cell_type": "code",
   "execution_count": 12,
   "id": "beafb087-b65a-4f90-b3cb-5d4e1ffe5b57",
   "metadata": {
    "tags": []
   },
   "outputs": [
    {
     "data": {
      "text/plain": [
       "private_auto         9179\n",
       "walking              3686\n",
       "auto_passenger       3014\n",
       "biking                289\n",
       "other_travel_mode     284\n",
       "commercial             81\n",
       "on_demand_auto         68\n",
       "public_transit         22\n",
       "Name: primary_mode, dtype: int64"
      ]
     },
     "execution_count": 12,
     "metadata": {},
     "output_type": "execute_result"
    }
   ],
   "source": [
    "from_cp.primary_mode.value_counts()"
   ]
  },
  {
   "cell_type": "code",
   "execution_count": 13,
   "id": "7bacff8d-d350-45f9-8ded-efe9975904ac",
   "metadata": {
    "tags": []
   },
   "outputs": [
    {
     "data": {
      "text/plain": [
       "private_auto         9544\n",
       "walking              3933\n",
       "auto_passenger       2457\n",
       "biking                300\n",
       "other_travel_mode     254\n",
       "on_demand_auto         75\n",
       "commercial             57\n",
       "public_transit         37\n",
       "Name: primary_mode, dtype: int64"
      ]
     },
     "execution_count": 13,
     "metadata": {},
     "output_type": "execute_result"
    }
   ],
   "source": [
    "to_cp.primary_mode.value_counts()"
   ]
  },
  {
   "cell_type": "code",
   "execution_count": null,
   "id": "287beb7d-6b69-4cbc-b7ce-382b1326e0b3",
   "metadata": {},
   "outputs": [],
   "source": []
  },
  {
   "cell_type": "code",
   "execution_count": 14,
   "id": "41c6ef21-2947-4cee-89bc-9ef400bfbf85",
   "metadata": {},
   "outputs": [
    {
     "data": {
      "text/plain": [
       "<bound method IndexOpsMixin.value_counts of 0            1 (Tract 13, Humboldt, CA)\n",
       "1        2 (Tract 105.03, Humboldt, CA)\n",
       "2        1 (Tract 105.04, Humboldt, CA)\n",
       "3           1 (Tract 104, Humboldt, CA)\n",
       "4           1 (Tract 104, Humboldt, CA)\n",
       "                      ...              \n",
       "16652     1 (Tract 10.02, Humboldt, CA)\n",
       "16653         4 (Tract 2, Humboldt, CA)\n",
       "16654     1 (Tract 11.03, Humboldt, CA)\n",
       "16655     2 (Tract 10.02, Humboldt, CA)\n",
       "16656         3 (Tract 3, Humboldt, CA)\n",
       "Name: origin_bgrp_2020, Length: 16657, dtype: object>"
      ]
     },
     "execution_count": 14,
     "metadata": {},
     "output_type": "execute_result"
    }
   ],
   "source": [
    "to_cp.origin_bgrp_2020.value_counts"
   ]
  },
  {
   "cell_type": "code",
   "execution_count": null,
   "id": "4b3d6aa3-1eef-4d17-aa07-5b0b34489c41",
   "metadata": {},
   "outputs": [],
   "source": []
  },
  {
   "cell_type": "markdown",
   "id": "2a0f0cb1-705b-425d-854b-6bc76563c0bb",
   "metadata": {},
   "source": [
    "### Reading in block groups\n",
    "* downloaded from Replica (also have some other options like taz)"
   ]
  },
  {
   "cell_type": "code",
   "execution_count": null,
   "id": "610be114-f52a-408d-91db-aa660d75aeb9",
   "metadata": {},
   "outputs": [],
   "source": []
  },
  {
   "cell_type": "code",
   "execution_count": 15,
   "id": "2423ef58-c044-429f-9b06-80f7addfb3b2",
   "metadata": {},
   "outputs": [],
   "source": [
    "with get_fs().open(f\"{gcs_path}replica-hta_transit_calpolyhumboldt-10_22_25-origin_layer_Humb.zip\") as f:\n",
    "    blkgr = to_snakecase(gpd.read_file(f))"
   ]
  },
  {
   "cell_type": "code",
   "execution_count": 16,
   "id": "2f4bf590-f39b-4616-b2c0-71078f290eec",
   "metadata": {},
   "outputs": [
    {
     "data": {
      "text/html": [
       "<div>\n",
       "<style scoped>\n",
       "    .dataframe tbody tr th:only-of-type {\n",
       "        vertical-align: middle;\n",
       "    }\n",
       "\n",
       "    .dataframe tbody tr th {\n",
       "        vertical-align: top;\n",
       "    }\n",
       "\n",
       "    .dataframe thead th {\n",
       "        text-align: right;\n",
       "    }\n",
       "</style>\n",
       "<table border=\"1\" class=\"dataframe\">\n",
       "  <thead>\n",
       "    <tr style=\"text-align: right;\">\n",
       "      <th></th>\n",
       "      <th>geoname</th>\n",
       "      <th>customgeoid</th>\n",
       "      <th>centroidlat</th>\n",
       "      <th>centroidlon</th>\n",
       "      <th>squaremiles</th>\n",
       "      <th>tripsbyorigin</th>\n",
       "      <th>tripsbyorigin_sqmi</th>\n",
       "      <th>geometry</th>\n",
       "    </tr>\n",
       "  </thead>\n",
       "  <tbody>\n",
       "    <tr>\n",
       "      <th>9410</th>\n",
       "      <td>1 (Tract 198.05, San Diego, CA)</td>\n",
       "      <td>60730198051</td>\n",
       "      <td>33.181</td>\n",
       "      <td>-117.2871</td>\n",
       "      <td>0.4723</td>\n",
       "      <td>1</td>\n",
       "      <td>2.1174</td>\n",
       "      <td>POLYGON ((-117.29642 33.18302, -117.29642 33.1...</td>\n",
       "    </tr>\n",
       "  </tbody>\n",
       "</table>\n",
       "</div>"
      ],
      "text/plain": [
       "                              geoname  customgeoid  centroidlat  centroidlon  \\\n",
       "9410  1 (Tract 198.05, San Diego, CA)  60730198051       33.181    -117.2871   \n",
       "\n",
       "      squaremiles  tripsbyorigin  tripsbyorigin_sqmi  \\\n",
       "9410       0.4723              1              2.1174   \n",
       "\n",
       "                                               geometry  \n",
       "9410  POLYGON ((-117.29642 33.18302, -117.29642 33.1...  "
      ]
     },
     "execution_count": 16,
     "metadata": {},
     "output_type": "execute_result"
    }
   ],
   "source": [
    "blkgr.sample()"
   ]
  },
  {
   "cell_type": "code",
   "execution_count": 17,
   "id": "e2dc46e2-31d0-423c-923f-d43d0e3af07a",
   "metadata": {
    "tags": []
   },
   "outputs": [],
   "source": [
    "blkgr[\"name_county\"]  = blkgr['geoname'].str.rstrip(', ').str.split(', ').str[1] "
   ]
  },
  {
   "cell_type": "code",
   "execution_count": 18,
   "id": "9eb0044a-e922-4a58-830e-4c03097e66d3",
   "metadata": {
    "tags": []
   },
   "outputs": [],
   "source": [
    "blkgr[\"name_state\"]  = blkgr['geoname'].str.strip().str[-3:-1]"
   ]
  },
  {
   "cell_type": "code",
   "execution_count": 19,
   "id": "1a773a34-8a9f-43cc-b06d-46028f58a6d7",
   "metadata": {
    "tags": []
   },
   "outputs": [],
   "source": [
    "# blkgr = blkgr>>filter(_.name_state==\"CA\" | _.state_ns)"
   ]
  },
  {
   "cell_type": "code",
   "execution_count": 20,
   "id": "cd5a370e-cc78-4782-891d-e8fe4f16482c",
   "metadata": {
    "tags": []
   },
   "outputs": [],
   "source": [
    "# blkgr[\"id_xwalk\"] = \"\""
   ]
  },
  {
   "cell_type": "code",
   "execution_count": 21,
   "id": "c90be8a5-3299-4232-a2c7-dfde77804844",
   "metadata": {
    "tags": []
   },
   "outputs": [],
   "source": [
    "# blkgr[\"id_xwalk\"] = blkgr['id'].str.lstrip('0')"
   ]
  },
  {
   "cell_type": "code",
   "execution_count": 22,
   "id": "c971c596-ba30-4400-a7c3-f426aac6ae27",
   "metadata": {
    "tags": []
   },
   "outputs": [],
   "source": [
    "# blkgr['id_xwalk'] = blkgr['id_xwalk'].astype('int64')"
   ]
  },
  {
   "cell_type": "code",
   "execution_count": 23,
   "id": "8bb927bf-49b6-4213-ad12-6eac310231c0",
   "metadata": {
    "tags": []
   },
   "outputs": [
    {
     "data": {
      "text/html": [
       "<div>\n",
       "<style scoped>\n",
       "    .dataframe tbody tr th:only-of-type {\n",
       "        vertical-align: middle;\n",
       "    }\n",
       "\n",
       "    .dataframe tbody tr th {\n",
       "        vertical-align: top;\n",
       "    }\n",
       "\n",
       "    .dataframe thead th {\n",
       "        text-align: right;\n",
       "    }\n",
       "</style>\n",
       "<table border=\"1\" class=\"dataframe\">\n",
       "  <thead>\n",
       "    <tr style=\"text-align: right;\">\n",
       "      <th></th>\n",
       "      <th>geoname</th>\n",
       "      <th>customgeoid</th>\n",
       "      <th>centroidlat</th>\n",
       "      <th>centroidlon</th>\n",
       "      <th>squaremiles</th>\n",
       "      <th>tripsbyorigin</th>\n",
       "      <th>tripsbyorigin_sqmi</th>\n",
       "      <th>geometry</th>\n",
       "      <th>name_county</th>\n",
       "      <th>name_state</th>\n",
       "    </tr>\n",
       "  </thead>\n",
       "  <tbody>\n",
       "    <tr>\n",
       "      <th>5432</th>\n",
       "      <td>1 (Tract 4322, Alameda, CA)</td>\n",
       "      <td>60014322001</td>\n",
       "      <td>37.7343</td>\n",
       "      <td>-122.1602</td>\n",
       "      <td>0.102</td>\n",
       "      <td>6</td>\n",
       "      <td>58.8424</td>\n",
       "      <td>POLYGON ((-122.16408 37.73584, -122.16385 37.7...</td>\n",
       "      <td>Alameda</td>\n",
       "      <td>CA</td>\n",
       "    </tr>\n",
       "  </tbody>\n",
       "</table>\n",
       "</div>"
      ],
      "text/plain": [
       "                          geoname  customgeoid  centroidlat  centroidlon  \\\n",
       "5432  1 (Tract 4322, Alameda, CA)  60014322001      37.7343    -122.1602   \n",
       "\n",
       "      squaremiles  tripsbyorigin  tripsbyorigin_sqmi  \\\n",
       "5432        0.102              6             58.8424   \n",
       "\n",
       "                                               geometry name_county name_state  \n",
       "5432  POLYGON ((-122.16408 37.73584, -122.16385 37.7...     Alameda         CA  "
      ]
     },
     "execution_count": 23,
     "metadata": {},
     "output_type": "execute_result"
    }
   ],
   "source": [
    "blkgr.sample()"
   ]
  },
  {
   "cell_type": "code",
   "execution_count": null,
   "id": "7d041831-9ab4-41b5-b0a3-479777403e9b",
   "metadata": {
    "tags": []
   },
   "outputs": [],
   "source": []
  },
  {
   "cell_type": "markdown",
   "id": "413f31a6-e476-4641-a5aa-1ec31e7b3cff",
   "metadata": {},
   "source": [
    "##### read in crosswalk from Replica"
   ]
  },
  {
   "cell_type": "code",
   "execution_count": 24,
   "id": "ec8ebe23-9fae-4db5-8258-54b4addb3efb",
   "metadata": {
    "tags": []
   },
   "outputs": [],
   "source": [
    "# xwalk = pd.read_csv(f\"{gcs_path}census_xwalk.csv\")\n",
    "# xwalk = xwalk>>filter(_.stusps==\"CA\")"
   ]
  },
  {
   "cell_type": "code",
   "execution_count": 25,
   "id": "11c5f32a-2ed1-4ac5-a356-87d34bb2e0a2",
   "metadata": {
    "tags": []
   },
   "outputs": [],
   "source": [
    "# xwalk.sample()"
   ]
  },
  {
   "cell_type": "code",
   "execution_count": null,
   "id": "0b02a7d8-af91-43a4-a9af-0c0aab18f6cc",
   "metadata": {},
   "outputs": [],
   "source": []
  },
  {
   "cell_type": "code",
   "execution_count": 26,
   "id": "ee89a6f1-6bd5-40a8-97e9-01a453b96c9e",
   "metadata": {
    "tags": []
   },
   "outputs": [],
   "source": [
    "# xwalk_map = dict(zip(xwalk['bgrp'], \n",
    "#                           xwalk['bgrpname']))"
   ]
  },
  {
   "cell_type": "code",
   "execution_count": 27,
   "id": "ff4c24e9-d84b-4c15-8494-abfad4fe413c",
   "metadata": {
    "tags": []
   },
   "outputs": [],
   "source": [
    "# blkgr[\"name_xwalk\"] = np.NaN"
   ]
  },
  {
   "cell_type": "code",
   "execution_count": 28,
   "id": "cccdc24e-40e2-4417-b6de-bd51549e0213",
   "metadata": {
    "tags": []
   },
   "outputs": [],
   "source": [
    "# blkgr['name_xwalk'] = blkgr['name_xwalk'].fillna(blkgr['id_xwalk'].map(xwalk_map))"
   ]
  },
  {
   "cell_type": "code",
   "execution_count": 29,
   "id": "e6fbe455-a653-4675-92d5-2eeaef908773",
   "metadata": {
    "tags": []
   },
   "outputs": [
    {
     "data": {
      "text/html": [
       "<div>\n",
       "<style scoped>\n",
       "    .dataframe tbody tr th:only-of-type {\n",
       "        vertical-align: middle;\n",
       "    }\n",
       "\n",
       "    .dataframe tbody tr th {\n",
       "        vertical-align: top;\n",
       "    }\n",
       "\n",
       "    .dataframe thead th {\n",
       "        text-align: right;\n",
       "    }\n",
       "</style>\n",
       "<table border=\"1\" class=\"dataframe\">\n",
       "  <thead>\n",
       "    <tr style=\"text-align: right;\">\n",
       "      <th></th>\n",
       "      <th>activity_id</th>\n",
       "      <th>origin_bgrp_2020</th>\n",
       "      <th>origin_trct_2020</th>\n",
       "      <th>origin_cty_2020</th>\n",
       "      <th>origin_st_2020</th>\n",
       "      <th>destination_bgrp_2020</th>\n",
       "      <th>destination_trct_2020</th>\n",
       "      <th>destination_cty_2020</th>\n",
       "      <th>destination_st_2020</th>\n",
       "      <th>primary_mode</th>\n",
       "      <th>trip_purpose</th>\n",
       "      <th>previous_trip_purpose</th>\n",
       "      <th>trip_start_time</th>\n",
       "      <th>trip_end_time</th>\n",
       "      <th>trip_duration_minutes</th>\n",
       "      <th>trip_distance_miles</th>\n",
       "      <th>vehicle_type</th>\n",
       "      <th>vehicle_fuel_type</th>\n",
       "      <th>transit_submode</th>\n",
       "      <th>transit_agency</th>\n",
       "      <th>transit_route</th>\n",
       "      <th>origin_land_use</th>\n",
       "      <th>origin_building_use</th>\n",
       "      <th>destination_land_use</th>\n",
       "      <th>destination_building_use</th>\n",
       "      <th>trip_taker_person_id</th>\n",
       "      <th>trip_taker_household_id</th>\n",
       "      <th>trip_taker_age</th>\n",
       "      <th>trip_taker_sex</th>\n",
       "      <th>trip_taker_race_ethnicity</th>\n",
       "      <th>trip_taker_employment_status</th>\n",
       "      <th>trip_taker_wfh</th>\n",
       "      <th>trip_taker_individual_income</th>\n",
       "      <th>trip_taker_commute_mode</th>\n",
       "      <th>trip_taker_household_size</th>\n",
       "      <th>trip_taker_household_income</th>\n",
       "      <th>trip_taker_available_vehicles</th>\n",
       "      <th>trip_taker_resident_type</th>\n",
       "      <th>trip_taker_industry</th>\n",
       "      <th>trip_taker_building_type</th>\n",
       "      <th>trip_taker_school_grade_attending</th>\n",
       "      <th>trip_taker_education</th>\n",
       "      <th>trip_taker_tenure</th>\n",
       "      <th>trip_taker_language</th>\n",
       "      <th>trip_taker_home_bgrp_2020</th>\n",
       "      <th>trip_taker_home_trct_2020</th>\n",
       "      <th>trip_taker_home_cty_2020</th>\n",
       "      <th>trip_taker_home_st_2020</th>\n",
       "      <th>trip_taker_work_bgrp_2020</th>\n",
       "      <th>trip_taker_work_trct_2020</th>\n",
       "      <th>trip_taker_work_cty_2020</th>\n",
       "      <th>trip_taker_work_st_2020</th>\n",
       "    </tr>\n",
       "  </thead>\n",
       "  <tbody>\n",
       "    <tr>\n",
       "      <th>7815</th>\n",
       "      <td>8258003144537441209</td>\n",
       "      <td>2 (Tract 105.04, Humboldt, CA)</td>\n",
       "      <td>105.04 (Humboldt, CA)</td>\n",
       "      <td>Humboldt County, CA</td>\n",
       "      <td>California</td>\n",
       "      <td>2 (Tract 10.02, Humboldt, CA)</td>\n",
       "      <td>10.02 (Humboldt, CA)</td>\n",
       "      <td>Humboldt County, CA</td>\n",
       "      <td>California</td>\n",
       "      <td>private_auto</td>\n",
       "      <td>eat</td>\n",
       "      <td>home</td>\n",
       "      <td>17:19:00</td>\n",
       "      <td>17:29:17</td>\n",
       "      <td>10</td>\n",
       "      <td>6.2</td>\n",
       "      <td>unknown_vehicle_type</td>\n",
       "      <td>other_non_bev</td>\n",
       "      <td>NaN</td>\n",
       "      <td>NaN</td>\n",
       "      <td>NaN</td>\n",
       "      <td>single_family</td>\n",
       "      <td>single_family</td>\n",
       "      <td>retail</td>\n",
       "      <td>retail</td>\n",
       "      <td>4657626763512172537</td>\n",
       "      <td>9792656961396876564</td>\n",
       "      <td>34.0</td>\n",
       "      <td>male</td>\n",
       "      <td>white_not_hispanic_or_latino</td>\n",
       "      <td>employed</td>\n",
       "      <td>in_person</td>\n",
       "      <td>61171.0</td>\n",
       "      <td>private_auto</td>\n",
       "      <td>4</td>\n",
       "      <td>61171.0</td>\n",
       "      <td>two</td>\n",
       "      <td>core</td>\n",
       "      <td>not_working</td>\n",
       "      <td>single_family</td>\n",
       "      <td>not_attending_school</td>\n",
       "      <td>high_school</td>\n",
       "      <td>renter</td>\n",
       "      <td>english</td>\n",
       "      <td>2 (Tract 105.04, Humboldt, CA)</td>\n",
       "      <td>105.04 (Humboldt, CA)</td>\n",
       "      <td>Humboldt County, CA</td>\n",
       "      <td>California</td>\n",
       "      <td>2 (Tract 10.02, Humboldt, CA)</td>\n",
       "      <td>10.02 (Humboldt, CA)</td>\n",
       "      <td>Humboldt County, CA</td>\n",
       "      <td>California</td>\n",
       "    </tr>\n",
       "  </tbody>\n",
       "</table>\n",
       "</div>"
      ],
      "text/plain": [
       "              activity_id                origin_bgrp_2020  \\\n",
       "7815  8258003144537441209  2 (Tract 105.04, Humboldt, CA)   \n",
       "\n",
       "           origin_trct_2020      origin_cty_2020 origin_st_2020  \\\n",
       "7815  105.04 (Humboldt, CA)  Humboldt County, CA     California   \n",
       "\n",
       "              destination_bgrp_2020 destination_trct_2020  \\\n",
       "7815  2 (Tract 10.02, Humboldt, CA)  10.02 (Humboldt, CA)   \n",
       "\n",
       "     destination_cty_2020 destination_st_2020  primary_mode trip_purpose  \\\n",
       "7815  Humboldt County, CA          California  private_auto          eat   \n",
       "\n",
       "     previous_trip_purpose trip_start_time trip_end_time  \\\n",
       "7815                  home        17:19:00      17:29:17   \n",
       "\n",
       "      trip_duration_minutes  trip_distance_miles          vehicle_type  \\\n",
       "7815                     10                  6.2  unknown_vehicle_type   \n",
       "\n",
       "     vehicle_fuel_type transit_submode transit_agency transit_route  \\\n",
       "7815     other_non_bev             NaN            NaN           NaN   \n",
       "\n",
       "     origin_land_use origin_building_use destination_land_use  \\\n",
       "7815   single_family       single_family               retail   \n",
       "\n",
       "     destination_building_use trip_taker_person_id trip_taker_household_id  \\\n",
       "7815                   retail  4657626763512172537     9792656961396876564   \n",
       "\n",
       "      trip_taker_age trip_taker_sex     trip_taker_race_ethnicity  \\\n",
       "7815            34.0           male  white_not_hispanic_or_latino   \n",
       "\n",
       "     trip_taker_employment_status trip_taker_wfh  \\\n",
       "7815                     employed      in_person   \n",
       "\n",
       "      trip_taker_individual_income trip_taker_commute_mode  \\\n",
       "7815                       61171.0            private_auto   \n",
       "\n",
       "      trip_taker_household_size  trip_taker_household_income  \\\n",
       "7815                          4                      61171.0   \n",
       "\n",
       "     trip_taker_available_vehicles trip_taker_resident_type  \\\n",
       "7815                           two                     core   \n",
       "\n",
       "     trip_taker_industry trip_taker_building_type  \\\n",
       "7815         not_working            single_family   \n",
       "\n",
       "     trip_taker_school_grade_attending trip_taker_education trip_taker_tenure  \\\n",
       "7815              not_attending_school          high_school            renter   \n",
       "\n",
       "     trip_taker_language       trip_taker_home_bgrp_2020  \\\n",
       "7815             english  2 (Tract 105.04, Humboldt, CA)   \n",
       "\n",
       "     trip_taker_home_trct_2020 trip_taker_home_cty_2020  \\\n",
       "7815     105.04 (Humboldt, CA)      Humboldt County, CA   \n",
       "\n",
       "     trip_taker_home_st_2020      trip_taker_work_bgrp_2020  \\\n",
       "7815              California  2 (Tract 10.02, Humboldt, CA)   \n",
       "\n",
       "     trip_taker_work_trct_2020 trip_taker_work_cty_2020  \\\n",
       "7815      10.02 (Humboldt, CA)      Humboldt County, CA   \n",
       "\n",
       "     trip_taker_work_st_2020  \n",
       "7815              California  "
      ]
     },
     "execution_count": 29,
     "metadata": {},
     "output_type": "execute_result"
    }
   ],
   "source": [
    "to_cp.sample()"
   ]
  },
  {
   "cell_type": "code",
   "execution_count": null,
   "id": "55dba0fa-8918-4903-b252-580039951756",
   "metadata": {},
   "outputs": [],
   "source": []
  },
  {
   "cell_type": "code",
   "execution_count": 30,
   "id": "1ccd3962-6049-449e-86e1-5a2190707cd0",
   "metadata": {
    "tags": []
   },
   "outputs": [],
   "source": [
    "# (blkgr[blkgr[\"name_county\"]==\"Humboldt\"])"
   ]
  },
  {
   "cell_type": "code",
   "execution_count": 31,
   "id": "b057c41c-d66f-4063-9f04-6049ed6fe0a6",
   "metadata": {
    "tags": []
   },
   "outputs": [],
   "source": [
    "# blkgr>>filter(_.name==\"1 (Tract 9, Humboldt, CA)\")"
   ]
  },
  {
   "cell_type": "code",
   "execution_count": 32,
   "id": "0ea57653-f780-4c92-b0ee-b4b664681d98",
   "metadata": {
    "tags": []
   },
   "outputs": [],
   "source": [
    "# (to_cp>>filter(_.origin_bgrp_2020 == \"1 (Tract 9, Humboldt, CA)\")).sample()"
   ]
  },
  {
   "cell_type": "code",
   "execution_count": 33,
   "id": "5891d28c-63f6-4e95-8c10-0e4f95be95e7",
   "metadata": {
    "tags": []
   },
   "outputs": [],
   "source": [
    "# to_cp.sample()"
   ]
  },
  {
   "cell_type": "code",
   "execution_count": null,
   "id": "d2198565-8bd4-430d-afa7-d7ae0f5112cd",
   "metadata": {},
   "outputs": [],
   "source": []
  },
  {
   "cell_type": "code",
   "execution_count": 34,
   "id": "7253dde0-ad65-4de0-abbc-93b16a97793d",
   "metadata": {},
   "outputs": [],
   "source": [
    "blkgr_map = dict(zip(blkgr['geoname'], \n",
    "                          blkgr['geometry']))"
   ]
  },
  {
   "cell_type": "code",
   "execution_count": 35,
   "id": "e1c5c185-ff38-4cea-ad22-91f4c3c85501",
   "metadata": {},
   "outputs": [],
   "source": [
    "to_cp[\"origin_geometry\"] = np.nan\n",
    "to_cp['origin_geometry'] = to_cp['origin_geometry'].fillna(to_cp['origin_bgrp_2020'].map(blkgr_map))\n",
    "to_cp = to_cp.set_geometry(\"origin_geometry\")\n",
    "\n",
    "to_cp = to_cp.set_crs(4326)"
   ]
  },
  {
   "cell_type": "code",
   "execution_count": 36,
   "id": "36cdb9a4-49ed-4b48-85bc-d770ec3ca315",
   "metadata": {
    "tags": []
   },
   "outputs": [],
   "source": [
    "# to_cp[\"dest_geometry\"] = np.nan\n",
    "# to_cp['dest_geometry'] = to_cp['dest_geometry'].fillna(to_cp['destination_bgrp_2020'].map(blkgr_map))"
   ]
  },
  {
   "cell_type": "code",
   "execution_count": null,
   "id": "eb32f3bc-1f03-4e24-ac43-5cba2a826bac",
   "metadata": {},
   "outputs": [],
   "source": []
  },
  {
   "cell_type": "code",
   "execution_count": 37,
   "id": "15345e4e-c85e-4d48-96bb-ebd3dd7bc672",
   "metadata": {
    "tags": []
   },
   "outputs": [],
   "source": [
    "# from_cp[\"origin_geometry\"] = np.nan\n",
    "# from_cp['origin_geometry'] = from_cp['origin_geometry'].fillna(from_cp['origin_bgrp_2020'].map(blkgr_map))"
   ]
  },
  {
   "cell_type": "code",
   "execution_count": 38,
   "id": "1e92d465-35dd-4f6d-8fdb-450a88f5137b",
   "metadata": {
    "tags": []
   },
   "outputs": [],
   "source": [
    "from_cp[\"dest_geometry\"] = np.nan\n",
    "from_cp['dest_geometry'] = from_cp['dest_geometry'].fillna(from_cp['destination_bgrp_2020'].map(blkgr_map))\n",
    "\n",
    "from_cp = from_cp.set_geometry(\"dest_geometry\")"
   ]
  },
  {
   "cell_type": "code",
   "execution_count": 39,
   "id": "e0dc0863-a3a3-4123-9e34-124012930868",
   "metadata": {},
   "outputs": [],
   "source": [
    "\n",
    "from_cp = from_cp.set_crs(4326)"
   ]
  },
  {
   "cell_type": "code",
   "execution_count": 40,
   "id": "899a47a1-7219-4cfe-a706-f26140f0aece",
   "metadata": {
    "tags": []
   },
   "outputs": [
    {
     "data": {
      "text/plain": [
       "array(['2 (Tract 10.02, Humboldt, CA)'], dtype=object)"
      ]
     },
     "execution_count": 40,
     "metadata": {},
     "output_type": "execute_result"
    }
   ],
   "source": [
    "from_cp['origin_bgrp_2020'].unique()\n",
    "\n",
    "# from_cp.destination_bgrp_2020.value_counts()"
   ]
  },
  {
   "cell_type": "code",
   "execution_count": 41,
   "id": "4f2e2015-3087-4920-bb04-217ec7ca12bf",
   "metadata": {
    "tags": []
   },
   "outputs": [],
   "source": [
    "from_cp_origins = from_cp['destination_bgrp_2020'].unique()"
   ]
  },
  {
   "cell_type": "code",
   "execution_count": null,
   "id": "badd83cc-bb85-4d1e-89c2-52524e52ff53",
   "metadata": {},
   "outputs": [],
   "source": []
  },
  {
   "cell_type": "code",
   "execution_count": 42,
   "id": "0444d9ff-e15d-474f-9eda-191a4acacb38",
   "metadata": {
    "tags": []
   },
   "outputs": [],
   "source": [
    "# (blkgr>>filter(_.geoname.isin(from_cp_origins))).explore()"
   ]
  },
  {
   "cell_type": "code",
   "execution_count": 43,
   "id": "c184f63a-de7d-4412-9ad4-2e61a5a670c2",
   "metadata": {
    "tags": []
   },
   "outputs": [],
   "source": [
    "# (blkgr>>filter(_.geoname.isin(from_cp_origins))).explore()"
   ]
  },
  {
   "cell_type": "code",
   "execution_count": null,
   "id": "8d5b8e71-fd03-4a83-8358-9f4fbe6c8713",
   "metadata": {},
   "outputs": [],
   "source": []
  },
  {
   "cell_type": "code",
   "execution_count": 44,
   "id": "3d2b09b9-6e31-4a4a-a186-dbe9130aeb8a",
   "metadata": {
    "tags": []
   },
   "outputs": [
    {
     "data": {
      "text/html": [
       "<div>\n",
       "<style scoped>\n",
       "    .dataframe tbody tr th:only-of-type {\n",
       "        vertical-align: middle;\n",
       "    }\n",
       "\n",
       "    .dataframe tbody tr th {\n",
       "        vertical-align: top;\n",
       "    }\n",
       "\n",
       "    .dataframe thead th {\n",
       "        text-align: right;\n",
       "    }\n",
       "</style>\n",
       "<table border=\"1\" class=\"dataframe\">\n",
       "  <thead>\n",
       "    <tr style=\"text-align: right;\">\n",
       "      <th></th>\n",
       "      <th>activity_id</th>\n",
       "      <th>origin_bgrp_2020</th>\n",
       "      <th>origin_trct_2020</th>\n",
       "      <th>origin_cty_2020</th>\n",
       "      <th>origin_st_2020</th>\n",
       "      <th>destination_bgrp_2020</th>\n",
       "      <th>destination_trct_2020</th>\n",
       "      <th>destination_cty_2020</th>\n",
       "      <th>destination_st_2020</th>\n",
       "      <th>primary_mode</th>\n",
       "      <th>trip_purpose</th>\n",
       "      <th>previous_trip_purpose</th>\n",
       "      <th>trip_start_time</th>\n",
       "      <th>trip_end_time</th>\n",
       "      <th>trip_duration_minutes</th>\n",
       "      <th>trip_distance_miles</th>\n",
       "      <th>vehicle_type</th>\n",
       "      <th>vehicle_fuel_type</th>\n",
       "      <th>transit_submode</th>\n",
       "      <th>transit_agency</th>\n",
       "      <th>transit_route</th>\n",
       "      <th>origin_land_use</th>\n",
       "      <th>origin_building_use</th>\n",
       "      <th>destination_land_use</th>\n",
       "      <th>destination_building_use</th>\n",
       "      <th>trip_taker_person_id</th>\n",
       "      <th>trip_taker_household_id</th>\n",
       "      <th>trip_taker_age</th>\n",
       "      <th>trip_taker_sex</th>\n",
       "      <th>trip_taker_race_ethnicity</th>\n",
       "      <th>trip_taker_employment_status</th>\n",
       "      <th>trip_taker_wfh</th>\n",
       "      <th>trip_taker_individual_income</th>\n",
       "      <th>trip_taker_commute_mode</th>\n",
       "      <th>trip_taker_household_size</th>\n",
       "      <th>trip_taker_household_income</th>\n",
       "      <th>trip_taker_available_vehicles</th>\n",
       "      <th>trip_taker_resident_type</th>\n",
       "      <th>trip_taker_industry</th>\n",
       "      <th>trip_taker_building_type</th>\n",
       "      <th>trip_taker_school_grade_attending</th>\n",
       "      <th>trip_taker_education</th>\n",
       "      <th>trip_taker_tenure</th>\n",
       "      <th>trip_taker_language</th>\n",
       "      <th>trip_taker_home_bgrp_2020</th>\n",
       "      <th>trip_taker_home_trct_2020</th>\n",
       "      <th>trip_taker_home_cty_2020</th>\n",
       "      <th>trip_taker_home_st_2020</th>\n",
       "      <th>trip_taker_work_bgrp_2020</th>\n",
       "      <th>trip_taker_work_trct_2020</th>\n",
       "      <th>trip_taker_work_cty_2020</th>\n",
       "      <th>trip_taker_work_st_2020</th>\n",
       "      <th>dest_geometry</th>\n",
       "    </tr>\n",
       "  </thead>\n",
       "  <tbody>\n",
       "    <tr>\n",
       "      <th>12589</th>\n",
       "      <td>6393406066303971603</td>\n",
       "      <td>2 (Tract 10.02, Humboldt, CA)</td>\n",
       "      <td>10.02 (Humboldt, CA)</td>\n",
       "      <td>Humboldt County, CA</td>\n",
       "      <td>California</td>\n",
       "      <td>3 (Tract 108, Humboldt, CA)</td>\n",
       "      <td>108 (Humboldt, CA)</td>\n",
       "      <td>Humboldt County, CA</td>\n",
       "      <td>California</td>\n",
       "      <td>private_auto</td>\n",
       "      <td>shop</td>\n",
       "      <td>work</td>\n",
       "      <td>21:56:00</td>\n",
       "      <td>22:29:38</td>\n",
       "      <td>33</td>\n",
       "      <td>26.6</td>\n",
       "      <td>unknown_vehicle_type</td>\n",
       "      <td>other_non_bev</td>\n",
       "      <td>NaN</td>\n",
       "      <td>NaN</td>\n",
       "      <td>NaN</td>\n",
       "      <td>education</td>\n",
       "      <td>education</td>\n",
       "      <td>retail</td>\n",
       "      <td>retail</td>\n",
       "      <td>11381690994155262853</td>\n",
       "      <td>5927712285845674372</td>\n",
       "      <td>34.0</td>\n",
       "      <td>female</td>\n",
       "      <td>white_not_hispanic_or_latino</td>\n",
       "      <td>employed</td>\n",
       "      <td>in_person</td>\n",
       "      <td>57093.0</td>\n",
       "      <td>private_auto</td>\n",
       "      <td>4</td>\n",
       "      <td>104602.0</td>\n",
       "      <td>three_plus</td>\n",
       "      <td>core</td>\n",
       "      <td>naics611110</td>\n",
       "      <td>single_family</td>\n",
       "      <td>not_attending_school</td>\n",
       "      <td>bachelors_degree</td>\n",
       "      <td>owner</td>\n",
       "      <td>english</td>\n",
       "      <td>2 (Tract 110, Humboldt, CA)</td>\n",
       "      <td>110 (Humboldt, CA)</td>\n",
       "      <td>Humboldt County, CA</td>\n",
       "      <td>California</td>\n",
       "      <td>4 (Tract 108, Humboldt, CA)</td>\n",
       "      <td>108 (Humboldt, CA)</td>\n",
       "      <td>Humboldt County, CA</td>\n",
       "      <td>California</td>\n",
       "      <td>POLYGON ((-124.16149 40.60718, -124.16148 40.6...</td>\n",
       "    </tr>\n",
       "  </tbody>\n",
       "</table>\n",
       "</div>"
      ],
      "text/plain": [
       "               activity_id               origin_bgrp_2020  \\\n",
       "12589  6393406066303971603  2 (Tract 10.02, Humboldt, CA)   \n",
       "\n",
       "           origin_trct_2020      origin_cty_2020 origin_st_2020  \\\n",
       "12589  10.02 (Humboldt, CA)  Humboldt County, CA     California   \n",
       "\n",
       "             destination_bgrp_2020 destination_trct_2020 destination_cty_2020  \\\n",
       "12589  3 (Tract 108, Humboldt, CA)    108 (Humboldt, CA)  Humboldt County, CA   \n",
       "\n",
       "      destination_st_2020  primary_mode trip_purpose previous_trip_purpose  \\\n",
       "12589          California  private_auto         shop                  work   \n",
       "\n",
       "      trip_start_time trip_end_time  trip_duration_minutes  \\\n",
       "12589        21:56:00      22:29:38                     33   \n",
       "\n",
       "       trip_distance_miles          vehicle_type vehicle_fuel_type  \\\n",
       "12589                 26.6  unknown_vehicle_type     other_non_bev   \n",
       "\n",
       "      transit_submode transit_agency transit_route origin_land_use  \\\n",
       "12589             NaN            NaN           NaN       education   \n",
       "\n",
       "      origin_building_use destination_land_use destination_building_use  \\\n",
       "12589           education               retail                   retail   \n",
       "\n",
       "       trip_taker_person_id trip_taker_household_id  trip_taker_age  \\\n",
       "12589  11381690994155262853     5927712285845674372            34.0   \n",
       "\n",
       "      trip_taker_sex     trip_taker_race_ethnicity  \\\n",
       "12589         female  white_not_hispanic_or_latino   \n",
       "\n",
       "      trip_taker_employment_status trip_taker_wfh  \\\n",
       "12589                     employed      in_person   \n",
       "\n",
       "       trip_taker_individual_income trip_taker_commute_mode  \\\n",
       "12589                       57093.0            private_auto   \n",
       "\n",
       "       trip_taker_household_size  trip_taker_household_income  \\\n",
       "12589                          4                     104602.0   \n",
       "\n",
       "      trip_taker_available_vehicles trip_taker_resident_type  \\\n",
       "12589                    three_plus                     core   \n",
       "\n",
       "      trip_taker_industry trip_taker_building_type  \\\n",
       "12589         naics611110            single_family   \n",
       "\n",
       "      trip_taker_school_grade_attending trip_taker_education  \\\n",
       "12589              not_attending_school     bachelors_degree   \n",
       "\n",
       "      trip_taker_tenure trip_taker_language    trip_taker_home_bgrp_2020  \\\n",
       "12589             owner             english  2 (Tract 110, Humboldt, CA)   \n",
       "\n",
       "      trip_taker_home_trct_2020 trip_taker_home_cty_2020  \\\n",
       "12589        110 (Humboldt, CA)      Humboldt County, CA   \n",
       "\n",
       "      trip_taker_home_st_2020    trip_taker_work_bgrp_2020  \\\n",
       "12589              California  4 (Tract 108, Humboldt, CA)   \n",
       "\n",
       "      trip_taker_work_trct_2020 trip_taker_work_cty_2020  \\\n",
       "12589        108 (Humboldt, CA)      Humboldt County, CA   \n",
       "\n",
       "      trip_taker_work_st_2020  \\\n",
       "12589              California   \n",
       "\n",
       "                                           dest_geometry  \n",
       "12589  POLYGON ((-124.16149 40.60718, -124.16148 40.6...  "
      ]
     },
     "execution_count": 44,
     "metadata": {},
     "output_type": "execute_result"
    }
   ],
   "source": [
    "from_cp.sample()"
   ]
  },
  {
   "cell_type": "code",
   "execution_count": null,
   "id": "f0c2ee52-b383-49b5-b92d-00985ca5f539",
   "metadata": {},
   "outputs": [],
   "source": []
  },
  {
   "cell_type": "code",
   "execution_count": 45,
   "id": "4e105b41-c93d-4fc0-b4c5-958049f88b3e",
   "metadata": {
    "tags": []
   },
   "outputs": [
    {
     "data": {
      "text/html": [
       "<div style=\"width:100%;\"><div style=\"position:relative;width:100%;height:0;padding-bottom:60%;\"><span style=\"color:#565656\">Make this Notebook Trusted to load map: File -> Trust Notebook</span><iframe src=\"about:blank\" style=\"position:absolute;width:100%;height:100%;left:0;top:0;border:none !important;\" data-html=%3C%21DOCTYPE%20html%3E%0A%3Chead%3E%20%20%20%20%0A%20%20%20%20%3Cmeta%20http-equiv%3D%22content-type%22%20content%3D%22text/html%3B%20charset%3DUTF-8%22%20/%3E%0A%20%20%20%20%0A%20%20%20%20%20%20%20%20%3Cscript%3E%0A%20%20%20%20%20%20%20%20%20%20%20%20L_NO_TOUCH%20%3D%20false%3B%0A%20%20%20%20%20%20%20%20%20%20%20%20L_DISABLE_3D%20%3D%20false%3B%0A%20%20%20%20%20%20%20%20%3C/script%3E%0A%20%20%20%20%0A%20%20%20%20%3Cstyle%3Ehtml%2C%20body%20%7Bwidth%3A%20100%25%3Bheight%3A%20100%25%3Bmargin%3A%200%3Bpadding%3A%200%3B%7D%3C/style%3E%0A%20%20%20%20%3Cstyle%3E%23map%20%7Bposition%3Aabsolute%3Btop%3A0%3Bbottom%3A0%3Bright%3A0%3Bleft%3A0%3B%7D%3C/style%3E%0A%20%20%20%20%3Cscript%20src%3D%22https%3A//cdn.jsdelivr.net/npm/leaflet%401.6.0/dist/leaflet.js%22%3E%3C/script%3E%0A%20%20%20%20%3Cscript%20src%3D%22https%3A//code.jquery.com/jquery-1.12.4.min.js%22%3E%3C/script%3E%0A%20%20%20%20%3Cscript%20src%3D%22https%3A//maxcdn.bootstrapcdn.com/bootstrap/3.2.0/js/bootstrap.min.js%22%3E%3C/script%3E%0A%20%20%20%20%3Cscript%20src%3D%22https%3A//cdnjs.cloudflare.com/ajax/libs/Leaflet.awesome-markers/2.0.2/leaflet.awesome-markers.js%22%3E%3C/script%3E%0A%20%20%20%20%3Clink%20rel%3D%22stylesheet%22%20href%3D%22https%3A//cdn.jsdelivr.net/npm/leaflet%401.6.0/dist/leaflet.css%22/%3E%0A%20%20%20%20%3Clink%20rel%3D%22stylesheet%22%20href%3D%22https%3A//maxcdn.bootstrapcdn.com/bootstrap/3.2.0/css/bootstrap.min.css%22/%3E%0A%20%20%20%20%3Clink%20rel%3D%22stylesheet%22%20href%3D%22https%3A//maxcdn.bootstrapcdn.com/bootstrap/3.2.0/css/bootstrap-theme.min.css%22/%3E%0A%20%20%20%20%3Clink%20rel%3D%22stylesheet%22%20href%3D%22https%3A//maxcdn.bootstrapcdn.com/font-awesome/4.6.3/css/font-awesome.min.css%22/%3E%0A%20%20%20%20%3Clink%20rel%3D%22stylesheet%22%20href%3D%22https%3A//cdnjs.cloudflare.com/ajax/libs/Leaflet.awesome-markers/2.0.2/leaflet.awesome-markers.css%22/%3E%0A%20%20%20%20%3Clink%20rel%3D%22stylesheet%22%20href%3D%22https%3A//cdn.jsdelivr.net/gh/python-visualization/folium/folium/templates/leaflet.awesome.rotate.min.css%22/%3E%0A%20%20%20%20%0A%20%20%20%20%20%20%20%20%20%20%20%20%3Cmeta%20name%3D%22viewport%22%20content%3D%22width%3Ddevice-width%2C%0A%20%20%20%20%20%20%20%20%20%20%20%20%20%20%20%20initial-scale%3D1.0%2C%20maximum-scale%3D1.0%2C%20user-scalable%3Dno%22%20/%3E%0A%20%20%20%20%20%20%20%20%20%20%20%20%3Cstyle%3E%0A%20%20%20%20%20%20%20%20%20%20%20%20%20%20%20%20%23map_3ae0ee5143a24e90a56c109abb81a3da%20%7B%0A%20%20%20%20%20%20%20%20%20%20%20%20%20%20%20%20%20%20%20%20position%3A%20relative%3B%0A%20%20%20%20%20%20%20%20%20%20%20%20%20%20%20%20%20%20%20%20width%3A%20100.0%25%3B%0A%20%20%20%20%20%20%20%20%20%20%20%20%20%20%20%20%20%20%20%20height%3A%20100.0%25%3B%0A%20%20%20%20%20%20%20%20%20%20%20%20%20%20%20%20%20%20%20%20left%3A%200.0%25%3B%0A%20%20%20%20%20%20%20%20%20%20%20%20%20%20%20%20%20%20%20%20top%3A%200.0%25%3B%0A%20%20%20%20%20%20%20%20%20%20%20%20%20%20%20%20%7D%0A%20%20%20%20%20%20%20%20%20%20%20%20%3C/style%3E%0A%20%20%20%20%20%20%20%20%0A%20%20%20%20%0A%20%20%20%20%20%20%20%20%20%20%20%20%20%20%20%20%20%20%20%20%3Cstyle%3E%0A%20%20%20%20%20%20%20%20%20%20%20%20%20%20%20%20%20%20%20%20%20%20%20%20.foliumtooltip%20%7B%0A%20%20%20%20%20%20%20%20%20%20%20%20%20%20%20%20%20%20%20%20%20%20%20%20%20%20%20%20%0A%20%20%20%20%20%20%20%20%20%20%20%20%20%20%20%20%20%20%20%20%20%20%20%20%7D%0A%20%20%20%20%20%20%20%20%20%20%20%20%20%20%20%20%20%20%20%20%20%20%20.foliumtooltip%20table%7B%0A%20%20%20%20%20%20%20%20%20%20%20%20%20%20%20%20%20%20%20%20%20%20%20%20%20%20%20%20margin%3A%20auto%3B%0A%20%20%20%20%20%20%20%20%20%20%20%20%20%20%20%20%20%20%20%20%20%20%20%20%7D%0A%20%20%20%20%20%20%20%20%20%20%20%20%20%20%20%20%20%20%20%20%20%20%20%20.foliumtooltip%20tr%7B%0A%20%20%20%20%20%20%20%20%20%20%20%20%20%20%20%20%20%20%20%20%20%20%20%20%20%20%20%20text-align%3A%20left%3B%0A%20%20%20%20%20%20%20%20%20%20%20%20%20%20%20%20%20%20%20%20%20%20%20%20%7D%0A%20%20%20%20%20%20%20%20%20%20%20%20%20%20%20%20%20%20%20%20%20%20%20%20.foliumtooltip%20th%7B%0A%20%20%20%20%20%20%20%20%20%20%20%20%20%20%20%20%20%20%20%20%20%20%20%20%20%20%20%20padding%3A%202px%3B%20padding-right%3A%208px%3B%0A%20%20%20%20%20%20%20%20%20%20%20%20%20%20%20%20%20%20%20%20%20%20%20%20%7D%0A%20%20%20%20%20%20%20%20%20%20%20%20%20%20%20%20%20%20%20%20%3C/style%3E%0A%20%20%20%20%20%20%20%20%20%20%20%20%0A%3C/head%3E%0A%3Cbody%3E%20%20%20%20%0A%20%20%20%20%0A%20%20%20%20%20%20%20%20%20%20%20%20%3Cdiv%20class%3D%22folium-map%22%20id%3D%22map_3ae0ee5143a24e90a56c109abb81a3da%22%20%3E%3C/div%3E%0A%20%20%20%20%20%20%20%20%0A%3C/body%3E%0A%3Cscript%3E%20%20%20%20%0A%20%20%20%20%0A%20%20%20%20%20%20%20%20%20%20%20%20var%20map_3ae0ee5143a24e90a56c109abb81a3da%20%3D%20L.map%28%0A%20%20%20%20%20%20%20%20%20%20%20%20%20%20%20%20%22map_3ae0ee5143a24e90a56c109abb81a3da%22%2C%0A%20%20%20%20%20%20%20%20%20%20%20%20%20%20%20%20%7B%0A%20%20%20%20%20%20%20%20%20%20%20%20%20%20%20%20%20%20%20%20center%3A%20%5B40.9260185%2C%20-124.089726%5D%2C%0A%20%20%20%20%20%20%20%20%20%20%20%20%20%20%20%20%20%20%20%20crs%3A%20L.CRS.EPSG3857%2C%0A%20%20%20%20%20%20%20%20%20%20%20%20%20%20%20%20%20%20%20%20zoom%3A%2010%2C%0A%20%20%20%20%20%20%20%20%20%20%20%20%20%20%20%20%20%20%20%20zoomControl%3A%20true%2C%0A%20%20%20%20%20%20%20%20%20%20%20%20%20%20%20%20%20%20%20%20preferCanvas%3A%20false%2C%0A%20%20%20%20%20%20%20%20%20%20%20%20%20%20%20%20%7D%0A%20%20%20%20%20%20%20%20%20%20%20%20%29%3B%0A%20%20%20%20%20%20%20%20%20%20%20%20L.control.scale%28%29.addTo%28map_3ae0ee5143a24e90a56c109abb81a3da%29%3B%0A%0A%20%20%20%20%20%20%20%20%20%20%20%20%0A%0A%20%20%20%20%20%20%20%20%0A%20%20%20%20%0A%20%20%20%20%20%20%20%20%20%20%20%20var%20tile_layer_d38a0ed6b57e4be0a636aeef76e1fb39%20%3D%20L.tileLayer%28%0A%20%20%20%20%20%20%20%20%20%20%20%20%20%20%20%20%22https%3A//%7Bs%7D.tile.openstreetmap.org/%7Bz%7D/%7Bx%7D/%7By%7D.png%22%2C%0A%20%20%20%20%20%20%20%20%20%20%20%20%20%20%20%20%7B%22attribution%22%3A%20%22Data%20by%20%5Cu0026copy%3B%20%5Cu003ca%20href%3D%5C%22http%3A//openstreetmap.org%5C%22%5Cu003eOpenStreetMap%5Cu003c/a%5Cu003e%2C%20under%20%5Cu003ca%20href%3D%5C%22http%3A//www.openstreetmap.org/copyright%5C%22%5Cu003eODbL%5Cu003c/a%5Cu003e.%22%2C%20%22detectRetina%22%3A%20false%2C%20%22maxNativeZoom%22%3A%2018%2C%20%22maxZoom%22%3A%2018%2C%20%22minZoom%22%3A%200%2C%20%22noWrap%22%3A%20false%2C%20%22opacity%22%3A%201%2C%20%22subdomains%22%3A%20%22abc%22%2C%20%22tms%22%3A%20false%7D%0A%20%20%20%20%20%20%20%20%20%20%20%20%29.addTo%28map_3ae0ee5143a24e90a56c109abb81a3da%29%3B%0A%20%20%20%20%20%20%20%20%0A%20%20%20%20%0A%20%20%20%20%20%20%20%20%20%20%20%20map_3ae0ee5143a24e90a56c109abb81a3da.fitBounds%28%0A%20%20%20%20%20%20%20%20%20%20%20%20%20%20%20%20%5B%5B40.915971%2C%20-124.100835%5D%2C%20%5B40.936066%2C%20-124.078617%5D%5D%2C%0A%20%20%20%20%20%20%20%20%20%20%20%20%20%20%20%20%7B%7D%0A%20%20%20%20%20%20%20%20%20%20%20%20%29%3B%0A%20%20%20%20%20%20%20%20%0A%20%20%20%20%0A%20%20%20%20%20%20%20%20function%20geo_json_1ab61b1dff2448d6b13ebcb99410c4f1_styler%28feature%29%20%7B%0A%20%20%20%20%20%20%20%20%20%20%20%20switch%28feature.id%29%20%7B%0A%20%20%20%20%20%20%20%20%20%20%20%20%20%20%20%20default%3A%0A%20%20%20%20%20%20%20%20%20%20%20%20%20%20%20%20%20%20%20%20return%20%7B%22fillOpacity%22%3A%200.5%2C%20%22weight%22%3A%202%7D%3B%0A%20%20%20%20%20%20%20%20%20%20%20%20%7D%0A%20%20%20%20%20%20%20%20%7D%0A%20%20%20%20%20%20%20%20function%20geo_json_1ab61b1dff2448d6b13ebcb99410c4f1_highlighter%28feature%29%20%7B%0A%20%20%20%20%20%20%20%20%20%20%20%20switch%28feature.id%29%20%7B%0A%20%20%20%20%20%20%20%20%20%20%20%20%20%20%20%20default%3A%0A%20%20%20%20%20%20%20%20%20%20%20%20%20%20%20%20%20%20%20%20return%20%7B%22fillOpacity%22%3A%200.75%7D%3B%0A%20%20%20%20%20%20%20%20%20%20%20%20%7D%0A%20%20%20%20%20%20%20%20%7D%0A%20%20%20%20%20%20%20%20function%20geo_json_1ab61b1dff2448d6b13ebcb99410c4f1_pointToLayer%28feature%2C%20latlng%29%20%7B%0A%20%20%20%20%20%20%20%20%20%20%20%20var%20opts%20%3D%20%7B%22bubblingMouseEvents%22%3A%20true%2C%20%22color%22%3A%20%22%233388ff%22%2C%20%22dashArray%22%3A%20null%2C%20%22dashOffset%22%3A%20null%2C%20%22fill%22%3A%20true%2C%20%22fillColor%22%3A%20%22%233388ff%22%2C%20%22fillOpacity%22%3A%200.2%2C%20%22fillRule%22%3A%20%22evenodd%22%2C%20%22lineCap%22%3A%20%22round%22%2C%20%22lineJoin%22%3A%20%22round%22%2C%20%22opacity%22%3A%201.0%2C%20%22radius%22%3A%202%2C%20%22stroke%22%3A%20true%2C%20%22weight%22%3A%203%7D%3B%0A%20%20%20%20%20%20%20%20%20%20%20%20%0A%20%20%20%20%20%20%20%20%20%20%20%20let%20style%20%3D%20geo_json_1ab61b1dff2448d6b13ebcb99410c4f1_styler%28feature%29%0A%20%20%20%20%20%20%20%20%20%20%20%20Object.assign%28opts%2C%20style%29%0A%20%20%20%20%20%20%20%20%20%20%20%20%0A%20%20%20%20%20%20%20%20%20%20%20%20return%20new%20L.CircleMarker%28latlng%2C%20opts%29%0A%20%20%20%20%20%20%20%20%7D%0A%0A%20%20%20%20%20%20%20%20function%20geo_json_1ab61b1dff2448d6b13ebcb99410c4f1_onEachFeature%28feature%2C%20layer%29%20%7B%0A%20%20%20%20%20%20%20%20%20%20%20%20layer.on%28%7B%0A%20%20%20%20%20%20%20%20%20%20%20%20%20%20%20%20mouseout%3A%20function%28e%29%20%7B%0A%20%20%20%20%20%20%20%20%20%20%20%20%20%20%20%20%20%20%20%20if%28typeof%20e.target.setStyle%20%3D%3D%3D%20%22function%22%29%7B%0A%20%20%20%20%20%20%20%20%20%20%20%20%20%20%20%20%20%20%20%20%20%20%20%20geo_json_1ab61b1dff2448d6b13ebcb99410c4f1.resetStyle%28e.target%29%3B%0A%20%20%20%20%20%20%20%20%20%20%20%20%20%20%20%20%20%20%20%20%7D%0A%20%20%20%20%20%20%20%20%20%20%20%20%20%20%20%20%7D%2C%0A%20%20%20%20%20%20%20%20%20%20%20%20%20%20%20%20mouseover%3A%20function%28e%29%20%7B%0A%20%20%20%20%20%20%20%20%20%20%20%20%20%20%20%20%20%20%20%20if%28typeof%20e.target.setStyle%20%3D%3D%3D%20%22function%22%29%7B%0A%20%20%20%20%20%20%20%20%20%20%20%20%20%20%20%20%20%20%20%20%20%20%20%20const%20highlightStyle%20%3D%20geo_json_1ab61b1dff2448d6b13ebcb99410c4f1_highlighter%28e.target.feature%29%0A%20%20%20%20%20%20%20%20%20%20%20%20%20%20%20%20%20%20%20%20%20%20%20%20e.target.setStyle%28highlightStyle%29%3B%0A%20%20%20%20%20%20%20%20%20%20%20%20%20%20%20%20%20%20%20%20%7D%0A%20%20%20%20%20%20%20%20%20%20%20%20%20%20%20%20%7D%2C%0A%20%20%20%20%20%20%20%20%20%20%20%20%7D%29%3B%0A%20%20%20%20%20%20%20%20%7D%3B%0A%20%20%20%20%20%20%20%20var%20geo_json_1ab61b1dff2448d6b13ebcb99410c4f1%20%3D%20L.geoJson%28null%2C%20%7B%0A%20%20%20%20%20%20%20%20%20%20%20%20%20%20%20%20onEachFeature%3A%20geo_json_1ab61b1dff2448d6b13ebcb99410c4f1_onEachFeature%2C%0A%20%20%20%20%20%20%20%20%20%20%20%20%0A%20%20%20%20%20%20%20%20%20%20%20%20%20%20%20%20style%3A%20geo_json_1ab61b1dff2448d6b13ebcb99410c4f1_styler%2C%0A%20%20%20%20%20%20%20%20%20%20%20%20%20%20%20%20pointToLayer%3A%20geo_json_1ab61b1dff2448d6b13ebcb99410c4f1_pointToLayer%0A%20%20%20%20%20%20%20%20%7D%29%3B%0A%0A%20%20%20%20%20%20%20%20function%20geo_json_1ab61b1dff2448d6b13ebcb99410c4f1_add%20%28data%29%20%7B%0A%20%20%20%20%20%20%20%20%20%20%20%20geo_json_1ab61b1dff2448d6b13ebcb99410c4f1%0A%20%20%20%20%20%20%20%20%20%20%20%20%20%20%20%20.addData%28data%29%0A%20%20%20%20%20%20%20%20%20%20%20%20%20%20%20%20.addTo%28map_3ae0ee5143a24e90a56c109abb81a3da%29%3B%0A%20%20%20%20%20%20%20%20%7D%0A%20%20%20%20%20%20%20%20%20%20%20%20geo_json_1ab61b1dff2448d6b13ebcb99410c4f1_add%28%7B%22bbox%22%3A%20%5B-124.100835%2C%2040.915971%2C%20-124.078617%2C%2040.936066%5D%2C%20%22features%22%3A%20%5B%7B%22bbox%22%3A%20%5B-124.100835%2C%2040.915971%2C%20-124.078617%2C%2040.936066%5D%2C%20%22geometry%22%3A%20%7B%22coordinates%22%3A%20%5B%5B%5B-124.100812%2C%2040.93415%5D%2C%20%5B-124.100811%2C%2040.933551%5D%2C%20%5B-124.100811%2C%2040.93313%5D%2C%20%5B-124.100811%2C%2040.932862%5D%2C%20%5B-124.10081%2C%2040.932617%5D%2C%20%5B-124.10081%2C%2040.932427%5D%2C%20%5B-124.100805%2C%2040.931447%5D%2C%20%5B-124.100814%2C%2040.930922%5D%2C%20%5B-124.100795%2C%2040.929953%5D%2C%20%5B-124.100791%2C%2040.929722%5D%2C%20%5B-124.100795%2C%2040.929317%5D%2C%20%5B-124.100768%2C%2040.928321%5D%2C%20%5B-124.100791%2C%2040.927502%5D%2C%20%5B-124.100791%2C%2040.927479%5D%2C%20%5B-124.100785%2C%2040.927227%5D%2C%20%5B-124.100784%2C%2040.927018%5D%2C%20%5B-124.100779%2C%2040.926858%5D%2C%20%5B-124.100761%2C%2040.926373%5D%2C%20%5B-124.100735%2C%2040.925982%5D%2C%20%5B-124.100712%2C%2040.92584%5D%2C%20%5B-124.100633%2C%2040.925455%5D%2C%20%5B-124.10057%2C%2040.925253%5D%2C%20%5B-124.100514%2C%2040.925118%5D%2C%20%5B-124.100209%2C%2040.924491%5D%2C%20%5B-124.10009%2C%2040.924289%5D%2C%20%5B-124.100093%2C%2040.924259%5D%2C%20%5B-124.09984%2C%2040.923881%5D%2C%20%5B-124.099478%2C%2040.923193%5D%2C%20%5B-124.099259%2C%2040.922746%5D%2C%20%5B-124.0991%2C%2040.922392%5D%2C%20%5B-124.098845%2C%2040.921809%5D%2C%20%5B-124.098555%2C%2040.921073%5D%2C%20%5B-124.097864%2C%2040.920766%5D%2C%20%5B-124.097574%2C%2040.920638%5D%2C%20%5B-124.095936%2C%2040.919911%5D%2C%20%5B-124.095516%2C%2040.919685%5D%2C%20%5B-124.095225%2C%2040.919504%5D%2C%20%5B-124.09485%2C%2040.919246%5D%2C%20%5B-124.09468%2C%2040.91937%5D%2C%20%5B-124.094605%2C%2040.919424%5D%2C%20%5B-124.094463%2C%2040.919349%5D%2C%20%5B-124.094325%2C%2040.919287%5D%2C%20%5B-124.094157%2C%2040.919241%5D%2C%20%5B-124.09386%2C%2040.919186%5D%2C%20%5B-124.093342%2C%2040.919102%5D%2C%20%5B-124.092549%2C%2040.918975%5D%2C%20%5B-124.092039%2C%2040.918879%5D%2C%20%5B-124.091748%2C%2040.918815%5D%2C%20%5B-124.091636%2C%2040.918793%5D%2C%20%5B-124.091547%2C%2040.91877%5D%2C%20%5B-124.091385%2C%2040.918727%5D%2C%20%5B-124.091161%2C%2040.918639%5D%2C%20%5B-124.090851%2C%2040.918514%5D%2C%20%5B-124.090392%2C%2040.918283%5D%2C%20%5B-124.09016%2C%2040.918166%5D%2C%20%5B-124.089856%2C%2040.918062%5D%2C%20%5B-124.089566%2C%2040.918014%5D%2C%20%5B-124.088382%2C%2040.917975%5D%2C%20%5B-124.087992%2C%2040.91795%5D%2C%20%5B-124.087452%2C%2040.91793%5D%2C%20%5B-124.086726%2C%2040.917961%5D%2C%20%5B-124.086288%2C%2040.917964%5D%2C%20%5B-124.086025%2C%2040.91795%5D%2C%20%5B-124.085637%2C%2040.917884%5D%2C%20%5B-124.085409%2C%2040.917824%5D%2C%20%5B-124.084726%2C%2040.917571%5D%2C%20%5B-124.084508%2C%2040.917512%5D%2C%20%5B-124.084284%2C%2040.917471%5D%2C%20%5B-124.083878%2C%2040.917364%5D%2C%20%5B-124.083433%2C%2040.917209%5D%2C%20%5B-124.083238%2C%2040.917133%5D%2C%20%5B-124.083084%2C%2040.91706%5D%2C%20%5B-124.082836%2C%2040.916974%5D%2C%20%5B-124.081928%2C%2040.916705%5D%2C%20%5B-124.081597%2C%2040.916597%5D%2C%20%5B-124.080673%2C%2040.916285%5D%2C%20%5B-124.080393%2C%2040.916196%5D%2C%20%5B-124.079616%2C%2040.915971%5D%2C%20%5B-124.079457%2C%2040.916226%5D%2C%20%5B-124.07934%2C%2040.916353%5D%2C%20%5B-124.079021%2C%2040.916649%5D%2C%20%5B-124.07899%2C%2040.916692%5D%2C%20%5B-124.078972%2C%2040.916748%5D%2C%20%5B-124.078965%2C%2040.917009%5D%2C%20%5B-124.079008%2C%2040.917526%5D%2C%20%5B-124.078993%2C%2040.917783%5D%2C%20%5B-124.078899%2C%2040.918182%5D%2C%20%5B-124.078887%2C%2040.918393%5D%2C%20%5B-124.078894%2C%2040.918548%5D%2C%20%5B-124.078889%2C%2040.918992%5D%2C%20%5B-124.078896%2C%2040.919159%5D%2C%20%5B-124.078936%2C%2040.919267%5D%2C%20%5B-124.079035%2C%2040.919397%5D%2C%20%5B-124.079235%2C%2040.919621%5D%2C%20%5B-124.079268%2C%2040.919685%5D%2C%20%5B-124.079269%2C%2040.919716%5D%2C%20%5B-124.07925%2C%2040.920103%5D%2C%20%5B-124.079235%2C%2040.920191%5D%2C%20%5B-124.079179%2C%2040.920317%5D%2C%20%5B-124.079109%2C%2040.920423%5D%2C%20%5B-124.078853%2C%2040.920682%5D%2C%20%5B-124.078817%2C%2040.920716%5D%2C%20%5B-124.078717%2C%2040.920812%5D%2C%20%5B-124.078634%2C%2040.920967%5D%2C%20%5B-124.078617%2C%2040.921064%5D%2C%20%5B-124.078628%2C%2040.921188%5D%2C%20%5B-124.078648%2C%2040.921244%5D%2C%20%5B-124.078804%2C%2040.921457%5D%2C%20%5B-124.078995%2C%2040.921676%5D%2C%20%5B-124.079241%2C%2040.922023%5D%2C%20%5B-124.079497%2C%2040.922351%5D%2C%20%5B-124.07982%2C%2040.922631%5D%2C%20%5B-124.080101%2C%2040.922917%5D%2C%20%5B-124.080295%2C%2040.923137%5D%2C%20%5B-124.080379%2C%2040.923222%5D%2C%20%5B-124.080421%2C%2040.923271%5D%2C%20%5B-124.080482%2C%2040.923305%5D%2C%20%5B-124.080565%2C%2040.923325%5D%2C%20%5B-124.080793%2C%2040.923338%5D%2C%20%5B-124.081442%2C%2040.923338%5D%2C%20%5B-124.081432%2C%2040.923763%5D%2C%20%5B-124.081451%2C%2040.9239%5D%2C%20%5B-124.081515%2C%2040.924133%5D%2C%20%5B-124.081532%2C%2040.924361%5D%2C%20%5B-124.081503%2C%2040.925113%5D%2C%20%5B-124.08147%2C%2040.925655%5D%2C%20%5B-124.081491%2C%2040.926696%5D%2C%20%5B-124.081551%2C%2040.926974%5D%2C%20%5B-124.081571%2C%2040.927165%5D%2C%20%5B-124.081547%2C%2040.928334%5D%2C%20%5B-124.081557%2C%2040.928625%5D%2C%20%5B-124.081556%2C%2040.928865%5D%2C%20%5B-124.081553%2C%2040.929567%5D%2C%20%5B-124.081564%2C%2040.92992%5D%2C%20%5B-124.08157%2C%2040.930137%5D%2C%20%5B-124.081575%2C%2040.930573%5D%2C%20%5B-124.081581%2C%2040.931083%5D%2C%20%5B-124.081576%2C%2040.931625%5D%2C%20%5B-124.081563%2C%2040.932886%5D%2C%20%5B-124.081541%2C%2040.933736%5D%2C%20%5B-124.081557%2C%2040.934056%5D%2C%20%5B-124.081574%2C%2040.934105%5D%2C%20%5B-124.081607%2C%2040.934149%5D%2C%20%5B-124.081706%2C%2040.934194%5D%2C%20%5B-124.081785%2C%2040.934213%5D%2C%20%5B-124.081899%2C%2040.934219%5D%2C%20%5B-124.082614%2C%2040.934223%5D%2C%20%5B-124.083079%2C%2040.934221%5D%2C%20%5B-124.083409%2C%2040.934219%5D%2C%20%5B-124.083738%2C%2040.934213%5D%2C%20%5B-124.084623%2C%2040.934213%5D%2C%20%5B-124.086623%2C%2040.934234%5D%2C%20%5B-124.087676%2C%2040.934209%5D%2C%20%5B-124.088144%2C%2040.934202%5D%2C%20%5B-124.08841%2C%2040.934214%5D%2C%20%5B-124.088511%2C%2040.934218%5D%2C%20%5B-124.088725%2C%2040.934246%5D%2C%20%5B-124.088832%2C%2040.934272%5D%2C%20%5B-124.088925%2C%2040.934309%5D%2C%20%5B-124.089097%2C%2040.934415%5D%2C%20%5B-124.08932%2C%2040.934579%5D%2C%20%5B-124.089619%2C%2040.934848%5D%2C%20%5B-124.08972%2C%2040.93492%5D%2C%20%5B-124.090001%2C%2040.935112%5D%2C%20%5B-124.090347%2C%2040.935349%5D%2C%20%5B-124.090463%2C%2040.93542%5D%2C%20%5B-124.090744%2C%2040.93558%5D%2C%20%5B-124.090968%2C%2040.935672%5D%2C%20%5B-124.091243%2C%2040.935744%5D%2C%20%5B-124.091351%2C%2040.935767%5D%2C%20%5B-124.091828%2C%2040.935799%5D%2C%20%5B-124.092185%2C%2040.935804%5D%2C%20%5B-124.093068%2C%2040.93585%5D%2C%20%5B-124.093846%2C%2040.935882%5D%2C%20%5B-124.094272%2C%2040.935891%5D%2C%20%5B-124.094838%2C%2040.93591%5D%2C%20%5B-124.095373%2C%2040.935927%5D%2C%20%5B-124.096204%2C%2040.935962%5D%2C%20%5B-124.096559%2C%2040.935962%5D%2C%20%5B-124.097009%2C%2040.935971%5D%2C%20%5B-124.097425%2C%2040.935981%5D%2C%20%5B-124.097809%2C%2040.935987%5D%2C%20%5B-124.099008%2C%2040.936015%5D%2C%20%5B-124.099166%2C%2040.93602%5D%2C%20%5B-124.100192%2C%2040.936048%5D%2C%20%5B-124.100835%2C%2040.936066%5D%2C%20%5B-124.100812%2C%2040.93415%5D%5D%5D%2C%20%22type%22%3A%20%22Polygon%22%7D%2C%20%22id%22%3A%20%229497%22%2C%20%22properties%22%3A%20%7B%22activity_id%22%3A%203540998347389590737%2C%20%22destination_bgrp_2020%22%3A%20%222%20%28Tract%20105.02%2C%20Humboldt%2C%20CA%29%22%2C%20%22destination_building_use%22%3A%20%22retail%22%2C%20%22destination_cty_2020%22%3A%20%22Humboldt%20County%2C%20CA%22%2C%20%22destination_land_use%22%3A%20%22retail%22%2C%20%22destination_st_2020%22%3A%20%22California%22%2C%20%22destination_trct_2020%22%3A%20%22105.02%20%28Humboldt%2C%20CA%29%22%2C%20%22origin_bgrp_2020%22%3A%20%222%20%28Tract%2010.02%2C%20Humboldt%2C%20CA%29%22%2C%20%22origin_building_use%22%3A%20%22education%22%2C%20%22origin_cty_2020%22%3A%20%22Humboldt%20County%2C%20CA%22%2C%20%22origin_land_use%22%3A%20%22education%22%2C%20%22origin_st_2020%22%3A%20%22California%22%2C%20%22origin_trct_2020%22%3A%20%2210.02%20%28Humboldt%2C%20CA%29%22%2C%20%22previous_trip_purpose%22%3A%20%22work%22%2C%20%22primary_mode%22%3A%20%22private_auto%22%2C%20%22transit_agency%22%3A%20null%2C%20%22transit_route%22%3A%20null%2C%20%22transit_submode%22%3A%20null%2C%20%22trip_distance_miles%22%3A%204.9%2C%20%22trip_duration_minutes%22%3A%208%2C%20%22trip_end_time%22%3A%20%2216%3A07%3A06%22%2C%20%22trip_purpose%22%3A%20%22shop%22%2C%20%22trip_start_time%22%3A%20%2215%3A59%3A00%22%2C%20%22trip_taker_age%22%3A%2028.0%2C%20%22trip_taker_available_vehicles%22%3A%20%22three_plus%22%2C%20%22trip_taker_building_type%22%3A%20%22single_family%22%2C%20%22trip_taker_commute_mode%22%3A%20%22private_auto%22%2C%20%22trip_taker_education%22%3A%20%22some_college%22%2C%20%22trip_taker_employment_status%22%3A%20%22employed%22%2C%20%22trip_taker_home_bgrp_2020%22%3A%20%222%20%28Tract%20105.02%2C%20Humboldt%2C%20CA%29%22%2C%20%22trip_taker_home_cty_2020%22%3A%20%22Humboldt%20County%2C%20CA%22%2C%20%22trip_taker_home_st_2020%22%3A%20%22California%22%2C%20%22trip_taker_home_trct_2020%22%3A%20%22105.02%20%28Humboldt%2C%20CA%29%22%2C%20%22trip_taker_household_id%22%3A%20%226082408013142984005%22%2C%20%22trip_taker_household_income%22%3A%2060451.0%2C%20%22trip_taker_household_size%22%3A%204%2C%20%22trip_taker_individual_income%22%3A%2017364.0%2C%20%22trip_taker_industry%22%3A%20%22naics441310%22%2C%20%22trip_taker_language%22%3A%20%22english%22%2C%20%22trip_taker_person_id%22%3A%20%224130792573347425301%22%2C%20%22trip_taker_race_ethnicity%22%3A%20%22two_races_not_hispanic_or_latino%22%2C%20%22trip_taker_resident_type%22%3A%20%22core%22%2C%20%22trip_taker_school_grade_attending%22%3A%20%22not_attending_school%22%2C%20%22trip_taker_sex%22%3A%20%22male%22%2C%20%22trip_taker_tenure%22%3A%20%22renter%22%2C%20%22trip_taker_wfh%22%3A%20%22in_person%22%2C%20%22trip_taker_work_bgrp_2020%22%3A%20%222%20%28Tract%20105.02%2C%20Humboldt%2C%20CA%29%22%2C%20%22trip_taker_work_cty_2020%22%3A%20%22Humboldt%20County%2C%20CA%22%2C%20%22trip_taker_work_st_2020%22%3A%20%22California%22%2C%20%22trip_taker_work_trct_2020%22%3A%20%22105.02%20%28Humboldt%2C%20CA%29%22%2C%20%22vehicle_fuel_type%22%3A%20%22other_non_bev%22%2C%20%22vehicle_type%22%3A%20%22unknown_vehicle_type%22%7D%2C%20%22type%22%3A%20%22Feature%22%7D%5D%2C%20%22type%22%3A%20%22FeatureCollection%22%7D%29%3B%0A%0A%20%20%20%20%20%20%20%20%0A%20%20%20%20%0A%20%20%20%20geo_json_1ab61b1dff2448d6b13ebcb99410c4f1.bindTooltip%28%0A%20%20%20%20function%28layer%29%7B%0A%20%20%20%20let%20div%20%3D%20L.DomUtil.create%28%27div%27%29%3B%0A%20%20%20%20%0A%20%20%20%20let%20handleObject%20%3D%20feature%3D%3Etypeof%28feature%29%3D%3D%27object%27%20%3F%20JSON.stringify%28feature%29%20%3A%20feature%3B%0A%20%20%20%20let%20fields%20%3D%20%5B%22activity_id%22%2C%20%22origin_bgrp_2020%22%2C%20%22origin_trct_2020%22%2C%20%22origin_cty_2020%22%2C%20%22origin_st_2020%22%2C%20%22destination_bgrp_2020%22%2C%20%22destination_trct_2020%22%2C%20%22destination_cty_2020%22%2C%20%22destination_st_2020%22%2C%20%22primary_mode%22%2C%20%22trip_purpose%22%2C%20%22previous_trip_purpose%22%2C%20%22trip_start_time%22%2C%20%22trip_end_time%22%2C%20%22trip_duration_minutes%22%2C%20%22trip_distance_miles%22%2C%20%22vehicle_type%22%2C%20%22vehicle_fuel_type%22%2C%20%22transit_submode%22%2C%20%22transit_agency%22%2C%20%22transit_route%22%2C%20%22origin_land_use%22%2C%20%22origin_building_use%22%2C%20%22destination_land_use%22%2C%20%22destination_building_use%22%2C%20%22trip_taker_person_id%22%2C%20%22trip_taker_household_id%22%2C%20%22trip_taker_age%22%2C%20%22trip_taker_sex%22%2C%20%22trip_taker_race_ethnicity%22%2C%20%22trip_taker_employment_status%22%2C%20%22trip_taker_wfh%22%2C%20%22trip_taker_individual_income%22%2C%20%22trip_taker_commute_mode%22%2C%20%22trip_taker_household_size%22%2C%20%22trip_taker_household_income%22%2C%20%22trip_taker_available_vehicles%22%2C%20%22trip_taker_resident_type%22%2C%20%22trip_taker_industry%22%2C%20%22trip_taker_building_type%22%2C%20%22trip_taker_school_grade_attending%22%2C%20%22trip_taker_education%22%2C%20%22trip_taker_tenure%22%2C%20%22trip_taker_language%22%2C%20%22trip_taker_home_bgrp_2020%22%2C%20%22trip_taker_home_trct_2020%22%2C%20%22trip_taker_home_cty_2020%22%2C%20%22trip_taker_home_st_2020%22%2C%20%22trip_taker_work_bgrp_2020%22%2C%20%22trip_taker_work_trct_2020%22%2C%20%22trip_taker_work_cty_2020%22%2C%20%22trip_taker_work_st_2020%22%5D%3B%0A%20%20%20%20let%20aliases%20%3D%20%5B%22activity_id%22%2C%20%22origin_bgrp_2020%22%2C%20%22origin_trct_2020%22%2C%20%22origin_cty_2020%22%2C%20%22origin_st_2020%22%2C%20%22destination_bgrp_2020%22%2C%20%22destination_trct_2020%22%2C%20%22destination_cty_2020%22%2C%20%22destination_st_2020%22%2C%20%22primary_mode%22%2C%20%22trip_purpose%22%2C%20%22previous_trip_purpose%22%2C%20%22trip_start_time%22%2C%20%22trip_end_time%22%2C%20%22trip_duration_minutes%22%2C%20%22trip_distance_miles%22%2C%20%22vehicle_type%22%2C%20%22vehicle_fuel_type%22%2C%20%22transit_submode%22%2C%20%22transit_agency%22%2C%20%22transit_route%22%2C%20%22origin_land_use%22%2C%20%22origin_building_use%22%2C%20%22destination_land_use%22%2C%20%22destination_building_use%22%2C%20%22trip_taker_person_id%22%2C%20%22trip_taker_household_id%22%2C%20%22trip_taker_age%22%2C%20%22trip_taker_sex%22%2C%20%22trip_taker_race_ethnicity%22%2C%20%22trip_taker_employment_status%22%2C%20%22trip_taker_wfh%22%2C%20%22trip_taker_individual_income%22%2C%20%22trip_taker_commute_mode%22%2C%20%22trip_taker_household_size%22%2C%20%22trip_taker_household_income%22%2C%20%22trip_taker_available_vehicles%22%2C%20%22trip_taker_resident_type%22%2C%20%22trip_taker_industry%22%2C%20%22trip_taker_building_type%22%2C%20%22trip_taker_school_grade_attending%22%2C%20%22trip_taker_education%22%2C%20%22trip_taker_tenure%22%2C%20%22trip_taker_language%22%2C%20%22trip_taker_home_bgrp_2020%22%2C%20%22trip_taker_home_trct_2020%22%2C%20%22trip_taker_home_cty_2020%22%2C%20%22trip_taker_home_st_2020%22%2C%20%22trip_taker_work_bgrp_2020%22%2C%20%22trip_taker_work_trct_2020%22%2C%20%22trip_taker_work_cty_2020%22%2C%20%22trip_taker_work_st_2020%22%5D%3B%0A%20%20%20%20let%20table%20%3D%20%27%3Ctable%3E%27%20%2B%0A%20%20%20%20%20%20%20%20String%28%0A%20%20%20%20%20%20%20%20fields.map%28%0A%20%20%20%20%20%20%20%20%28v%2Ci%29%3D%3E%0A%20%20%20%20%20%20%20%20%60%3Ctr%3E%0A%20%20%20%20%20%20%20%20%20%20%20%20%3Cth%3E%24%7Baliases%5Bi%5D%7D%3C/th%3E%0A%20%20%20%20%20%20%20%20%20%20%20%20%0A%20%20%20%20%20%20%20%20%20%20%20%20%3Ctd%3E%24%7BhandleObject%28layer.feature.properties%5Bv%5D%29%7D%3C/td%3E%0A%20%20%20%20%20%20%20%20%3C/tr%3E%60%29.join%28%27%27%29%29%0A%20%20%20%20%2B%27%3C/table%3E%27%3B%0A%20%20%20%20div.innerHTML%3Dtable%3B%0A%20%20%20%20%0A%20%20%20%20return%20div%0A%20%20%20%20%7D%0A%20%20%20%20%2C%7B%22className%22%3A%20%22foliumtooltip%22%2C%20%22sticky%22%3A%20true%7D%29%3B%0A%20%20%20%20%20%20%20%20%20%20%20%20%20%20%20%20%20%20%20%20%20%0A%3C/script%3E onload=\"this.contentDocument.open();this.contentDocument.write(    decodeURIComponent(this.getAttribute('data-html')));this.contentDocument.close();\" allowfullscreen webkitallowfullscreen mozallowfullscreen></iframe></div></div>"
      ],
      "text/plain": [
       "<folium.folium.Map at 0x7ec6587f5090>"
      ]
     },
     "execution_count": 45,
     "metadata": {},
     "output_type": "execute_result"
    }
   ],
   "source": [
    "(from_cp.sample()).explore()"
   ]
  },
  {
   "cell_type": "code",
   "execution_count": null,
   "id": "c089303a-4cf0-41af-b4f1-f0f3acdabe6f",
   "metadata": {},
   "outputs": [],
   "source": []
  },
  {
   "cell_type": "code",
   "execution_count": 46,
   "id": "95deaec0-8504-4983-b8ad-efe2eb71b126",
   "metadata": {},
   "outputs": [],
   "source": [
    "df_list = [to_cp, from_cp]"
   ]
  },
  {
   "cell_type": "code",
   "execution_count": 47,
   "id": "340fbce1-988f-47ad-8ea0-ebcdad6878cd",
   "metadata": {
    "tags": []
   },
   "outputs": [],
   "source": [
    "to_cp['df_name'] = 'Traveling To Cal Poly'\n",
    "from_cp['df_name'] = 'Traveling From Cal Poly'"
   ]
  },
  {
   "cell_type": "code",
   "execution_count": 48,
   "id": "f86ffb1e-6c25-40ce-b707-d4567e26057e",
   "metadata": {
    "tags": []
   },
   "outputs": [],
   "source": [
    "from_cp_name = from_cp.loc[0, 'df_name']"
   ]
  },
  {
   "cell_type": "code",
   "execution_count": null,
   "id": "63f3330a-6df1-4253-9760-8cdbab26df9c",
   "metadata": {
    "tags": []
   },
   "outputs": [],
   "source": []
  },
  {
   "cell_type": "code",
   "execution_count": null,
   "id": "ca81d1d8-ebb9-4e62-bfb5-2648dee43b00",
   "metadata": {},
   "outputs": [],
   "source": []
  },
  {
   "cell_type": "code",
   "execution_count": 49,
   "id": "82db3f5f-3746-4770-9146-cb51849e3b8c",
   "metadata": {},
   "outputs": [],
   "source": [
    "def return_score_summary(df_list):\n",
    "\n",
    "    results = []\n",
    "\n",
    "    for df in df_list:\n",
    "        \n",
    "        df_name_ = df.loc[0, 'df_name']\n",
    "        \n",
    "        auto_df = (df[df.primary_mode==\"private_auto\"])\n",
    "        transit_df = (df[df.primary_mode==\"public_transit\"])\n",
    "\n",
    "        all_trip_count = len(df)\n",
    "\n",
    "        n_total_trips = len(df)\n",
    "        n_private_auto_trips = len(auto_df)\n",
    "        pct_private_auto_trips = ((len(auto_df)) / (len(df)))\n",
    "        n_public_transit_trips = (len(transit_df))\n",
    "        pct_public_transit_trips = ((len(transit_df)) / (len(df)))\n",
    "\n",
    "        auto_mean_min, auto_median_min, auto_mean_miles, auto_median_miles, auto_max_min, auto_max_miles = replica_utils.calc_auto_travel_info(df)\n",
    "        transit_mean_min, transit_median_min, transit_mean_miles, transit_median_miles, transit_max_miles, transit_max_min = replica_utils.calc_transit_travel_info(df)\n",
    "\n",
    "                ## set up the table for all the results\n",
    "        results.append({\n",
    "                        'df_name': df_name_,\n",
    "                        'total_trips': n_total_trips,\n",
    "                        'n_auto_trips': n_private_auto_trips,\n",
    "                        'pct_auto_trips': pct_private_auto_trips,\n",
    "                        'n_tranist_trips': n_public_transit_trips,\n",
    "                        'pct_transit_trips': pct_public_transit_trips,\n",
    "                        'auto_mean_minutes': auto_mean_min,\n",
    "                        'auto_median_minutes': auto_median_min,\n",
    "                        'auto_max_minutes': auto_max_min, \n",
    "                        'auto_mean_miles': auto_mean_miles,\n",
    "                        'auto_median_miles': auto_median_miles,\n",
    "                        'auto_max_miles': auto_max_miles,\n",
    "                        'transit_mean_minutes': transit_mean_min,\n",
    "                        'transit_median_minutes': transit_median_min,\n",
    "                        'transit_max_minutes': transit_max_min,\n",
    "                        'transit_mean_miles': transit_mean_miles,\n",
    "                        'transit_median_miles': transit_median_miles,\n",
    "                        'transit_max_miles':transit_max_miles,\n",
    "\n",
    "                        })\n",
    "\n",
    "    result_summary = pd.DataFrame(results)   \n",
    "    \n",
    "    return result_summary\n"
   ]
  },
  {
   "cell_type": "code",
   "execution_count": 50,
   "id": "0e465712-3285-4448-a8eb-516adbd85054",
   "metadata": {},
   "outputs": [],
   "source": [
    "summary = return_score_summary(df_list)"
   ]
  },
  {
   "cell_type": "code",
   "execution_count": 51,
   "id": "96e974be-1fd5-4fe3-b74e-b24bf9dbeb8a",
   "metadata": {
    "tags": []
   },
   "outputs": [
    {
     "data": {
      "text/html": [
       "<div>\n",
       "<style scoped>\n",
       "    .dataframe tbody tr th:only-of-type {\n",
       "        vertical-align: middle;\n",
       "    }\n",
       "\n",
       "    .dataframe tbody tr th {\n",
       "        vertical-align: top;\n",
       "    }\n",
       "\n",
       "    .dataframe thead th {\n",
       "        text-align: right;\n",
       "    }\n",
       "</style>\n",
       "<table border=\"1\" class=\"dataframe\">\n",
       "  <thead>\n",
       "    <tr style=\"text-align: right;\">\n",
       "      <th></th>\n",
       "      <th>df_name</th>\n",
       "      <th>total_trips</th>\n",
       "      <th>n_auto_trips</th>\n",
       "      <th>pct_auto_trips</th>\n",
       "      <th>n_tranist_trips</th>\n",
       "      <th>pct_transit_trips</th>\n",
       "      <th>auto_mean_minutes</th>\n",
       "      <th>auto_median_minutes</th>\n",
       "      <th>auto_max_minutes</th>\n",
       "      <th>auto_mean_miles</th>\n",
       "      <th>auto_median_miles</th>\n",
       "      <th>auto_max_miles</th>\n",
       "      <th>transit_mean_minutes</th>\n",
       "      <th>transit_median_minutes</th>\n",
       "      <th>transit_max_minutes</th>\n",
       "      <th>transit_mean_miles</th>\n",
       "      <th>transit_median_miles</th>\n",
       "      <th>transit_max_miles</th>\n",
       "    </tr>\n",
       "  </thead>\n",
       "  <tbody>\n",
       "    <tr>\n",
       "      <th>0</th>\n",
       "      <td>Traveling To Cal Poly</td>\n",
       "      <td>16657</td>\n",
       "      <td>9544</td>\n",
       "      <td>0.572972</td>\n",
       "      <td>37</td>\n",
       "      <td>0.002221</td>\n",
       "      <td>12.679380</td>\n",
       "      <td>5.0</td>\n",
       "      <td>413</td>\n",
       "      <td>9.585425</td>\n",
       "      <td>2.0</td>\n",
       "      <td>393.5</td>\n",
       "      <td>30.054054</td>\n",
       "      <td>22.0</td>\n",
       "      <td>75</td>\n",
       "      <td>5.051351</td>\n",
       "      <td>2.6</td>\n",
       "      <td>14.1</td>\n",
       "    </tr>\n",
       "    <tr>\n",
       "      <th>1</th>\n",
       "      <td>Traveling From Cal Poly</td>\n",
       "      <td>16623</td>\n",
       "      <td>9179</td>\n",
       "      <td>0.552187</td>\n",
       "      <td>22</td>\n",
       "      <td>0.001323</td>\n",
       "      <td>14.812834</td>\n",
       "      <td>5.0</td>\n",
       "      <td>530</td>\n",
       "      <td>11.495370</td>\n",
       "      <td>1.9</td>\n",
       "      <td>549.1</td>\n",
       "      <td>25.409091</td>\n",
       "      <td>21.0</td>\n",
       "      <td>68</td>\n",
       "      <td>5.750000</td>\n",
       "      <td>4.3</td>\n",
       "      <td>15.7</td>\n",
       "    </tr>\n",
       "  </tbody>\n",
       "</table>\n",
       "</div>"
      ],
      "text/plain": [
       "                   df_name  total_trips  n_auto_trips  pct_auto_trips  \\\n",
       "0    Traveling To Cal Poly        16657          9544        0.572972   \n",
       "1  Traveling From Cal Poly        16623          9179        0.552187   \n",
       "\n",
       "   n_tranist_trips  pct_transit_trips  auto_mean_minutes  auto_median_minutes  \\\n",
       "0               37           0.002221          12.679380                  5.0   \n",
       "1               22           0.001323          14.812834                  5.0   \n",
       "\n",
       "   auto_max_minutes  auto_mean_miles  auto_median_miles  auto_max_miles  \\\n",
       "0               413         9.585425                2.0           393.5   \n",
       "1               530        11.495370                1.9           549.1   \n",
       "\n",
       "   transit_mean_minutes  transit_median_minutes  transit_max_minutes  \\\n",
       "0             30.054054                    22.0                   75   \n",
       "1             25.409091                    21.0                   68   \n",
       "\n",
       "   transit_mean_miles  transit_median_miles  transit_max_miles  \n",
       "0            5.051351                   2.6               14.1  \n",
       "1            5.750000                   4.3               15.7  "
      ]
     },
     "execution_count": 51,
     "metadata": {},
     "output_type": "execute_result"
    }
   ],
   "source": [
    "summary"
   ]
  },
  {
   "cell_type": "code",
   "execution_count": 52,
   "id": "9638d22e-00bf-4670-94c7-db9d82717c1f",
   "metadata": {},
   "outputs": [],
   "source": [
    "summary_to = summary[summary[\"df_name\"]== \"Traveling To Cal Poly\"]"
   ]
  },
  {
   "cell_type": "code",
   "execution_count": null,
   "id": "c07fed5d-3669-44c2-b29f-d6964ac19502",
   "metadata": {},
   "outputs": [],
   "source": []
  },
  {
   "cell_type": "code",
   "execution_count": 53,
   "id": "8aa1b8bc-4945-4b8b-91cb-ba56b5a01d0f",
   "metadata": {},
   "outputs": [],
   "source": [
    "summary_subset = summary[\n",
    "    [\n",
    "        \"df_name\",\n",
    "        \"pct_auto_trips\",\n",
    "        \"pct_transit_trips\",\n",
    "    ]\n",
    "]"
   ]
  },
  {
   "cell_type": "code",
   "execution_count": null,
   "id": "83805f31-7933-4ae9-89ea-89801b9f55e0",
   "metadata": {},
   "outputs": [],
   "source": []
  },
  {
   "cell_type": "code",
   "execution_count": 54,
   "id": "864ee80f-b808-46ae-923a-771852db47ae",
   "metadata": {
    "tags": []
   },
   "outputs": [
    {
     "data": {
      "text/plain": [
       "private_auto         9544\n",
       "walking              3933\n",
       "auto_passenger       2457\n",
       "biking                300\n",
       "other_travel_mode     254\n",
       "on_demand_auto         75\n",
       "commercial             57\n",
       "public_transit         37\n",
       "Name: primary_mode, dtype: int64"
      ]
     },
     "execution_count": 54,
     "metadata": {},
     "output_type": "execute_result"
    }
   ],
   "source": [
    "to_cp.primary_mode.value_counts()"
   ]
  },
  {
   "cell_type": "code",
   "execution_count": 55,
   "id": "fbc28053-a388-465f-bba4-142bfe717d30",
   "metadata": {
    "tags": []
   },
   "outputs": [],
   "source": [
    "mode_list = list(to_cp.primary_mode.unique())"
   ]
  },
  {
   "cell_type": "code",
   "execution_count": 56,
   "id": "c137c05c-17e6-46d7-a3dd-c954835449b9",
   "metadata": {
    "tags": []
   },
   "outputs": [
    {
     "data": {
      "text/plain": [
       "['commercial',\n",
       " 'auto_passenger',\n",
       " 'private_auto',\n",
       " 'walking',\n",
       " 'on_demand_auto',\n",
       " 'public_transit',\n",
       " 'other_travel_mode',\n",
       " 'biking']"
      ]
     },
     "execution_count": 56,
     "metadata": {},
     "output_type": "execute_result"
    }
   ],
   "source": [
    "mode_list"
   ]
  },
  {
   "cell_type": "code",
   "execution_count": null,
   "id": "7572ea56-0c3d-4242-b46e-f74aa85f1391",
   "metadata": {},
   "outputs": [],
   "source": []
  },
  {
   "cell_type": "code",
   "execution_count": null,
   "id": "e52330f5-0ec6-4258-8bd8-a7cfe35f7547",
   "metadata": {
    "tags": []
   },
   "outputs": [],
   "source": []
  },
  {
   "cell_type": "code",
   "execution_count": null,
   "id": "45f91605-0387-4726-b4c5-c18ee869557d",
   "metadata": {
    "tags": []
   },
   "outputs": [],
   "source": []
  },
  {
   "cell_type": "code",
   "execution_count": 57,
   "id": "97e9ca2f-e539-4fe3-949c-90a4508dad11",
   "metadata": {
    "tags": []
   },
   "outputs": [],
   "source": [
    "def get_mode_split(df):\n",
    "    \n",
    "    ##get list of unique modes that appear in the Replica Studio results\n",
    "\n",
    "    mode_list = list(df.primary_mode.unique())\n",
    "    \n",
    "    mode_pcts = []\n",
    "    \n",
    "    for mode in mode_list:\n",
    "        \n",
    "        df_copy = df.copy()\n",
    "        \n",
    "        df_name_ = df.loc[0, 'df_name']\n",
    "        \n",
    "        df_mode_subset = df_copy[df_copy[\"primary_mode\"] == mode ]\n",
    "        \n",
    "        n_trips = len(df_mode_subset)\n",
    "        pct_trips = ((len(df_mode_subset)) / (len(df)))\n",
    "        \n",
    "        mode_pcts.append({\n",
    "            'df_name': df_name_,\n",
    "            'mode': mode,\n",
    "            'pct_trips': pct_trips, \n",
    "            'total_trips': n_trips,\n",
    "        })\n",
    "        \n",
    "    mode_pcts_summary = pd.DataFrame(mode_pcts)\n",
    "    \n",
    "    return mode_pcts_summary"
   ]
  },
  {
   "cell_type": "code",
   "execution_count": null,
   "id": "b004f6ea-a306-450f-a6d0-7eaf710a9b59",
   "metadata": {},
   "outputs": [],
   "source": []
  },
  {
   "cell_type": "code",
   "execution_count": 87,
   "id": "522963d5-1701-4fd1-b703-4df0a4e4d88a",
   "metadata": {
    "tags": []
   },
   "outputs": [],
   "source": [
    "from_cp_mode = get_mode_split(from_cp)\n",
    "to_cp_mode = get_mode_split(to_cp)\n",
    "\n",
    "modes_breakdown = pd.concat([to_cp_mode, from_cp_mode])"
   ]
  },
  {
   "cell_type": "code",
   "execution_count": null,
   "id": "fd2ac6eb-0c77-4cfa-98e3-579656ab8e78",
   "metadata": {
    "tags": []
   },
   "outputs": [],
   "source": []
  },
  {
   "cell_type": "code",
   "execution_count": 89,
   "id": "a7d8f38a-416b-4528-82f8-f3055e3fec91",
   "metadata": {
    "tags": []
   },
   "outputs": [
    {
     "data": {
      "text/html": [
       "<div>\n",
       "<style scoped>\n",
       "    .dataframe tbody tr th:only-of-type {\n",
       "        vertical-align: middle;\n",
       "    }\n",
       "\n",
       "    .dataframe tbody tr th {\n",
       "        vertical-align: top;\n",
       "    }\n",
       "\n",
       "    .dataframe thead th {\n",
       "        text-align: right;\n",
       "    }\n",
       "</style>\n",
       "<table border=\"1\" class=\"dataframe\">\n",
       "  <thead>\n",
       "    <tr style=\"text-align: right;\">\n",
       "      <th></th>\n",
       "      <th>df_name</th>\n",
       "      <th>mode</th>\n",
       "      <th>pct_trips</th>\n",
       "      <th>total_trips</th>\n",
       "    </tr>\n",
       "  </thead>\n",
       "  <tbody>\n",
       "    <tr>\n",
       "      <th>6</th>\n",
       "      <td>Traveling To Cal Poly</td>\n",
       "      <td>other_travel_mode</td>\n",
       "      <td>0.015249</td>\n",
       "      <td>254</td>\n",
       "    </tr>\n",
       "  </tbody>\n",
       "</table>\n",
       "</div>"
      ],
      "text/plain": [
       "                 df_name               mode  pct_trips  total_trips\n",
       "6  Traveling To Cal Poly  other_travel_mode   0.015249          254"
      ]
     },
     "execution_count": 89,
     "metadata": {},
     "output_type": "execute_result"
    }
   ],
   "source": [
    "modes_breakdown.sample()"
   ]
  },
  {
   "cell_type": "code",
   "execution_count": null,
   "id": "a2c70eb8-9505-4f99-9a5d-8284ebac2d63",
   "metadata": {},
   "outputs": [],
   "source": []
  },
  {
   "cell_type": "code",
   "execution_count": 93,
   "id": "7da5b50e-975d-42d9-b551-aa216bf9b741",
   "metadata": {},
   "outputs": [
    {
     "data": {
      "text/html": [
       "\n",
       "<style>\n",
       "  #altair-viz-a37f4dcf67164777833bef10b573d1f0.vega-embed {\n",
       "    width: 100%;\n",
       "    display: flex;\n",
       "  }\n",
       "\n",
       "  #altair-viz-a37f4dcf67164777833bef10b573d1f0.vega-embed details,\n",
       "  #altair-viz-a37f4dcf67164777833bef10b573d1f0.vega-embed details summary {\n",
       "    position: relative;\n",
       "  }\n",
       "</style>\n",
       "<div id=\"altair-viz-a37f4dcf67164777833bef10b573d1f0\"></div>\n",
       "<script type=\"text/javascript\">\n",
       "  var VEGA_DEBUG = (typeof VEGA_DEBUG == \"undefined\") ? {} : VEGA_DEBUG;\n",
       "  (function(spec, embedOpt){\n",
       "    let outputDiv = document.currentScript.previousElementSibling;\n",
       "    if (outputDiv.id !== \"altair-viz-a37f4dcf67164777833bef10b573d1f0\") {\n",
       "      outputDiv = document.getElementById(\"altair-viz-a37f4dcf67164777833bef10b573d1f0\");\n",
       "    }\n",
       "\n",
       "    const paths = {\n",
       "      \"vega\": \"https://cdn.jsdelivr.net/npm/vega@5?noext\",\n",
       "      \"vega-lib\": \"https://cdn.jsdelivr.net/npm/vega-lib?noext\",\n",
       "      \"vega-lite\": \"https://cdn.jsdelivr.net/npm/vega-lite@5.20.1?noext\",\n",
       "      \"vega-embed\": \"https://cdn.jsdelivr.net/npm/vega-embed@6?noext\",\n",
       "    };\n",
       "\n",
       "    function maybeLoadScript(lib, version) {\n",
       "      var key = `${lib.replace(\"-\", \"\")}_version`;\n",
       "      return (VEGA_DEBUG[key] == version) ?\n",
       "        Promise.resolve(paths[lib]) :\n",
       "        new Promise(function(resolve, reject) {\n",
       "          var s = document.createElement('script');\n",
       "          document.getElementsByTagName(\"head\")[0].appendChild(s);\n",
       "          s.async = true;\n",
       "          s.onload = () => {\n",
       "            VEGA_DEBUG[key] = version;\n",
       "            return resolve(paths[lib]);\n",
       "          };\n",
       "          s.onerror = () => reject(`Error loading script: ${paths[lib]}`);\n",
       "          s.src = paths[lib];\n",
       "        });\n",
       "    }\n",
       "\n",
       "    function showError(err) {\n",
       "      outputDiv.innerHTML = `<div class=\"error\" style=\"color:red;\">${err}</div>`;\n",
       "      throw err;\n",
       "    }\n",
       "\n",
       "    function displayChart(vegaEmbed) {\n",
       "      vegaEmbed(outputDiv, spec, embedOpt)\n",
       "        .catch(err => showError(`Javascript Error: ${err.message}<br>This usually means there's a typo in your chart specification. See the javascript console for the full traceback.`));\n",
       "    }\n",
       "\n",
       "    if(typeof define === \"function\" && define.amd) {\n",
       "      requirejs.config({paths});\n",
       "      let deps = [\"vega-embed\"];\n",
       "      require(deps, displayChart, err => showError(`Error loading script: ${err.message}`));\n",
       "    } else {\n",
       "      maybeLoadScript(\"vega\", \"5\")\n",
       "        .then(() => maybeLoadScript(\"vega-lite\", \"5.20.1\"))\n",
       "        .then(() => maybeLoadScript(\"vega-embed\", \"6\"))\n",
       "        .catch(showError)\n",
       "        .then(() => displayChart(vegaEmbed));\n",
       "    }\n",
       "  })({\"config\": {\"view\": {\"continuousWidth\": 300, \"continuousHeight\": 300}}, \"data\": {\"name\": \"data-fe6d31c4ee54645b4e7a363dc1e5f8c7\"}, \"mark\": {\"type\": \"bar\", \"size\": 150}, \"encoding\": {\"color\": {\"field\": \"mode\", \"type\": \"nominal\"}, \"x\": {\"field\": \"df_name\", \"title\": \"Trip Type\", \"type\": \"ordinal\"}, \"y\": {\"field\": \"pct_trips\", \"title\": \"Percent Trips\", \"type\": \"quantitative\"}}, \"height\": 300, \"width\": 600, \"$schema\": \"https://vega.github.io/schema/vega-lite/v5.20.1.json\", \"datasets\": {\"data-fe6d31c4ee54645b4e7a363dc1e5f8c7\": [{\"df_name\": \"Traveling To Cal Poly\", \"mode\": \"commercial\", \"pct_trips\": 0.00342198475115567, \"total_trips\": 57}, {\"df_name\": \"Traveling To Cal Poly\", \"mode\": \"auto_passenger\", \"pct_trips\": 0.1475055532208681, \"total_trips\": 2457}, {\"df_name\": \"Traveling To Cal Poly\", \"mode\": \"private_auto\", \"pct_trips\": 0.5729723239478898, \"total_trips\": 9544}, {\"df_name\": \"Traveling To Cal Poly\", \"mode\": \"walking\", \"pct_trips\": 0.23611694782974124, \"total_trips\": 3933}, {\"df_name\": \"Traveling To Cal Poly\", \"mode\": \"on_demand_auto\", \"pct_trips\": 0.0045026115146785135, \"total_trips\": 75}, {\"df_name\": \"Traveling To Cal Poly\", \"mode\": \"public_transit\", \"pct_trips\": 0.0022212883472414, \"total_trips\": 37}, {\"df_name\": \"Traveling To Cal Poly\", \"mode\": \"other_travel_mode\", \"pct_trips\": 0.015248844329711233, \"total_trips\": 254}, {\"df_name\": \"Traveling To Cal Poly\", \"mode\": \"biking\", \"pct_trips\": 0.018010446058714054, \"total_trips\": 300}, {\"df_name\": \"Traveling From Cal Poly\", \"mode\": \"commercial\", \"pct_trips\": 0.004872766648619383, \"total_trips\": 81}, {\"df_name\": \"Traveling From Cal Poly\", \"mode\": \"auto_passenger\", \"pct_trips\": 0.18131504541899776, \"total_trips\": 3014}, {\"df_name\": \"Traveling From Cal Poly\", \"mode\": \"private_auto\", \"pct_trips\": 0.5521867292305841, \"total_trips\": 9179}, {\"df_name\": \"Traveling From Cal Poly\", \"mode\": \"walking\", \"pct_trips\": 0.22174096131865487, \"total_trips\": 3686}, {\"df_name\": \"Traveling From Cal Poly\", \"mode\": \"public_transit\", \"pct_trips\": 0.0013234674848102027, \"total_trips\": 22}, {\"df_name\": \"Traveling From Cal Poly\", \"mode\": \"other_travel_mode\", \"pct_trips\": 0.017084762076640798, \"total_trips\": 284}, {\"df_name\": \"Traveling From Cal Poly\", \"mode\": \"on_demand_auto\", \"pct_trips\": 0.004090717680322445, \"total_trips\": 68}, {\"df_name\": \"Traveling From Cal Poly\", \"mode\": \"biking\", \"pct_trips\": 0.01738555014137039, \"total_trips\": 289}]}}, {\"mode\": \"vega-lite\"});\n",
       "</script>"
      ],
      "text/plain": [
       "alt.Chart(...)"
      ]
     },
     "execution_count": 93,
     "metadata": {},
     "output_type": "execute_result"
    }
   ],
   "source": [
    "alt.Chart(modes_breakdown).mark_bar(size=150).encode(\n",
    "    x=alt.X(\"df_name:O\", title = \"Trip Type\"),\n",
    "    y=alt.Y(\"pct_trips:Q\", title=\"Percent Trips\"),\n",
    "    color=\"mode:N\"\n",
    ").properties(\n",
    "    width=600,  \n",
    "    height=300 )\n"
   ]
  },
  {
   "cell_type": "code",
   "execution_count": 108,
   "id": "8cc4afaf-2491-4a08-a3d0-e908259d4648",
   "metadata": {
    "tags": []
   },
   "outputs": [
    {
     "data": {
      "text/html": [
       "\n",
       "<style>\n",
       "  #altair-viz-c6ce314f43694840b362da939cd16b08.vega-embed {\n",
       "    width: 100%;\n",
       "    display: flex;\n",
       "  }\n",
       "\n",
       "  #altair-viz-c6ce314f43694840b362da939cd16b08.vega-embed details,\n",
       "  #altair-viz-c6ce314f43694840b362da939cd16b08.vega-embed details summary {\n",
       "    position: relative;\n",
       "  }\n",
       "</style>\n",
       "<div id=\"altair-viz-c6ce314f43694840b362da939cd16b08\"></div>\n",
       "<script type=\"text/javascript\">\n",
       "  var VEGA_DEBUG = (typeof VEGA_DEBUG == \"undefined\") ? {} : VEGA_DEBUG;\n",
       "  (function(spec, embedOpt){\n",
       "    let outputDiv = document.currentScript.previousElementSibling;\n",
       "    if (outputDiv.id !== \"altair-viz-c6ce314f43694840b362da939cd16b08\") {\n",
       "      outputDiv = document.getElementById(\"altair-viz-c6ce314f43694840b362da939cd16b08\");\n",
       "    }\n",
       "\n",
       "    const paths = {\n",
       "      \"vega\": \"https://cdn.jsdelivr.net/npm/vega@5?noext\",\n",
       "      \"vega-lib\": \"https://cdn.jsdelivr.net/npm/vega-lib?noext\",\n",
       "      \"vega-lite\": \"https://cdn.jsdelivr.net/npm/vega-lite@5.20.1?noext\",\n",
       "      \"vega-embed\": \"https://cdn.jsdelivr.net/npm/vega-embed@6?noext\",\n",
       "    };\n",
       "\n",
       "    function maybeLoadScript(lib, version) {\n",
       "      var key = `${lib.replace(\"-\", \"\")}_version`;\n",
       "      return (VEGA_DEBUG[key] == version) ?\n",
       "        Promise.resolve(paths[lib]) :\n",
       "        new Promise(function(resolve, reject) {\n",
       "          var s = document.createElement('script');\n",
       "          document.getElementsByTagName(\"head\")[0].appendChild(s);\n",
       "          s.async = true;\n",
       "          s.onload = () => {\n",
       "            VEGA_DEBUG[key] = version;\n",
       "            return resolve(paths[lib]);\n",
       "          };\n",
       "          s.onerror = () => reject(`Error loading script: ${paths[lib]}`);\n",
       "          s.src = paths[lib];\n",
       "        });\n",
       "    }\n",
       "\n",
       "    function showError(err) {\n",
       "      outputDiv.innerHTML = `<div class=\"error\" style=\"color:red;\">${err}</div>`;\n",
       "      throw err;\n",
       "    }\n",
       "\n",
       "    function displayChart(vegaEmbed) {\n",
       "      vegaEmbed(outputDiv, spec, embedOpt)\n",
       "        .catch(err => showError(`Javascript Error: ${err.message}<br>This usually means there's a typo in your chart specification. See the javascript console for the full traceback.`));\n",
       "    }\n",
       "\n",
       "    if(typeof define === \"function\" && define.amd) {\n",
       "      requirejs.config({paths});\n",
       "      let deps = [\"vega-embed\"];\n",
       "      require(deps, displayChart, err => showError(`Error loading script: ${err.message}`));\n",
       "    } else {\n",
       "      maybeLoadScript(\"vega\", \"5\")\n",
       "        .then(() => maybeLoadScript(\"vega-lite\", \"5.20.1\"))\n",
       "        .then(() => maybeLoadScript(\"vega-embed\", \"6\"))\n",
       "        .catch(showError)\n",
       "        .then(() => displayChart(vegaEmbed));\n",
       "    }\n",
       "  })({\"config\": {\"view\": {\"continuousWidth\": 300, \"continuousHeight\": 300}}, \"data\": {\"name\": \"data-fe6d31c4ee54645b4e7a363dc1e5f8c7\"}, \"mark\": {\"type\": \"bar\"}, \"encoding\": {\"color\": {\"field\": \"df_name\", \"legend\": {\"title\": \"Trip Type\"}, \"type\": \"nominal\"}, \"column\": {\"field\": \"mode\", \"title\": \"Mode\", \"type\": \"nominal\"}, \"x\": {\"field\": \"df_name\", \"title\": \"Trip Type\", \"type\": \"ordinal\"}, \"y\": {\"field\": \"pct_trips\", \"title\": \"Pct of Total Trips\", \"type\": \"quantitative\"}}, \"height\": 400, \"width\": 100, \"$schema\": \"https://vega.github.io/schema/vega-lite/v5.20.1.json\", \"datasets\": {\"data-fe6d31c4ee54645b4e7a363dc1e5f8c7\": [{\"df_name\": \"Traveling To Cal Poly\", \"mode\": \"commercial\", \"pct_trips\": 0.00342198475115567, \"total_trips\": 57}, {\"df_name\": \"Traveling To Cal Poly\", \"mode\": \"auto_passenger\", \"pct_trips\": 0.1475055532208681, \"total_trips\": 2457}, {\"df_name\": \"Traveling To Cal Poly\", \"mode\": \"private_auto\", \"pct_trips\": 0.5729723239478898, \"total_trips\": 9544}, {\"df_name\": \"Traveling To Cal Poly\", \"mode\": \"walking\", \"pct_trips\": 0.23611694782974124, \"total_trips\": 3933}, {\"df_name\": \"Traveling To Cal Poly\", \"mode\": \"on_demand_auto\", \"pct_trips\": 0.0045026115146785135, \"total_trips\": 75}, {\"df_name\": \"Traveling To Cal Poly\", \"mode\": \"public_transit\", \"pct_trips\": 0.0022212883472414, \"total_trips\": 37}, {\"df_name\": \"Traveling To Cal Poly\", \"mode\": \"other_travel_mode\", \"pct_trips\": 0.015248844329711233, \"total_trips\": 254}, {\"df_name\": \"Traveling To Cal Poly\", \"mode\": \"biking\", \"pct_trips\": 0.018010446058714054, \"total_trips\": 300}, {\"df_name\": \"Traveling From Cal Poly\", \"mode\": \"commercial\", \"pct_trips\": 0.004872766648619383, \"total_trips\": 81}, {\"df_name\": \"Traveling From Cal Poly\", \"mode\": \"auto_passenger\", \"pct_trips\": 0.18131504541899776, \"total_trips\": 3014}, {\"df_name\": \"Traveling From Cal Poly\", \"mode\": \"private_auto\", \"pct_trips\": 0.5521867292305841, \"total_trips\": 9179}, {\"df_name\": \"Traveling From Cal Poly\", \"mode\": \"walking\", \"pct_trips\": 0.22174096131865487, \"total_trips\": 3686}, {\"df_name\": \"Traveling From Cal Poly\", \"mode\": \"public_transit\", \"pct_trips\": 0.0013234674848102027, \"total_trips\": 22}, {\"df_name\": \"Traveling From Cal Poly\", \"mode\": \"other_travel_mode\", \"pct_trips\": 0.017084762076640798, \"total_trips\": 284}, {\"df_name\": \"Traveling From Cal Poly\", \"mode\": \"on_demand_auto\", \"pct_trips\": 0.004090717680322445, \"total_trips\": 68}, {\"df_name\": \"Traveling From Cal Poly\", \"mode\": \"biking\", \"pct_trips\": 0.01738555014137039, \"total_trips\": 289}]}}, {\"mode\": \"vega-lite\"});\n",
       "</script>"
      ],
      "text/plain": [
       "alt.Chart(...)"
      ]
     },
     "execution_count": 108,
     "metadata": {},
     "output_type": "execute_result"
    }
   ],
   "source": [
    "alt.Chart(modes_breakdown).mark_bar().encode(\n",
    "    x=alt.X('df_name:O', title =\"Trip Type\"),\n",
    "    y= alt.Y('pct_trips:Q', title=\"Pct of Total Trips\"),\n",
    "    color=alt.Color('df_name:N', legend=alt.Legend(title='Trip Type')),\n",
    "    column= alt.Column('mode:N', title=\"Mode\")\n",
    ").properties(width = 100, height = 400)"
   ]
  },
  {
   "cell_type": "code",
   "execution_count": null,
   "id": "78be0983-ff21-4b2b-92ba-0f34001a78be",
   "metadata": {},
   "outputs": [],
   "source": []
  },
  {
   "cell_type": "code",
   "execution_count": null,
   "id": "d398638b-4eed-40e3-ab44-1e6fac7a979e",
   "metadata": {},
   "outputs": [],
   "source": []
  },
  {
   "cell_type": "code",
   "execution_count": null,
   "id": "aa9119c3-9d36-42e6-b421-8fc701b92b9d",
   "metadata": {},
   "outputs": [],
   "source": []
  },
  {
   "cell_type": "code",
   "execution_count": null,
   "id": "d0f73936-799c-4e96-9bca-8697d62317b7",
   "metadata": {},
   "outputs": [],
   "source": []
  },
  {
   "cell_type": "code",
   "execution_count": null,
   "id": "bcc7efbb-19b3-4919-8a0c-45dbc3c6cc0d",
   "metadata": {},
   "outputs": [],
   "source": []
  },
  {
   "cell_type": "code",
   "execution_count": null,
   "id": "41acc0ea-7c58-4bbf-9afc-bf5b0e63b8d7",
   "metadata": {},
   "outputs": [],
   "source": []
  },
  {
   "cell_type": "code",
   "execution_count": null,
   "id": "7d4b42b1-a87e-4ac7-ac15-8607e483c8d2",
   "metadata": {},
   "outputs": [],
   "source": []
  }
 ],
 "metadata": {
  "kernelspec": {
   "display_name": "Python 3 (ipykernel)",
   "language": "python",
   "name": "python3"
  },
  "language_info": {
   "codemirror_mode": {
    "name": "ipython",
    "version": 3
   },
   "file_extension": ".py",
   "mimetype": "text/x-python",
   "name": "python",
   "nbconvert_exporter": "python",
   "pygments_lexer": "ipython3",
   "version": "3.11.10"
  },
  "widgets": {
   "application/vnd.jupyter.widget-state+json": {
    "state": {},
    "version_major": 2,
    "version_minor": 0
   }
  }
 },
 "nbformat": 4,
 "nbformat_minor": 5
}
