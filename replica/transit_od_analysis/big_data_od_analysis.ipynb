{
 "cells": [
  {
   "cell_type": "markdown",
   "id": "f2c6def6-0bfe-495a-a5c9-ed446ed049c3",
   "metadata": {
    "tags": []
   },
   "source": [
    "## Origin Destination Big Data Analysis"
   ]
  },
  {
   "cell_type": "code",
   "execution_count": null,
   "id": "87465036-2f80-41e3-ad1e-19ba0bad1335",
   "metadata": {},
   "outputs": [],
   "source": []
  },
  {
   "cell_type": "code",
   "execution_count": 1,
   "id": "8ad60270-6c3d-4a63-85f1-1a6ad4197cd5",
   "metadata": {
    "tags": []
   },
   "outputs": [],
   "source": [
    "import gcsfs as fs\n",
    "import geopandas as gpd\n",
    "import numpy as np\n",
    "import pandas as pd\n",
    "from calitp_data_analysis import get_fs, utils\n",
    "from calitp_data_analysis.sql import to_snakecase\n",
    "from siuba import *\n",
    "\n",
    "fs = get_fs()"
   ]
  },
  {
   "cell_type": "code",
   "execution_count": 2,
   "id": "45ca1f1b-2953-4380-a958-a2398d2f7710",
   "metadata": {
    "tags": []
   },
   "outputs": [],
   "source": [
    "import altair as alt\n"
   ]
  },
  {
   "cell_type": "code",
   "execution_count": 3,
   "id": "03b2d218-11e7-433c-b3f0-91e4bf786abc",
   "metadata": {
    "tags": []
   },
   "outputs": [],
   "source": [
    "import replica_utils"
   ]
  },
  {
   "cell_type": "code",
   "execution_count": 4,
   "id": "1023c245-c823-4869-980c-fae067853ea7",
   "metadata": {
    "tags": []
   },
   "outputs": [],
   "source": [
    "pd.set_option(\"display.max_columns\", None)\n"
   ]
  },
  {
   "cell_type": "code",
   "execution_count": null,
   "id": "fee8214f-bb41-435b-8cf5-b0a65fca6f10",
   "metadata": {},
   "outputs": [],
   "source": []
  },
  {
   "cell_type": "code",
   "execution_count": 5,
   "id": "23d4f2b4-1034-48af-b997-5efc50fdb70f",
   "metadata": {
    "tags": []
   },
   "outputs": [],
   "source": [
    "gcs_path = \"gs://calitp-analytics-data/data-analyses/big_data/hta/\""
   ]
  },
  {
   "cell_type": "code",
   "execution_count": 6,
   "id": "49111c22-7bc5-4bd9-b5ae-b6d0bd7770a9",
   "metadata": {
    "tags": []
   },
   "outputs": [
    {
     "name": "stderr",
     "output_type": "stream",
     "text": [
      "/tmp/ipykernel_796/2358409840.py:1: DtypeWarning: Columns (18,19,20,25,26,28,29,30,31,33,36,38,39,40,41,42,43) have mixed types. Specify dtype option on import or set low_memory=False.\n",
      "  from_cp = to_snakecase( pd.read_csv(f\"{gcs_path}replica-hta_transit_calpolyhumboldt-10_22_25-trips_dataset_origin_as_CPH.csv\"))\n"
     ]
    }
   ],
   "source": [
    "from_cp = to_snakecase( pd.read_csv(f\"{gcs_path}replica-hta_transit_calpolyhumboldt-10_22_25-trips_dataset_origin_as_CPH.csv\"))    "
   ]
  },
  {
   "cell_type": "code",
   "execution_count": 7,
   "id": "edf1b193-4991-4c1a-a692-76599ee6e43b",
   "metadata": {
    "tags": []
   },
   "outputs": [
    {
     "data": {
      "text/html": [
       "<div>\n",
       "<style scoped>\n",
       "    .dataframe tbody tr th:only-of-type {\n",
       "        vertical-align: middle;\n",
       "    }\n",
       "\n",
       "    .dataframe tbody tr th {\n",
       "        vertical-align: top;\n",
       "    }\n",
       "\n",
       "    .dataframe thead th {\n",
       "        text-align: right;\n",
       "    }\n",
       "</style>\n",
       "<table border=\"1\" class=\"dataframe\">\n",
       "  <thead>\n",
       "    <tr style=\"text-align: right;\">\n",
       "      <th></th>\n",
       "      <th>activity_id</th>\n",
       "      <th>origin_bgrp_2020</th>\n",
       "      <th>origin_trct_2020</th>\n",
       "      <th>origin_cty_2020</th>\n",
       "      <th>origin_st_2020</th>\n",
       "      <th>destination_bgrp_2020</th>\n",
       "      <th>destination_trct_2020</th>\n",
       "      <th>destination_cty_2020</th>\n",
       "      <th>destination_st_2020</th>\n",
       "      <th>primary_mode</th>\n",
       "      <th>trip_purpose</th>\n",
       "      <th>previous_trip_purpose</th>\n",
       "      <th>trip_start_time</th>\n",
       "      <th>trip_end_time</th>\n",
       "      <th>trip_duration_minutes</th>\n",
       "      <th>trip_distance_miles</th>\n",
       "      <th>vehicle_type</th>\n",
       "      <th>vehicle_fuel_type</th>\n",
       "      <th>transit_submode</th>\n",
       "      <th>transit_agency</th>\n",
       "      <th>transit_route</th>\n",
       "      <th>origin_land_use</th>\n",
       "      <th>origin_building_use</th>\n",
       "      <th>destination_land_use</th>\n",
       "      <th>destination_building_use</th>\n",
       "      <th>trip_taker_person_id</th>\n",
       "      <th>trip_taker_household_id</th>\n",
       "      <th>trip_taker_age</th>\n",
       "      <th>trip_taker_sex</th>\n",
       "      <th>trip_taker_race_ethnicity</th>\n",
       "      <th>trip_taker_employment_status</th>\n",
       "      <th>trip_taker_wfh</th>\n",
       "      <th>trip_taker_individual_income</th>\n",
       "      <th>trip_taker_commute_mode</th>\n",
       "      <th>trip_taker_household_size</th>\n",
       "      <th>trip_taker_household_income</th>\n",
       "      <th>trip_taker_available_vehicles</th>\n",
       "      <th>trip_taker_resident_type</th>\n",
       "      <th>trip_taker_industry</th>\n",
       "      <th>trip_taker_building_type</th>\n",
       "      <th>trip_taker_school_grade_attending</th>\n",
       "      <th>trip_taker_education</th>\n",
       "      <th>trip_taker_tenure</th>\n",
       "      <th>trip_taker_language</th>\n",
       "      <th>trip_taker_home_bgrp_2020</th>\n",
       "      <th>trip_taker_home_trct_2020</th>\n",
       "      <th>trip_taker_home_cty_2020</th>\n",
       "      <th>trip_taker_home_st_2020</th>\n",
       "      <th>trip_taker_work_bgrp_2020</th>\n",
       "      <th>trip_taker_work_trct_2020</th>\n",
       "      <th>trip_taker_work_cty_2020</th>\n",
       "      <th>trip_taker_work_st_2020</th>\n",
       "    </tr>\n",
       "  </thead>\n",
       "  <tbody>\n",
       "    <tr>\n",
       "      <th>11340</th>\n",
       "      <td>8858887061311396564</td>\n",
       "      <td>2 (Tract 10.02, Humboldt, CA)</td>\n",
       "      <td>10.02 (Humboldt, CA)</td>\n",
       "      <td>Humboldt County, CA</td>\n",
       "      <td>California</td>\n",
       "      <td>1 (Tract 101.02, Humboldt, CA)</td>\n",
       "      <td>101.02 (Humboldt, CA)</td>\n",
       "      <td>Humboldt County, CA</td>\n",
       "      <td>California</td>\n",
       "      <td>private_auto</td>\n",
       "      <td>home</td>\n",
       "      <td>recreation</td>\n",
       "      <td>20:21:00</td>\n",
       "      <td>21:11:48</td>\n",
       "      <td>50</td>\n",
       "      <td>40.2</td>\n",
       "      <td>unknown_vehicle_type</td>\n",
       "      <td>other_non_bev</td>\n",
       "      <td>NaN</td>\n",
       "      <td>NaN</td>\n",
       "      <td>NaN</td>\n",
       "      <td>office</td>\n",
       "      <td>office</td>\n",
       "      <td>single_family</td>\n",
       "      <td>single_family</td>\n",
       "      <td>5041864331872282721</td>\n",
       "      <td>4941860029015061015</td>\n",
       "      <td>35.0</td>\n",
       "      <td>male</td>\n",
       "      <td>white_not_hispanic_or_latino</td>\n",
       "      <td>employed</td>\n",
       "      <td>in_person</td>\n",
       "      <td>76463.0</td>\n",
       "      <td>private_auto</td>\n",
       "      <td>2</td>\n",
       "      <td>100932.0</td>\n",
       "      <td>three_plus</td>\n",
       "      <td>core</td>\n",
       "      <td>naics2389</td>\n",
       "      <td>single_family</td>\n",
       "      <td>not_attending_school</td>\n",
       "      <td>bachelors_degree</td>\n",
       "      <td>owner</td>\n",
       "      <td>english</td>\n",
       "      <td>1 (Tract 101.02, Humboldt, CA)</td>\n",
       "      <td>101.02 (Humboldt, CA)</td>\n",
       "      <td>Humboldt County, CA</td>\n",
       "      <td>California</td>\n",
       "      <td>3 (Tract 103, Humboldt, CA)</td>\n",
       "      <td>103 (Humboldt, CA)</td>\n",
       "      <td>Humboldt County, CA</td>\n",
       "      <td>California</td>\n",
       "    </tr>\n",
       "  </tbody>\n",
       "</table>\n",
       "</div>"
      ],
      "text/plain": [
       "               activity_id               origin_bgrp_2020  \\\n",
       "11340  8858887061311396564  2 (Tract 10.02, Humboldt, CA)   \n",
       "\n",
       "           origin_trct_2020      origin_cty_2020 origin_st_2020  \\\n",
       "11340  10.02 (Humboldt, CA)  Humboldt County, CA     California   \n",
       "\n",
       "                destination_bgrp_2020  destination_trct_2020  \\\n",
       "11340  1 (Tract 101.02, Humboldt, CA)  101.02 (Humboldt, CA)   \n",
       "\n",
       "      destination_cty_2020 destination_st_2020  primary_mode trip_purpose  \\\n",
       "11340  Humboldt County, CA          California  private_auto         home   \n",
       "\n",
       "      previous_trip_purpose trip_start_time trip_end_time  \\\n",
       "11340            recreation        20:21:00      21:11:48   \n",
       "\n",
       "       trip_duration_minutes  trip_distance_miles          vehicle_type  \\\n",
       "11340                     50                 40.2  unknown_vehicle_type   \n",
       "\n",
       "      vehicle_fuel_type transit_submode transit_agency transit_route  \\\n",
       "11340     other_non_bev             NaN            NaN           NaN   \n",
       "\n",
       "      origin_land_use origin_building_use destination_land_use  \\\n",
       "11340          office              office        single_family   \n",
       "\n",
       "      destination_building_use trip_taker_person_id trip_taker_household_id  \\\n",
       "11340            single_family  5041864331872282721     4941860029015061015   \n",
       "\n",
       "       trip_taker_age trip_taker_sex     trip_taker_race_ethnicity  \\\n",
       "11340            35.0           male  white_not_hispanic_or_latino   \n",
       "\n",
       "      trip_taker_employment_status trip_taker_wfh  \\\n",
       "11340                     employed      in_person   \n",
       "\n",
       "       trip_taker_individual_income trip_taker_commute_mode  \\\n",
       "11340                       76463.0            private_auto   \n",
       "\n",
       "       trip_taker_household_size  trip_taker_household_income  \\\n",
       "11340                          2                     100932.0   \n",
       "\n",
       "      trip_taker_available_vehicles trip_taker_resident_type  \\\n",
       "11340                    three_plus                     core   \n",
       "\n",
       "      trip_taker_industry trip_taker_building_type  \\\n",
       "11340           naics2389            single_family   \n",
       "\n",
       "      trip_taker_school_grade_attending trip_taker_education  \\\n",
       "11340              not_attending_school     bachelors_degree   \n",
       "\n",
       "      trip_taker_tenure trip_taker_language       trip_taker_home_bgrp_2020  \\\n",
       "11340             owner             english  1 (Tract 101.02, Humboldt, CA)   \n",
       "\n",
       "      trip_taker_home_trct_2020 trip_taker_home_cty_2020  \\\n",
       "11340     101.02 (Humboldt, CA)      Humboldt County, CA   \n",
       "\n",
       "      trip_taker_home_st_2020    trip_taker_work_bgrp_2020  \\\n",
       "11340              California  3 (Tract 103, Humboldt, CA)   \n",
       "\n",
       "      trip_taker_work_trct_2020 trip_taker_work_cty_2020  \\\n",
       "11340        103 (Humboldt, CA)      Humboldt County, CA   \n",
       "\n",
       "      trip_taker_work_st_2020  \n",
       "11340              California  "
      ]
     },
     "execution_count": 7,
     "metadata": {},
     "output_type": "execute_result"
    }
   ],
   "source": [
    "from_cp.sample()"
   ]
  },
  {
   "cell_type": "code",
   "execution_count": 8,
   "id": "b0c85269-14f0-47c6-88ff-64c26cfe5fd7",
   "metadata": {
    "tags": []
   },
   "outputs": [
    {
     "data": {
      "text/plain": [
       "2 (Tract 10.02, Humboldt, CA)    16623\n",
       "Name: origin_bgrp_2020, dtype: int64"
      ]
     },
     "execution_count": 8,
     "metadata": {},
     "output_type": "execute_result"
    }
   ],
   "source": [
    "from_cp.origin_bgrp_2020.value_counts()"
   ]
  },
  {
   "cell_type": "code",
   "execution_count": null,
   "id": "d3d84a83-1f89-4451-a875-3fd3cf069835",
   "metadata": {},
   "outputs": [],
   "source": []
  },
  {
   "cell_type": "code",
   "execution_count": 9,
   "id": "56f01297-33c9-41e8-97ed-df7373e2cd79",
   "metadata": {
    "tags": []
   },
   "outputs": [
    {
     "name": "stderr",
     "output_type": "stream",
     "text": [
      "/tmp/ipykernel_796/2377608391.py:1: DtypeWarning: Columns (25,26,28,29,30,31,33,36,38,39,40,41,42,43) have mixed types. Specify dtype option on import or set low_memory=False.\n",
      "  to_cp = to_snakecase( pd.read_csv(f\"{gcs_path}replica-hta_transit_calpolyhumboldt-10_22_25-trips_dataset_dest_as_CPH.csv\"))\n"
     ]
    }
   ],
   "source": [
    "to_cp = to_snakecase( pd.read_csv(f\"{gcs_path}replica-hta_transit_calpolyhumboldt-10_22_25-trips_dataset_dest_as_CPH.csv\"))    "
   ]
  },
  {
   "cell_type": "code",
   "execution_count": 10,
   "id": "a6113824-6f48-4fbb-9827-1b0209150100",
   "metadata": {
    "tags": []
   },
   "outputs": [
    {
     "data": {
      "text/html": [
       "<div>\n",
       "<style scoped>\n",
       "    .dataframe tbody tr th:only-of-type {\n",
       "        vertical-align: middle;\n",
       "    }\n",
       "\n",
       "    .dataframe tbody tr th {\n",
       "        vertical-align: top;\n",
       "    }\n",
       "\n",
       "    .dataframe thead th {\n",
       "        text-align: right;\n",
       "    }\n",
       "</style>\n",
       "<table border=\"1\" class=\"dataframe\">\n",
       "  <thead>\n",
       "    <tr style=\"text-align: right;\">\n",
       "      <th></th>\n",
       "      <th>activity_id</th>\n",
       "      <th>origin_bgrp_2020</th>\n",
       "      <th>origin_trct_2020</th>\n",
       "      <th>origin_cty_2020</th>\n",
       "      <th>origin_st_2020</th>\n",
       "      <th>destination_bgrp_2020</th>\n",
       "      <th>destination_trct_2020</th>\n",
       "      <th>destination_cty_2020</th>\n",
       "      <th>destination_st_2020</th>\n",
       "      <th>primary_mode</th>\n",
       "      <th>trip_purpose</th>\n",
       "      <th>previous_trip_purpose</th>\n",
       "      <th>trip_start_time</th>\n",
       "      <th>trip_end_time</th>\n",
       "      <th>trip_duration_minutes</th>\n",
       "      <th>trip_distance_miles</th>\n",
       "      <th>vehicle_type</th>\n",
       "      <th>vehicle_fuel_type</th>\n",
       "      <th>transit_submode</th>\n",
       "      <th>transit_agency</th>\n",
       "      <th>transit_route</th>\n",
       "      <th>origin_land_use</th>\n",
       "      <th>origin_building_use</th>\n",
       "      <th>destination_land_use</th>\n",
       "      <th>destination_building_use</th>\n",
       "      <th>trip_taker_person_id</th>\n",
       "      <th>trip_taker_household_id</th>\n",
       "      <th>trip_taker_age</th>\n",
       "      <th>trip_taker_sex</th>\n",
       "      <th>trip_taker_race_ethnicity</th>\n",
       "      <th>trip_taker_employment_status</th>\n",
       "      <th>trip_taker_wfh</th>\n",
       "      <th>trip_taker_individual_income</th>\n",
       "      <th>trip_taker_commute_mode</th>\n",
       "      <th>trip_taker_household_size</th>\n",
       "      <th>trip_taker_household_income</th>\n",
       "      <th>trip_taker_available_vehicles</th>\n",
       "      <th>trip_taker_resident_type</th>\n",
       "      <th>trip_taker_industry</th>\n",
       "      <th>trip_taker_building_type</th>\n",
       "      <th>trip_taker_school_grade_attending</th>\n",
       "      <th>trip_taker_education</th>\n",
       "      <th>trip_taker_tenure</th>\n",
       "      <th>trip_taker_language</th>\n",
       "      <th>trip_taker_home_bgrp_2020</th>\n",
       "      <th>trip_taker_home_trct_2020</th>\n",
       "      <th>trip_taker_home_cty_2020</th>\n",
       "      <th>trip_taker_home_st_2020</th>\n",
       "      <th>trip_taker_work_bgrp_2020</th>\n",
       "      <th>trip_taker_work_trct_2020</th>\n",
       "      <th>trip_taker_work_cty_2020</th>\n",
       "      <th>trip_taker_work_st_2020</th>\n",
       "    </tr>\n",
       "  </thead>\n",
       "  <tbody>\n",
       "    <tr>\n",
       "      <th>9776</th>\n",
       "      <td>6666827128492203991</td>\n",
       "      <td>3 (Tract 109.01, Humboldt, CA)</td>\n",
       "      <td>109.01 (Humboldt, CA)</td>\n",
       "      <td>Humboldt County, CA</td>\n",
       "      <td>California</td>\n",
       "      <td>2 (Tract 10.02, Humboldt, CA)</td>\n",
       "      <td>10.02 (Humboldt, CA)</td>\n",
       "      <td>Humboldt County, CA</td>\n",
       "      <td>California</td>\n",
       "      <td>private_auto</td>\n",
       "      <td>school</td>\n",
       "      <td>home</td>\n",
       "      <td>13:25:00</td>\n",
       "      <td>13:58:33</td>\n",
       "      <td>33</td>\n",
       "      <td>27.6</td>\n",
       "      <td>unknown_vehicle_type</td>\n",
       "      <td>other_non_bev</td>\n",
       "      <td>NaN</td>\n",
       "      <td>NaN</td>\n",
       "      <td>NaN</td>\n",
       "      <td>single_family</td>\n",
       "      <td>single_family</td>\n",
       "      <td>education</td>\n",
       "      <td>education</td>\n",
       "      <td>10752861403506304074</td>\n",
       "      <td>3712279543544341617</td>\n",
       "      <td>33.0</td>\n",
       "      <td>male</td>\n",
       "      <td>white_not_hispanic_or_latino</td>\n",
       "      <td>employed</td>\n",
       "      <td>employed_not_working</td>\n",
       "      <td>19535.0</td>\n",
       "      <td>private_auto</td>\n",
       "      <td>2</td>\n",
       "      <td>54265.0</td>\n",
       "      <td>three_plus</td>\n",
       "      <td>core</td>\n",
       "      <td>naics2382</td>\n",
       "      <td>single_family</td>\n",
       "      <td>not_attending_school</td>\n",
       "      <td>some_college</td>\n",
       "      <td>renter</td>\n",
       "      <td>english</td>\n",
       "      <td>3 (Tract 109.01, Humboldt, CA)</td>\n",
       "      <td>109.01 (Humboldt, CA)</td>\n",
       "      <td>Humboldt County, CA</td>\n",
       "      <td>California</td>\n",
       "      <td>2 (Tract 109.01, Humboldt, CA)</td>\n",
       "      <td>109.01 (Humboldt, CA)</td>\n",
       "      <td>Humboldt County, CA</td>\n",
       "      <td>California</td>\n",
       "    </tr>\n",
       "  </tbody>\n",
       "</table>\n",
       "</div>"
      ],
      "text/plain": [
       "              activity_id                origin_bgrp_2020  \\\n",
       "9776  6666827128492203991  3 (Tract 109.01, Humboldt, CA)   \n",
       "\n",
       "           origin_trct_2020      origin_cty_2020 origin_st_2020  \\\n",
       "9776  109.01 (Humboldt, CA)  Humboldt County, CA     California   \n",
       "\n",
       "              destination_bgrp_2020 destination_trct_2020  \\\n",
       "9776  2 (Tract 10.02, Humboldt, CA)  10.02 (Humboldt, CA)   \n",
       "\n",
       "     destination_cty_2020 destination_st_2020  primary_mode trip_purpose  \\\n",
       "9776  Humboldt County, CA          California  private_auto       school   \n",
       "\n",
       "     previous_trip_purpose trip_start_time trip_end_time  \\\n",
       "9776                  home        13:25:00      13:58:33   \n",
       "\n",
       "      trip_duration_minutes  trip_distance_miles          vehicle_type  \\\n",
       "9776                     33                 27.6  unknown_vehicle_type   \n",
       "\n",
       "     vehicle_fuel_type transit_submode transit_agency transit_route  \\\n",
       "9776     other_non_bev             NaN            NaN           NaN   \n",
       "\n",
       "     origin_land_use origin_building_use destination_land_use  \\\n",
       "9776   single_family       single_family            education   \n",
       "\n",
       "     destination_building_use  trip_taker_person_id trip_taker_household_id  \\\n",
       "9776                education  10752861403506304074     3712279543544341617   \n",
       "\n",
       "      trip_taker_age trip_taker_sex     trip_taker_race_ethnicity  \\\n",
       "9776            33.0           male  white_not_hispanic_or_latino   \n",
       "\n",
       "     trip_taker_employment_status        trip_taker_wfh  \\\n",
       "9776                     employed  employed_not_working   \n",
       "\n",
       "      trip_taker_individual_income trip_taker_commute_mode  \\\n",
       "9776                       19535.0            private_auto   \n",
       "\n",
       "      trip_taker_household_size  trip_taker_household_income  \\\n",
       "9776                          2                      54265.0   \n",
       "\n",
       "     trip_taker_available_vehicles trip_taker_resident_type  \\\n",
       "9776                    three_plus                     core   \n",
       "\n",
       "     trip_taker_industry trip_taker_building_type  \\\n",
       "9776           naics2382            single_family   \n",
       "\n",
       "     trip_taker_school_grade_attending trip_taker_education trip_taker_tenure  \\\n",
       "9776              not_attending_school         some_college            renter   \n",
       "\n",
       "     trip_taker_language       trip_taker_home_bgrp_2020  \\\n",
       "9776             english  3 (Tract 109.01, Humboldt, CA)   \n",
       "\n",
       "     trip_taker_home_trct_2020 trip_taker_home_cty_2020  \\\n",
       "9776     109.01 (Humboldt, CA)      Humboldt County, CA   \n",
       "\n",
       "     trip_taker_home_st_2020       trip_taker_work_bgrp_2020  \\\n",
       "9776              California  2 (Tract 109.01, Humboldt, CA)   \n",
       "\n",
       "     trip_taker_work_trct_2020 trip_taker_work_cty_2020  \\\n",
       "9776     109.01 (Humboldt, CA)      Humboldt County, CA   \n",
       "\n",
       "     trip_taker_work_st_2020  \n",
       "9776              California  "
      ]
     },
     "execution_count": 10,
     "metadata": {},
     "output_type": "execute_result"
    }
   ],
   "source": [
    "to_cp.sample()"
   ]
  },
  {
   "cell_type": "code",
   "execution_count": 11,
   "id": "ec0bc7e7-dd9c-46b6-940e-459a827cde17",
   "metadata": {
    "tags": []
   },
   "outputs": [
    {
     "data": {
      "text/plain": [
       "2 (Tract 10.02, Humboldt, CA)    16657\n",
       "Name: destination_bgrp_2020, dtype: int64"
      ]
     },
     "execution_count": 11,
     "metadata": {},
     "output_type": "execute_result"
    }
   ],
   "source": [
    "to_cp.destination_bgrp_2020.value_counts()"
   ]
  },
  {
   "cell_type": "code",
   "execution_count": null,
   "id": "959d5ea3-c5e8-4838-be9f-80bfb0a2ab3e",
   "metadata": {},
   "outputs": [],
   "source": []
  },
  {
   "cell_type": "code",
   "execution_count": 12,
   "id": "beafb087-b65a-4f90-b3cb-5d4e1ffe5b57",
   "metadata": {
    "tags": []
   },
   "outputs": [
    {
     "data": {
      "text/plain": [
       "private_auto         9179\n",
       "walking              3686\n",
       "auto_passenger       3014\n",
       "biking                289\n",
       "other_travel_mode     284\n",
       "commercial             81\n",
       "on_demand_auto         68\n",
       "public_transit         22\n",
       "Name: primary_mode, dtype: int64"
      ]
     },
     "execution_count": 12,
     "metadata": {},
     "output_type": "execute_result"
    }
   ],
   "source": [
    "from_cp.primary_mode.value_counts()"
   ]
  },
  {
   "cell_type": "code",
   "execution_count": 13,
   "id": "7bacff8d-d350-45f9-8ded-efe9975904ac",
   "metadata": {
    "tags": []
   },
   "outputs": [
    {
     "data": {
      "text/plain": [
       "private_auto         9544\n",
       "walking              3933\n",
       "auto_passenger       2457\n",
       "biking                300\n",
       "other_travel_mode     254\n",
       "on_demand_auto         75\n",
       "commercial             57\n",
       "public_transit         37\n",
       "Name: primary_mode, dtype: int64"
      ]
     },
     "execution_count": 13,
     "metadata": {},
     "output_type": "execute_result"
    }
   ],
   "source": [
    "to_cp.primary_mode.value_counts()"
   ]
  },
  {
   "cell_type": "code",
   "execution_count": null,
   "id": "287beb7d-6b69-4cbc-b7ce-382b1326e0b3",
   "metadata": {},
   "outputs": [],
   "source": []
  },
  {
   "cell_type": "code",
   "execution_count": 14,
   "id": "41c6ef21-2947-4cee-89bc-9ef400bfbf85",
   "metadata": {},
   "outputs": [
    {
     "data": {
      "text/plain": [
       "<bound method IndexOpsMixin.value_counts of 0            1 (Tract 13, Humboldt, CA)\n",
       "1        2 (Tract 105.03, Humboldt, CA)\n",
       "2        1 (Tract 105.04, Humboldt, CA)\n",
       "3           1 (Tract 104, Humboldt, CA)\n",
       "4           1 (Tract 104, Humboldt, CA)\n",
       "                      ...              \n",
       "16652     1 (Tract 10.02, Humboldt, CA)\n",
       "16653         4 (Tract 2, Humboldt, CA)\n",
       "16654     1 (Tract 11.03, Humboldt, CA)\n",
       "16655     2 (Tract 10.02, Humboldt, CA)\n",
       "16656         3 (Tract 3, Humboldt, CA)\n",
       "Name: origin_bgrp_2020, Length: 16657, dtype: object>"
      ]
     },
     "execution_count": 14,
     "metadata": {},
     "output_type": "execute_result"
    }
   ],
   "source": [
    "to_cp.origin_bgrp_2020.value_counts"
   ]
  },
  {
   "cell_type": "code",
   "execution_count": null,
   "id": "4b3d6aa3-1eef-4d17-aa07-5b0b34489c41",
   "metadata": {},
   "outputs": [],
   "source": []
  },
  {
   "cell_type": "markdown",
   "id": "2a0f0cb1-705b-425d-854b-6bc76563c0bb",
   "metadata": {},
   "source": [
    "### Reading in block groups\n",
    "* downloaded from Replica (also have some other options like taz)"
   ]
  },
  {
   "cell_type": "code",
   "execution_count": null,
   "id": "610be114-f52a-408d-91db-aa660d75aeb9",
   "metadata": {},
   "outputs": [],
   "source": []
  },
  {
   "cell_type": "code",
   "execution_count": 15,
   "id": "2423ef58-c044-429f-9b06-80f7addfb3b2",
   "metadata": {},
   "outputs": [],
   "source": [
    "with get_fs().open(f\"{gcs_path}replica-hta_transit_calpolyhumboldt-10_22_25-origin_layer_Humb.zip\") as f:\n",
    "    blkgr = to_snakecase(gpd.read_file(f))"
   ]
  },
  {
   "cell_type": "code",
   "execution_count": 16,
   "id": "2f4bf590-f39b-4616-b2c0-71078f290eec",
   "metadata": {},
   "outputs": [
    {
     "data": {
      "text/html": [
       "<div>\n",
       "<style scoped>\n",
       "    .dataframe tbody tr th:only-of-type {\n",
       "        vertical-align: middle;\n",
       "    }\n",
       "\n",
       "    .dataframe tbody tr th {\n",
       "        vertical-align: top;\n",
       "    }\n",
       "\n",
       "    .dataframe thead th {\n",
       "        text-align: right;\n",
       "    }\n",
       "</style>\n",
       "<table border=\"1\" class=\"dataframe\">\n",
       "  <thead>\n",
       "    <tr style=\"text-align: right;\">\n",
       "      <th></th>\n",
       "      <th>geoname</th>\n",
       "      <th>customgeoid</th>\n",
       "      <th>centroidlat</th>\n",
       "      <th>centroidlon</th>\n",
       "      <th>squaremiles</th>\n",
       "      <th>tripsbyorigin</th>\n",
       "      <th>tripsbyorigin_sqmi</th>\n",
       "      <th>geometry</th>\n",
       "    </tr>\n",
       "  </thead>\n",
       "  <tbody>\n",
       "    <tr>\n",
       "      <th>2885</th>\n",
       "      <td>2 (Tract 5021.01, Santa Clara, CA)</td>\n",
       "      <td>60855021012</td>\n",
       "      <td>37.3073</td>\n",
       "      <td>-121.9354</td>\n",
       "      <td>0.114</td>\n",
       "      <td>21</td>\n",
       "      <td>184.276</td>\n",
       "      <td>POLYGON ((-121.93906 37.30921, -121.93906 37.3...</td>\n",
       "    </tr>\n",
       "  </tbody>\n",
       "</table>\n",
       "</div>"
      ],
      "text/plain": [
       "                                 geoname  customgeoid  centroidlat  \\\n",
       "2885  2 (Tract 5021.01, Santa Clara, CA)  60855021012      37.3073   \n",
       "\n",
       "      centroidlon  squaremiles  tripsbyorigin  tripsbyorigin_sqmi  \\\n",
       "2885    -121.9354        0.114             21             184.276   \n",
       "\n",
       "                                               geometry  \n",
       "2885  POLYGON ((-121.93906 37.30921, -121.93906 37.3...  "
      ]
     },
     "execution_count": 16,
     "metadata": {},
     "output_type": "execute_result"
    }
   ],
   "source": [
    "blkgr.sample()"
   ]
  },
  {
   "cell_type": "code",
   "execution_count": 17,
   "id": "e2dc46e2-31d0-423c-923f-d43d0e3af07a",
   "metadata": {
    "tags": []
   },
   "outputs": [],
   "source": [
    "blkgr[\"name_county\"]  = blkgr['geoname'].str.rstrip(', ').str.split(', ').str[1] "
   ]
  },
  {
   "cell_type": "code",
   "execution_count": 18,
   "id": "9eb0044a-e922-4a58-830e-4c03097e66d3",
   "metadata": {
    "tags": []
   },
   "outputs": [],
   "source": [
    "blkgr[\"name_state\"]  = blkgr['geoname'].str.strip().str[-3:-1]"
   ]
  },
  {
   "cell_type": "code",
   "execution_count": 19,
   "id": "1a773a34-8a9f-43cc-b06d-46028f58a6d7",
   "metadata": {
    "tags": []
   },
   "outputs": [],
   "source": [
    "# blkgr = blkgr>>filter(_.name_state==\"CA\" | _.state_ns)"
   ]
  },
  {
   "cell_type": "code",
   "execution_count": 20,
   "id": "cd5a370e-cc78-4782-891d-e8fe4f16482c",
   "metadata": {
    "tags": []
   },
   "outputs": [],
   "source": [
    "# blkgr[\"id_xwalk\"] = \"\""
   ]
  },
  {
   "cell_type": "code",
   "execution_count": 21,
   "id": "c90be8a5-3299-4232-a2c7-dfde77804844",
   "metadata": {
    "tags": []
   },
   "outputs": [],
   "source": [
    "# blkgr[\"id_xwalk\"] = blkgr['id'].str.lstrip('0')"
   ]
  },
  {
   "cell_type": "code",
   "execution_count": 22,
   "id": "c971c596-ba30-4400-a7c3-f426aac6ae27",
   "metadata": {
    "tags": []
   },
   "outputs": [],
   "source": [
    "# blkgr['id_xwalk'] = blkgr['id_xwalk'].astype('int64')"
   ]
  },
  {
   "cell_type": "code",
   "execution_count": 23,
   "id": "8bb927bf-49b6-4213-ad12-6eac310231c0",
   "metadata": {
    "tags": []
   },
   "outputs": [
    {
     "data": {
      "text/html": [
       "<div>\n",
       "<style scoped>\n",
       "    .dataframe tbody tr th:only-of-type {\n",
       "        vertical-align: middle;\n",
       "    }\n",
       "\n",
       "    .dataframe tbody tr th {\n",
       "        vertical-align: top;\n",
       "    }\n",
       "\n",
       "    .dataframe thead th {\n",
       "        text-align: right;\n",
       "    }\n",
       "</style>\n",
       "<table border=\"1\" class=\"dataframe\">\n",
       "  <thead>\n",
       "    <tr style=\"text-align: right;\">\n",
       "      <th></th>\n",
       "      <th>geoname</th>\n",
       "      <th>customgeoid</th>\n",
       "      <th>centroidlat</th>\n",
       "      <th>centroidlon</th>\n",
       "      <th>squaremiles</th>\n",
       "      <th>tripsbyorigin</th>\n",
       "      <th>tripsbyorigin_sqmi</th>\n",
       "      <th>geometry</th>\n",
       "      <th>name_county</th>\n",
       "      <th>name_state</th>\n",
       "    </tr>\n",
       "  </thead>\n",
       "  <tbody>\n",
       "    <tr>\n",
       "      <th>5755</th>\n",
       "      <td>1 (Tract 3660.02, Contra Costa, CA)</td>\n",
       "      <td>60133660021</td>\n",
       "      <td>37.9649</td>\n",
       "      <td>-122.3477</td>\n",
       "      <td>0.0752</td>\n",
       "      <td>5</td>\n",
       "      <td>66.5098</td>\n",
       "      <td>POLYGON ((-122.35483 37.96394, -122.35448 37.9...</td>\n",
       "      <td>Contra Costa</td>\n",
       "      <td>CA</td>\n",
       "    </tr>\n",
       "  </tbody>\n",
       "</table>\n",
       "</div>"
      ],
      "text/plain": [
       "                                  geoname  customgeoid  centroidlat  \\\n",
       "5755  1 (Tract 3660.02, Contra Costa, CA)  60133660021      37.9649   \n",
       "\n",
       "      centroidlon  squaremiles  tripsbyorigin  tripsbyorigin_sqmi  \\\n",
       "5755    -122.3477       0.0752              5             66.5098   \n",
       "\n",
       "                                               geometry   name_county  \\\n",
       "5755  POLYGON ((-122.35483 37.96394, -122.35448 37.9...  Contra Costa   \n",
       "\n",
       "     name_state  \n",
       "5755         CA  "
      ]
     },
     "execution_count": 23,
     "metadata": {},
     "output_type": "execute_result"
    }
   ],
   "source": [
    "blkgr.sample()"
   ]
  },
  {
   "cell_type": "code",
   "execution_count": null,
   "id": "7d041831-9ab4-41b5-b0a3-479777403e9b",
   "metadata": {
    "tags": []
   },
   "outputs": [],
   "source": []
  },
  {
   "cell_type": "markdown",
   "id": "413f31a6-e476-4641-a5aa-1ec31e7b3cff",
   "metadata": {},
   "source": [
    "##### read in crosswalk from Replica"
   ]
  },
  {
   "cell_type": "code",
   "execution_count": 24,
   "id": "ec8ebe23-9fae-4db5-8258-54b4addb3efb",
   "metadata": {
    "tags": []
   },
   "outputs": [],
   "source": [
    "# xwalk = pd.read_csv(f\"{gcs_path}census_xwalk.csv\")\n",
    "# xwalk = xwalk>>filter(_.stusps==\"CA\")"
   ]
  },
  {
   "cell_type": "code",
   "execution_count": 25,
   "id": "11c5f32a-2ed1-4ac5-a356-87d34bb2e0a2",
   "metadata": {
    "tags": []
   },
   "outputs": [],
   "source": [
    "# xwalk.sample()"
   ]
  },
  {
   "cell_type": "code",
   "execution_count": null,
   "id": "0b02a7d8-af91-43a4-a9af-0c0aab18f6cc",
   "metadata": {},
   "outputs": [],
   "source": []
  },
  {
   "cell_type": "code",
   "execution_count": 26,
   "id": "ee89a6f1-6bd5-40a8-97e9-01a453b96c9e",
   "metadata": {
    "tags": []
   },
   "outputs": [],
   "source": [
    "# xwalk_map = dict(zip(xwalk['bgrp'], \n",
    "#                           xwalk['bgrpname']))"
   ]
  },
  {
   "cell_type": "code",
   "execution_count": 27,
   "id": "ff4c24e9-d84b-4c15-8494-abfad4fe413c",
   "metadata": {
    "tags": []
   },
   "outputs": [],
   "source": [
    "# blkgr[\"name_xwalk\"] = np.NaN"
   ]
  },
  {
   "cell_type": "code",
   "execution_count": 28,
   "id": "cccdc24e-40e2-4417-b6de-bd51549e0213",
   "metadata": {
    "tags": []
   },
   "outputs": [],
   "source": [
    "# blkgr['name_xwalk'] = blkgr['name_xwalk'].fillna(blkgr['id_xwalk'].map(xwalk_map))"
   ]
  },
  {
   "cell_type": "code",
   "execution_count": 29,
   "id": "e6fbe455-a653-4675-92d5-2eeaef908773",
   "metadata": {
    "tags": []
   },
   "outputs": [
    {
     "data": {
      "text/html": [
       "<div>\n",
       "<style scoped>\n",
       "    .dataframe tbody tr th:only-of-type {\n",
       "        vertical-align: middle;\n",
       "    }\n",
       "\n",
       "    .dataframe tbody tr th {\n",
       "        vertical-align: top;\n",
       "    }\n",
       "\n",
       "    .dataframe thead th {\n",
       "        text-align: right;\n",
       "    }\n",
       "</style>\n",
       "<table border=\"1\" class=\"dataframe\">\n",
       "  <thead>\n",
       "    <tr style=\"text-align: right;\">\n",
       "      <th></th>\n",
       "      <th>activity_id</th>\n",
       "      <th>origin_bgrp_2020</th>\n",
       "      <th>origin_trct_2020</th>\n",
       "      <th>origin_cty_2020</th>\n",
       "      <th>origin_st_2020</th>\n",
       "      <th>destination_bgrp_2020</th>\n",
       "      <th>destination_trct_2020</th>\n",
       "      <th>destination_cty_2020</th>\n",
       "      <th>destination_st_2020</th>\n",
       "      <th>primary_mode</th>\n",
       "      <th>trip_purpose</th>\n",
       "      <th>previous_trip_purpose</th>\n",
       "      <th>trip_start_time</th>\n",
       "      <th>trip_end_time</th>\n",
       "      <th>trip_duration_minutes</th>\n",
       "      <th>trip_distance_miles</th>\n",
       "      <th>vehicle_type</th>\n",
       "      <th>vehicle_fuel_type</th>\n",
       "      <th>transit_submode</th>\n",
       "      <th>transit_agency</th>\n",
       "      <th>transit_route</th>\n",
       "      <th>origin_land_use</th>\n",
       "      <th>origin_building_use</th>\n",
       "      <th>destination_land_use</th>\n",
       "      <th>destination_building_use</th>\n",
       "      <th>trip_taker_person_id</th>\n",
       "      <th>trip_taker_household_id</th>\n",
       "      <th>trip_taker_age</th>\n",
       "      <th>trip_taker_sex</th>\n",
       "      <th>trip_taker_race_ethnicity</th>\n",
       "      <th>trip_taker_employment_status</th>\n",
       "      <th>trip_taker_wfh</th>\n",
       "      <th>trip_taker_individual_income</th>\n",
       "      <th>trip_taker_commute_mode</th>\n",
       "      <th>trip_taker_household_size</th>\n",
       "      <th>trip_taker_household_income</th>\n",
       "      <th>trip_taker_available_vehicles</th>\n",
       "      <th>trip_taker_resident_type</th>\n",
       "      <th>trip_taker_industry</th>\n",
       "      <th>trip_taker_building_type</th>\n",
       "      <th>trip_taker_school_grade_attending</th>\n",
       "      <th>trip_taker_education</th>\n",
       "      <th>trip_taker_tenure</th>\n",
       "      <th>trip_taker_language</th>\n",
       "      <th>trip_taker_home_bgrp_2020</th>\n",
       "      <th>trip_taker_home_trct_2020</th>\n",
       "      <th>trip_taker_home_cty_2020</th>\n",
       "      <th>trip_taker_home_st_2020</th>\n",
       "      <th>trip_taker_work_bgrp_2020</th>\n",
       "      <th>trip_taker_work_trct_2020</th>\n",
       "      <th>trip_taker_work_cty_2020</th>\n",
       "      <th>trip_taker_work_st_2020</th>\n",
       "    </tr>\n",
       "  </thead>\n",
       "  <tbody>\n",
       "    <tr>\n",
       "      <th>3351</th>\n",
       "      <td>8057350609806394101</td>\n",
       "      <td>1 (Tract 9, Humboldt, CA)</td>\n",
       "      <td>9 (Humboldt, CA)</td>\n",
       "      <td>Humboldt County, CA</td>\n",
       "      <td>California</td>\n",
       "      <td>2 (Tract 10.02, Humboldt, CA)</td>\n",
       "      <td>10.02 (Humboldt, CA)</td>\n",
       "      <td>Humboldt County, CA</td>\n",
       "      <td>California</td>\n",
       "      <td>private_auto</td>\n",
       "      <td>work</td>\n",
       "      <td>home</td>\n",
       "      <td>07:32:00</td>\n",
       "      <td>07:36:12</td>\n",
       "      <td>4</td>\n",
       "      <td>2.3</td>\n",
       "      <td>unknown_vehicle_type</td>\n",
       "      <td>other_non_bev</td>\n",
       "      <td>NaN</td>\n",
       "      <td>NaN</td>\n",
       "      <td>NaN</td>\n",
       "      <td>single_family</td>\n",
       "      <td>single_family</td>\n",
       "      <td>education</td>\n",
       "      <td>education</td>\n",
       "      <td>15480026488092440886</td>\n",
       "      <td>5455566467489399167</td>\n",
       "      <td>29.0</td>\n",
       "      <td>female</td>\n",
       "      <td>two_races_not_hispanic_or_latino</td>\n",
       "      <td>employed</td>\n",
       "      <td>in_person</td>\n",
       "      <td>59691.0</td>\n",
       "      <td>private_auto</td>\n",
       "      <td>2</td>\n",
       "      <td>83568.0</td>\n",
       "      <td>two</td>\n",
       "      <td>core</td>\n",
       "      <td>naics5412</td>\n",
       "      <td>single_family</td>\n",
       "      <td>not_attending_school</td>\n",
       "      <td>bachelors_degree</td>\n",
       "      <td>owner</td>\n",
       "      <td>english</td>\n",
       "      <td>1 (Tract 9, Humboldt, CA)</td>\n",
       "      <td>9 (Humboldt, CA)</td>\n",
       "      <td>Humboldt County, CA</td>\n",
       "      <td>California</td>\n",
       "      <td>1 (Tract 5, Humboldt, CA)</td>\n",
       "      <td>5 (Humboldt, CA)</td>\n",
       "      <td>Humboldt County, CA</td>\n",
       "      <td>California</td>\n",
       "    </tr>\n",
       "  </tbody>\n",
       "</table>\n",
       "</div>"
      ],
      "text/plain": [
       "              activity_id           origin_bgrp_2020  origin_trct_2020  \\\n",
       "3351  8057350609806394101  1 (Tract 9, Humboldt, CA)  9 (Humboldt, CA)   \n",
       "\n",
       "          origin_cty_2020 origin_st_2020          destination_bgrp_2020  \\\n",
       "3351  Humboldt County, CA     California  2 (Tract 10.02, Humboldt, CA)   \n",
       "\n",
       "     destination_trct_2020 destination_cty_2020 destination_st_2020  \\\n",
       "3351  10.02 (Humboldt, CA)  Humboldt County, CA          California   \n",
       "\n",
       "      primary_mode trip_purpose previous_trip_purpose trip_start_time  \\\n",
       "3351  private_auto         work                  home        07:32:00   \n",
       "\n",
       "     trip_end_time  trip_duration_minutes  trip_distance_miles  \\\n",
       "3351      07:36:12                      4                  2.3   \n",
       "\n",
       "              vehicle_type vehicle_fuel_type transit_submode transit_agency  \\\n",
       "3351  unknown_vehicle_type     other_non_bev             NaN            NaN   \n",
       "\n",
       "     transit_route origin_land_use origin_building_use destination_land_use  \\\n",
       "3351           NaN   single_family       single_family            education   \n",
       "\n",
       "     destination_building_use  trip_taker_person_id trip_taker_household_id  \\\n",
       "3351                education  15480026488092440886     5455566467489399167   \n",
       "\n",
       "      trip_taker_age trip_taker_sex         trip_taker_race_ethnicity  \\\n",
       "3351            29.0         female  two_races_not_hispanic_or_latino   \n",
       "\n",
       "     trip_taker_employment_status trip_taker_wfh  \\\n",
       "3351                     employed      in_person   \n",
       "\n",
       "      trip_taker_individual_income trip_taker_commute_mode  \\\n",
       "3351                       59691.0            private_auto   \n",
       "\n",
       "      trip_taker_household_size  trip_taker_household_income  \\\n",
       "3351                          2                      83568.0   \n",
       "\n",
       "     trip_taker_available_vehicles trip_taker_resident_type  \\\n",
       "3351                           two                     core   \n",
       "\n",
       "     trip_taker_industry trip_taker_building_type  \\\n",
       "3351           naics5412            single_family   \n",
       "\n",
       "     trip_taker_school_grade_attending trip_taker_education trip_taker_tenure  \\\n",
       "3351              not_attending_school     bachelors_degree             owner   \n",
       "\n",
       "     trip_taker_language  trip_taker_home_bgrp_2020 trip_taker_home_trct_2020  \\\n",
       "3351             english  1 (Tract 9, Humboldt, CA)          9 (Humboldt, CA)   \n",
       "\n",
       "     trip_taker_home_cty_2020 trip_taker_home_st_2020  \\\n",
       "3351      Humboldt County, CA              California   \n",
       "\n",
       "      trip_taker_work_bgrp_2020 trip_taker_work_trct_2020  \\\n",
       "3351  1 (Tract 5, Humboldt, CA)          5 (Humboldt, CA)   \n",
       "\n",
       "     trip_taker_work_cty_2020 trip_taker_work_st_2020  \n",
       "3351      Humboldt County, CA              California  "
      ]
     },
     "execution_count": 29,
     "metadata": {},
     "output_type": "execute_result"
    }
   ],
   "source": [
    "to_cp.sample()"
   ]
  },
  {
   "cell_type": "code",
   "execution_count": null,
   "id": "55dba0fa-8918-4903-b252-580039951756",
   "metadata": {},
   "outputs": [],
   "source": []
  },
  {
   "cell_type": "code",
   "execution_count": 30,
   "id": "1ccd3962-6049-449e-86e1-5a2190707cd0",
   "metadata": {
    "tags": []
   },
   "outputs": [],
   "source": [
    "# (blkgr[blkgr[\"name_county\"]==\"Humboldt\"])"
   ]
  },
  {
   "cell_type": "code",
   "execution_count": 31,
   "id": "b057c41c-d66f-4063-9f04-6049ed6fe0a6",
   "metadata": {
    "tags": []
   },
   "outputs": [],
   "source": [
    "# blkgr>>filter(_.name==\"1 (Tract 9, Humboldt, CA)\")"
   ]
  },
  {
   "cell_type": "code",
   "execution_count": 32,
   "id": "0ea57653-f780-4c92-b0ee-b4b664681d98",
   "metadata": {
    "tags": []
   },
   "outputs": [],
   "source": [
    "# (to_cp>>filter(_.origin_bgrp_2020 == \"1 (Tract 9, Humboldt, CA)\")).sample()"
   ]
  },
  {
   "cell_type": "code",
   "execution_count": 33,
   "id": "5891d28c-63f6-4e95-8c10-0e4f95be95e7",
   "metadata": {
    "tags": []
   },
   "outputs": [],
   "source": [
    "# to_cp.sample()"
   ]
  },
  {
   "cell_type": "code",
   "execution_count": null,
   "id": "d2198565-8bd4-430d-afa7-d7ae0f5112cd",
   "metadata": {},
   "outputs": [],
   "source": []
  },
  {
   "cell_type": "code",
   "execution_count": 34,
   "id": "7253dde0-ad65-4de0-abbc-93b16a97793d",
   "metadata": {},
   "outputs": [],
   "source": [
    "blkgr_map = dict(zip(blkgr['geoname'], \n",
    "                          blkgr['geometry']))"
   ]
  },
  {
   "cell_type": "code",
   "execution_count": 35,
   "id": "e1c5c185-ff38-4cea-ad22-91f4c3c85501",
   "metadata": {},
   "outputs": [],
   "source": [
    "to_cp[\"origin_geometry\"] = np.nan\n",
    "to_cp['origin_geometry'] = to_cp['origin_geometry'].fillna(to_cp['origin_bgrp_2020'].map(blkgr_map))\n",
    "to_cp = to_cp.set_geometry(\"origin_geometry\")\n",
    "\n",
    "to_cp = to_cp.set_crs(4326)"
   ]
  },
  {
   "cell_type": "code",
   "execution_count": 36,
   "id": "36cdb9a4-49ed-4b48-85bc-d770ec3ca315",
   "metadata": {
    "tags": []
   },
   "outputs": [],
   "source": [
    "# to_cp[\"dest_geometry\"] = np.nan\n",
    "# to_cp['dest_geometry'] = to_cp['dest_geometry'].fillna(to_cp['destination_bgrp_2020'].map(blkgr_map))"
   ]
  },
  {
   "cell_type": "code",
   "execution_count": null,
   "id": "eb32f3bc-1f03-4e24-ac43-5cba2a826bac",
   "metadata": {},
   "outputs": [],
   "source": []
  },
  {
   "cell_type": "code",
   "execution_count": 37,
   "id": "15345e4e-c85e-4d48-96bb-ebd3dd7bc672",
   "metadata": {
    "tags": []
   },
   "outputs": [],
   "source": [
    "# from_cp[\"origin_geometry\"] = np.nan\n",
    "# from_cp['origin_geometry'] = from_cp['origin_geometry'].fillna(from_cp['origin_bgrp_2020'].map(blkgr_map))"
   ]
  },
  {
   "cell_type": "code",
   "execution_count": 38,
   "id": "1e92d465-35dd-4f6d-8fdb-450a88f5137b",
   "metadata": {
    "tags": []
   },
   "outputs": [],
   "source": [
    "from_cp[\"dest_geometry\"] = np.nan\n",
    "from_cp['dest_geometry'] = from_cp['dest_geometry'].fillna(from_cp['destination_bgrp_2020'].map(blkgr_map))\n",
    "\n",
    "from_cp = from_cp.set_geometry(\"dest_geometry\")"
   ]
  },
  {
   "cell_type": "code",
   "execution_count": 39,
   "id": "e0dc0863-a3a3-4123-9e34-124012930868",
   "metadata": {},
   "outputs": [],
   "source": [
    "\n",
    "from_cp = from_cp.set_crs(4326)"
   ]
  },
  {
   "cell_type": "code",
   "execution_count": 40,
   "id": "899a47a1-7219-4cfe-a706-f26140f0aece",
   "metadata": {
    "tags": []
   },
   "outputs": [
    {
     "data": {
      "text/plain": [
       "array(['2 (Tract 10.02, Humboldt, CA)'], dtype=object)"
      ]
     },
     "execution_count": 40,
     "metadata": {},
     "output_type": "execute_result"
    }
   ],
   "source": [
    "from_cp['origin_bgrp_2020'].unique()\n",
    "\n",
    "# from_cp.destination_bgrp_2020.value_counts()"
   ]
  },
  {
   "cell_type": "code",
   "execution_count": 41,
   "id": "4f2e2015-3087-4920-bb04-217ec7ca12bf",
   "metadata": {
    "tags": []
   },
   "outputs": [],
   "source": [
    "from_cp_origins = from_cp['destination_bgrp_2020'].unique()"
   ]
  },
  {
   "cell_type": "code",
   "execution_count": null,
   "id": "badd83cc-bb85-4d1e-89c2-52524e52ff53",
   "metadata": {},
   "outputs": [],
   "source": []
  },
  {
   "cell_type": "code",
   "execution_count": 42,
   "id": "0444d9ff-e15d-474f-9eda-191a4acacb38",
   "metadata": {
    "tags": []
   },
   "outputs": [],
   "source": [
    "# (blkgr>>filter(_.geoname.isin(from_cp_origins))).explore()"
   ]
  },
  {
   "cell_type": "code",
   "execution_count": 43,
   "id": "c184f63a-de7d-4412-9ad4-2e61a5a670c2",
   "metadata": {
    "tags": []
   },
   "outputs": [],
   "source": [
    "# (blkgr>>filter(_.geoname.isin(from_cp_origins))).explore()"
   ]
  },
  {
   "cell_type": "code",
   "execution_count": null,
   "id": "8d5b8e71-fd03-4a83-8358-9f4fbe6c8713",
   "metadata": {},
   "outputs": [],
   "source": []
  },
  {
   "cell_type": "code",
   "execution_count": 44,
   "id": "3d2b09b9-6e31-4a4a-a186-dbe9130aeb8a",
   "metadata": {
    "tags": []
   },
   "outputs": [
    {
     "data": {
      "text/html": [
       "<div>\n",
       "<style scoped>\n",
       "    .dataframe tbody tr th:only-of-type {\n",
       "        vertical-align: middle;\n",
       "    }\n",
       "\n",
       "    .dataframe tbody tr th {\n",
       "        vertical-align: top;\n",
       "    }\n",
       "\n",
       "    .dataframe thead th {\n",
       "        text-align: right;\n",
       "    }\n",
       "</style>\n",
       "<table border=\"1\" class=\"dataframe\">\n",
       "  <thead>\n",
       "    <tr style=\"text-align: right;\">\n",
       "      <th></th>\n",
       "      <th>activity_id</th>\n",
       "      <th>origin_bgrp_2020</th>\n",
       "      <th>origin_trct_2020</th>\n",
       "      <th>origin_cty_2020</th>\n",
       "      <th>origin_st_2020</th>\n",
       "      <th>destination_bgrp_2020</th>\n",
       "      <th>destination_trct_2020</th>\n",
       "      <th>destination_cty_2020</th>\n",
       "      <th>destination_st_2020</th>\n",
       "      <th>primary_mode</th>\n",
       "      <th>trip_purpose</th>\n",
       "      <th>previous_trip_purpose</th>\n",
       "      <th>trip_start_time</th>\n",
       "      <th>trip_end_time</th>\n",
       "      <th>trip_duration_minutes</th>\n",
       "      <th>trip_distance_miles</th>\n",
       "      <th>vehicle_type</th>\n",
       "      <th>vehicle_fuel_type</th>\n",
       "      <th>transit_submode</th>\n",
       "      <th>transit_agency</th>\n",
       "      <th>transit_route</th>\n",
       "      <th>origin_land_use</th>\n",
       "      <th>origin_building_use</th>\n",
       "      <th>destination_land_use</th>\n",
       "      <th>destination_building_use</th>\n",
       "      <th>trip_taker_person_id</th>\n",
       "      <th>trip_taker_household_id</th>\n",
       "      <th>trip_taker_age</th>\n",
       "      <th>trip_taker_sex</th>\n",
       "      <th>trip_taker_race_ethnicity</th>\n",
       "      <th>trip_taker_employment_status</th>\n",
       "      <th>trip_taker_wfh</th>\n",
       "      <th>trip_taker_individual_income</th>\n",
       "      <th>trip_taker_commute_mode</th>\n",
       "      <th>trip_taker_household_size</th>\n",
       "      <th>trip_taker_household_income</th>\n",
       "      <th>trip_taker_available_vehicles</th>\n",
       "      <th>trip_taker_resident_type</th>\n",
       "      <th>trip_taker_industry</th>\n",
       "      <th>trip_taker_building_type</th>\n",
       "      <th>trip_taker_school_grade_attending</th>\n",
       "      <th>trip_taker_education</th>\n",
       "      <th>trip_taker_tenure</th>\n",
       "      <th>trip_taker_language</th>\n",
       "      <th>trip_taker_home_bgrp_2020</th>\n",
       "      <th>trip_taker_home_trct_2020</th>\n",
       "      <th>trip_taker_home_cty_2020</th>\n",
       "      <th>trip_taker_home_st_2020</th>\n",
       "      <th>trip_taker_work_bgrp_2020</th>\n",
       "      <th>trip_taker_work_trct_2020</th>\n",
       "      <th>trip_taker_work_cty_2020</th>\n",
       "      <th>trip_taker_work_st_2020</th>\n",
       "      <th>dest_geometry</th>\n",
       "    </tr>\n",
       "  </thead>\n",
       "  <tbody>\n",
       "    <tr>\n",
       "      <th>10104</th>\n",
       "      <td>7013637034141322171</td>\n",
       "      <td>2 (Tract 10.02, Humboldt, CA)</td>\n",
       "      <td>10.02 (Humboldt, CA)</td>\n",
       "      <td>Humboldt County, CA</td>\n",
       "      <td>California</td>\n",
       "      <td>1 (Tract 9, Humboldt, CA)</td>\n",
       "      <td>9 (Humboldt, CA)</td>\n",
       "      <td>Humboldt County, CA</td>\n",
       "      <td>California</td>\n",
       "      <td>walking</td>\n",
       "      <td>social</td>\n",
       "      <td>work</td>\n",
       "      <td>12:40:00</td>\n",
       "      <td>13:11:59</td>\n",
       "      <td>31</td>\n",
       "      <td>1.7</td>\n",
       "      <td>unknown_vehicle_type</td>\n",
       "      <td>unknown_fuel_type</td>\n",
       "      <td>NaN</td>\n",
       "      <td>NaN</td>\n",
       "      <td>NaN</td>\n",
       "      <td>education</td>\n",
       "      <td>education</td>\n",
       "      <td>single_family</td>\n",
       "      <td>single_family</td>\n",
       "      <td>15002045775145497733</td>\n",
       "      <td>6677040420605694760</td>\n",
       "      <td>27.0</td>\n",
       "      <td>male</td>\n",
       "      <td>white_not_hispanic_or_latino</td>\n",
       "      <td>employed</td>\n",
       "      <td>in_person</td>\n",
       "      <td>46859.0</td>\n",
       "      <td>private_auto</td>\n",
       "      <td>2</td>\n",
       "      <td>51690.0</td>\n",
       "      <td>two</td>\n",
       "      <td>core</td>\n",
       "      <td>naics453210</td>\n",
       "      <td>single_family</td>\n",
       "      <td>not_attending_school</td>\n",
       "      <td>bachelors_degree</td>\n",
       "      <td>owner</td>\n",
       "      <td>english</td>\n",
       "      <td>2 (Tract 12, Humboldt, CA)</td>\n",
       "      <td>12 (Humboldt, CA)</td>\n",
       "      <td>Humboldt County, CA</td>\n",
       "      <td>California</td>\n",
       "      <td>2 (Tract 12, Humboldt, CA)</td>\n",
       "      <td>12 (Humboldt, CA)</td>\n",
       "      <td>Humboldt County, CA</td>\n",
       "      <td>California</td>\n",
       "      <td>POLYGON ((-124.07743 40.86590, -124.07728 40.8...</td>\n",
       "    </tr>\n",
       "  </tbody>\n",
       "</table>\n",
       "</div>"
      ],
      "text/plain": [
       "               activity_id               origin_bgrp_2020  \\\n",
       "10104  7013637034141322171  2 (Tract 10.02, Humboldt, CA)   \n",
       "\n",
       "           origin_trct_2020      origin_cty_2020 origin_st_2020  \\\n",
       "10104  10.02 (Humboldt, CA)  Humboldt County, CA     California   \n",
       "\n",
       "           destination_bgrp_2020 destination_trct_2020 destination_cty_2020  \\\n",
       "10104  1 (Tract 9, Humboldt, CA)      9 (Humboldt, CA)  Humboldt County, CA   \n",
       "\n",
       "      destination_st_2020 primary_mode trip_purpose previous_trip_purpose  \\\n",
       "10104          California      walking       social                  work   \n",
       "\n",
       "      trip_start_time trip_end_time  trip_duration_minutes  \\\n",
       "10104        12:40:00      13:11:59                     31   \n",
       "\n",
       "       trip_distance_miles          vehicle_type  vehicle_fuel_type  \\\n",
       "10104                  1.7  unknown_vehicle_type  unknown_fuel_type   \n",
       "\n",
       "      transit_submode transit_agency transit_route origin_land_use  \\\n",
       "10104             NaN            NaN           NaN       education   \n",
       "\n",
       "      origin_building_use destination_land_use destination_building_use  \\\n",
       "10104           education        single_family            single_family   \n",
       "\n",
       "       trip_taker_person_id trip_taker_household_id  trip_taker_age  \\\n",
       "10104  15002045775145497733     6677040420605694760            27.0   \n",
       "\n",
       "      trip_taker_sex     trip_taker_race_ethnicity  \\\n",
       "10104           male  white_not_hispanic_or_latino   \n",
       "\n",
       "      trip_taker_employment_status trip_taker_wfh  \\\n",
       "10104                     employed      in_person   \n",
       "\n",
       "       trip_taker_individual_income trip_taker_commute_mode  \\\n",
       "10104                       46859.0            private_auto   \n",
       "\n",
       "       trip_taker_household_size  trip_taker_household_income  \\\n",
       "10104                          2                      51690.0   \n",
       "\n",
       "      trip_taker_available_vehicles trip_taker_resident_type  \\\n",
       "10104                           two                     core   \n",
       "\n",
       "      trip_taker_industry trip_taker_building_type  \\\n",
       "10104         naics453210            single_family   \n",
       "\n",
       "      trip_taker_school_grade_attending trip_taker_education  \\\n",
       "10104              not_attending_school     bachelors_degree   \n",
       "\n",
       "      trip_taker_tenure trip_taker_language   trip_taker_home_bgrp_2020  \\\n",
       "10104             owner             english  2 (Tract 12, Humboldt, CA)   \n",
       "\n",
       "      trip_taker_home_trct_2020 trip_taker_home_cty_2020  \\\n",
       "10104         12 (Humboldt, CA)      Humboldt County, CA   \n",
       "\n",
       "      trip_taker_home_st_2020   trip_taker_work_bgrp_2020  \\\n",
       "10104              California  2 (Tract 12, Humboldt, CA)   \n",
       "\n",
       "      trip_taker_work_trct_2020 trip_taker_work_cty_2020  \\\n",
       "10104         12 (Humboldt, CA)      Humboldt County, CA   \n",
       "\n",
       "      trip_taker_work_st_2020  \\\n",
       "10104              California   \n",
       "\n",
       "                                           dest_geometry  \n",
       "10104  POLYGON ((-124.07743 40.86590, -124.07728 40.8...  "
      ]
     },
     "execution_count": 44,
     "metadata": {},
     "output_type": "execute_result"
    }
   ],
   "source": [
    "from_cp.sample()"
   ]
  },
  {
   "cell_type": "code",
   "execution_count": null,
   "id": "f0c2ee52-b383-49b5-b92d-00985ca5f539",
   "metadata": {},
   "outputs": [],
   "source": []
  },
  {
   "cell_type": "code",
   "execution_count": 45,
   "id": "4e105b41-c93d-4fc0-b4c5-958049f88b3e",
   "metadata": {
    "tags": []
   },
   "outputs": [
    {
     "data": {
      "text/html": [
       "<div style=\"width:100%;\"><div style=\"position:relative;width:100%;height:0;padding-bottom:60%;\"><span style=\"color:#565656\">Make this Notebook Trusted to load map: File -> Trust Notebook</span><iframe src=\"about:blank\" style=\"position:absolute;width:100%;height:100%;left:0;top:0;border:none !important;\" data-html=%3C%21DOCTYPE%20html%3E%0A%3Chead%3E%20%20%20%20%0A%20%20%20%20%3Cmeta%20http-equiv%3D%22content-type%22%20content%3D%22text/html%3B%20charset%3DUTF-8%22%20/%3E%0A%20%20%20%20%0A%20%20%20%20%20%20%20%20%3Cscript%3E%0A%20%20%20%20%20%20%20%20%20%20%20%20L_NO_TOUCH%20%3D%20false%3B%0A%20%20%20%20%20%20%20%20%20%20%20%20L_DISABLE_3D%20%3D%20false%3B%0A%20%20%20%20%20%20%20%20%3C/script%3E%0A%20%20%20%20%0A%20%20%20%20%3Cstyle%3Ehtml%2C%20body%20%7Bwidth%3A%20100%25%3Bheight%3A%20100%25%3Bmargin%3A%200%3Bpadding%3A%200%3B%7D%3C/style%3E%0A%20%20%20%20%3Cstyle%3E%23map%20%7Bposition%3Aabsolute%3Btop%3A0%3Bbottom%3A0%3Bright%3A0%3Bleft%3A0%3B%7D%3C/style%3E%0A%20%20%20%20%3Cscript%20src%3D%22https%3A//cdn.jsdelivr.net/npm/leaflet%401.6.0/dist/leaflet.js%22%3E%3C/script%3E%0A%20%20%20%20%3Cscript%20src%3D%22https%3A//code.jquery.com/jquery-1.12.4.min.js%22%3E%3C/script%3E%0A%20%20%20%20%3Cscript%20src%3D%22https%3A//maxcdn.bootstrapcdn.com/bootstrap/3.2.0/js/bootstrap.min.js%22%3E%3C/script%3E%0A%20%20%20%20%3Cscript%20src%3D%22https%3A//cdnjs.cloudflare.com/ajax/libs/Leaflet.awesome-markers/2.0.2/leaflet.awesome-markers.js%22%3E%3C/script%3E%0A%20%20%20%20%3Clink%20rel%3D%22stylesheet%22%20href%3D%22https%3A//cdn.jsdelivr.net/npm/leaflet%401.6.0/dist/leaflet.css%22/%3E%0A%20%20%20%20%3Clink%20rel%3D%22stylesheet%22%20href%3D%22https%3A//maxcdn.bootstrapcdn.com/bootstrap/3.2.0/css/bootstrap.min.css%22/%3E%0A%20%20%20%20%3Clink%20rel%3D%22stylesheet%22%20href%3D%22https%3A//maxcdn.bootstrapcdn.com/bootstrap/3.2.0/css/bootstrap-theme.min.css%22/%3E%0A%20%20%20%20%3Clink%20rel%3D%22stylesheet%22%20href%3D%22https%3A//maxcdn.bootstrapcdn.com/font-awesome/4.6.3/css/font-awesome.min.css%22/%3E%0A%20%20%20%20%3Clink%20rel%3D%22stylesheet%22%20href%3D%22https%3A//cdnjs.cloudflare.com/ajax/libs/Leaflet.awesome-markers/2.0.2/leaflet.awesome-markers.css%22/%3E%0A%20%20%20%20%3Clink%20rel%3D%22stylesheet%22%20href%3D%22https%3A//cdn.jsdelivr.net/gh/python-visualization/folium/folium/templates/leaflet.awesome.rotate.min.css%22/%3E%0A%20%20%20%20%0A%20%20%20%20%20%20%20%20%20%20%20%20%3Cmeta%20name%3D%22viewport%22%20content%3D%22width%3Ddevice-width%2C%0A%20%20%20%20%20%20%20%20%20%20%20%20%20%20%20%20initial-scale%3D1.0%2C%20maximum-scale%3D1.0%2C%20user-scalable%3Dno%22%20/%3E%0A%20%20%20%20%20%20%20%20%20%20%20%20%3Cstyle%3E%0A%20%20%20%20%20%20%20%20%20%20%20%20%20%20%20%20%23map_f2105cecfb6945f6ad2859bc658453be%20%7B%0A%20%20%20%20%20%20%20%20%20%20%20%20%20%20%20%20%20%20%20%20position%3A%20relative%3B%0A%20%20%20%20%20%20%20%20%20%20%20%20%20%20%20%20%20%20%20%20width%3A%20100.0%25%3B%0A%20%20%20%20%20%20%20%20%20%20%20%20%20%20%20%20%20%20%20%20height%3A%20100.0%25%3B%0A%20%20%20%20%20%20%20%20%20%20%20%20%20%20%20%20%20%20%20%20left%3A%200.0%25%3B%0A%20%20%20%20%20%20%20%20%20%20%20%20%20%20%20%20%20%20%20%20top%3A%200.0%25%3B%0A%20%20%20%20%20%20%20%20%20%20%20%20%20%20%20%20%7D%0A%20%20%20%20%20%20%20%20%20%20%20%20%3C/style%3E%0A%20%20%20%20%20%20%20%20%0A%20%20%20%20%0A%20%20%20%20%20%20%20%20%20%20%20%20%20%20%20%20%20%20%20%20%3Cstyle%3E%0A%20%20%20%20%20%20%20%20%20%20%20%20%20%20%20%20%20%20%20%20%20%20%20%20.foliumtooltip%20%7B%0A%20%20%20%20%20%20%20%20%20%20%20%20%20%20%20%20%20%20%20%20%20%20%20%20%20%20%20%20%0A%20%20%20%20%20%20%20%20%20%20%20%20%20%20%20%20%20%20%20%20%20%20%20%20%7D%0A%20%20%20%20%20%20%20%20%20%20%20%20%20%20%20%20%20%20%20%20%20%20%20.foliumtooltip%20table%7B%0A%20%20%20%20%20%20%20%20%20%20%20%20%20%20%20%20%20%20%20%20%20%20%20%20%20%20%20%20margin%3A%20auto%3B%0A%20%20%20%20%20%20%20%20%20%20%20%20%20%20%20%20%20%20%20%20%20%20%20%20%7D%0A%20%20%20%20%20%20%20%20%20%20%20%20%20%20%20%20%20%20%20%20%20%20%20%20.foliumtooltip%20tr%7B%0A%20%20%20%20%20%20%20%20%20%20%20%20%20%20%20%20%20%20%20%20%20%20%20%20%20%20%20%20text-align%3A%20left%3B%0A%20%20%20%20%20%20%20%20%20%20%20%20%20%20%20%20%20%20%20%20%20%20%20%20%7D%0A%20%20%20%20%20%20%20%20%20%20%20%20%20%20%20%20%20%20%20%20%20%20%20%20.foliumtooltip%20th%7B%0A%20%20%20%20%20%20%20%20%20%20%20%20%20%20%20%20%20%20%20%20%20%20%20%20%20%20%20%20padding%3A%202px%3B%20padding-right%3A%208px%3B%0A%20%20%20%20%20%20%20%20%20%20%20%20%20%20%20%20%20%20%20%20%20%20%20%20%7D%0A%20%20%20%20%20%20%20%20%20%20%20%20%20%20%20%20%20%20%20%20%3C/style%3E%0A%20%20%20%20%20%20%20%20%20%20%20%20%0A%3C/head%3E%0A%3Cbody%3E%20%20%20%20%0A%20%20%20%20%0A%20%20%20%20%20%20%20%20%20%20%20%20%3Cdiv%20class%3D%22folium-map%22%20id%3D%22map_f2105cecfb6945f6ad2859bc658453be%22%20%3E%3C/div%3E%0A%20%20%20%20%20%20%20%20%0A%3C/body%3E%0A%3Cscript%3E%20%20%20%20%0A%20%20%20%20%0A%20%20%20%20%20%20%20%20%20%20%20%20var%20map_f2105cecfb6945f6ad2859bc658453be%20%3D%20L.map%28%0A%20%20%20%20%20%20%20%20%20%20%20%20%20%20%20%20%22map_f2105cecfb6945f6ad2859bc658453be%22%2C%0A%20%20%20%20%20%20%20%20%20%20%20%20%20%20%20%20%7B%0A%20%20%20%20%20%20%20%20%20%20%20%20%20%20%20%20%20%20%20%20center%3A%20%5B40.875515%2C%20-124.07280850000001%5D%2C%0A%20%20%20%20%20%20%20%20%20%20%20%20%20%20%20%20%20%20%20%20crs%3A%20L.CRS.EPSG3857%2C%0A%20%20%20%20%20%20%20%20%20%20%20%20%20%20%20%20%20%20%20%20zoom%3A%2010%2C%0A%20%20%20%20%20%20%20%20%20%20%20%20%20%20%20%20%20%20%20%20zoomControl%3A%20true%2C%0A%20%20%20%20%20%20%20%20%20%20%20%20%20%20%20%20%20%20%20%20preferCanvas%3A%20false%2C%0A%20%20%20%20%20%20%20%20%20%20%20%20%20%20%20%20%7D%0A%20%20%20%20%20%20%20%20%20%20%20%20%29%3B%0A%20%20%20%20%20%20%20%20%20%20%20%20L.control.scale%28%29.addTo%28map_f2105cecfb6945f6ad2859bc658453be%29%3B%0A%0A%20%20%20%20%20%20%20%20%20%20%20%20%0A%0A%20%20%20%20%20%20%20%20%0A%20%20%20%20%0A%20%20%20%20%20%20%20%20%20%20%20%20var%20tile_layer_8e50763bc9724d3f9f73f1ac405e3fb3%20%3D%20L.tileLayer%28%0A%20%20%20%20%20%20%20%20%20%20%20%20%20%20%20%20%22https%3A//%7Bs%7D.tile.openstreetmap.org/%7Bz%7D/%7Bx%7D/%7By%7D.png%22%2C%0A%20%20%20%20%20%20%20%20%20%20%20%20%20%20%20%20%7B%22attribution%22%3A%20%22Data%20by%20%5Cu0026copy%3B%20%5Cu003ca%20href%3D%5C%22http%3A//openstreetmap.org%5C%22%5Cu003eOpenStreetMap%5Cu003c/a%5Cu003e%2C%20under%20%5Cu003ca%20href%3D%5C%22http%3A//www.openstreetmap.org/copyright%5C%22%5Cu003eODbL%5Cu003c/a%5Cu003e.%22%2C%20%22detectRetina%22%3A%20false%2C%20%22maxNativeZoom%22%3A%2018%2C%20%22maxZoom%22%3A%2018%2C%20%22minZoom%22%3A%200%2C%20%22noWrap%22%3A%20false%2C%20%22opacity%22%3A%201%2C%20%22subdomains%22%3A%20%22abc%22%2C%20%22tms%22%3A%20false%7D%0A%20%20%20%20%20%20%20%20%20%20%20%20%29.addTo%28map_f2105cecfb6945f6ad2859bc658453be%29%3B%0A%20%20%20%20%20%20%20%20%0A%20%20%20%20%0A%20%20%20%20%20%20%20%20%20%20%20%20map_f2105cecfb6945f6ad2859bc658453be.fitBounds%28%0A%20%20%20%20%20%20%20%20%20%20%20%20%20%20%20%20%5B%5B40.871064%2C%20-124.08254%5D%2C%20%5B40.879966%2C%20-124.063077%5D%5D%2C%0A%20%20%20%20%20%20%20%20%20%20%20%20%20%20%20%20%7B%7D%0A%20%20%20%20%20%20%20%20%20%20%20%20%29%3B%0A%20%20%20%20%20%20%20%20%0A%20%20%20%20%0A%20%20%20%20%20%20%20%20function%20geo_json_be5e39ab83d04a0ba5a615de13a9ed58_styler%28feature%29%20%7B%0A%20%20%20%20%20%20%20%20%20%20%20%20switch%28feature.id%29%20%7B%0A%20%20%20%20%20%20%20%20%20%20%20%20%20%20%20%20default%3A%0A%20%20%20%20%20%20%20%20%20%20%20%20%20%20%20%20%20%20%20%20return%20%7B%22fillOpacity%22%3A%200.5%2C%20%22weight%22%3A%202%7D%3B%0A%20%20%20%20%20%20%20%20%20%20%20%20%7D%0A%20%20%20%20%20%20%20%20%7D%0A%20%20%20%20%20%20%20%20function%20geo_json_be5e39ab83d04a0ba5a615de13a9ed58_highlighter%28feature%29%20%7B%0A%20%20%20%20%20%20%20%20%20%20%20%20switch%28feature.id%29%20%7B%0A%20%20%20%20%20%20%20%20%20%20%20%20%20%20%20%20default%3A%0A%20%20%20%20%20%20%20%20%20%20%20%20%20%20%20%20%20%20%20%20return%20%7B%22fillOpacity%22%3A%200.75%7D%3B%0A%20%20%20%20%20%20%20%20%20%20%20%20%7D%0A%20%20%20%20%20%20%20%20%7D%0A%20%20%20%20%20%20%20%20function%20geo_json_be5e39ab83d04a0ba5a615de13a9ed58_pointToLayer%28feature%2C%20latlng%29%20%7B%0A%20%20%20%20%20%20%20%20%20%20%20%20var%20opts%20%3D%20%7B%22bubblingMouseEvents%22%3A%20true%2C%20%22color%22%3A%20%22%233388ff%22%2C%20%22dashArray%22%3A%20null%2C%20%22dashOffset%22%3A%20null%2C%20%22fill%22%3A%20true%2C%20%22fillColor%22%3A%20%22%233388ff%22%2C%20%22fillOpacity%22%3A%200.2%2C%20%22fillRule%22%3A%20%22evenodd%22%2C%20%22lineCap%22%3A%20%22round%22%2C%20%22lineJoin%22%3A%20%22round%22%2C%20%22opacity%22%3A%201.0%2C%20%22radius%22%3A%202%2C%20%22stroke%22%3A%20true%2C%20%22weight%22%3A%203%7D%3B%0A%20%20%20%20%20%20%20%20%20%20%20%20%0A%20%20%20%20%20%20%20%20%20%20%20%20let%20style%20%3D%20geo_json_be5e39ab83d04a0ba5a615de13a9ed58_styler%28feature%29%0A%20%20%20%20%20%20%20%20%20%20%20%20Object.assign%28opts%2C%20style%29%0A%20%20%20%20%20%20%20%20%20%20%20%20%0A%20%20%20%20%20%20%20%20%20%20%20%20return%20new%20L.CircleMarker%28latlng%2C%20opts%29%0A%20%20%20%20%20%20%20%20%7D%0A%0A%20%20%20%20%20%20%20%20function%20geo_json_be5e39ab83d04a0ba5a615de13a9ed58_onEachFeature%28feature%2C%20layer%29%20%7B%0A%20%20%20%20%20%20%20%20%20%20%20%20layer.on%28%7B%0A%20%20%20%20%20%20%20%20%20%20%20%20%20%20%20%20mouseout%3A%20function%28e%29%20%7B%0A%20%20%20%20%20%20%20%20%20%20%20%20%20%20%20%20%20%20%20%20if%28typeof%20e.target.setStyle%20%3D%3D%3D%20%22function%22%29%7B%0A%20%20%20%20%20%20%20%20%20%20%20%20%20%20%20%20%20%20%20%20%20%20%20%20geo_json_be5e39ab83d04a0ba5a615de13a9ed58.resetStyle%28e.target%29%3B%0A%20%20%20%20%20%20%20%20%20%20%20%20%20%20%20%20%20%20%20%20%7D%0A%20%20%20%20%20%20%20%20%20%20%20%20%20%20%20%20%7D%2C%0A%20%20%20%20%20%20%20%20%20%20%20%20%20%20%20%20mouseover%3A%20function%28e%29%20%7B%0A%20%20%20%20%20%20%20%20%20%20%20%20%20%20%20%20%20%20%20%20if%28typeof%20e.target.setStyle%20%3D%3D%3D%20%22function%22%29%7B%0A%20%20%20%20%20%20%20%20%20%20%20%20%20%20%20%20%20%20%20%20%20%20%20%20const%20highlightStyle%20%3D%20geo_json_be5e39ab83d04a0ba5a615de13a9ed58_highlighter%28e.target.feature%29%0A%20%20%20%20%20%20%20%20%20%20%20%20%20%20%20%20%20%20%20%20%20%20%20%20e.target.setStyle%28highlightStyle%29%3B%0A%20%20%20%20%20%20%20%20%20%20%20%20%20%20%20%20%20%20%20%20%7D%0A%20%20%20%20%20%20%20%20%20%20%20%20%20%20%20%20%7D%2C%0A%20%20%20%20%20%20%20%20%20%20%20%20%7D%29%3B%0A%20%20%20%20%20%20%20%20%7D%3B%0A%20%20%20%20%20%20%20%20var%20geo_json_be5e39ab83d04a0ba5a615de13a9ed58%20%3D%20L.geoJson%28null%2C%20%7B%0A%20%20%20%20%20%20%20%20%20%20%20%20%20%20%20%20onEachFeature%3A%20geo_json_be5e39ab83d04a0ba5a615de13a9ed58_onEachFeature%2C%0A%20%20%20%20%20%20%20%20%20%20%20%20%0A%20%20%20%20%20%20%20%20%20%20%20%20%20%20%20%20style%3A%20geo_json_be5e39ab83d04a0ba5a615de13a9ed58_styler%2C%0A%20%20%20%20%20%20%20%20%20%20%20%20%20%20%20%20pointToLayer%3A%20geo_json_be5e39ab83d04a0ba5a615de13a9ed58_pointToLayer%0A%20%20%20%20%20%20%20%20%7D%29%3B%0A%0A%20%20%20%20%20%20%20%20function%20geo_json_be5e39ab83d04a0ba5a615de13a9ed58_add%20%28data%29%20%7B%0A%20%20%20%20%20%20%20%20%20%20%20%20geo_json_be5e39ab83d04a0ba5a615de13a9ed58%0A%20%20%20%20%20%20%20%20%20%20%20%20%20%20%20%20.addData%28data%29%0A%20%20%20%20%20%20%20%20%20%20%20%20%20%20%20%20.addTo%28map_f2105cecfb6945f6ad2859bc658453be%29%3B%0A%20%20%20%20%20%20%20%20%7D%0A%20%20%20%20%20%20%20%20%20%20%20%20geo_json_be5e39ab83d04a0ba5a615de13a9ed58_add%28%7B%22bbox%22%3A%20%5B-124.08254%2C%2040.871064%2C%20-124.063077%2C%2040.879966%5D%2C%20%22features%22%3A%20%5B%7B%22bbox%22%3A%20%5B-124.08254%2C%2040.871064%2C%20-124.063077%2C%2040.879966%5D%2C%20%22geometry%22%3A%20%7B%22coordinates%22%3A%20%5B%5B%5B-124.082519%2C%2040.875967%5D%2C%20%5B-124.082489%2C%2040.875713%5D%2C%20%5B-124.082369%2C%2040.874992%5D%2C%20%5B-124.082344%2C%2040.874837%5D%2C%20%5B-124.082238%2C%2040.8742%5D%2C%20%5B-124.082225%2C%2040.874084%5D%2C%20%5B-124.082167%2C%2040.873575%5D%2C%20%5B-124.082171%2C%2040.873213%5D%2C%20%5B-124.082173%2C%2040.873054%5D%2C%20%5B-124.082197%2C%2040.872702%5D%2C%20%5B-124.082238%2C%2040.872347%5D%2C%20%5B-124.081551%2C%2040.872185%5D%2C%20%5B-124.081219%2C%2040.872117%5D%2C%20%5B-124.080934%2C%2040.872057%5D%2C%20%5B-124.080623%2C%2040.871988%5D%2C%20%5B-124.080094%2C%2040.871873%5D%2C%20%5B-124.079053%2C%2040.871641%5D%2C%20%5B-124.07801%2C%2040.871414%5D%2C%20%5B-124.077777%2C%2040.871366%5D%2C%20%5B-124.076994%2C%2040.871185%5D%2C%20%5B-124.076315%2C%2040.871161%5D%2C%20%5B-124.075443%2C%2040.871082%5D%2C%20%5B-124.074246%2C%2040.871064%5D%2C%20%5B-124.074035%2C%2040.871081%5D%2C%20%5B-124.073673%2C%2040.871134%5D%2C%20%5B-124.073304%2C%2040.871208%5D%2C%20%5B-124.073132%2C%2040.871238%5D%2C%20%5B-124.072968%2C%2040.871255%5D%2C%20%5B-124.072715%2C%2040.871259%5D%2C%20%5B-124.07267%2C%2040.871257%5D%2C%20%5B-124.072588%2C%2040.871251%5D%2C%20%5B-124.072534%2C%2040.871235%5D%2C%20%5B-124.072505%2C%2040.871209%5D%2C%20%5B-124.07251%2C%2040.871137%5D%2C%20%5B-124.072489%2C%2040.871143%5D%2C%20%5B-124.072478%2C%2040.871151%5D%2C%20%5B-124.072321%2C%2040.871147%5D%2C%20%5B-124.071511%2C%2040.871101%5D%2C%20%5B-124.071541%2C%2040.871972%5D%2C%20%5B-124.063077%2C%2040.872605%5D%2C%20%5B-124.06315%2C%2040.873275%5D%2C%20%5B-124.065947%2C%2040.875619%5D%2C%20%5B-124.066035%2C%2040.875692%5D%2C%20%5B-124.066902%2C%2040.876419%5D%2C%20%5B-124.067009%2C%2040.876997%5D%2C%20%5B-124.067137%2C%2040.877629%5D%2C%20%5B-124.068131%2C%2040.877973%5D%2C%20%5B-124.068764%2C%2040.878065%5D%2C%20%5B-124.069667%2C%2040.877905%5D%2C%20%5B-124.071535%2C%2040.87722%5D%2C%20%5B-124.072138%2C%2040.877106%5D%2C%20%5B-124.072982%2C%2040.877312%5D%2C%20%5B-124.074179%2C%2040.877646%5D%2C%20%5B-124.074643%2C%2040.877775%5D%2C%20%5B-124.076986%2C%2040.878429%5D%2C%20%5B-124.077828%2C%2040.878664%5D%2C%20%5B-124.078201%2C%2040.878891%5D%2C%20%5B-124.078417%2C%2040.879023%5D%2C%20%5B-124.078755%2C%2040.879247%5D%2C%20%5B-124.079063%2C%2040.879424%5D%2C%20%5B-124.07923%2C%2040.879499%5D%2C%20%5B-124.079441%2C%2040.879561%5D%2C%20%5B-124.080217%2C%2040.879735%5D%2C%20%5B-124.080584%2C%2040.879798%5D%2C%20%5B-124.080738%2C%2040.879811%5D%2C%20%5B-124.080991%2C%2040.879818%5D%2C%20%5B-124.081339%2C%2040.879887%5D%2C%20%5B-124.081615%2C%2040.879942%5D%2C%20%5B-124.081734%2C%2040.879966%5D%2C%20%5B-124.081984%2C%2040.879261%5D%2C%20%5B-124.082153%2C%2040.878668%5D%2C%20%5B-124.082289%2C%2040.878402%5D%2C%20%5B-124.082402%2C%2040.877918%5D%2C%20%5B-124.082493%2C%2040.877418%5D%2C%20%5B-124.08254%2C%2040.876347%5D%2C%20%5B-124.082519%2C%2040.875967%5D%5D%5D%2C%20%22type%22%3A%20%22Polygon%22%7D%2C%20%22id%22%3A%20%229692%22%2C%20%22properties%22%3A%20%7B%22activity_id%22%3A%207669695696117839637%2C%20%22destination_bgrp_2020%22%3A%20%222%20%28Tract%2010.02%2C%20Humboldt%2C%20CA%29%22%2C%20%22destination_building_use%22%3A%20%22non_retail_attraction%22%2C%20%22destination_cty_2020%22%3A%20%22Humboldt%20County%2C%20CA%22%2C%20%22destination_land_use%22%3A%20%22non_retail_attraction%22%2C%20%22destination_st_2020%22%3A%20%22California%22%2C%20%22destination_trct_2020%22%3A%20%2210.02%20%28Humboldt%2C%20CA%29%22%2C%20%22origin_bgrp_2020%22%3A%20%222%20%28Tract%2010.02%2C%20Humboldt%2C%20CA%29%22%2C%20%22origin_building_use%22%3A%20%22retail%22%2C%20%22origin_cty_2020%22%3A%20%22Humboldt%20County%2C%20CA%22%2C%20%22origin_land_use%22%3A%20%22retail%22%2C%20%22origin_st_2020%22%3A%20%22California%22%2C%20%22origin_trct_2020%22%3A%20%2210.02%20%28Humboldt%2C%20CA%29%22%2C%20%22previous_trip_purpose%22%3A%20%22shop%22%2C%20%22primary_mode%22%3A%20%22private_auto%22%2C%20%22transit_agency%22%3A%20null%2C%20%22transit_route%22%3A%20null%2C%20%22transit_submode%22%3A%20null%2C%20%22trip_distance_miles%22%3A%200.7%2C%20%22trip_duration_minutes%22%3A%202%2C%20%22trip_end_time%22%3A%20%2217%3A24%3A28%22%2C%20%22trip_purpose%22%3A%20%22recreation%22%2C%20%22trip_start_time%22%3A%20%2217%3A22%3A00%22%2C%20%22trip_taker_age%22%3A%2019.0%2C%20%22trip_taker_available_vehicles%22%3A%20%22two%22%2C%20%22trip_taker_building_type%22%3A%20%22single_family%22%2C%20%22trip_taker_commute_mode%22%3A%20%22walking%22%2C%20%22trip_taker_education%22%3A%20%22some_college%22%2C%20%22trip_taker_employment_status%22%3A%20%22employed%22%2C%20%22trip_taker_home_bgrp_2020%22%3A%20%222%20%28Tract%20107.02%2C%20Humboldt%2C%20CA%29%22%2C%20%22trip_taker_home_cty_2020%22%3A%20%22Humboldt%20County%2C%20CA%22%2C%20%22trip_taker_home_st_2020%22%3A%20%22California%22%2C%20%22trip_taker_home_trct_2020%22%3A%20%22107.02%20%28Humboldt%2C%20CA%29%22%2C%20%22trip_taker_household_id%22%3A%20%222705890340967040031%22%2C%20%22trip_taker_household_income%22%3A%20126809.0%2C%20%22trip_taker_household_size%22%3A%204%2C%20%22trip_taker_individual_income%22%3A%2012077.0%2C%20%22trip_taker_industry%22%3A%20%22naics611110%22%2C%20%22trip_taker_language%22%3A%20%22spanish%22%2C%20%22trip_taker_person_id%22%3A%20%229083168989663491274%22%2C%20%22trip_taker_race_ethnicity%22%3A%20%22hispanic_or_latino_origin%22%2C%20%22trip_taker_resident_type%22%3A%20%22core%22%2C%20%22trip_taker_school_grade_attending%22%3A%20%22undergraduate%22%2C%20%22trip_taker_sex%22%3A%20%22male%22%2C%20%22trip_taker_tenure%22%3A%20%22renter%22%2C%20%22trip_taker_wfh%22%3A%20%22employed_not_working%22%2C%20%22trip_taker_work_bgrp_2020%22%3A%20%222%20%28Tract%20107.02%2C%20Humboldt%2C%20CA%29%22%2C%20%22trip_taker_work_cty_2020%22%3A%20%22Humboldt%20County%2C%20CA%22%2C%20%22trip_taker_work_st_2020%22%3A%20%22California%22%2C%20%22trip_taker_work_trct_2020%22%3A%20%22107.02%20%28Humboldt%2C%20CA%29%22%2C%20%22vehicle_fuel_type%22%3A%20%22other_non_bev%22%2C%20%22vehicle_type%22%3A%20%22unknown_vehicle_type%22%7D%2C%20%22type%22%3A%20%22Feature%22%7D%5D%2C%20%22type%22%3A%20%22FeatureCollection%22%7D%29%3B%0A%0A%20%20%20%20%20%20%20%20%0A%20%20%20%20%0A%20%20%20%20geo_json_be5e39ab83d04a0ba5a615de13a9ed58.bindTooltip%28%0A%20%20%20%20function%28layer%29%7B%0A%20%20%20%20let%20div%20%3D%20L.DomUtil.create%28%27div%27%29%3B%0A%20%20%20%20%0A%20%20%20%20let%20handleObject%20%3D%20feature%3D%3Etypeof%28feature%29%3D%3D%27object%27%20%3F%20JSON.stringify%28feature%29%20%3A%20feature%3B%0A%20%20%20%20let%20fields%20%3D%20%5B%22activity_id%22%2C%20%22origin_bgrp_2020%22%2C%20%22origin_trct_2020%22%2C%20%22origin_cty_2020%22%2C%20%22origin_st_2020%22%2C%20%22destination_bgrp_2020%22%2C%20%22destination_trct_2020%22%2C%20%22destination_cty_2020%22%2C%20%22destination_st_2020%22%2C%20%22primary_mode%22%2C%20%22trip_purpose%22%2C%20%22previous_trip_purpose%22%2C%20%22trip_start_time%22%2C%20%22trip_end_time%22%2C%20%22trip_duration_minutes%22%2C%20%22trip_distance_miles%22%2C%20%22vehicle_type%22%2C%20%22vehicle_fuel_type%22%2C%20%22transit_submode%22%2C%20%22transit_agency%22%2C%20%22transit_route%22%2C%20%22origin_land_use%22%2C%20%22origin_building_use%22%2C%20%22destination_land_use%22%2C%20%22destination_building_use%22%2C%20%22trip_taker_person_id%22%2C%20%22trip_taker_household_id%22%2C%20%22trip_taker_age%22%2C%20%22trip_taker_sex%22%2C%20%22trip_taker_race_ethnicity%22%2C%20%22trip_taker_employment_status%22%2C%20%22trip_taker_wfh%22%2C%20%22trip_taker_individual_income%22%2C%20%22trip_taker_commute_mode%22%2C%20%22trip_taker_household_size%22%2C%20%22trip_taker_household_income%22%2C%20%22trip_taker_available_vehicles%22%2C%20%22trip_taker_resident_type%22%2C%20%22trip_taker_industry%22%2C%20%22trip_taker_building_type%22%2C%20%22trip_taker_school_grade_attending%22%2C%20%22trip_taker_education%22%2C%20%22trip_taker_tenure%22%2C%20%22trip_taker_language%22%2C%20%22trip_taker_home_bgrp_2020%22%2C%20%22trip_taker_home_trct_2020%22%2C%20%22trip_taker_home_cty_2020%22%2C%20%22trip_taker_home_st_2020%22%2C%20%22trip_taker_work_bgrp_2020%22%2C%20%22trip_taker_work_trct_2020%22%2C%20%22trip_taker_work_cty_2020%22%2C%20%22trip_taker_work_st_2020%22%5D%3B%0A%20%20%20%20let%20aliases%20%3D%20%5B%22activity_id%22%2C%20%22origin_bgrp_2020%22%2C%20%22origin_trct_2020%22%2C%20%22origin_cty_2020%22%2C%20%22origin_st_2020%22%2C%20%22destination_bgrp_2020%22%2C%20%22destination_trct_2020%22%2C%20%22destination_cty_2020%22%2C%20%22destination_st_2020%22%2C%20%22primary_mode%22%2C%20%22trip_purpose%22%2C%20%22previous_trip_purpose%22%2C%20%22trip_start_time%22%2C%20%22trip_end_time%22%2C%20%22trip_duration_minutes%22%2C%20%22trip_distance_miles%22%2C%20%22vehicle_type%22%2C%20%22vehicle_fuel_type%22%2C%20%22transit_submode%22%2C%20%22transit_agency%22%2C%20%22transit_route%22%2C%20%22origin_land_use%22%2C%20%22origin_building_use%22%2C%20%22destination_land_use%22%2C%20%22destination_building_use%22%2C%20%22trip_taker_person_id%22%2C%20%22trip_taker_household_id%22%2C%20%22trip_taker_age%22%2C%20%22trip_taker_sex%22%2C%20%22trip_taker_race_ethnicity%22%2C%20%22trip_taker_employment_status%22%2C%20%22trip_taker_wfh%22%2C%20%22trip_taker_individual_income%22%2C%20%22trip_taker_commute_mode%22%2C%20%22trip_taker_household_size%22%2C%20%22trip_taker_household_income%22%2C%20%22trip_taker_available_vehicles%22%2C%20%22trip_taker_resident_type%22%2C%20%22trip_taker_industry%22%2C%20%22trip_taker_building_type%22%2C%20%22trip_taker_school_grade_attending%22%2C%20%22trip_taker_education%22%2C%20%22trip_taker_tenure%22%2C%20%22trip_taker_language%22%2C%20%22trip_taker_home_bgrp_2020%22%2C%20%22trip_taker_home_trct_2020%22%2C%20%22trip_taker_home_cty_2020%22%2C%20%22trip_taker_home_st_2020%22%2C%20%22trip_taker_work_bgrp_2020%22%2C%20%22trip_taker_work_trct_2020%22%2C%20%22trip_taker_work_cty_2020%22%2C%20%22trip_taker_work_st_2020%22%5D%3B%0A%20%20%20%20let%20table%20%3D%20%27%3Ctable%3E%27%20%2B%0A%20%20%20%20%20%20%20%20String%28%0A%20%20%20%20%20%20%20%20fields.map%28%0A%20%20%20%20%20%20%20%20%28v%2Ci%29%3D%3E%0A%20%20%20%20%20%20%20%20%60%3Ctr%3E%0A%20%20%20%20%20%20%20%20%20%20%20%20%3Cth%3E%24%7Baliases%5Bi%5D%7D%3C/th%3E%0A%20%20%20%20%20%20%20%20%20%20%20%20%0A%20%20%20%20%20%20%20%20%20%20%20%20%3Ctd%3E%24%7BhandleObject%28layer.feature.properties%5Bv%5D%29%7D%3C/td%3E%0A%20%20%20%20%20%20%20%20%3C/tr%3E%60%29.join%28%27%27%29%29%0A%20%20%20%20%2B%27%3C/table%3E%27%3B%0A%20%20%20%20div.innerHTML%3Dtable%3B%0A%20%20%20%20%0A%20%20%20%20return%20div%0A%20%20%20%20%7D%0A%20%20%20%20%2C%7B%22className%22%3A%20%22foliumtooltip%22%2C%20%22sticky%22%3A%20true%7D%29%3B%0A%20%20%20%20%20%20%20%20%20%20%20%20%20%20%20%20%20%20%20%20%20%0A%3C/script%3E onload=\"this.contentDocument.open();this.contentDocument.write(    decodeURIComponent(this.getAttribute('data-html')));this.contentDocument.close();\" allowfullscreen webkitallowfullscreen mozallowfullscreen></iframe></div></div>"
      ],
      "text/plain": [
       "<folium.folium.Map at 0x793f44dc3950>"
      ]
     },
     "execution_count": 45,
     "metadata": {},
     "output_type": "execute_result"
    }
   ],
   "source": [
    "(from_cp.sample()).explore()"
   ]
  },
  {
   "cell_type": "code",
   "execution_count": null,
   "id": "c089303a-4cf0-41af-b4f1-f0f3acdabe6f",
   "metadata": {},
   "outputs": [],
   "source": []
  },
  {
   "cell_type": "code",
   "execution_count": 46,
   "id": "95deaec0-8504-4983-b8ad-efe2eb71b126",
   "metadata": {},
   "outputs": [],
   "source": [
    "df_list = [to_cp, from_cp]"
   ]
  },
  {
   "cell_type": "code",
   "execution_count": 47,
   "id": "340fbce1-988f-47ad-8ea0-ebcdad6878cd",
   "metadata": {
    "tags": []
   },
   "outputs": [],
   "source": [
    "to_cp['df_name'] = 'Traveling To Cal Poly'\n",
    "from_cp['df_name'] = 'Traveling From Cal Poly'"
   ]
  },
  {
   "cell_type": "code",
   "execution_count": 48,
   "id": "f86ffb1e-6c25-40ce-b707-d4567e26057e",
   "metadata": {
    "tags": []
   },
   "outputs": [],
   "source": [
    "from_cp_name = from_cp.loc[0, 'df_name']"
   ]
  },
  {
   "cell_type": "code",
   "execution_count": null,
   "id": "63f3330a-6df1-4253-9760-8cdbab26df9c",
   "metadata": {
    "tags": []
   },
   "outputs": [],
   "source": []
  },
  {
   "cell_type": "code",
   "execution_count": null,
   "id": "ca81d1d8-ebb9-4e62-bfb5-2648dee43b00",
   "metadata": {},
   "outputs": [],
   "source": []
  },
  {
   "cell_type": "code",
   "execution_count": 58,
   "id": "82db3f5f-3746-4770-9146-cb51849e3b8c",
   "metadata": {},
   "outputs": [],
   "source": [
    "def return_score_summary(df_list):\n",
    "\n",
    "    results = []\n",
    "\n",
    "    for df in df_list:\n",
    "        \n",
    "        df_name_ = df.loc[0, 'df_name']\n",
    "        \n",
    "        auto_df = (df[df.primary_mode==\"private_auto\"])\n",
    "        transit_df = (df[df.primary_mode==\"public_transit\"])\n",
    "\n",
    "        all_trip_count = len(df)\n",
    "\n",
    "        n_total_trips = len(df)\n",
    "        n_private_auto_trips = len(auto_df)\n",
    "        pct_private_auto_trips = ((len(auto_df)) / (len(df)))\n",
    "        n_public_transit_trips = (len(transit_df))\n",
    "        pct_public_transit_trips = ((len(transit_df)) / (len(df)))\n",
    "\n",
    "        auto_mean_min, auto_median_min, auto_mean_miles, auto_median_miles, auto_max_min, auto_max_miles = replica_utils.calc_auto_travel_info(df)\n",
    "        transit_mean_min, transit_median_min, transit_mean_miles, transit_median_miles, transit_max_miles, transit_max_min = replica_utils.calc_transit_travel_info(df)\n",
    "\n",
    "                ## set up the table for all the results\n",
    "        results.append({\n",
    "                        'df_name': df_name_,\n",
    "                        'total_trips': n_total_trips,\n",
    "                        'n_auto_trips': n_private_auto_trips,\n",
    "                        'pct_auto_trips': pct_private_auto_trips,\n",
    "                        'n_tranist_trips': n_public_transit_trips,\n",
    "                        'pct_transit_trips': pct_public_transit_trips,\n",
    "                        'auto_mean_minutes': auto_mean_min,\n",
    "                        'auto_median_minutes': auto_median_min,\n",
    "                        'auto_max_minutes': auto_max_min, \n",
    "                        'auto_mean_miles': auto_mean_miles,\n",
    "                        'auto_median_miles': auto_median_miles,\n",
    "                        'auto_max_miles': auto_max_miles,\n",
    "                        'transit_mean_minutes': transit_mean_min,\n",
    "                        'transit_median_minutes': transit_median_min,\n",
    "                        'transit_max_minutes': transit_max_min,\n",
    "                        'transit_mean_miles': transit_mean_miles,\n",
    "                        'transit_median_miles': transit_median_miles,\n",
    "                        'transit_max_miles':transit_max_miles,\n",
    "\n",
    "                        })\n",
    "\n",
    "    result_summary = pd.DataFrame(results)   \n",
    "    \n",
    "    return result_summary\n"
   ]
  },
  {
   "cell_type": "code",
   "execution_count": 59,
   "id": "0e465712-3285-4448-a8eb-516adbd85054",
   "metadata": {},
   "outputs": [],
   "source": [
    "summary = return_score_summary(df_list)"
   ]
  },
  {
   "cell_type": "code",
   "execution_count": 60,
   "id": "96e974be-1fd5-4fe3-b74e-b24bf9dbeb8a",
   "metadata": {
    "tags": []
   },
   "outputs": [
    {
     "data": {
      "text/html": [
       "<div>\n",
       "<style scoped>\n",
       "    .dataframe tbody tr th:only-of-type {\n",
       "        vertical-align: middle;\n",
       "    }\n",
       "\n",
       "    .dataframe tbody tr th {\n",
       "        vertical-align: top;\n",
       "    }\n",
       "\n",
       "    .dataframe thead th {\n",
       "        text-align: right;\n",
       "    }\n",
       "</style>\n",
       "<table border=\"1\" class=\"dataframe\">\n",
       "  <thead>\n",
       "    <tr style=\"text-align: right;\">\n",
       "      <th></th>\n",
       "      <th>df_name</th>\n",
       "      <th>total_trips</th>\n",
       "      <th>n_auto_trips</th>\n",
       "      <th>pct_auto_trips</th>\n",
       "      <th>n_tranist_trips</th>\n",
       "      <th>pct_transit_trips</th>\n",
       "      <th>auto_mean_minutes</th>\n",
       "      <th>auto_median_minutes</th>\n",
       "      <th>auto_max_minutes</th>\n",
       "      <th>auto_mean_miles</th>\n",
       "      <th>auto_median_miles</th>\n",
       "      <th>auto_max_miles</th>\n",
       "      <th>transit_mean_minutes</th>\n",
       "      <th>transit_median_minutes</th>\n",
       "      <th>transit_max_minutes</th>\n",
       "      <th>transit_mean_miles</th>\n",
       "      <th>transit_median_miles</th>\n",
       "      <th>transit_max_miles</th>\n",
       "    </tr>\n",
       "  </thead>\n",
       "  <tbody>\n",
       "    <tr>\n",
       "      <th>0</th>\n",
       "      <td>Traveling To Cal Poly</td>\n",
       "      <td>16657</td>\n",
       "      <td>9544</td>\n",
       "      <td>0.572972</td>\n",
       "      <td>37</td>\n",
       "      <td>0.002221</td>\n",
       "      <td>12.679380</td>\n",
       "      <td>5.0</td>\n",
       "      <td>413</td>\n",
       "      <td>9.585425</td>\n",
       "      <td>2.0</td>\n",
       "      <td>393.5</td>\n",
       "      <td>30.054054</td>\n",
       "      <td>22.0</td>\n",
       "      <td>75</td>\n",
       "      <td>5.051351</td>\n",
       "      <td>2.6</td>\n",
       "      <td>14.1</td>\n",
       "    </tr>\n",
       "    <tr>\n",
       "      <th>1</th>\n",
       "      <td>Traveling From Cal Poly</td>\n",
       "      <td>16623</td>\n",
       "      <td>9179</td>\n",
       "      <td>0.552187</td>\n",
       "      <td>22</td>\n",
       "      <td>0.001323</td>\n",
       "      <td>14.812834</td>\n",
       "      <td>5.0</td>\n",
       "      <td>530</td>\n",
       "      <td>11.495370</td>\n",
       "      <td>1.9</td>\n",
       "      <td>549.1</td>\n",
       "      <td>25.409091</td>\n",
       "      <td>21.0</td>\n",
       "      <td>68</td>\n",
       "      <td>5.750000</td>\n",
       "      <td>4.3</td>\n",
       "      <td>15.7</td>\n",
       "    </tr>\n",
       "  </tbody>\n",
       "</table>\n",
       "</div>"
      ],
      "text/plain": [
       "                   df_name  total_trips  n_auto_trips  pct_auto_trips  \\\n",
       "0    Traveling To Cal Poly        16657          9544        0.572972   \n",
       "1  Traveling From Cal Poly        16623          9179        0.552187   \n",
       "\n",
       "   n_tranist_trips  pct_transit_trips  auto_mean_minutes  auto_median_minutes  \\\n",
       "0               37           0.002221          12.679380                  5.0   \n",
       "1               22           0.001323          14.812834                  5.0   \n",
       "\n",
       "   auto_max_minutes  auto_mean_miles  auto_median_miles  auto_max_miles  \\\n",
       "0               413         9.585425                2.0           393.5   \n",
       "1               530        11.495370                1.9           549.1   \n",
       "\n",
       "   transit_mean_minutes  transit_median_minutes  transit_max_minutes  \\\n",
       "0             30.054054                    22.0                   75   \n",
       "1             25.409091                    21.0                   68   \n",
       "\n",
       "   transit_mean_miles  transit_median_miles  transit_max_miles  \n",
       "0            5.051351                   2.6               14.1  \n",
       "1            5.750000                   4.3               15.7  "
      ]
     },
     "execution_count": 60,
     "metadata": {},
     "output_type": "execute_result"
    }
   ],
   "source": [
    "summary"
   ]
  },
  {
   "cell_type": "code",
   "execution_count": 53,
   "id": "9638d22e-00bf-4670-94c7-db9d82717c1f",
   "metadata": {},
   "outputs": [],
   "source": [
    "summary_to = summary[summary[\"df_name\"]== \"Traveling To Cal Poly\"]"
   ]
  },
  {
   "cell_type": "code",
   "execution_count": null,
   "id": "c07fed5d-3669-44c2-b29f-d6964ac19502",
   "metadata": {},
   "outputs": [],
   "source": []
  },
  {
   "cell_type": "code",
   "execution_count": 75,
   "id": "8aa1b8bc-4945-4b8b-91cb-ba56b5a01d0f",
   "metadata": {},
   "outputs": [],
   "source": [
    "summary_subset = summary[\n",
    "    [\n",
    "        \"df_name\",\n",
    "        \"pct_auto_trips\",\n",
    "        \"pct_transit_trips\",\n",
    "    ]\n",
    "]"
   ]
  },
  {
   "cell_type": "code",
   "execution_count": null,
   "id": "83805f31-7933-4ae9-89ea-89801b9f55e0",
   "metadata": {},
   "outputs": [],
   "source": []
  },
  {
   "cell_type": "code",
   "execution_count": 90,
   "id": "864ee80f-b808-46ae-923a-771852db47ae",
   "metadata": {
    "tags": []
   },
   "outputs": [
    {
     "data": {
      "text/plain": [
       "private_auto         9544\n",
       "walking              3933\n",
       "auto_passenger       2457\n",
       "biking                300\n",
       "other_travel_mode     254\n",
       "on_demand_auto         75\n",
       "commercial             57\n",
       "public_transit         37\n",
       "Name: primary_mode, dtype: int64"
      ]
     },
     "execution_count": 90,
     "metadata": {},
     "output_type": "execute_result"
    }
   ],
   "source": [
    "to_cp.primary_mode.value_counts()"
   ]
  },
  {
   "cell_type": "code",
   "execution_count": 96,
   "id": "fbc28053-a388-465f-bba4-142bfe717d30",
   "metadata": {
    "tags": []
   },
   "outputs": [],
   "source": [
    "mode_list = list(to_cp.primary_mode.unique())"
   ]
  },
  {
   "cell_type": "code",
   "execution_count": 97,
   "id": "c137c05c-17e6-46d7-a3dd-c954835449b9",
   "metadata": {
    "tags": []
   },
   "outputs": [
    {
     "data": {
      "text/plain": [
       "['commercial',\n",
       " 'auto_passenger',\n",
       " 'private_auto',\n",
       " 'walking',\n",
       " 'on_demand_auto',\n",
       " 'public_transit',\n",
       " 'other_travel_mode',\n",
       " 'biking']"
      ]
     },
     "execution_count": 97,
     "metadata": {},
     "output_type": "execute_result"
    }
   ],
   "source": [
    "mode_list"
   ]
  },
  {
   "cell_type": "code",
   "execution_count": null,
   "id": "7572ea56-0c3d-4242-b46e-f74aa85f1391",
   "metadata": {},
   "outputs": [],
   "source": []
  },
  {
   "cell_type": "code",
   "execution_count": null,
   "id": "e52330f5-0ec6-4258-8bd8-a7cfe35f7547",
   "metadata": {
    "tags": []
   },
   "outputs": [],
   "source": []
  },
  {
   "cell_type": "code",
   "execution_count": null,
   "id": "45f91605-0387-4726-b4c5-c18ee869557d",
   "metadata": {
    "tags": []
   },
   "outputs": [],
   "source": []
  },
  {
   "cell_type": "code",
   "execution_count": 107,
   "id": "97e9ca2f-e539-4fe3-949c-90a4508dad11",
   "metadata": {
    "tags": []
   },
   "outputs": [],
   "source": [
    "def get_mode_split(df):\n",
    "    \n",
    "    ##get list of unique modes that appear in the Replica Studio results\n",
    "\n",
    "    mode_list = list(df.primary_mode.unique())\n",
    "    \n",
    "    mode_pcts = []\n",
    "    \n",
    "    for mode in mode_list:\n",
    "        \n",
    "        df_copy = df.copy()\n",
    "        \n",
    "        df_name_ = df.loc[0, 'df_name']\n",
    "        \n",
    "        df_mode_subset = df_copy[df_copy[\"primary_mode\"] == mode ]\n",
    "        \n",
    "        n_trips = len(df_mode_subset)\n",
    "        pct_trips = ((len(df_mode_subset)) / (len(df)))\n",
    "        \n",
    "        mode_pcts.append({\n",
    "            'df_name': df_name_,\n",
    "            'mode': mode,\n",
    "            'pct_trips': pct_trips, \n",
    "            'total_trips': n_trips,\n",
    "        })\n",
    "        \n",
    "    mode_pcts_summary = pd.DataFrame(mode_pcts)\n",
    "    \n",
    "    return mode_pcts_summary"
   ]
  },
  {
   "cell_type": "code",
   "execution_count": 111,
   "id": "fd2ac6eb-0c77-4cfa-98e3-579656ab8e78",
   "metadata": {
    "tags": []
   },
   "outputs": [],
   "source": [
    "from_cp_mode = get_mode_split(from_cp)"
   ]
  },
  {
   "cell_type": "code",
   "execution_count": 112,
   "id": "a7d8f38a-416b-4528-82f8-f3055e3fec91",
   "metadata": {
    "tags": []
   },
   "outputs": [
    {
     "data": {
      "text/html": [
       "<div>\n",
       "<style scoped>\n",
       "    .dataframe tbody tr th:only-of-type {\n",
       "        vertical-align: middle;\n",
       "    }\n",
       "\n",
       "    .dataframe tbody tr th {\n",
       "        vertical-align: top;\n",
       "    }\n",
       "\n",
       "    .dataframe thead th {\n",
       "        text-align: right;\n",
       "    }\n",
       "</style>\n",
       "<table border=\"1\" class=\"dataframe\">\n",
       "  <thead>\n",
       "    <tr style=\"text-align: right;\">\n",
       "      <th></th>\n",
       "      <th>df_name</th>\n",
       "      <th>mode</th>\n",
       "      <th>pct_trips</th>\n",
       "      <th>total_trips</th>\n",
       "    </tr>\n",
       "  </thead>\n",
       "  <tbody>\n",
       "    <tr>\n",
       "      <th>0</th>\n",
       "      <td>Traveling From Cal Poly</td>\n",
       "      <td>commercial</td>\n",
       "      <td>0.004873</td>\n",
       "      <td>81</td>\n",
       "    </tr>\n",
       "    <tr>\n",
       "      <th>1</th>\n",
       "      <td>Traveling From Cal Poly</td>\n",
       "      <td>auto_passenger</td>\n",
       "      <td>0.181315</td>\n",
       "      <td>3014</td>\n",
       "    </tr>\n",
       "    <tr>\n",
       "      <th>2</th>\n",
       "      <td>Traveling From Cal Poly</td>\n",
       "      <td>private_auto</td>\n",
       "      <td>0.552187</td>\n",
       "      <td>9179</td>\n",
       "    </tr>\n",
       "    <tr>\n",
       "      <th>3</th>\n",
       "      <td>Traveling From Cal Poly</td>\n",
       "      <td>walking</td>\n",
       "      <td>0.221741</td>\n",
       "      <td>3686</td>\n",
       "    </tr>\n",
       "    <tr>\n",
       "      <th>4</th>\n",
       "      <td>Traveling From Cal Poly</td>\n",
       "      <td>public_transit</td>\n",
       "      <td>0.001323</td>\n",
       "      <td>22</td>\n",
       "    </tr>\n",
       "    <tr>\n",
       "      <th>5</th>\n",
       "      <td>Traveling From Cal Poly</td>\n",
       "      <td>other_travel_mode</td>\n",
       "      <td>0.017085</td>\n",
       "      <td>284</td>\n",
       "    </tr>\n",
       "    <tr>\n",
       "      <th>6</th>\n",
       "      <td>Traveling From Cal Poly</td>\n",
       "      <td>on_demand_auto</td>\n",
       "      <td>0.004091</td>\n",
       "      <td>68</td>\n",
       "    </tr>\n",
       "    <tr>\n",
       "      <th>7</th>\n",
       "      <td>Traveling From Cal Poly</td>\n",
       "      <td>biking</td>\n",
       "      <td>0.017386</td>\n",
       "      <td>289</td>\n",
       "    </tr>\n",
       "  </tbody>\n",
       "</table>\n",
       "</div>"
      ],
      "text/plain": [
       "                   df_name               mode  pct_trips  total_trips\n",
       "0  Traveling From Cal Poly         commercial   0.004873           81\n",
       "1  Traveling From Cal Poly     auto_passenger   0.181315         3014\n",
       "2  Traveling From Cal Poly       private_auto   0.552187         9179\n",
       "3  Traveling From Cal Poly            walking   0.221741         3686\n",
       "4  Traveling From Cal Poly     public_transit   0.001323           22\n",
       "5  Traveling From Cal Poly  other_travel_mode   0.017085          284\n",
       "6  Traveling From Cal Poly     on_demand_auto   0.004091           68\n",
       "7  Traveling From Cal Poly             biking   0.017386          289"
      ]
     },
     "execution_count": 112,
     "metadata": {},
     "output_type": "execute_result"
    }
   ],
   "source": [
    "from_cp_mode"
   ]
  },
  {
   "cell_type": "code",
   "execution_count": null,
   "id": "1a5952be-ebd1-47fe-ab35-6c4fab513a82",
   "metadata": {},
   "outputs": [],
   "source": []
  },
  {
   "cell_type": "code",
   "execution_count": null,
   "id": "8a4d4953-4c98-4fe9-b46a-8664f24579c7",
   "metadata": {},
   "outputs": [],
   "source": []
  },
  {
   "cell_type": "code",
   "execution_count": 110,
   "id": "810b67a7-29f5-41bc-a56d-0f9876b0767d",
   "metadata": {
    "tags": []
   },
   "outputs": [
    {
     "data": {
      "text/html": [
       "<div>\n",
       "<style scoped>\n",
       "    .dataframe tbody tr th:only-of-type {\n",
       "        vertical-align: middle;\n",
       "    }\n",
       "\n",
       "    .dataframe tbody tr th {\n",
       "        vertical-align: top;\n",
       "    }\n",
       "\n",
       "    .dataframe thead th {\n",
       "        text-align: right;\n",
       "    }\n",
       "</style>\n",
       "<table border=\"1\" class=\"dataframe\">\n",
       "  <thead>\n",
       "    <tr style=\"text-align: right;\">\n",
       "      <th></th>\n",
       "      <th>df_name</th>\n",
       "      <th>mode</th>\n",
       "      <th>pct_trips</th>\n",
       "      <th>total_trips</th>\n",
       "    </tr>\n",
       "  </thead>\n",
       "  <tbody>\n",
       "    <tr>\n",
       "      <th>0</th>\n",
       "      <td>Traveling To Cal Poly</td>\n",
       "      <td>commercial</td>\n",
       "      <td>0.003422</td>\n",
       "      <td>57</td>\n",
       "    </tr>\n",
       "    <tr>\n",
       "      <th>1</th>\n",
       "      <td>Traveling To Cal Poly</td>\n",
       "      <td>auto_passenger</td>\n",
       "      <td>0.147506</td>\n",
       "      <td>2457</td>\n",
       "    </tr>\n",
       "    <tr>\n",
       "      <th>2</th>\n",
       "      <td>Traveling To Cal Poly</td>\n",
       "      <td>private_auto</td>\n",
       "      <td>0.572972</td>\n",
       "      <td>9544</td>\n",
       "    </tr>\n",
       "    <tr>\n",
       "      <th>3</th>\n",
       "      <td>Traveling To Cal Poly</td>\n",
       "      <td>walking</td>\n",
       "      <td>0.236117</td>\n",
       "      <td>3933</td>\n",
       "    </tr>\n",
       "    <tr>\n",
       "      <th>4</th>\n",
       "      <td>Traveling To Cal Poly</td>\n",
       "      <td>on_demand_auto</td>\n",
       "      <td>0.004503</td>\n",
       "      <td>75</td>\n",
       "    </tr>\n",
       "    <tr>\n",
       "      <th>5</th>\n",
       "      <td>Traveling To Cal Poly</td>\n",
       "      <td>public_transit</td>\n",
       "      <td>0.002221</td>\n",
       "      <td>37</td>\n",
       "    </tr>\n",
       "    <tr>\n",
       "      <th>6</th>\n",
       "      <td>Traveling To Cal Poly</td>\n",
       "      <td>other_travel_mode</td>\n",
       "      <td>0.015249</td>\n",
       "      <td>254</td>\n",
       "    </tr>\n",
       "    <tr>\n",
       "      <th>7</th>\n",
       "      <td>Traveling To Cal Poly</td>\n",
       "      <td>biking</td>\n",
       "      <td>0.018010</td>\n",
       "      <td>300</td>\n",
       "    </tr>\n",
       "  </tbody>\n",
       "</table>\n",
       "</div>"
      ],
      "text/plain": [
       "                 df_name               mode  pct_trips  total_trips\n",
       "0  Traveling To Cal Poly         commercial   0.003422           57\n",
       "1  Traveling To Cal Poly     auto_passenger   0.147506         2457\n",
       "2  Traveling To Cal Poly       private_auto   0.572972         9544\n",
       "3  Traveling To Cal Poly            walking   0.236117         3933\n",
       "4  Traveling To Cal Poly     on_demand_auto   0.004503           75\n",
       "5  Traveling To Cal Poly     public_transit   0.002221           37\n",
       "6  Traveling To Cal Poly  other_travel_mode   0.015249          254\n",
       "7  Traveling To Cal Poly             biking   0.018010          300"
      ]
     },
     "execution_count": 110,
     "metadata": {},
     "output_type": "execute_result"
    }
   ],
   "source": [
    "get_mode_split(to_cp)"
   ]
  },
  {
   "cell_type": "code",
   "execution_count": null,
   "id": "c4549452-383e-4868-9326-a40cf29a0d81",
   "metadata": {},
   "outputs": [],
   "source": []
  },
  {
   "cell_type": "code",
   "execution_count": null,
   "id": "7da5b50e-975d-42d9-b551-aa216bf9b741",
   "metadata": {},
   "outputs": [],
   "source": []
  },
  {
   "cell_type": "code",
   "execution_count": 79,
   "id": "e6561b91-e9f8-4c30-962c-7084b65172c3",
   "metadata": {},
   "outputs": [
    {
     "data": {
      "text/html": [
       "<div>\n",
       "<style scoped>\n",
       "    .dataframe tbody tr th:only-of-type {\n",
       "        vertical-align: middle;\n",
       "    }\n",
       "\n",
       "    .dataframe tbody tr th {\n",
       "        vertical-align: top;\n",
       "    }\n",
       "\n",
       "    .dataframe thead th {\n",
       "        text-align: right;\n",
       "    }\n",
       "</style>\n",
       "<table border=\"1\" class=\"dataframe\">\n",
       "  <thead>\n",
       "    <tr style=\"text-align: right;\">\n",
       "      <th></th>\n",
       "      <th>primary_mode</th>\n",
       "      <th>n</th>\n",
       "    </tr>\n",
       "  </thead>\n",
       "  <tbody>\n",
       "    <tr>\n",
       "      <th>5</th>\n",
       "      <td>private_auto</td>\n",
       "      <td>9544</td>\n",
       "    </tr>\n",
       "    <tr>\n",
       "      <th>7</th>\n",
       "      <td>walking</td>\n",
       "      <td>3933</td>\n",
       "    </tr>\n",
       "    <tr>\n",
       "      <th>0</th>\n",
       "      <td>auto_passenger</td>\n",
       "      <td>2457</td>\n",
       "    </tr>\n",
       "    <tr>\n",
       "      <th>1</th>\n",
       "      <td>biking</td>\n",
       "      <td>300</td>\n",
       "    </tr>\n",
       "    <tr>\n",
       "      <th>4</th>\n",
       "      <td>other_travel_mode</td>\n",
       "      <td>254</td>\n",
       "    </tr>\n",
       "    <tr>\n",
       "      <th>3</th>\n",
       "      <td>on_demand_auto</td>\n",
       "      <td>75</td>\n",
       "    </tr>\n",
       "    <tr>\n",
       "      <th>2</th>\n",
       "      <td>commercial</td>\n",
       "      <td>57</td>\n",
       "    </tr>\n",
       "    <tr>\n",
       "      <th>6</th>\n",
       "      <td>public_transit</td>\n",
       "      <td>37</td>\n",
       "    </tr>\n",
       "  </tbody>\n",
       "</table>\n",
       "</div>"
      ],
      "text/plain": [
       "        primary_mode     n\n",
       "5       private_auto  9544\n",
       "7            walking  3933\n",
       "0     auto_passenger  2457\n",
       "1             biking   300\n",
       "4  other_travel_mode   254\n",
       "3     on_demand_auto    75\n",
       "2         commercial    57\n",
       "6     public_transit    37"
      ]
     },
     "execution_count": 79,
     "metadata": {},
     "output_type": "execute_result"
    }
   ],
   "source": [
    "to_cp>>count(_.primary_mode)>>arrange(-_.n)"
   ]
  },
  {
   "cell_type": "code",
   "execution_count": null,
   "id": "abbad57b-8e2e-4960-b06d-9a3706d58014",
   "metadata": {},
   "outputs": [],
   "source": []
  },
  {
   "cell_type": "code",
   "execution_count": null,
   "id": "d0f73936-799c-4e96-9bca-8697d62317b7",
   "metadata": {},
   "outputs": [],
   "source": []
  },
  {
   "cell_type": "code",
   "execution_count": null,
   "id": "bcc7efbb-19b3-4919-8a0c-45dbc3c6cc0d",
   "metadata": {},
   "outputs": [],
   "source": []
  },
  {
   "cell_type": "code",
   "execution_count": null,
   "id": "41acc0ea-7c58-4bbf-9afc-bf5b0e63b8d7",
   "metadata": {},
   "outputs": [],
   "source": []
  },
  {
   "cell_type": "code",
   "execution_count": null,
   "id": "7d4b42b1-a87e-4ac7-ac15-8607e483c8d2",
   "metadata": {},
   "outputs": [],
   "source": []
  }
 ],
 "metadata": {
  "kernelspec": {
   "display_name": "Python 3 (ipykernel)",
   "language": "python",
   "name": "python3"
  },
  "language_info": {
   "codemirror_mode": {
    "name": "ipython",
    "version": 3
   },
   "file_extension": ".py",
   "mimetype": "text/x-python",
   "name": "python",
   "nbconvert_exporter": "python",
   "pygments_lexer": "ipython3",
   "version": "3.11.10"
  },
  "widgets": {
   "application/vnd.jupyter.widget-state+json": {
    "state": {},
    "version_major": 2,
    "version_minor": 0
   }
  }
 },
 "nbformat": 4,
 "nbformat_minor": 5
}
