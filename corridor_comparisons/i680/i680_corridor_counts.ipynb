{
 "cells": [
  {
   "cell_type": "markdown",
   "id": "010af6c3-a1b5-4502-83c9-e55294630474",
   "metadata": {},
   "source": [
    "# Corridor Comparison: I-680"
   ]
  },
  {
   "cell_type": "code",
   "execution_count": 1,
   "id": "bbc54ccc-16ba-4220-aa70-497f07d4a9eb",
   "metadata": {},
   "outputs": [],
   "source": [
    "import pandas as pd\n",
    "from siuba import *\n",
    "from calitp_data_analysis.sql import to_snakecase"
   ]
  },
  {
   "cell_type": "code",
   "execution_count": null,
   "id": "c704e80b-7feb-40c2-9ea1-f0e3d0dfac76",
   "metadata": {},
   "outputs": [],
   "source": []
  },
  {
   "cell_type": "markdown",
   "id": "16fdca88-e944-4b00-9416-4a8ecbfab179",
   "metadata": {
    "tags": []
   },
   "source": [
    "### Importing the data\n",
    "For this analysis, we need to read in data from:\n",
    "* Caltrans Traffic Census Program: Using 2022 AADT Data\n",
    "* Streetlight: Using Segment Analysis, Network Performance, and AADT for 2022\n",
    "* Replica: Using AADT Count Application"
   ]
  },
  {
   "cell_type": "code",
   "execution_count": 20,
   "id": "7074ae2d-d499-4bc9-ac8d-b3b7c0f2aa81",
   "metadata": {},
   "outputs": [],
   "source": [
    "ct_aadt = to_snakecase(pd.read_excel(\n",
    "    \"https://dot.ca.gov/-/media/dot-media/programs/traffic-operations/documents/census/2022/2022-traffic-volumes-ca.xlsx\",\n",
    "    sheet_name = \"2022 AADT DATA\"\n",
    "    ))"
   ]
  },
  {
   "cell_type": "code",
   "execution_count": 21,
   "id": "e645fb1e-5552-402d-b5ba-2745869f53bb",
   "metadata": {},
   "outputs": [
    {
     "data": {
      "text/html": [
       "<div>\n",
       "<style scoped>\n",
       "    .dataframe tbody tr th:only-of-type {\n",
       "        vertical-align: middle;\n",
       "    }\n",
       "\n",
       "    .dataframe tbody tr th {\n",
       "        vertical-align: top;\n",
       "    }\n",
       "\n",
       "    .dataframe thead th {\n",
       "        text-align: right;\n",
       "    }\n",
       "</style>\n",
       "<table border=\"1\" class=\"dataframe\">\n",
       "  <thead>\n",
       "    <tr style=\"text-align: right;\">\n",
       "      <th></th>\n",
       "      <th>district</th>\n",
       "      <th>route</th>\n",
       "      <th>route_sfx</th>\n",
       "      <th>county</th>\n",
       "      <th>pm_pfx</th>\n",
       "      <th>pm</th>\n",
       "      <th>pm_sfx</th>\n",
       "      <th>location_description</th>\n",
       "      <th>back_peak_hour</th>\n",
       "      <th>back_peak_madt</th>\n",
       "      <th>back_aadt</th>\n",
       "      <th>ahead_peak_hour</th>\n",
       "      <th>ahead_peak_madt</th>\n",
       "      <th>ahead_aadt</th>\n",
       "    </tr>\n",
       "  </thead>\n",
       "  <tbody>\n",
       "    <tr>\n",
       "      <th>3190</th>\n",
       "      <td>4</td>\n",
       "      <td>80</td>\n",
       "      <td>NaN</td>\n",
       "      <td>CC</td>\n",
       "      <td>NaN</td>\n",
       "      <td>0.0</td>\n",
       "      <td>NaN</td>\n",
       "      <td>ALAMEDA/CONTRA COSTA COUNTY LINE</td>\n",
       "      <td>NaN</td>\n",
       "      <td>NaN</td>\n",
       "      <td>NaN</td>\n",
       "      <td>12100.0</td>\n",
       "      <td>186000.0</td>\n",
       "      <td>181000.0</td>\n",
       "    </tr>\n",
       "  </tbody>\n",
       "</table>\n",
       "</div>"
      ],
      "text/plain": [
       "      district  route route_sfx county pm_pfx   pm pm_sfx  \\\n",
       "3190         4     80       NaN     CC    NaN  0.0    NaN   \n",
       "\n",
       "                  location_description  back_peak_hour  back_peak_madt  \\\n",
       "3190  ALAMEDA/CONTRA COSTA COUNTY LINE             NaN             NaN   \n",
       "\n",
       "      back_aadt  ahead_peak_hour  ahead_peak_madt  ahead_aadt  \n",
       "3190        NaN          12100.0         186000.0    181000.0  "
      ]
     },
     "execution_count": 21,
     "metadata": {},
     "output_type": "execute_result"
    }
   ],
   "source": [
    "ct_aadt.sample()"
   ]
  },
  {
   "cell_type": "code",
   "execution_count": null,
   "id": "4e652290-dbff-42c8-87ac-8a7d35a07be7",
   "metadata": {},
   "outputs": [],
   "source": []
  },
  {
   "cell_type": "code",
   "execution_count": 38,
   "id": "2c3b71fe-aa97-4287-b11e-7130c48c2c89",
   "metadata": {},
   "outputs": [],
   "source": [
    "## Streetlight AADT\n",
    "sl_aadt = to_snakecase(pd.read_csv(\"gs://calitp-analytics-data/data-analyses/big_data/i680/1751074_I680_AADT_Test_estimated_aadt.csv\"))"
   ]
  },
  {
   "cell_type": "code",
   "execution_count": 23,
   "id": "c81ccb07-dea7-41dc-b3af-84ad969dd044",
   "metadata": {},
   "outputs": [],
   "source": [
    "## Streetlight Network Performance Test\n",
    "sl_npt = to_snakecase(pd.read_csv(\"gs://calitp-analytics-data/data-analyses/big_data/i680/1751071_I680_network_performance_test_network_performance.csv\"))"
   ]
  },
  {
   "cell_type": "code",
   "execution_count": 24,
   "id": "7af3c278-6627-4ca0-8ac5-5fe196e867d4",
   "metadata": {},
   "outputs": [],
   "source": [
    "## Streetlight Segment Analysis\n",
    "sl_sa = to_snakecase(pd.read_csv(\"gs://calitp-analytics-data/data-analyses/big_data/i680/1751075_i680_Segment_Analysis_test_sa_all.csv\"))"
   ]
  },
  {
   "cell_type": "code",
   "execution_count": null,
   "id": "59db8599-de80-4f6a-bd2c-ff36351c121f",
   "metadata": {},
   "outputs": [],
   "source": []
  },
  {
   "cell_type": "code",
   "execution_count": null,
   "id": "49597f15-5b6c-428a-b457-32b6926e0f14",
   "metadata": {},
   "outputs": [],
   "source": []
  },
  {
   "cell_type": "code",
   "execution_count": 53,
   "id": "453bc057-b2bc-4a43-97bb-00b69e53ca23",
   "metadata": {},
   "outputs": [],
   "source": []
  },
  {
   "cell_type": "code",
   "execution_count": null,
   "id": "5d7b6e30-c7ef-4771-88f8-54e1dcec8fe3",
   "metadata": {},
   "outputs": [],
   "source": []
  },
  {
   "cell_type": "code",
   "execution_count": 26,
   "id": "92d9c576-1c5e-4ec0-a707-a3aed19d5ca1",
   "metadata": {},
   "outputs": [],
   "source": [
    "## Joining the streetlight segments so that all STreetlight Analyses are together"
   ]
  },
  {
   "cell_type": "code",
   "execution_count": null,
   "id": "194258c6-287f-4390-9fd6-a8db01cedb78",
   "metadata": {},
   "outputs": [],
   "source": []
  },
  {
   "cell_type": "code",
   "execution_count": 39,
   "id": "b4250622-aab0-4c20-bbe0-c773eeb8b626",
   "metadata": {},
   "outputs": [],
   "source": [
    "sl_aadt = (sl_aadt>>select(_.data_periods, _.zone_id, _.zone_name,\n",
    "                           _.estimated_2022_aadt, _.lower_95_percent_prediction_interval,\n",
    "                           _.upper_95_percent_prediction_interval))"
   ]
  },
  {
   "cell_type": "code",
   "execution_count": 40,
   "id": "5fd8c90e-5390-4519-8fed-65be1b7a24cb",
   "metadata": {},
   "outputs": [],
   "source": [
    "sl_aadt.columns = ['aadt_' + str(col) for col in sl_aadt.columns]\n"
   ]
  },
  {
   "cell_type": "code",
   "execution_count": null,
   "id": "a15180db-ed55-4047-a260-038d4011059a",
   "metadata": {},
   "outputs": [],
   "source": []
  },
  {
   "cell_type": "code",
   "execution_count": 30,
   "id": "4316cdb0-0850-4898-be82-b9aff1e01737",
   "metadata": {},
   "outputs": [],
   "source": [
    "sl_npt = (sl_npt>>filter(_.day_part==\"0: All Day (12am-12am)\")>>select(_.data_periods, _.zone_name, _.zone_id,\n",
    "                                            _.average_daily_segment_traffic__stl_volume_))"
   ]
  },
  {
   "cell_type": "code",
   "execution_count": 42,
   "id": "795f7879-bb2c-45e3-9d64-1813a124b4f3",
   "metadata": {},
   "outputs": [],
   "source": [
    "sl_npt.columns = ['npt_' + str(col) for col in sl_npt.columns]"
   ]
  },
  {
   "cell_type": "code",
   "execution_count": null,
   "id": "babc5a42-16ab-4da6-b854-2125ae2f95e9",
   "metadata": {},
   "outputs": [],
   "source": []
  },
  {
   "cell_type": "code",
   "execution_count": null,
   "id": "0fa160f0-d8b8-4821-a637-2d0b8b4f3db3",
   "metadata": {},
   "outputs": [],
   "source": [
    "sl_sa = ((sl_sa>>filter(_.day_part==\"0: All Day (12am-12am)\")>>select(_.data_periods, _.zone_id, \n",
    "                                                                    _.zone_name,\n",
    "                                                                     _.average_daily_segment_traffic__stl_volume_)))"
   ]
  },
  {
   "cell_type": "code",
   "execution_count": 55,
   "id": "000a4b55-0e68-4162-a334-5cb4d2f4dc51",
   "metadata": {},
   "outputs": [],
   "source": [
    "sl_sa.columns = ['sa' + str(col) for col in sl_sa.columns]"
   ]
  },
  {
   "cell_type": "code",
   "execution_count": null,
   "id": "b4689dcf-5e48-4a90-97db-31a1c34b4760",
   "metadata": {},
   "outputs": [],
   "source": []
  },
  {
   "cell_type": "code",
   "execution_count": 58,
   "id": "4455455d-1cd8-4012-a313-b6767d4b9452",
   "metadata": {},
   "outputs": [
    {
     "data": {
      "text/html": [
       "<div>\n",
       "<style scoped>\n",
       "    .dataframe tbody tr th:only-of-type {\n",
       "        vertical-align: middle;\n",
       "    }\n",
       "\n",
       "    .dataframe tbody tr th {\n",
       "        vertical-align: top;\n",
       "    }\n",
       "\n",
       "    .dataframe thead th {\n",
       "        text-align: right;\n",
       "    }\n",
       "</style>\n",
       "<table border=\"1\" class=\"dataframe\">\n",
       "  <thead>\n",
       "    <tr style=\"text-align: right;\">\n",
       "      <th></th>\n",
       "      <th>aadt_data_periods</th>\n",
       "      <th>aadt_zone_id</th>\n",
       "      <th>aadt_zone_name</th>\n",
       "      <th>aadt_estimated_2022_aadt</th>\n",
       "      <th>aadt_lower_95_percent_prediction_interval</th>\n",
       "      <th>aadt_upper_95_percent_prediction_interval</th>\n",
       "      <th>npt_data_periods</th>\n",
       "      <th>npt_zone_name</th>\n",
       "      <th>npt_zone_id</th>\n",
       "      <th>npt_average_daily_segment_traffic__stl_volume_</th>\n",
       "    </tr>\n",
       "  </thead>\n",
       "  <tbody>\n",
       "    <tr>\n",
       "      <th>0</th>\n",
       "      <td>Jan 01, 2022 - Dec 31, 2022</td>\n",
       "      <td>NaN</td>\n",
       "      <td>Benicia-Martinez Bridge / 123867334 / 1</td>\n",
       "      <td>39493</td>\n",
       "      <td>31800</td>\n",
       "      <td>48800</td>\n",
       "      <td>Oct 01, 2021 - Sep 30, 2022</td>\n",
       "      <td>Benicia-Martinez Bridge / 123867334 / 1</td>\n",
       "      <td>NaN</td>\n",
       "      <td>35593</td>\n",
       "    </tr>\n",
       "    <tr>\n",
       "      <th>1</th>\n",
       "      <td>Jan 01, 2022 - Dec 31, 2022</td>\n",
       "      <td>NaN</td>\n",
       "      <td>Benicia-Martinez Bridge / 439915393 / 1</td>\n",
       "      <td>38653</td>\n",
       "      <td>31100</td>\n",
       "      <td>47800</td>\n",
       "      <td>Oct 01, 2021 - Sep 30, 2022</td>\n",
       "      <td>Benicia-Martinez Bridge / 439915393 / 1</td>\n",
       "      <td>NaN</td>\n",
       "      <td>35465</td>\n",
       "    </tr>\n",
       "    <tr>\n",
       "      <th>2</th>\n",
       "      <td>Jan 01, 2022 - Dec 31, 2022</td>\n",
       "      <td>NaN</td>\n",
       "      <td>Benicia-Martinez Bridge / 4968908 / 1</td>\n",
       "      <td>57224</td>\n",
       "      <td>46500</td>\n",
       "      <td>69000</td>\n",
       "      <td>Oct 01, 2021 - Sep 30, 2022</td>\n",
       "      <td>Benicia-Martinez Bridge / 4968908 / 1</td>\n",
       "      <td>NaN</td>\n",
       "      <td>57498</td>\n",
       "    </tr>\n",
       "    <tr>\n",
       "      <th>3</th>\n",
       "      <td>Jan 01, 2022 - Dec 31, 2022</td>\n",
       "      <td>NaN</td>\n",
       "      <td>Benicia-Martinez Bridge / 52000448 / 1</td>\n",
       "      <td>60529</td>\n",
       "      <td>49200</td>\n",
       "      <td>73000</td>\n",
       "      <td>Oct 01, 2021 - Sep 30, 2022</td>\n",
       "      <td>Benicia-Martinez Bridge / 52000448 / 1</td>\n",
       "      <td>NaN</td>\n",
       "      <td>61440</td>\n",
       "    </tr>\n",
       "    <tr>\n",
       "      <th>4</th>\n",
       "      <td>Jan 01, 2022 - Dec 31, 2022</td>\n",
       "      <td>NaN</td>\n",
       "      <td>Benicia-Martinez Bridge / 8703049 / 1</td>\n",
       "      <td>38663</td>\n",
       "      <td>31100</td>\n",
       "      <td>47800</td>\n",
       "      <td>Oct 01, 2021 - Sep 30, 2022</td>\n",
       "      <td>Benicia-Martinez Bridge / 8703049 / 1</td>\n",
       "      <td>NaN</td>\n",
       "      <td>35173</td>\n",
       "    </tr>\n",
       "    <tr>\n",
       "      <th>...</th>\n",
       "      <td>...</td>\n",
       "      <td>...</td>\n",
       "      <td>...</td>\n",
       "      <td>...</td>\n",
       "      <td>...</td>\n",
       "      <td>...</td>\n",
       "      <td>...</td>\n",
       "      <td>...</td>\n",
       "      <td>...</td>\n",
       "      <td>...</td>\n",
       "    </tr>\n",
       "    <tr>\n",
       "      <th>556</th>\n",
       "      <td>Jan 01, 2022 - Dec 31, 2022</td>\n",
       "      <td>NaN</td>\n",
       "      <td>Sinclair Freeway / 961140461 / 1</td>\n",
       "      <td>84762</td>\n",
       "      <td>70000</td>\n",
       "      <td>99800</td>\n",
       "      <td>Oct 01, 2021 - Sep 30, 2022</td>\n",
       "      <td>Sinclair Freeway / 961140461 / 1</td>\n",
       "      <td>NaN</td>\n",
       "      <td>88248</td>\n",
       "    </tr>\n",
       "    <tr>\n",
       "      <th>557</th>\n",
       "      <td>Jan 01, 2022 - Dec 31, 2022</td>\n",
       "      <td>NaN</td>\n",
       "      <td>Sinclair Freeway / 961140462 / 1</td>\n",
       "      <td>88021</td>\n",
       "      <td>72700</td>\n",
       "      <td>103600</td>\n",
       "      <td>Oct 01, 2021 - Sep 30, 2022</td>\n",
       "      <td>Sinclair Freeway / 961140462 / 1</td>\n",
       "      <td>NaN</td>\n",
       "      <td>95175</td>\n",
       "    </tr>\n",
       "    <tr>\n",
       "      <th>558</th>\n",
       "      <td>Jan 01, 2022 - Dec 31, 2022</td>\n",
       "      <td>NaN</td>\n",
       "      <td>Sinclair Freeway / 961140463 / 1</td>\n",
       "      <td>87816</td>\n",
       "      <td>72500</td>\n",
       "      <td>103400</td>\n",
       "      <td>Oct 01, 2021 - Sep 30, 2022</td>\n",
       "      <td>Sinclair Freeway / 961140463 / 1</td>\n",
       "      <td>NaN</td>\n",
       "      <td>80341</td>\n",
       "    </tr>\n",
       "    <tr>\n",
       "      <th>559</th>\n",
       "      <td>Jan 01, 2022 - Dec 31, 2022</td>\n",
       "      <td>NaN</td>\n",
       "      <td>Sinclair Freeway / 986291461 / 1</td>\n",
       "      <td>57891</td>\n",
       "      <td>47000</td>\n",
       "      <td>69800</td>\n",
       "      <td>Oct 01, 2021 - Sep 30, 2022</td>\n",
       "      <td>Sinclair Freeway / 986291461 / 1</td>\n",
       "      <td>NaN</td>\n",
       "      <td>48800</td>\n",
       "    </tr>\n",
       "    <tr>\n",
       "      <th>560</th>\n",
       "      <td>Jan 01, 2022 - Dec 31, 2022</td>\n",
       "      <td>NaN</td>\n",
       "      <td>Sinclair Freeway / 986291462 / 1</td>\n",
       "      <td>61400</td>\n",
       "      <td>49900</td>\n",
       "      <td>74000</td>\n",
       "      <td>Oct 01, 2021 - Sep 30, 2022</td>\n",
       "      <td>Sinclair Freeway / 986291462 / 1</td>\n",
       "      <td>NaN</td>\n",
       "      <td>52667</td>\n",
       "    </tr>\n",
       "  </tbody>\n",
       "</table>\n",
       "<p>561 rows × 10 columns</p>\n",
       "</div>"
      ],
      "text/plain": [
       "               aadt_data_periods  aadt_zone_id  \\\n",
       "0    Jan 01, 2022 - Dec 31, 2022           NaN   \n",
       "1    Jan 01, 2022 - Dec 31, 2022           NaN   \n",
       "2    Jan 01, 2022 - Dec 31, 2022           NaN   \n",
       "3    Jan 01, 2022 - Dec 31, 2022           NaN   \n",
       "4    Jan 01, 2022 - Dec 31, 2022           NaN   \n",
       "..                           ...           ...   \n",
       "556  Jan 01, 2022 - Dec 31, 2022           NaN   \n",
       "557  Jan 01, 2022 - Dec 31, 2022           NaN   \n",
       "558  Jan 01, 2022 - Dec 31, 2022           NaN   \n",
       "559  Jan 01, 2022 - Dec 31, 2022           NaN   \n",
       "560  Jan 01, 2022 - Dec 31, 2022           NaN   \n",
       "\n",
       "                              aadt_zone_name  aadt_estimated_2022_aadt  \\\n",
       "0    Benicia-Martinez Bridge / 123867334 / 1                     39493   \n",
       "1    Benicia-Martinez Bridge / 439915393 / 1                     38653   \n",
       "2      Benicia-Martinez Bridge / 4968908 / 1                     57224   \n",
       "3     Benicia-Martinez Bridge / 52000448 / 1                     60529   \n",
       "4      Benicia-Martinez Bridge / 8703049 / 1                     38663   \n",
       "..                                       ...                       ...   \n",
       "556         Sinclair Freeway / 961140461 / 1                     84762   \n",
       "557         Sinclair Freeway / 961140462 / 1                     88021   \n",
       "558         Sinclair Freeway / 961140463 / 1                     87816   \n",
       "559         Sinclair Freeway / 986291461 / 1                     57891   \n",
       "560         Sinclair Freeway / 986291462 / 1                     61400   \n",
       "\n",
       "     aadt_lower_95_percent_prediction_interval  \\\n",
       "0                                        31800   \n",
       "1                                        31100   \n",
       "2                                        46500   \n",
       "3                                        49200   \n",
       "4                                        31100   \n",
       "..                                         ...   \n",
       "556                                      70000   \n",
       "557                                      72700   \n",
       "558                                      72500   \n",
       "559                                      47000   \n",
       "560                                      49900   \n",
       "\n",
       "     aadt_upper_95_percent_prediction_interval             npt_data_periods  \\\n",
       "0                                        48800  Oct 01, 2021 - Sep 30, 2022   \n",
       "1                                        47800  Oct 01, 2021 - Sep 30, 2022   \n",
       "2                                        69000  Oct 01, 2021 - Sep 30, 2022   \n",
       "3                                        73000  Oct 01, 2021 - Sep 30, 2022   \n",
       "4                                        47800  Oct 01, 2021 - Sep 30, 2022   \n",
       "..                                         ...                          ...   \n",
       "556                                      99800  Oct 01, 2021 - Sep 30, 2022   \n",
       "557                                     103600  Oct 01, 2021 - Sep 30, 2022   \n",
       "558                                     103400  Oct 01, 2021 - Sep 30, 2022   \n",
       "559                                      69800  Oct 01, 2021 - Sep 30, 2022   \n",
       "560                                      74000  Oct 01, 2021 - Sep 30, 2022   \n",
       "\n",
       "                               npt_zone_name  npt_zone_id  \\\n",
       "0    Benicia-Martinez Bridge / 123867334 / 1          NaN   \n",
       "1    Benicia-Martinez Bridge / 439915393 / 1          NaN   \n",
       "2      Benicia-Martinez Bridge / 4968908 / 1          NaN   \n",
       "3     Benicia-Martinez Bridge / 52000448 / 1          NaN   \n",
       "4      Benicia-Martinez Bridge / 8703049 / 1          NaN   \n",
       "..                                       ...          ...   \n",
       "556         Sinclair Freeway / 961140461 / 1          NaN   \n",
       "557         Sinclair Freeway / 961140462 / 1          NaN   \n",
       "558         Sinclair Freeway / 961140463 / 1          NaN   \n",
       "559         Sinclair Freeway / 986291461 / 1          NaN   \n",
       "560         Sinclair Freeway / 986291462 / 1          NaN   \n",
       "\n",
       "     npt_average_daily_segment_traffic__stl_volume_  \n",
       "0                                             35593  \n",
       "1                                             35465  \n",
       "2                                             57498  \n",
       "3                                             61440  \n",
       "4                                             35173  \n",
       "..                                              ...  \n",
       "556                                           88248  \n",
       "557                                           95175  \n",
       "558                                           80341  \n",
       "559                                           48800  \n",
       "560                                           52667  \n",
       "\n",
       "[561 rows x 10 columns]"
      ]
     },
     "execution_count": 58,
     "metadata": {},
     "output_type": "execute_result"
    }
   ],
   "source": [
    "pd.merge(sl_aadt, sl_npt, left_on=\"aadt_zone_name\", right_on=\"npt_zone_name\")\n"
   ]
  },
  {
   "cell_type": "code",
   "execution_count": null,
   "id": "8fc7cdef-b660-492e-bac3-7fed5b4d7874",
   "metadata": {},
   "outputs": [],
   "source": []
  },
  {
   "cell_type": "code",
   "execution_count": null,
   "id": "0a4649ab-d48f-4c0f-a208-fd68145e4713",
   "metadata": {},
   "outputs": [],
   "source": []
  },
  {
   "cell_type": "code",
   "execution_count": null,
   "id": "6aae5432-4899-4647-a764-9f2317501d9d",
   "metadata": {},
   "outputs": [],
   "source": []
  },
  {
   "cell_type": "code",
   "execution_count": null,
   "id": "c4583941-315b-41c0-94b8-a5ae20234013",
   "metadata": {},
   "outputs": [],
   "source": []
  },
  {
   "cell_type": "code",
   "execution_count": null,
   "id": "c9bc591c-c34c-44d9-9654-1da8c03336d3",
   "metadata": {},
   "outputs": [],
   "source": []
  },
  {
   "cell_type": "code",
   "execution_count": null,
   "id": "922b3121-7f5c-4b4d-84b6-b65ab03e0035",
   "metadata": {},
   "outputs": [],
   "source": []
  },
  {
   "cell_type": "code",
   "execution_count": null,
   "id": "c3fffed0-6b69-4899-97f7-17cf82dc46ad",
   "metadata": {},
   "outputs": [],
   "source": []
  },
  {
   "cell_type": "code",
   "execution_count": null,
   "id": "688674c7-94ed-41bc-bed9-7f86b300b3b9",
   "metadata": {},
   "outputs": [],
   "source": []
  },
  {
   "cell_type": "code",
   "execution_count": null,
   "id": "51173996-1a77-4215-a4ef-20a97e56e1e0",
   "metadata": {},
   "outputs": [],
   "source": []
  },
  {
   "cell_type": "code",
   "execution_count": null,
   "id": "1c43154b-0da3-4223-a401-d0839dae3e0b",
   "metadata": {},
   "outputs": [],
   "source": []
  },
  {
   "cell_type": "code",
   "execution_count": null,
   "id": "4819acbe-c7ff-4462-89bb-5ec734cb15f2",
   "metadata": {},
   "outputs": [],
   "source": []
  },
  {
   "cell_type": "code",
   "execution_count": null,
   "id": "f53f67cc-27f6-4dab-a7b3-cdc5ecbfd073",
   "metadata": {},
   "outputs": [],
   "source": []
  },
  {
   "cell_type": "code",
   "execution_count": null,
   "id": "9f9bb661-a8be-453d-893c-468a799ec64f",
   "metadata": {},
   "outputs": [],
   "source": []
  },
  {
   "cell_type": "code",
   "execution_count": null,
   "id": "24d9ec56-f2a4-4c88-af18-70be779cd039",
   "metadata": {},
   "outputs": [],
   "source": []
  },
  {
   "cell_type": "code",
   "execution_count": null,
   "id": "d93ad11b-6599-4dc2-a618-6e6c3ce95803",
   "metadata": {},
   "outputs": [],
   "source": []
  },
  {
   "cell_type": "code",
   "execution_count": null,
   "id": "674aea9c-a26f-450b-9609-c1bcf3e2c8a7",
   "metadata": {},
   "outputs": [],
   "source": []
  }
 ],
 "metadata": {
  "kernelspec": {
   "display_name": "Python 3 (ipykernel)",
   "language": "python",
   "name": "python3"
  },
  "language_info": {
   "codemirror_mode": {
    "name": "ipython",
    "version": 3
   },
   "file_extension": ".py",
   "mimetype": "text/x-python",
   "name": "python",
   "nbconvert_exporter": "python",
   "pygments_lexer": "ipython3",
   "version": "3.9.13"
  },
  "widgets": {
   "application/vnd.jupyter.widget-state+json": {
    "state": {},
    "version_major": 2,
    "version_minor": 0
   }
  }
 },
 "nbformat": 4,
 "nbformat_minor": 5
}
