{
 "cells": [
  {
   "cell_type": "markdown",
   "id": "010af6c3-a1b5-4502-83c9-e55294630474",
   "metadata": {},
   "source": [
    "# Corridor Comparison: I-680"
   ]
  },
  {
   "cell_type": "code",
   "execution_count": 1,
   "id": "bbc54ccc-16ba-4220-aa70-497f07d4a9eb",
   "metadata": {},
   "outputs": [],
   "source": [
    "import pandas as pd\n",
    "from siuba import *\n",
    "from calitp_data_analysis.sql import to_snakecase"
   ]
  },
  {
   "cell_type": "code",
   "execution_count": null,
   "id": "c704e80b-7feb-40c2-9ea1-f0e3d0dfac76",
   "metadata": {},
   "outputs": [],
   "source": []
  },
  {
   "cell_type": "markdown",
   "id": "16fdca88-e944-4b00-9416-4a8ecbfab179",
   "metadata": {
    "tags": []
   },
   "source": [
    "### Importing the data\n",
    "For this analysis, we need to read in data from:\n",
    "* Caltrans Traffic Census Program: Using 2022 AADT Data\n",
    "* Streetlight: Using Segment Analysis, Network Performance, and AADT for 2022\n",
    "* Replica: Using AADT Count Application"
   ]
  },
  {
   "cell_type": "code",
   "execution_count": 5,
   "id": "7074ae2d-d499-4bc9-ac8d-b3b7c0f2aa81",
   "metadata": {},
   "outputs": [],
   "source": [
    "ct_aadt = (pd.read_excel(\n",
    "    \"https://dot.ca.gov/-/media/dot-media/programs/traffic-operations/documents/census/2022/2022-traffic-volumes-ca.xlsx\",\n",
    "    sheet_name = \"2022 AADT DATA\"\n",
    "    ))"
   ]
  },
  {
   "cell_type": "code",
   "execution_count": 8,
   "id": "e645fb1e-5552-402d-b5ba-2745869f53bb",
   "metadata": {},
   "outputs": [
    {
     "data": {
      "text/html": [
       "<div>\n",
       "<style scoped>\n",
       "    .dataframe tbody tr th:only-of-type {\n",
       "        vertical-align: middle;\n",
       "    }\n",
       "\n",
       "    .dataframe tbody tr th {\n",
       "        vertical-align: top;\n",
       "    }\n",
       "\n",
       "    .dataframe thead th {\n",
       "        text-align: right;\n",
       "    }\n",
       "</style>\n",
       "<table border=\"1\" class=\"dataframe\">\n",
       "  <thead>\n",
       "    <tr style=\"text-align: right;\">\n",
       "      <th></th>\n",
       "      <th>DISTRICT</th>\n",
       "      <th>ROUTE</th>\n",
       "      <th>ROUTE_SFX</th>\n",
       "      <th>COUNTY</th>\n",
       "      <th>PM_PFX</th>\n",
       "      <th>PM</th>\n",
       "      <th>PM_SFX</th>\n",
       "      <th>LOCATION DESCRIPTION</th>\n",
       "      <th>BACK_PEAK_HOUR</th>\n",
       "      <th>BACK_PEAK_MADT</th>\n",
       "      <th>BACK_AADT</th>\n",
       "      <th>AHEAD_PEAK_HOUR</th>\n",
       "      <th>AHEAD_PEAK_MADT</th>\n",
       "      <th>AHEAD_AADT</th>\n",
       "    </tr>\n",
       "  </thead>\n",
       "  <tbody>\n",
       "    <tr>\n",
       "      <th>5812</th>\n",
       "      <td>9</td>\n",
       "      <td>182</td>\n",
       "      <td>NaN</td>\n",
       "      <td>MNO</td>\n",
       "      <td>NaN</td>\n",
       "      <td>12.651</td>\n",
       "      <td>NaN</td>\n",
       "      <td>NEVADA STATE LINE</td>\n",
       "      <td>80.0</td>\n",
       "      <td>530.0</td>\n",
       "      <td>380.0</td>\n",
       "      <td>NaN</td>\n",
       "      <td>NaN</td>\n",
       "      <td>NaN</td>\n",
       "    </tr>\n",
       "  </tbody>\n",
       "</table>\n",
       "</div>"
      ],
      "text/plain": [
       "      DISTRICT  ROUTE ROUTE_SFX COUNTY PM_PFX      PM PM_SFX  \\\n",
       "5812         9    182       NaN    MNO    NaN  12.651    NaN   \n",
       "\n",
       "     LOCATION DESCRIPTION  BACK_PEAK_HOUR  BACK_PEAK_MADT  BACK_AADT  \\\n",
       "5812    NEVADA STATE LINE            80.0           530.0      380.0   \n",
       "\n",
       "      AHEAD_PEAK_HOUR  AHEAD_PEAK_MADT  AHEAD_AADT  \n",
       "5812              NaN              NaN         NaN  "
      ]
     },
     "execution_count": 8,
     "metadata": {},
     "output_type": "execute_result"
    }
   ],
   "source": [
    "ct_aadt.sample()"
   ]
  },
  {
   "cell_type": "code",
   "execution_count": null,
   "id": "4e652290-dbff-42c8-87ac-8a7d35a07be7",
   "metadata": {},
   "outputs": [],
   "source": []
  },
  {
   "cell_type": "code",
   "execution_count": null,
   "id": "3768d2a3-566e-48b6-a5b9-0272b353153e",
   "metadata": {},
   "outputs": [],
   "source": []
  },
  {
   "cell_type": "code",
   "execution_count": null,
   "id": "d5f6f31f-0628-4682-b34d-9330811fc312",
   "metadata": {},
   "outputs": [],
   "source": []
  },
  {
   "cell_type": "code",
   "execution_count": null,
   "id": "4316cdb0-0850-4898-be82-b9aff1e01737",
   "metadata": {},
   "outputs": [],
   "source": []
  },
  {
   "cell_type": "code",
   "execution_count": null,
   "id": "9979a21d-9d02-4992-a711-c5973de27a2c",
   "metadata": {},
   "outputs": [],
   "source": []
  },
  {
   "cell_type": "code",
   "execution_count": null,
   "id": "babc5a42-16ab-4da6-b854-2125ae2f95e9",
   "metadata": {},
   "outputs": [],
   "source": []
  },
  {
   "cell_type": "code",
   "execution_count": null,
   "id": "0fa160f0-d8b8-4821-a637-2d0b8b4f3db3",
   "metadata": {},
   "outputs": [],
   "source": []
  },
  {
   "cell_type": "code",
   "execution_count": null,
   "id": "000a4b55-0e68-4162-a334-5cb4d2f4dc51",
   "metadata": {},
   "outputs": [],
   "source": []
  },
  {
   "cell_type": "code",
   "execution_count": null,
   "id": "b4689dcf-5e48-4a90-97db-31a1c34b4760",
   "metadata": {},
   "outputs": [],
   "source": []
  },
  {
   "cell_type": "code",
   "execution_count": null,
   "id": "d93ad11b-6599-4dc2-a618-6e6c3ce95803",
   "metadata": {},
   "outputs": [],
   "source": []
  },
  {
   "cell_type": "code",
   "execution_count": null,
   "id": "674aea9c-a26f-450b-9609-c1bcf3e2c8a7",
   "metadata": {},
   "outputs": [],
   "source": []
  }
 ],
 "metadata": {
  "kernelspec": {
   "display_name": "Python 3 (ipykernel)",
   "language": "python",
   "name": "python3"
  },
  "language_info": {
   "codemirror_mode": {
    "name": "ipython",
    "version": 3
   },
   "file_extension": ".py",
   "mimetype": "text/x-python",
   "name": "python",
   "nbconvert_exporter": "python",
   "pygments_lexer": "ipython3",
   "version": "3.9.13"
  },
  "widgets": {
   "application/vnd.jupyter.widget-state+json": {
    "state": {},
    "version_major": 2,
    "version_minor": 0
   }
  }
 },
 "nbformat": 4,
 "nbformat_minor": 5
}
