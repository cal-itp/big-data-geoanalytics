{
 "cells": [
  {
   "cell_type": "markdown",
   "id": "010af6c3-a1b5-4502-83c9-e55294630474",
   "metadata": {},
   "source": [
    "# Corridor Comparison: I-680"
   ]
  },
  {
   "cell_type": "code",
   "execution_count": 1,
   "id": "bbc54ccc-16ba-4220-aa70-497f07d4a9eb",
   "metadata": {},
   "outputs": [],
   "source": [
    "import pandas as pd\n",
    "from siuba import *\n",
    "from calitp_data_analysis.sql import to_snakecase"
   ]
  },
  {
   "cell_type": "code",
   "execution_count": null,
   "id": "c704e80b-7feb-40c2-9ea1-f0e3d0dfac76",
   "metadata": {},
   "outputs": [],
   "source": []
  },
  {
   "cell_type": "markdown",
   "id": "16fdca88-e944-4b00-9416-4a8ecbfab179",
   "metadata": {
    "tags": []
   },
   "source": [
    "### Importing the data\n",
    "For this analysis, we need to read in data from:\n",
    "* Caltrans Traffic Census Program: Using 2022 AADT Data\n",
    "* Streetlight: Using Segment Analysis, Network Performance, and AADT for 2022\n",
    "* Replica: Using AADT Count Application"
   ]
  },
  {
   "cell_type": "code",
   "execution_count": 2,
   "id": "7074ae2d-d499-4bc9-ac8d-b3b7c0f2aa81",
   "metadata": {},
   "outputs": [],
   "source": [
    "ct_aadt = to_snakecase(pd.read_excel(\n",
    "    \"https://dot.ca.gov/-/media/dot-media/programs/traffic-operations/documents/census/2022/2022-traffic-volumes-ca.xlsx\",\n",
    "    sheet_name = \"2022 AADT DATA\"\n",
    "    ))"
   ]
  },
  {
   "cell_type": "code",
   "execution_count": 3,
   "id": "e645fb1e-5552-402d-b5ba-2745869f53bb",
   "metadata": {},
   "outputs": [
    {
     "data": {
      "text/html": [
       "<div>\n",
       "<style scoped>\n",
       "    .dataframe tbody tr th:only-of-type {\n",
       "        vertical-align: middle;\n",
       "    }\n",
       "\n",
       "    .dataframe tbody tr th {\n",
       "        vertical-align: top;\n",
       "    }\n",
       "\n",
       "    .dataframe thead th {\n",
       "        text-align: right;\n",
       "    }\n",
       "</style>\n",
       "<table border=\"1\" class=\"dataframe\">\n",
       "  <thead>\n",
       "    <tr style=\"text-align: right;\">\n",
       "      <th></th>\n",
       "      <th>district</th>\n",
       "      <th>route</th>\n",
       "      <th>route_sfx</th>\n",
       "      <th>county</th>\n",
       "      <th>pm_pfx</th>\n",
       "      <th>pm</th>\n",
       "      <th>pm_sfx</th>\n",
       "      <th>location_description</th>\n",
       "      <th>back_peak_hour</th>\n",
       "      <th>back_peak_madt</th>\n",
       "      <th>back_aadt</th>\n",
       "      <th>ahead_peak_hour</th>\n",
       "      <th>ahead_peak_madt</th>\n",
       "      <th>ahead_aadt</th>\n",
       "    </tr>\n",
       "  </thead>\n",
       "  <tbody>\n",
       "    <tr>\n",
       "      <th>3514</th>\n",
       "      <td>8</td>\n",
       "      <td>86</td>\n",
       "      <td>NaN</td>\n",
       "      <td>RIV</td>\n",
       "      <td>R</td>\n",
       "      <td>22.157</td>\n",
       "      <td>NaN</td>\n",
       "      <td>DILLON RD</td>\n",
       "      <td>2550.0</td>\n",
       "      <td>34000.0</td>\n",
       "      <td>30200.0</td>\n",
       "      <td>2900.0</td>\n",
       "      <td>38500.0</td>\n",
       "      <td>34300.0</td>\n",
       "    </tr>\n",
       "  </tbody>\n",
       "</table>\n",
       "</div>"
      ],
      "text/plain": [
       "      district  route route_sfx county pm_pfx      pm pm_sfx  \\\n",
       "3514         8     86       NaN    RIV      R  22.157    NaN   \n",
       "\n",
       "     location_description  back_peak_hour  back_peak_madt  back_aadt  \\\n",
       "3514            DILLON RD          2550.0         34000.0    30200.0   \n",
       "\n",
       "      ahead_peak_hour  ahead_peak_madt  ahead_aadt  \n",
       "3514           2900.0          38500.0     34300.0  "
      ]
     },
     "execution_count": 3,
     "metadata": {},
     "output_type": "execute_result"
    }
   ],
   "source": [
    "ct_aadt.sample()"
   ]
  },
  {
   "cell_type": "code",
   "execution_count": null,
   "id": "4e652290-dbff-42c8-87ac-8a7d35a07be7",
   "metadata": {},
   "outputs": [],
   "source": []
  },
  {
   "cell_type": "code",
   "execution_count": 4,
   "id": "2c3b71fe-aa97-4287-b11e-7130c48c2c89",
   "metadata": {},
   "outputs": [],
   "source": [
    "## Streetlight AADT\n",
    "sl_aadt = to_snakecase(pd.read_csv(\"gs://calitp-analytics-data/data-analyses/big_data/i680/1751074_I680_AADT_Test_estimated_aadt.csv\"))"
   ]
  },
  {
   "cell_type": "code",
   "execution_count": 5,
   "id": "c81ccb07-dea7-41dc-b3af-84ad969dd044",
   "metadata": {},
   "outputs": [],
   "source": [
    "## Streetlight Network Performance Test\n",
    "sl_npt = to_snakecase(pd.read_csv(\"gs://calitp-analytics-data/data-analyses/big_data/i680/1751071_I680_network_performance_test_network_performance.csv\"))"
   ]
  },
  {
   "cell_type": "code",
   "execution_count": 6,
   "id": "7af3c278-6627-4ca0-8ac5-5fe196e867d4",
   "metadata": {},
   "outputs": [],
   "source": [
    "## Streetlight Segment Analysis\n",
    "sl_sa = to_snakecase(pd.read_csv(\"gs://calitp-analytics-data/data-analyses/big_data/i680/1751075_i680_Segment_Analysis_test_sa_all.csv\"))"
   ]
  },
  {
   "cell_type": "code",
   "execution_count": null,
   "id": "59db8599-de80-4f6a-bd2c-ff36351c121f",
   "metadata": {},
   "outputs": [],
   "source": []
  },
  {
   "cell_type": "code",
   "execution_count": null,
   "id": "49597f15-5b6c-428a-b457-32b6926e0f14",
   "metadata": {},
   "outputs": [],
   "source": []
  },
  {
   "cell_type": "code",
   "execution_count": null,
   "id": "453bc057-b2bc-4a43-97bb-00b69e53ca23",
   "metadata": {},
   "outputs": [],
   "source": []
  },
  {
   "cell_type": "code",
   "execution_count": null,
   "id": "5d7b6e30-c7ef-4771-88f8-54e1dcec8fe3",
   "metadata": {},
   "outputs": [],
   "source": []
  },
  {
   "cell_type": "code",
   "execution_count": 7,
   "id": "92d9c576-1c5e-4ec0-a707-a3aed19d5ca1",
   "metadata": {},
   "outputs": [],
   "source": [
    "## Joining the streetlight segments so that all STreetlight Analyses are together"
   ]
  },
  {
   "cell_type": "code",
   "execution_count": null,
   "id": "194258c6-287f-4390-9fd6-a8db01cedb78",
   "metadata": {},
   "outputs": [],
   "source": []
  },
  {
   "cell_type": "code",
   "execution_count": 8,
   "id": "b4250622-aab0-4c20-bbe0-c773eeb8b626",
   "metadata": {},
   "outputs": [],
   "source": [
    "sl_aadt = (sl_aadt>>select(_.data_periods, _.zone_name,\n",
    "                           _.estimated_2022_aadt, _.lower_95_percent_prediction_interval,\n",
    "                           _.upper_95_percent_prediction_interval))"
   ]
  },
  {
   "cell_type": "code",
   "execution_count": 9,
   "id": "5fd8c90e-5390-4519-8fed-65be1b7a24cb",
   "metadata": {},
   "outputs": [],
   "source": [
    "sl_aadt.columns = ['aadt_' + str(col) for col in sl_aadt.columns]\n"
   ]
  },
  {
   "cell_type": "code",
   "execution_count": 18,
   "id": "63a5ec4d-36e2-4eed-9b30-ef6426fcef43",
   "metadata": {},
   "outputs": [],
   "source": [
    "sl_aadt = sl_aadt.rename(columns={\"aadt_zone_name\": \"zone_name\"}) "
   ]
  },
  {
   "cell_type": "code",
   "execution_count": null,
   "id": "a15180db-ed55-4047-a260-038d4011059a",
   "metadata": {},
   "outputs": [],
   "source": []
  },
  {
   "cell_type": "code",
   "execution_count": 11,
   "id": "4316cdb0-0850-4898-be82-b9aff1e01737",
   "metadata": {},
   "outputs": [],
   "source": [
    "sl_npt = (sl_npt>>filter(_.day_part==\"0: All Day (12am-12am)\")>>select(_.data_periods, _.zone_name,\n",
    "                                            _.average_daily_segment_traffic__stl_volume_))"
   ]
  },
  {
   "cell_type": "code",
   "execution_count": 12,
   "id": "795f7879-bb2c-45e3-9d64-1813a124b4f3",
   "metadata": {},
   "outputs": [],
   "source": [
    "sl_npt.columns = ['npt_' + str(col) for col in sl_npt.columns]"
   ]
  },
  {
   "cell_type": "code",
   "execution_count": 19,
   "id": "5856ee11-dc69-412e-ba7b-c860848e005a",
   "metadata": {},
   "outputs": [],
   "source": [
    "sl_npt = sl_npt.rename(columns={\"npt_zone_name\": \"zone_name\"}) "
   ]
  },
  {
   "cell_type": "code",
   "execution_count": null,
   "id": "babc5a42-16ab-4da6-b854-2125ae2f95e9",
   "metadata": {},
   "outputs": [],
   "source": []
  },
  {
   "cell_type": "code",
   "execution_count": 14,
   "id": "0fa160f0-d8b8-4821-a637-2d0b8b4f3db3",
   "metadata": {},
   "outputs": [],
   "source": [
    "sl_sa = ((sl_sa>>filter(_.day_part==\"0: All Day (12am-12am)\")>>select(_.data_periods, \n",
    "                                                                    _.zone_name,\n",
    "                                                                     _.average_daily_segment_traffic__stl_volume_)))"
   ]
  },
  {
   "cell_type": "code",
   "execution_count": 15,
   "id": "000a4b55-0e68-4162-a334-5cb4d2f4dc51",
   "metadata": {},
   "outputs": [],
   "source": [
    "sl_sa.columns = ['sa_' + str(col) for col in sl_sa.columns]"
   ]
  },
  {
   "cell_type": "code",
   "execution_count": 20,
   "id": "f24f2c2d-42b8-42c9-8f56-6af29d087903",
   "metadata": {},
   "outputs": [],
   "source": [
    "sl_sa = sl_sa.rename(columns={\"sa_zone_name\": \"zone_name\"}) "
   ]
  },
  {
   "cell_type": "code",
   "execution_count": null,
   "id": "b4689dcf-5e48-4a90-97db-31a1c34b4760",
   "metadata": {},
   "outputs": [],
   "source": []
  },
  {
   "cell_type": "code",
   "execution_count": 22,
   "id": "4455455d-1cd8-4012-a313-b6767d4b9452",
   "metadata": {},
   "outputs": [],
   "source": [
    "sl = pd.merge(sl_aadt, sl_npt, on=\"zone_name\")\n"
   ]
  },
  {
   "cell_type": "code",
   "execution_count": 25,
   "id": "0a4649ab-d48f-4c0f-a208-fd68145e4713",
   "metadata": {},
   "outputs": [],
   "source": [
    "sl = pd.merge(sl, sl_sa, on = \"zone_name\")"
   ]
  },
  {
   "cell_type": "code",
   "execution_count": null,
   "id": "6aae5432-4899-4647-a764-9f2317501d9d",
   "metadata": {},
   "outputs": [],
   "source": []
  },
  {
   "cell_type": "code",
   "execution_count": 26,
   "id": "c4583941-315b-41c0-94b8-a5ae20234013",
   "metadata": {},
   "outputs": [
    {
     "data": {
      "text/html": [
       "<div>\n",
       "<style scoped>\n",
       "    .dataframe tbody tr th:only-of-type {\n",
       "        vertical-align: middle;\n",
       "    }\n",
       "\n",
       "    .dataframe tbody tr th {\n",
       "        vertical-align: top;\n",
       "    }\n",
       "\n",
       "    .dataframe thead th {\n",
       "        text-align: right;\n",
       "    }\n",
       "</style>\n",
       "<table border=\"1\" class=\"dataframe\">\n",
       "  <thead>\n",
       "    <tr style=\"text-align: right;\">\n",
       "      <th></th>\n",
       "      <th>aadt_data_periods</th>\n",
       "      <th>zone_name</th>\n",
       "      <th>aadt_estimated_2022_aadt</th>\n",
       "      <th>aadt_lower_95_percent_prediction_interval</th>\n",
       "      <th>aadt_upper_95_percent_prediction_interval</th>\n",
       "      <th>npt_data_periods</th>\n",
       "      <th>npt_average_daily_segment_traffic__stl_volume_</th>\n",
       "      <th>sa_data_periods</th>\n",
       "      <th>sa_average_daily_segment_traffic__stl_volume_</th>\n",
       "    </tr>\n",
       "  </thead>\n",
       "  <tbody>\n",
       "    <tr>\n",
       "      <th>0</th>\n",
       "      <td>Jan 01, 2022 - Dec 31, 2022</td>\n",
       "      <td>Benicia-Martinez Bridge / 123867334 / 1</td>\n",
       "      <td>39493</td>\n",
       "      <td>31800</td>\n",
       "      <td>48800</td>\n",
       "      <td>Oct 01, 2021 - Sep 30, 2022</td>\n",
       "      <td>35593</td>\n",
       "      <td>Oct 01, 2021 - Apr 30, 2022</td>\n",
       "      <td>38336</td>\n",
       "    </tr>\n",
       "    <tr>\n",
       "      <th>1</th>\n",
       "      <td>Jan 01, 2022 - Dec 31, 2022</td>\n",
       "      <td>Benicia-Martinez Bridge / 439915393 / 1</td>\n",
       "      <td>38653</td>\n",
       "      <td>31100</td>\n",
       "      <td>47800</td>\n",
       "      <td>Oct 01, 2021 - Sep 30, 2022</td>\n",
       "      <td>35465</td>\n",
       "      <td>Oct 01, 2021 - Apr 30, 2022</td>\n",
       "      <td>38092</td>\n",
       "    </tr>\n",
       "    <tr>\n",
       "      <th>2</th>\n",
       "      <td>Jan 01, 2022 - Dec 31, 2022</td>\n",
       "      <td>Benicia-Martinez Bridge / 4968908 / 1</td>\n",
       "      <td>57224</td>\n",
       "      <td>46500</td>\n",
       "      <td>69000</td>\n",
       "      <td>Oct 01, 2021 - Sep 30, 2022</td>\n",
       "      <td>57498</td>\n",
       "      <td>Oct 01, 2021 - Apr 30, 2022</td>\n",
       "      <td>53603</td>\n",
       "    </tr>\n",
       "    <tr>\n",
       "      <th>3</th>\n",
       "      <td>Jan 01, 2022 - Dec 31, 2022</td>\n",
       "      <td>Benicia-Martinez Bridge / 52000448 / 1</td>\n",
       "      <td>60529</td>\n",
       "      <td>49200</td>\n",
       "      <td>73000</td>\n",
       "      <td>Oct 01, 2021 - Sep 30, 2022</td>\n",
       "      <td>61440</td>\n",
       "      <td>Oct 01, 2021 - Apr 30, 2022</td>\n",
       "      <td>55628</td>\n",
       "    </tr>\n",
       "    <tr>\n",
       "      <th>4</th>\n",
       "      <td>Jan 01, 2022 - Dec 31, 2022</td>\n",
       "      <td>Benicia-Martinez Bridge / 8703049 / 1</td>\n",
       "      <td>38663</td>\n",
       "      <td>31100</td>\n",
       "      <td>47800</td>\n",
       "      <td>Oct 01, 2021 - Sep 30, 2022</td>\n",
       "      <td>35173</td>\n",
       "      <td>Oct 01, 2021 - Apr 30, 2022</td>\n",
       "      <td>38094</td>\n",
       "    </tr>\n",
       "    <tr>\n",
       "      <th>...</th>\n",
       "      <td>...</td>\n",
       "      <td>...</td>\n",
       "      <td>...</td>\n",
       "      <td>...</td>\n",
       "      <td>...</td>\n",
       "      <td>...</td>\n",
       "      <td>...</td>\n",
       "      <td>...</td>\n",
       "      <td>...</td>\n",
       "    </tr>\n",
       "    <tr>\n",
       "      <th>556</th>\n",
       "      <td>Jan 01, 2022 - Dec 31, 2022</td>\n",
       "      <td>Sinclair Freeway / 961140461 / 1</td>\n",
       "      <td>84762</td>\n",
       "      <td>70000</td>\n",
       "      <td>99800</td>\n",
       "      <td>Oct 01, 2021 - Sep 30, 2022</td>\n",
       "      <td>88248</td>\n",
       "      <td>Oct 01, 2021 - Apr 30, 2022</td>\n",
       "      <td>99848</td>\n",
       "    </tr>\n",
       "    <tr>\n",
       "      <th>557</th>\n",
       "      <td>Jan 01, 2022 - Dec 31, 2022</td>\n",
       "      <td>Sinclair Freeway / 961140462 / 1</td>\n",
       "      <td>88021</td>\n",
       "      <td>72700</td>\n",
       "      <td>103600</td>\n",
       "      <td>Oct 01, 2021 - Sep 30, 2022</td>\n",
       "      <td>95175</td>\n",
       "      <td>Oct 01, 2021 - Apr 30, 2022</td>\n",
       "      <td>104091</td>\n",
       "    </tr>\n",
       "    <tr>\n",
       "      <th>558</th>\n",
       "      <td>Jan 01, 2022 - Dec 31, 2022</td>\n",
       "      <td>Sinclair Freeway / 961140463 / 1</td>\n",
       "      <td>87816</td>\n",
       "      <td>72500</td>\n",
       "      <td>103400</td>\n",
       "      <td>Oct 01, 2021 - Sep 30, 2022</td>\n",
       "      <td>80341</td>\n",
       "      <td>Oct 01, 2021 - Apr 30, 2022</td>\n",
       "      <td>102763</td>\n",
       "    </tr>\n",
       "    <tr>\n",
       "      <th>559</th>\n",
       "      <td>Jan 01, 2022 - Dec 31, 2022</td>\n",
       "      <td>Sinclair Freeway / 986291461 / 1</td>\n",
       "      <td>57891</td>\n",
       "      <td>47000</td>\n",
       "      <td>69800</td>\n",
       "      <td>Oct 01, 2021 - Sep 30, 2022</td>\n",
       "      <td>48800</td>\n",
       "      <td>Oct 01, 2021 - Apr 30, 2022</td>\n",
       "      <td>53177</td>\n",
       "    </tr>\n",
       "    <tr>\n",
       "      <th>560</th>\n",
       "      <td>Jan 01, 2022 - Dec 31, 2022</td>\n",
       "      <td>Sinclair Freeway / 986291462 / 1</td>\n",
       "      <td>61400</td>\n",
       "      <td>49900</td>\n",
       "      <td>74000</td>\n",
       "      <td>Oct 01, 2021 - Sep 30, 2022</td>\n",
       "      <td>52667</td>\n",
       "      <td>Oct 01, 2021 - Apr 30, 2022</td>\n",
       "      <td>55452</td>\n",
       "    </tr>\n",
       "  </tbody>\n",
       "</table>\n",
       "<p>561 rows × 9 columns</p>\n",
       "</div>"
      ],
      "text/plain": [
       "               aadt_data_periods                                zone_name  \\\n",
       "0    Jan 01, 2022 - Dec 31, 2022  Benicia-Martinez Bridge / 123867334 / 1   \n",
       "1    Jan 01, 2022 - Dec 31, 2022  Benicia-Martinez Bridge / 439915393 / 1   \n",
       "2    Jan 01, 2022 - Dec 31, 2022    Benicia-Martinez Bridge / 4968908 / 1   \n",
       "3    Jan 01, 2022 - Dec 31, 2022   Benicia-Martinez Bridge / 52000448 / 1   \n",
       "4    Jan 01, 2022 - Dec 31, 2022    Benicia-Martinez Bridge / 8703049 / 1   \n",
       "..                           ...                                      ...   \n",
       "556  Jan 01, 2022 - Dec 31, 2022         Sinclair Freeway / 961140461 / 1   \n",
       "557  Jan 01, 2022 - Dec 31, 2022         Sinclair Freeway / 961140462 / 1   \n",
       "558  Jan 01, 2022 - Dec 31, 2022         Sinclair Freeway / 961140463 / 1   \n",
       "559  Jan 01, 2022 - Dec 31, 2022         Sinclair Freeway / 986291461 / 1   \n",
       "560  Jan 01, 2022 - Dec 31, 2022         Sinclair Freeway / 986291462 / 1   \n",
       "\n",
       "     aadt_estimated_2022_aadt  aadt_lower_95_percent_prediction_interval  \\\n",
       "0                       39493                                      31800   \n",
       "1                       38653                                      31100   \n",
       "2                       57224                                      46500   \n",
       "3                       60529                                      49200   \n",
       "4                       38663                                      31100   \n",
       "..                        ...                                        ...   \n",
       "556                     84762                                      70000   \n",
       "557                     88021                                      72700   \n",
       "558                     87816                                      72500   \n",
       "559                     57891                                      47000   \n",
       "560                     61400                                      49900   \n",
       "\n",
       "     aadt_upper_95_percent_prediction_interval             npt_data_periods  \\\n",
       "0                                        48800  Oct 01, 2021 - Sep 30, 2022   \n",
       "1                                        47800  Oct 01, 2021 - Sep 30, 2022   \n",
       "2                                        69000  Oct 01, 2021 - Sep 30, 2022   \n",
       "3                                        73000  Oct 01, 2021 - Sep 30, 2022   \n",
       "4                                        47800  Oct 01, 2021 - Sep 30, 2022   \n",
       "..                                         ...                          ...   \n",
       "556                                      99800  Oct 01, 2021 - Sep 30, 2022   \n",
       "557                                     103600  Oct 01, 2021 - Sep 30, 2022   \n",
       "558                                     103400  Oct 01, 2021 - Sep 30, 2022   \n",
       "559                                      69800  Oct 01, 2021 - Sep 30, 2022   \n",
       "560                                      74000  Oct 01, 2021 - Sep 30, 2022   \n",
       "\n",
       "     npt_average_daily_segment_traffic__stl_volume_  \\\n",
       "0                                             35593   \n",
       "1                                             35465   \n",
       "2                                             57498   \n",
       "3                                             61440   \n",
       "4                                             35173   \n",
       "..                                              ...   \n",
       "556                                           88248   \n",
       "557                                           95175   \n",
       "558                                           80341   \n",
       "559                                           48800   \n",
       "560                                           52667   \n",
       "\n",
       "                 sa_data_periods  \\\n",
       "0    Oct 01, 2021 - Apr 30, 2022   \n",
       "1    Oct 01, 2021 - Apr 30, 2022   \n",
       "2    Oct 01, 2021 - Apr 30, 2022   \n",
       "3    Oct 01, 2021 - Apr 30, 2022   \n",
       "4    Oct 01, 2021 - Apr 30, 2022   \n",
       "..                           ...   \n",
       "556  Oct 01, 2021 - Apr 30, 2022   \n",
       "557  Oct 01, 2021 - Apr 30, 2022   \n",
       "558  Oct 01, 2021 - Apr 30, 2022   \n",
       "559  Oct 01, 2021 - Apr 30, 2022   \n",
       "560  Oct 01, 2021 - Apr 30, 2022   \n",
       "\n",
       "     sa_average_daily_segment_traffic__stl_volume_  \n",
       "0                                            38336  \n",
       "1                                            38092  \n",
       "2                                            53603  \n",
       "3                                            55628  \n",
       "4                                            38094  \n",
       "..                                             ...  \n",
       "556                                          99848  \n",
       "557                                         104091  \n",
       "558                                         102763  \n",
       "559                                          53177  \n",
       "560                                          55452  \n",
       "\n",
       "[561 rows x 9 columns]"
      ]
     },
     "execution_count": 26,
     "metadata": {},
     "output_type": "execute_result"
    }
   ],
   "source": [
    "sl"
   ]
  },
  {
   "cell_type": "code",
   "execution_count": null,
   "id": "c9bc591c-c34c-44d9-9654-1da8c03336d3",
   "metadata": {},
   "outputs": [],
   "source": []
  },
  {
   "cell_type": "code",
   "execution_count": null,
   "id": "922b3121-7f5c-4b4d-84b6-b65ab03e0035",
   "metadata": {},
   "outputs": [],
   "source": []
  },
  {
   "cell_type": "code",
   "execution_count": null,
   "id": "c3fffed0-6b69-4899-97f7-17cf82dc46ad",
   "metadata": {},
   "outputs": [],
   "source": []
  },
  {
   "cell_type": "code",
   "execution_count": null,
   "id": "688674c7-94ed-41bc-bed9-7f86b300b3b9",
   "metadata": {},
   "outputs": [],
   "source": []
  },
  {
   "cell_type": "code",
   "execution_count": null,
   "id": "51173996-1a77-4215-a4ef-20a97e56e1e0",
   "metadata": {},
   "outputs": [],
   "source": []
  },
  {
   "cell_type": "code",
   "execution_count": null,
   "id": "1c43154b-0da3-4223-a401-d0839dae3e0b",
   "metadata": {},
   "outputs": [],
   "source": []
  },
  {
   "cell_type": "code",
   "execution_count": null,
   "id": "4819acbe-c7ff-4462-89bb-5ec734cb15f2",
   "metadata": {},
   "outputs": [],
   "source": []
  },
  {
   "cell_type": "code",
   "execution_count": null,
   "id": "f53f67cc-27f6-4dab-a7b3-cdc5ecbfd073",
   "metadata": {},
   "outputs": [],
   "source": []
  },
  {
   "cell_type": "code",
   "execution_count": null,
   "id": "9f9bb661-a8be-453d-893c-468a799ec64f",
   "metadata": {},
   "outputs": [],
   "source": []
  },
  {
   "cell_type": "code",
   "execution_count": null,
   "id": "24d9ec56-f2a4-4c88-af18-70be779cd039",
   "metadata": {},
   "outputs": [],
   "source": []
  },
  {
   "cell_type": "code",
   "execution_count": null,
   "id": "d93ad11b-6599-4dc2-a618-6e6c3ce95803",
   "metadata": {},
   "outputs": [],
   "source": []
  },
  {
   "cell_type": "code",
   "execution_count": null,
   "id": "674aea9c-a26f-450b-9609-c1bcf3e2c8a7",
   "metadata": {},
   "outputs": [],
   "source": []
  }
 ],
 "metadata": {
  "kernelspec": {
   "display_name": "Python 3 (ipykernel)",
   "language": "python",
   "name": "python3"
  },
  "language_info": {
   "codemirror_mode": {
    "name": "ipython",
    "version": 3
   },
   "file_extension": ".py",
   "mimetype": "text/x-python",
   "name": "python",
   "nbconvert_exporter": "python",
   "pygments_lexer": "ipython3",
   "version": "3.9.13"
  },
  "widgets": {
   "application/vnd.jupyter.widget-state+json": {
    "state": {},
    "version_major": 2,
    "version_minor": 0
   }
  }
 },
 "nbformat": 4,
 "nbformat_minor": 5
}
